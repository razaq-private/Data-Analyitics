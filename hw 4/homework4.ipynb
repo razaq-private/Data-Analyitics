{
  "cells": [
    {
      "cell_type": "markdown",
      "metadata": {
        "id": "I2L0PkeSIuOD"
      },
      "source": [
        "# CIS 5450 Homework 4: Machine Learning\n",
        "\n",
        "<ins>Due Date</ins>: **April 4th at 10:00PM EST** \\\\\n",
        "<ins>Total Points</ins>: **100 points** (= 83 autograded + 17 manually graded)\n",
        "\n",
        "**PLEASE READ THE FAQ as you do this assignment!** It's pinned on Ed and we TAs work really hard to keep it updated with everything you might need to know or anything we might have failed to specify. Writing these HWs and test cases gets tricky since students always end up implementing solutions that we did not anticipate and thus could not have prepared the grader correctly for."
      ]
    },
    {
      "cell_type": "markdown",
      "metadata": {
        "id": "ETZ9CDIDLYHp"
      },
      "source": [
        "# Imports/Setup\n",
        "Run the following cells to set up the notebook.\n"
      ]
    },
    {
      "cell_type": "markdown",
      "metadata": {
        "id": "eEUIzvEuMdGQ"
      },
      "source": [
        "Please make sure you enter your **8 digit Penn ID** in the  student ID field below."
      ]
    },
    {
      "cell_type": "code",
      "execution_count": 166,
      "metadata": {
        "id": "adECTPlZLtVi"
      },
      "outputs": [],
      "source": [
        "%%capture\n",
        "!pip install -i https://test.pypi.org/simple/ penn-grader==0.5.0\n",
        "from penngrader.grader import *\n",
        "\n",
        "# PLEASE ENSURE YOUR PENN-ID IS ENTERED CORRECTLY.\n",
        "# IF NOT, THE AUTOGRADER WON'T KNOW WHO TO ASSIGN POINTS TO YOU IN OUR BACKEND\n",
        "STUDENT_ID = 30808116                                                                   # YOUR PENN-ID GOES HERE AS AN INTEGER"
      ]
    },
    {
      "cell_type": "code",
      "execution_count": 167,
      "metadata": {
        "colab": {
          "base_uri": "https://localhost:8080/"
        },
        "id": "JAWRpROskV1E",
        "outputId": "5461d014-75b6-4fee-a8e7-827dda4c8135"
      },
      "outputs": [
        {
          "output_type": "stream",
          "name": "stdout",
          "text": [
            "Overwriting config.yaml\n"
          ]
        }
      ],
      "source": [
        "%%writefile config.yaml\n",
        "\n",
        "grader_api_url: 'https://wyv616tp17.execute-api.us-east-1.amazonaws.com/default/Grader'\n",
        "grader_api_key: 'Kd32fl3g3p917iM0zwjiO23Bitj4PO9ga4LektOa'"
      ]
    },
    {
      "cell_type": "code",
      "execution_count": 168,
      "metadata": {
        "colab": {
          "base_uri": "https://localhost:8080/"
        },
        "id": "IiUMGpQukYHj",
        "outputId": "12d50885-1a21-4ccc-b57a-3077fc5a46f1"
      },
      "outputs": [
        {
          "output_type": "stream",
          "name": "stdout",
          "text": [
            "PennGrader initialized with Student ID: 30808116\n",
            "\n",
            "Make sure this correct or we will not be able to store your grade\n"
          ]
        }
      ],
      "source": [
        "grader = PennGrader('config.yaml', 'CIS5450_23Sp_HW4', STUDENT_ID, STUDENT_ID)"
      ]
    },
    {
      "cell_type": "code",
      "execution_count": 169,
      "metadata": {
        "id": "TBTaESEdMmiU"
      },
      "outputs": [],
      "source": [
        "# import packages\n",
        "import json\n",
        "import glob\n",
        "import pandas as pd\n",
        "import numpy as np\n",
        "import datetime as dt\n",
        "import re\n",
        "import os\n",
        "import matplotlib.pyplot as plt\n",
        "import seaborn as sns\n",
        "from matplotlib import cm\n",
        "from google.colab import drive\n",
        "from sklearn.model_selection import train_test_split\n",
        "from collections import Counter\n",
        "import seaborn as sns"
      ]
    },
    {
      "cell_type": "code",
      "execution_count": 170,
      "metadata": {
        "id": "tA6oTIZtRjf7"
      },
      "outputs": [],
      "source": [
        "%%capture\n",
        "!apt update\n",
        "!pip install kaggle"
      ]
    },
    {
      "cell_type": "markdown",
      "metadata": {
        "id": "odlXF5IYJ-et"
      },
      "source": [
        "# **Part I:** Preprocessing and Modeling in `scikit-learn` (65 points)"
      ]
    },
    {
      "cell_type": "markdown",
      "metadata": {
        "id": "_XSw-F5VjVKI"
      },
      "source": [
        "## **1.1** Data Loading and Preprocessing [Total: 2 points]"
      ]
    },
    {
      "cell_type": "markdown",
      "metadata": {
        "id": "1Sw7LCAacKOu"
      },
      "source": [
        "### **1.1.1** Read Data\n",
        "\n",
        "We are using one CSV for this homework, `Hotel Reservations.csv` from a Kaggle [dataset](https://www.kaggle.com/datasets/ahsan81/hotel-reservations-classification-dataset?resource=download). The dataset contains a column called `booking_status`, a binary variable indicating whether a reservation was canceled or not.\n",
        "\n",
        "To get the data in here:\n",
        "1. Go to this [Kaggle link](https://www.kaggle.com) and create a Kaggle account (unless you already have one)\n",
        "2. Go to Account and click on \"Create New API Token\" to get the API key in the form of a json file `kaggle.json`\n",
        "3. Upload the `kaggle.json` file to the default location in your Google Drive (Please **DO NOT** upload the json file into any _specific_ folder as it will be difficult for us to debug issues if you deviate from these instructions!).\n",
        "\n",
        "This can be helpful for your project if you decide to use Kaggle."
      ]
    },
    {
      "cell_type": "code",
      "execution_count": 171,
      "metadata": {
        "colab": {
          "base_uri": "https://localhost:8080/"
        },
        "id": "RGz24WQ86ptM",
        "outputId": "25fdaeb5-aaa9-4f2d-d67d-2c4505fdcdbf"
      },
      "outputs": [
        {
          "output_type": "stream",
          "name": "stdout",
          "text": [
            "Drive already mounted at /content/drive; to attempt to forcibly remount, call drive.mount(\"/content/drive\", force_remount=True).\n"
          ]
        }
      ],
      "source": [
        "# Run this cell to mount your drive (you will be prompted to sign in)\n",
        "from google.colab import drive\n",
        "drive.mount('/content/drive')"
      ]
    },
    {
      "cell_type": "code",
      "execution_count": 172,
      "metadata": {
        "id": "R4taOIpPb6CN",
        "colab": {
          "base_uri": "https://localhost:8080/"
        },
        "outputId": "faf4b1f2-901d-4bc8-a28b-77087de2fc52"
      },
      "outputs": [
        {
          "output_type": "stream",
          "name": "stdout",
          "text": [
            "mkdir: cannot create directory ‘/root/.kaggle’: File exists\n"
          ]
        }
      ],
      "source": [
        "# Create the kaggle directory and \n",
        "# (NOTE: Do NOT run this cell more than once unless restarting kernel)\n",
        "!mkdir ~/.kaggle"
      ]
    },
    {
      "cell_type": "code",
      "execution_count": 173,
      "metadata": {
        "id": "uO1UNkV6cbxA"
      },
      "outputs": [],
      "source": [
        "# Read the uploaded kaggle.json file\n",
        "!cp /content/drive/MyDrive/kaggle.json ~/.kaggle/"
      ]
    },
    {
      "cell_type": "code",
      "execution_count": 174,
      "metadata": {
        "colab": {
          "base_uri": "https://localhost:8080/"
        },
        "id": "krFCjQBzcdth",
        "outputId": "f1db6faf-0659-4dd2-8b5c-db73f39d3b90"
      },
      "outputs": [
        {
          "output_type": "execute_result",
          "data": {
            "text/plain": [
              "['hotel-reservations-classification-dataset.zip: Skipping, found more recently modified local copy (use --force to force download)']"
            ]
          },
          "metadata": {},
          "execution_count": 174
        }
      ],
      "source": [
        "# Download dataset\n",
        "!!kaggle datasets download -d ahsan81/hotel-reservations-classification-dataset"
      ]
    },
    {
      "cell_type": "code",
      "execution_count": 175,
      "metadata": {
        "colab": {
          "base_uri": "https://localhost:8080/"
        },
        "id": "y1e75jxBctPG",
        "outputId": "64207189-db1d-4414-d206-b42d98246ff8"
      },
      "outputs": [
        {
          "output_type": "stream",
          "name": "stdout",
          "text": [
            "Archive:  /content/hotel-reservations-classification-dataset.zip\n",
            "replace Hotel Reservations.csv? [y]es, [n]o, [A]ll, [N]one, [r]ename: "
          ]
        }
      ],
      "source": [
        "# Unzip folder in Colab content folder\n",
        "!unzip /content/hotel-reservations-classification-dataset.zip"
      ]
    },
    {
      "cell_type": "code",
      "execution_count": 176,
      "metadata": {
        "id": "PB4RPNywcKOv"
      },
      "outputs": [],
      "source": [
        "# TO-DO: Read the csv file and save it to a dataframe called \"df_reservations\"\n",
        "df_reservations = pd.read_csv('Hotel Reservations.csv')"
      ]
    },
    {
      "cell_type": "code",
      "execution_count": 177,
      "metadata": {
        "colab": {
          "base_uri": "https://localhost:8080/",
          "height": 270
        },
        "id": "u0FYkm8pkQGu",
        "outputId": "e1344309-4504-4d5d-fac8-dc7b7c9549d6"
      },
      "outputs": [
        {
          "output_type": "execute_result",
          "data": {
            "text/plain": [
              "  Booking_ID  no_of_adults  no_of_children  no_of_weekend_nights  \\\n",
              "0   INN00001             2               0                     1   \n",
              "1   INN00002             2               0                     2   \n",
              "2   INN00003             1               0                     2   \n",
              "3   INN00004             2               0                     0   \n",
              "4   INN00005             2               0                     1   \n",
              "\n",
              "   no_of_week_nights type_of_meal_plan  required_car_parking_space  \\\n",
              "0                  2       Meal Plan 1                           0   \n",
              "1                  3      Not Selected                           0   \n",
              "2                  1       Meal Plan 1                           0   \n",
              "3                  2       Meal Plan 1                           0   \n",
              "4                  1      Not Selected                           0   \n",
              "\n",
              "  room_type_reserved  lead_time  arrival_year  arrival_month  arrival_date  \\\n",
              "0        Room_Type 1        224          2017             10             2   \n",
              "1        Room_Type 1          5          2018             11             6   \n",
              "2        Room_Type 1          1          2018              2            28   \n",
              "3        Room_Type 1        211          2018              5            20   \n",
              "4        Room_Type 1         48          2018              4            11   \n",
              "\n",
              "  market_segment_type  repeated_guest  no_of_previous_cancellations  \\\n",
              "0             Offline               0                             0   \n",
              "1              Online               0                             0   \n",
              "2              Online               0                             0   \n",
              "3              Online               0                             0   \n",
              "4              Online               0                             0   \n",
              "\n",
              "   no_of_previous_bookings_not_canceled  avg_price_per_room  \\\n",
              "0                                     0               65.00   \n",
              "1                                     0              106.68   \n",
              "2                                     0               60.00   \n",
              "3                                     0              100.00   \n",
              "4                                     0               94.50   \n",
              "\n",
              "   no_of_special_requests booking_status  \n",
              "0                       0   Not_Canceled  \n",
              "1                       1   Not_Canceled  \n",
              "2                       0       Canceled  \n",
              "3                       0       Canceled  \n",
              "4                       0       Canceled  "
            ],
            "text/html": [
              "\n",
              "  <div id=\"df-0ecbf0f4-517c-401e-ae73-12afae9670c8\">\n",
              "    <div class=\"colab-df-container\">\n",
              "      <div>\n",
              "<style scoped>\n",
              "    .dataframe tbody tr th:only-of-type {\n",
              "        vertical-align: middle;\n",
              "    }\n",
              "\n",
              "    .dataframe tbody tr th {\n",
              "        vertical-align: top;\n",
              "    }\n",
              "\n",
              "    .dataframe thead th {\n",
              "        text-align: right;\n",
              "    }\n",
              "</style>\n",
              "<table border=\"1\" class=\"dataframe\">\n",
              "  <thead>\n",
              "    <tr style=\"text-align: right;\">\n",
              "      <th></th>\n",
              "      <th>Booking_ID</th>\n",
              "      <th>no_of_adults</th>\n",
              "      <th>no_of_children</th>\n",
              "      <th>no_of_weekend_nights</th>\n",
              "      <th>no_of_week_nights</th>\n",
              "      <th>type_of_meal_plan</th>\n",
              "      <th>required_car_parking_space</th>\n",
              "      <th>room_type_reserved</th>\n",
              "      <th>lead_time</th>\n",
              "      <th>arrival_year</th>\n",
              "      <th>arrival_month</th>\n",
              "      <th>arrival_date</th>\n",
              "      <th>market_segment_type</th>\n",
              "      <th>repeated_guest</th>\n",
              "      <th>no_of_previous_cancellations</th>\n",
              "      <th>no_of_previous_bookings_not_canceled</th>\n",
              "      <th>avg_price_per_room</th>\n",
              "      <th>no_of_special_requests</th>\n",
              "      <th>booking_status</th>\n",
              "    </tr>\n",
              "  </thead>\n",
              "  <tbody>\n",
              "    <tr>\n",
              "      <th>0</th>\n",
              "      <td>INN00001</td>\n",
              "      <td>2</td>\n",
              "      <td>0</td>\n",
              "      <td>1</td>\n",
              "      <td>2</td>\n",
              "      <td>Meal Plan 1</td>\n",
              "      <td>0</td>\n",
              "      <td>Room_Type 1</td>\n",
              "      <td>224</td>\n",
              "      <td>2017</td>\n",
              "      <td>10</td>\n",
              "      <td>2</td>\n",
              "      <td>Offline</td>\n",
              "      <td>0</td>\n",
              "      <td>0</td>\n",
              "      <td>0</td>\n",
              "      <td>65.00</td>\n",
              "      <td>0</td>\n",
              "      <td>Not_Canceled</td>\n",
              "    </tr>\n",
              "    <tr>\n",
              "      <th>1</th>\n",
              "      <td>INN00002</td>\n",
              "      <td>2</td>\n",
              "      <td>0</td>\n",
              "      <td>2</td>\n",
              "      <td>3</td>\n",
              "      <td>Not Selected</td>\n",
              "      <td>0</td>\n",
              "      <td>Room_Type 1</td>\n",
              "      <td>5</td>\n",
              "      <td>2018</td>\n",
              "      <td>11</td>\n",
              "      <td>6</td>\n",
              "      <td>Online</td>\n",
              "      <td>0</td>\n",
              "      <td>0</td>\n",
              "      <td>0</td>\n",
              "      <td>106.68</td>\n",
              "      <td>1</td>\n",
              "      <td>Not_Canceled</td>\n",
              "    </tr>\n",
              "    <tr>\n",
              "      <th>2</th>\n",
              "      <td>INN00003</td>\n",
              "      <td>1</td>\n",
              "      <td>0</td>\n",
              "      <td>2</td>\n",
              "      <td>1</td>\n",
              "      <td>Meal Plan 1</td>\n",
              "      <td>0</td>\n",
              "      <td>Room_Type 1</td>\n",
              "      <td>1</td>\n",
              "      <td>2018</td>\n",
              "      <td>2</td>\n",
              "      <td>28</td>\n",
              "      <td>Online</td>\n",
              "      <td>0</td>\n",
              "      <td>0</td>\n",
              "      <td>0</td>\n",
              "      <td>60.00</td>\n",
              "      <td>0</td>\n",
              "      <td>Canceled</td>\n",
              "    </tr>\n",
              "    <tr>\n",
              "      <th>3</th>\n",
              "      <td>INN00004</td>\n",
              "      <td>2</td>\n",
              "      <td>0</td>\n",
              "      <td>0</td>\n",
              "      <td>2</td>\n",
              "      <td>Meal Plan 1</td>\n",
              "      <td>0</td>\n",
              "      <td>Room_Type 1</td>\n",
              "      <td>211</td>\n",
              "      <td>2018</td>\n",
              "      <td>5</td>\n",
              "      <td>20</td>\n",
              "      <td>Online</td>\n",
              "      <td>0</td>\n",
              "      <td>0</td>\n",
              "      <td>0</td>\n",
              "      <td>100.00</td>\n",
              "      <td>0</td>\n",
              "      <td>Canceled</td>\n",
              "    </tr>\n",
              "    <tr>\n",
              "      <th>4</th>\n",
              "      <td>INN00005</td>\n",
              "      <td>2</td>\n",
              "      <td>0</td>\n",
              "      <td>1</td>\n",
              "      <td>1</td>\n",
              "      <td>Not Selected</td>\n",
              "      <td>0</td>\n",
              "      <td>Room_Type 1</td>\n",
              "      <td>48</td>\n",
              "      <td>2018</td>\n",
              "      <td>4</td>\n",
              "      <td>11</td>\n",
              "      <td>Online</td>\n",
              "      <td>0</td>\n",
              "      <td>0</td>\n",
              "      <td>0</td>\n",
              "      <td>94.50</td>\n",
              "      <td>0</td>\n",
              "      <td>Canceled</td>\n",
              "    </tr>\n",
              "  </tbody>\n",
              "</table>\n",
              "</div>\n",
              "      <button class=\"colab-df-convert\" onclick=\"convertToInteractive('df-0ecbf0f4-517c-401e-ae73-12afae9670c8')\"\n",
              "              title=\"Convert this dataframe to an interactive table.\"\n",
              "              style=\"display:none;\">\n",
              "        \n",
              "  <svg xmlns=\"http://www.w3.org/2000/svg\" height=\"24px\"viewBox=\"0 0 24 24\"\n",
              "       width=\"24px\">\n",
              "    <path d=\"M0 0h24v24H0V0z\" fill=\"none\"/>\n",
              "    <path d=\"M18.56 5.44l.94 2.06.94-2.06 2.06-.94-2.06-.94-.94-2.06-.94 2.06-2.06.94zm-11 1L8.5 8.5l.94-2.06 2.06-.94-2.06-.94L8.5 2.5l-.94 2.06-2.06.94zm10 10l.94 2.06.94-2.06 2.06-.94-2.06-.94-.94-2.06-.94 2.06-2.06.94z\"/><path d=\"M17.41 7.96l-1.37-1.37c-.4-.4-.92-.59-1.43-.59-.52 0-1.04.2-1.43.59L10.3 9.45l-7.72 7.72c-.78.78-.78 2.05 0 2.83L4 21.41c.39.39.9.59 1.41.59.51 0 1.02-.2 1.41-.59l7.78-7.78 2.81-2.81c.8-.78.8-2.07 0-2.86zM5.41 20L4 18.59l7.72-7.72 1.47 1.35L5.41 20z\"/>\n",
              "  </svg>\n",
              "      </button>\n",
              "      \n",
              "  <style>\n",
              "    .colab-df-container {\n",
              "      display:flex;\n",
              "      flex-wrap:wrap;\n",
              "      gap: 12px;\n",
              "    }\n",
              "\n",
              "    .colab-df-convert {\n",
              "      background-color: #E8F0FE;\n",
              "      border: none;\n",
              "      border-radius: 50%;\n",
              "      cursor: pointer;\n",
              "      display: none;\n",
              "      fill: #1967D2;\n",
              "      height: 32px;\n",
              "      padding: 0 0 0 0;\n",
              "      width: 32px;\n",
              "    }\n",
              "\n",
              "    .colab-df-convert:hover {\n",
              "      background-color: #E2EBFA;\n",
              "      box-shadow: 0px 1px 2px rgba(60, 64, 67, 0.3), 0px 1px 3px 1px rgba(60, 64, 67, 0.15);\n",
              "      fill: #174EA6;\n",
              "    }\n",
              "\n",
              "    [theme=dark] .colab-df-convert {\n",
              "      background-color: #3B4455;\n",
              "      fill: #D2E3FC;\n",
              "    }\n",
              "\n",
              "    [theme=dark] .colab-df-convert:hover {\n",
              "      background-color: #434B5C;\n",
              "      box-shadow: 0px 1px 3px 1px rgba(0, 0, 0, 0.15);\n",
              "      filter: drop-shadow(0px 1px 2px rgba(0, 0, 0, 0.3));\n",
              "      fill: #FFFFFF;\n",
              "    }\n",
              "  </style>\n",
              "\n",
              "      <script>\n",
              "        const buttonEl =\n",
              "          document.querySelector('#df-0ecbf0f4-517c-401e-ae73-12afae9670c8 button.colab-df-convert');\n",
              "        buttonEl.style.display =\n",
              "          google.colab.kernel.accessAllowed ? 'block' : 'none';\n",
              "\n",
              "        async function convertToInteractive(key) {\n",
              "          const element = document.querySelector('#df-0ecbf0f4-517c-401e-ae73-12afae9670c8');\n",
              "          const dataTable =\n",
              "            await google.colab.kernel.invokeFunction('convertToInteractive',\n",
              "                                                     [key], {});\n",
              "          if (!dataTable) return;\n",
              "\n",
              "          const docLinkHtml = 'Like what you see? Visit the ' +\n",
              "            '<a target=\"_blank\" href=https://colab.research.google.com/notebooks/data_table.ipynb>data table notebook</a>'\n",
              "            + ' to learn more about interactive tables.';\n",
              "          element.innerHTML = '';\n",
              "          dataTable['output_type'] = 'display_data';\n",
              "          await google.colab.output.renderOutput(dataTable, element);\n",
              "          const docLink = document.createElement('div');\n",
              "          docLink.innerHTML = docLinkHtml;\n",
              "          element.appendChild(docLink);\n",
              "        }\n",
              "      </script>\n",
              "    </div>\n",
              "  </div>\n",
              "  "
            ]
          },
          "metadata": {},
          "execution_count": 177
        }
      ],
      "source": [
        "# CHECK: Peak at the first five rows\n",
        "df_reservations.head(5)"
      ]
    },
    {
      "cell_type": "markdown",
      "metadata": {
        "id": "cJ9m-tIgiYRe"
      },
      "source": [
        "### **1.1.2** Check Nulls and Duplicates\n",
        "\n",
        "We will find the number of rows with null values and the number of duplicated rows. \n",
        "\n",
        "Store the results into `num_nulls` and `num_dups`, respectively.\n",
        "\n",
        "**Please use pandas functions to compute these values instead of hardcoding them.**"
      ]
    },
    {
      "cell_type": "code",
      "execution_count": 178,
      "metadata": {
        "colab": {
          "base_uri": "https://localhost:8080/"
        },
        "id": "LkLzEgHWOcEU",
        "outputId": "d83cb56b-5de3-4943-88d4-7a32e8e9db60"
      },
      "outputs": [
        {
          "output_type": "execute_result",
          "data": {
            "text/plain": [
              "0"
            ]
          },
          "metadata": {},
          "execution_count": 178
        }
      ],
      "source": [
        "# TO-DO: find number of rows with null values\n",
        "num_nulls = df_reservations.isna().sum().sum()\n",
        "num_nulls"
      ]
    },
    {
      "cell_type": "code",
      "execution_count": 179,
      "metadata": {
        "colab": {
          "base_uri": "https://localhost:8080/"
        },
        "id": "jLehMDouqJsH",
        "outputId": "efe6a303-6e67-4ef6-aeb2-fa8fe83436e9"
      },
      "outputs": [
        {
          "output_type": "execute_result",
          "data": {
            "text/plain": [
              "0"
            ]
          },
          "metadata": {},
          "execution_count": 179
        }
      ],
      "source": [
        "# TO-DO: find number of duplicated rows\n",
        "num_dups = len(df_reservations) - len(df_reservations.drop_duplicates())\n",
        "num_dups"
      ]
    },
    {
      "cell_type": "code",
      "execution_count": 180,
      "metadata": {
        "colab": {
          "base_uri": "https://localhost:8080/"
        },
        "id": "IYhoktAQi1eq",
        "outputId": "3869b456-7598-4e1b-b550-ed88df0f4be3"
      },
      "outputs": [
        {
          "output_type": "stream",
          "name": "stdout",
          "text": [
            "Correct! You earned 2/2 points. You are a star!\n",
            "\n",
            "Your submission has been successfully recorded in the gradebook.\n"
          ]
        }
      ],
      "source": [
        "#Grader Cell (2 points)\n",
        "grader.grade(test_case_id = 'drop_null_and_dups', answer = (num_nulls, num_dups))"
      ]
    },
    {
      "cell_type": "markdown",
      "metadata": {
        "id": "LsDRMCdfkACq"
      },
      "source": [
        "## **1.2** EDA [Total: 16 points]\n",
        "\n",
        "Exploratory Data Analysis (EDA) is an approach to analyzing data sets to summarize their main characteristics, often with visual methods. A statistical model can be used or not, but primarily EDA is for seeing what the data can tell us beyond the formal modeling or hypothesis testing task.\n"
      ]
    },
    {
      "cell_type": "markdown",
      "metadata": {
        "id": "ngsCDv0RkCKf"
      },
      "source": [
        "### **1.2.1** Understanding Data\n",
        "\n",
        "A good practice before approaching any data science problem, is to understand the data you will be working with. This can be through descriptive statistics, datatypes, or just a quick tabular visualization. We will be walking through such tasks through Pandas. \n",
        "\n",
        "While not explicitly graded, if you don't do this, you are more likely to make mistakes down the line if you don't have a good understanding of your datasets and their range of values."
      ]
    },
    {
      "cell_type": "code",
      "execution_count": 181,
      "metadata": {
        "colab": {
          "base_uri": "https://localhost:8080/"
        },
        "id": "P60Qyz-okvxk",
        "outputId": "9bad457f-b134-4e63-eb6d-0ee0496e47ab"
      },
      "outputs": [
        {
          "output_type": "execute_result",
          "data": {
            "text/plain": [
              "Booking_ID                               object\n",
              "no_of_adults                              int64\n",
              "no_of_children                            int64\n",
              "no_of_weekend_nights                      int64\n",
              "no_of_week_nights                         int64\n",
              "type_of_meal_plan                        object\n",
              "required_car_parking_space                int64\n",
              "room_type_reserved                       object\n",
              "lead_time                                 int64\n",
              "arrival_year                              int64\n",
              "arrival_month                             int64\n",
              "arrival_date                              int64\n",
              "market_segment_type                      object\n",
              "repeated_guest                            int64\n",
              "no_of_previous_cancellations              int64\n",
              "no_of_previous_bookings_not_canceled      int64\n",
              "avg_price_per_room                      float64\n",
              "no_of_special_requests                    int64\n",
              "booking_status                           object\n",
              "dtype: object"
            ]
          },
          "metadata": {},
          "execution_count": 181
        }
      ],
      "source": [
        "# Display the datatypes in `df_reservations`\n",
        "df_reservations.dtypes"
      ]
    },
    {
      "cell_type": "code",
      "execution_count": 182,
      "metadata": {
        "id": "7kIN2As8lIkn"
      },
      "outputs": [],
      "source": [
        "# Display the descriptive statistics of `df_reservations`\n"
      ]
    },
    {
      "cell_type": "markdown",
      "metadata": {
        "id": "YwLDb9QE6sEF"
      },
      "source": [
        "### **1.2.2** Visualizations\n",
        "\n",
        "There are 8 manually graded points in this section."
      ]
    },
    {
      "cell_type": "markdown",
      "metadata": {
        "id": "SCE6Y6TF7thU"
      },
      "source": [
        "#### (a) Number of Canceled and Not Canceled Bookings For Each Month [5 pts]"
      ]
    },
    {
      "cell_type": "markdown",
      "metadata": {
        "id": "pCOF-tYX9zVV"
      },
      "source": [
        "**Task:** For each month, we want to find the number of canceled bookings and not-canceled bookings.\n",
        "\n",
        "You should first create a dataframe called `month_status` with the following columns using `df_reservations`:\n",
        "- `'arrival_month'`\n",
        "- `'booking_status'`"
      ]
    },
    {
      "cell_type": "code",
      "execution_count": 183,
      "metadata": {
        "colab": {
          "base_uri": "https://localhost:8080/",
          "height": 206
        },
        "id": "hHA523wv-4fq",
        "outputId": "779c4ff2-4f3a-44bc-dd53-56e04ce42411"
      },
      "outputs": [
        {
          "output_type": "execute_result",
          "data": {
            "text/plain": [
              "   arrival_month booking_status\n",
              "0             10   Not_Canceled\n",
              "1             11   Not_Canceled\n",
              "2              2       Canceled\n",
              "3              5       Canceled\n",
              "4              4       Canceled"
            ],
            "text/html": [
              "\n",
              "  <div id=\"df-80bdd3d6-ac66-4035-bbdc-ab0251ec6bc6\">\n",
              "    <div class=\"colab-df-container\">\n",
              "      <div>\n",
              "<style scoped>\n",
              "    .dataframe tbody tr th:only-of-type {\n",
              "        vertical-align: middle;\n",
              "    }\n",
              "\n",
              "    .dataframe tbody tr th {\n",
              "        vertical-align: top;\n",
              "    }\n",
              "\n",
              "    .dataframe thead th {\n",
              "        text-align: right;\n",
              "    }\n",
              "</style>\n",
              "<table border=\"1\" class=\"dataframe\">\n",
              "  <thead>\n",
              "    <tr style=\"text-align: right;\">\n",
              "      <th></th>\n",
              "      <th>arrival_month</th>\n",
              "      <th>booking_status</th>\n",
              "    </tr>\n",
              "  </thead>\n",
              "  <tbody>\n",
              "    <tr>\n",
              "      <th>0</th>\n",
              "      <td>10</td>\n",
              "      <td>Not_Canceled</td>\n",
              "    </tr>\n",
              "    <tr>\n",
              "      <th>1</th>\n",
              "      <td>11</td>\n",
              "      <td>Not_Canceled</td>\n",
              "    </tr>\n",
              "    <tr>\n",
              "      <th>2</th>\n",
              "      <td>2</td>\n",
              "      <td>Canceled</td>\n",
              "    </tr>\n",
              "    <tr>\n",
              "      <th>3</th>\n",
              "      <td>5</td>\n",
              "      <td>Canceled</td>\n",
              "    </tr>\n",
              "    <tr>\n",
              "      <th>4</th>\n",
              "      <td>4</td>\n",
              "      <td>Canceled</td>\n",
              "    </tr>\n",
              "  </tbody>\n",
              "</table>\n",
              "</div>\n",
              "      <button class=\"colab-df-convert\" onclick=\"convertToInteractive('df-80bdd3d6-ac66-4035-bbdc-ab0251ec6bc6')\"\n",
              "              title=\"Convert this dataframe to an interactive table.\"\n",
              "              style=\"display:none;\">\n",
              "        \n",
              "  <svg xmlns=\"http://www.w3.org/2000/svg\" height=\"24px\"viewBox=\"0 0 24 24\"\n",
              "       width=\"24px\">\n",
              "    <path d=\"M0 0h24v24H0V0z\" fill=\"none\"/>\n",
              "    <path d=\"M18.56 5.44l.94 2.06.94-2.06 2.06-.94-2.06-.94-.94-2.06-.94 2.06-2.06.94zm-11 1L8.5 8.5l.94-2.06 2.06-.94-2.06-.94L8.5 2.5l-.94 2.06-2.06.94zm10 10l.94 2.06.94-2.06 2.06-.94-2.06-.94-.94-2.06-.94 2.06-2.06.94z\"/><path d=\"M17.41 7.96l-1.37-1.37c-.4-.4-.92-.59-1.43-.59-.52 0-1.04.2-1.43.59L10.3 9.45l-7.72 7.72c-.78.78-.78 2.05 0 2.83L4 21.41c.39.39.9.59 1.41.59.51 0 1.02-.2 1.41-.59l7.78-7.78 2.81-2.81c.8-.78.8-2.07 0-2.86zM5.41 20L4 18.59l7.72-7.72 1.47 1.35L5.41 20z\"/>\n",
              "  </svg>\n",
              "      </button>\n",
              "      \n",
              "  <style>\n",
              "    .colab-df-container {\n",
              "      display:flex;\n",
              "      flex-wrap:wrap;\n",
              "      gap: 12px;\n",
              "    }\n",
              "\n",
              "    .colab-df-convert {\n",
              "      background-color: #E8F0FE;\n",
              "      border: none;\n",
              "      border-radius: 50%;\n",
              "      cursor: pointer;\n",
              "      display: none;\n",
              "      fill: #1967D2;\n",
              "      height: 32px;\n",
              "      padding: 0 0 0 0;\n",
              "      width: 32px;\n",
              "    }\n",
              "\n",
              "    .colab-df-convert:hover {\n",
              "      background-color: #E2EBFA;\n",
              "      box-shadow: 0px 1px 2px rgba(60, 64, 67, 0.3), 0px 1px 3px 1px rgba(60, 64, 67, 0.15);\n",
              "      fill: #174EA6;\n",
              "    }\n",
              "\n",
              "    [theme=dark] .colab-df-convert {\n",
              "      background-color: #3B4455;\n",
              "      fill: #D2E3FC;\n",
              "    }\n",
              "\n",
              "    [theme=dark] .colab-df-convert:hover {\n",
              "      background-color: #434B5C;\n",
              "      box-shadow: 0px 1px 3px 1px rgba(0, 0, 0, 0.15);\n",
              "      filter: drop-shadow(0px 1px 2px rgba(0, 0, 0, 0.3));\n",
              "      fill: #FFFFFF;\n",
              "    }\n",
              "  </style>\n",
              "\n",
              "      <script>\n",
              "        const buttonEl =\n",
              "          document.querySelector('#df-80bdd3d6-ac66-4035-bbdc-ab0251ec6bc6 button.colab-df-convert');\n",
              "        buttonEl.style.display =\n",
              "          google.colab.kernel.accessAllowed ? 'block' : 'none';\n",
              "\n",
              "        async function convertToInteractive(key) {\n",
              "          const element = document.querySelector('#df-80bdd3d6-ac66-4035-bbdc-ab0251ec6bc6');\n",
              "          const dataTable =\n",
              "            await google.colab.kernel.invokeFunction('convertToInteractive',\n",
              "                                                     [key], {});\n",
              "          if (!dataTable) return;\n",
              "\n",
              "          const docLinkHtml = 'Like what you see? Visit the ' +\n",
              "            '<a target=\"_blank\" href=https://colab.research.google.com/notebooks/data_table.ipynb>data table notebook</a>'\n",
              "            + ' to learn more about interactive tables.';\n",
              "          element.innerHTML = '';\n",
              "          dataTable['output_type'] = 'display_data';\n",
              "          await google.colab.output.renderOutput(dataTable, element);\n",
              "          const docLink = document.createElement('div');\n",
              "          docLink.innerHTML = docLinkHtml;\n",
              "          element.appendChild(docLink);\n",
              "        }\n",
              "      </script>\n",
              "    </div>\n",
              "  </div>\n",
              "  "
            ]
          },
          "metadata": {},
          "execution_count": 183
        }
      ],
      "source": [
        "# TO-DO: create a dataframe month_status \n",
        "month_status = df_reservations[['arrival_month', 'booking_status']]\n",
        "month_status.head(5)"
      ]
    },
    {
      "cell_type": "code",
      "execution_count": 184,
      "metadata": {
        "colab": {
          "base_uri": "https://localhost:8080/"
        },
        "id": "L17_HwUS7AQe",
        "outputId": "79bbd961-d30f-4ec6-97f5-3e78eb1beb55"
      },
      "outputs": [
        {
          "output_type": "stream",
          "name": "stdout",
          "text": [
            "Correct! You earned 1/1 points. You are a star!\n",
            "\n",
            "Your submission has been successfully recorded in the gradebook.\n"
          ]
        }
      ],
      "source": [
        "# Grader Cell (1 point)\n",
        "grader.grade(test_case_id = 'month_status_df', answer = month_status)"
      ]
    },
    {
      "cell_type": "markdown",
      "metadata": {
        "id": "L0chtICRm4F7"
      },
      "source": [
        "**Manually Graded Task:**  We will be using the `seaborn` library for this problem to create a <ins>double histogram</ins> plot using the data in `month_status`. For each month, there will be two bars: one for Canceled bookings and another for Not_Canceled bookings.\n",
        "\n",
        "Your plot must:\n",
        "*   Be of figure size `(8,6)`\n",
        "*   Use `palette = 'husl'` and `shrink = 2`. \n",
        "*   Have three-letter abbreviations for months as x-tick labels (for example: Jan, Feb, Mar)\n",
        "*   Have appropriate titles, axes labels, and a legend\n",
        "*   Be clearly legible and should **not** have overlapping text or bars.\n",
        "*   Make sure all months are visible on the x-axis"
      ]
    },
    {
      "cell_type": "code",
      "execution_count": 185,
      "metadata": {
        "colab": {
          "base_uri": "https://localhost:8080/",
          "height": 677
        },
        "id": "UqaanuTOEB6T",
        "outputId": "f8522dd7-be95-49ae-b302-f0bc51a9cf85"
      },
      "outputs": [
        {
          "output_type": "stream",
          "name": "stderr",
          "text": [
            "<ipython-input-185-fbbffcf375fd>:7: SettingWithCopyWarning: \n",
            "A value is trying to be set on a copy of a slice from a DataFrame.\n",
            "Try using .loc[row_indexer,col_indexer] = value instead\n",
            "\n",
            "See the caveats in the documentation: https://pandas.pydata.org/pandas-docs/stable/user_guide/indexing.html#returning-a-view-versus-a-copy\n",
            "  month_status['monthConversions'] = month_status['arrival_month'].map(monthConversions)\n"
          ]
        },
        {
          "output_type": "display_data",
          "data": {
            "text/plain": [
              "<Figure size 800x600 with 1 Axes>"
            ],
            "image/png": "[encoded data removed]"
          },
          "metadata": {}
        }
      ],
      "source": [
        "# TO-DO: [MANUALLY GRADED: 4 points]\n",
        "#   Create a histogram plot which has bars placed side by side in a single plot \n",
        "#   showing the number of Canceled and Not_Canceled bookings for each month    \n",
        "\n",
        "monthConversions = {1: 'Jan', 2: 'Feb', 3: 'Mar', 4: 'Apr', 5: 'May', 6: 'Jun', 7: 'Jul', 8: 'Aug', 9: 'Sep', 10: 'Oct', 11: 'Nov', 12: 'Dec'}\n",
        "\n",
        "month_status['monthConversions'] = month_status['arrival_month'].map(monthConversions)\n",
        "\n",
        "fig, ax = plt.subplots(figsize=(8, 6))\n",
        "sns.countplot(x='monthConversions', hue='booking_status', data=month_status, palette='husl', ax=ax)\n",
        "ax.set_title('Booking Status by Month', fontsize=16)\n",
        "ax.set_xlabel('Month', fontsize=12)\n",
        "ax.set_ylabel('Number of Bookings', fontsize=12)\n",
        "ax.legend(title='Booking Status', fontsize=10)\n",
        "ax.set_xlim(-0.5, 11.5)\n",
        "plt.show()"
      ]
    },
    {
      "cell_type": "markdown",
      "metadata": {
        "id": "yS7viOKL8Bap"
      },
      "source": [
        "#### (b) Average Price of a Room for Each Month [5 pts]"
      ]
    },
    {
      "cell_type": "markdown",
      "metadata": {
        "id": "11ks7ny08qOs"
      },
      "source": [
        "**Task:** For each month, we want to find the average cost of rooms.\n",
        "\n",
        "Please note that there exists a column named `'avg_price_per_room'`, which is the *average price per day* of the given reservation.\n",
        "\n",
        "We want to find the average cost of a hotel room for *each month*.\n",
        "\n",
        "You should first create a dataframe called `month_price` with the following columns:\n",
        "- `'arrival_month'`\n",
        "- `'avg_price_per_room'`"
      ]
    },
    {
      "cell_type": "code",
      "execution_count": 186,
      "metadata": {
        "colab": {
          "base_uri": "https://localhost:8080/",
          "height": 206
        },
        "id": "-_VrNbmOIMCc",
        "outputId": "524a7ba5-43d2-4af6-968a-460ecf03ee76"
      },
      "outputs": [
        {
          "output_type": "execute_result",
          "data": {
            "text/plain": [
              "   arrival_month  avg_price_per_room\n",
              "0             10               65.00\n",
              "1             11              106.68\n",
              "2              2               60.00\n",
              "3              5              100.00\n",
              "4              4               94.50"
            ],
            "text/html": [
              "\n",
              "  <div id=\"df-260f6bf4-9a05-40b2-bafb-9fad4ed5ad1e\">\n",
              "    <div class=\"colab-df-container\">\n",
              "      <div>\n",
              "<style scoped>\n",
              "    .dataframe tbody tr th:only-of-type {\n",
              "        vertical-align: middle;\n",
              "    }\n",
              "\n",
              "    .dataframe tbody tr th {\n",
              "        vertical-align: top;\n",
              "    }\n",
              "\n",
              "    .dataframe thead th {\n",
              "        text-align: right;\n",
              "    }\n",
              "</style>\n",
              "<table border=\"1\" class=\"dataframe\">\n",
              "  <thead>\n",
              "    <tr style=\"text-align: right;\">\n",
              "      <th></th>\n",
              "      <th>arrival_month</th>\n",
              "      <th>avg_price_per_room</th>\n",
              "    </tr>\n",
              "  </thead>\n",
              "  <tbody>\n",
              "    <tr>\n",
              "      <th>0</th>\n",
              "      <td>10</td>\n",
              "      <td>65.00</td>\n",
              "    </tr>\n",
              "    <tr>\n",
              "      <th>1</th>\n",
              "      <td>11</td>\n",
              "      <td>106.68</td>\n",
              "    </tr>\n",
              "    <tr>\n",
              "      <th>2</th>\n",
              "      <td>2</td>\n",
              "      <td>60.00</td>\n",
              "    </tr>\n",
              "    <tr>\n",
              "      <th>3</th>\n",
              "      <td>5</td>\n",
              "      <td>100.00</td>\n",
              "    </tr>\n",
              "    <tr>\n",
              "      <th>4</th>\n",
              "      <td>4</td>\n",
              "      <td>94.50</td>\n",
              "    </tr>\n",
              "  </tbody>\n",
              "</table>\n",
              "</div>\n",
              "      <button class=\"colab-df-convert\" onclick=\"convertToInteractive('df-260f6bf4-9a05-40b2-bafb-9fad4ed5ad1e')\"\n",
              "              title=\"Convert this dataframe to an interactive table.\"\n",
              "              style=\"display:none;\">\n",
              "        \n",
              "  <svg xmlns=\"http://www.w3.org/2000/svg\" height=\"24px\"viewBox=\"0 0 24 24\"\n",
              "       width=\"24px\">\n",
              "    <path d=\"M0 0h24v24H0V0z\" fill=\"none\"/>\n",
              "    <path d=\"M18.56 5.44l.94 2.06.94-2.06 2.06-.94-2.06-.94-.94-2.06-.94 2.06-2.06.94zm-11 1L8.5 8.5l.94-2.06 2.06-.94-2.06-.94L8.5 2.5l-.94 2.06-2.06.94zm10 10l.94 2.06.94-2.06 2.06-.94-2.06-.94-.94-2.06-.94 2.06-2.06.94z\"/><path d=\"M17.41 7.96l-1.37-1.37c-.4-.4-.92-.59-1.43-.59-.52 0-1.04.2-1.43.59L10.3 9.45l-7.72 7.72c-.78.78-.78 2.05 0 2.83L4 21.41c.39.39.9.59 1.41.59.51 0 1.02-.2 1.41-.59l7.78-7.78 2.81-2.81c.8-.78.8-2.07 0-2.86zM5.41 20L4 18.59l7.72-7.72 1.47 1.35L5.41 20z\"/>\n",
              "  </svg>\n",
              "      </button>\n",
              "      \n",
              "  <style>\n",
              "    .colab-df-container {\n",
              "      display:flex;\n",
              "      flex-wrap:wrap;\n",
              "      gap: 12px;\n",
              "    }\n",
              "\n",
              "    .colab-df-convert {\n",
              "      background-color: #E8F0FE;\n",
              "      border: none;\n",
              "      border-radius: 50%;\n",
              "      cursor: pointer;\n",
              "      display: none;\n",
              "      fill: #1967D2;\n",
              "      height: 32px;\n",
              "      padding: 0 0 0 0;\n",
              "      width: 32px;\n",
              "    }\n",
              "\n",
              "    .colab-df-convert:hover {\n",
              "      background-color: #E2EBFA;\n",
              "      box-shadow: 0px 1px 2px rgba(60, 64, 67, 0.3), 0px 1px 3px 1px rgba(60, 64, 67, 0.15);\n",
              "      fill: #174EA6;\n",
              "    }\n",
              "\n",
              "    [theme=dark] .colab-df-convert {\n",
              "      background-color: #3B4455;\n",
              "      fill: #D2E3FC;\n",
              "    }\n",
              "\n",
              "    [theme=dark] .colab-df-convert:hover {\n",
              "      background-color: #434B5C;\n",
              "      box-shadow: 0px 1px 3px 1px rgba(0, 0, 0, 0.15);\n",
              "      filter: drop-shadow(0px 1px 2px rgba(0, 0, 0, 0.3));\n",
              "      fill: #FFFFFF;\n",
              "    }\n",
              "  </style>\n",
              "\n",
              "      <script>\n",
              "        const buttonEl =\n",
              "          document.querySelector('#df-260f6bf4-9a05-40b2-bafb-9fad4ed5ad1e button.colab-df-convert');\n",
              "        buttonEl.style.display =\n",
              "          google.colab.kernel.accessAllowed ? 'block' : 'none';\n",
              "\n",
              "        async function convertToInteractive(key) {\n",
              "          const element = document.querySelector('#df-260f6bf4-9a05-40b2-bafb-9fad4ed5ad1e');\n",
              "          const dataTable =\n",
              "            await google.colab.kernel.invokeFunction('convertToInteractive',\n",
              "                                                     [key], {});\n",
              "          if (!dataTable) return;\n",
              "\n",
              "          const docLinkHtml = 'Like what you see? Visit the ' +\n",
              "            '<a target=\"_blank\" href=https://colab.research.google.com/notebooks/data_table.ipynb>data table notebook</a>'\n",
              "            + ' to learn more about interactive tables.';\n",
              "          element.innerHTML = '';\n",
              "          dataTable['output_type'] = 'display_data';\n",
              "          await google.colab.output.renderOutput(dataTable, element);\n",
              "          const docLink = document.createElement('div');\n",
              "          docLink.innerHTML = docLinkHtml;\n",
              "          element.appendChild(docLink);\n",
              "        }\n",
              "      </script>\n",
              "    </div>\n",
              "  </div>\n",
              "  "
            ]
          },
          "metadata": {},
          "execution_count": 186
        }
      ],
      "source": [
        "# TO-DO: create a dataframe month_price \n",
        "month_price = df_reservations[['arrival_month', 'avg_price_per_room']]\n",
        "month_price.head(5)"
      ]
    },
    {
      "cell_type": "code",
      "execution_count": 187,
      "metadata": {
        "colab": {
          "base_uri": "https://localhost:8080/"
        },
        "id": "srjuu8zM94AG",
        "outputId": "ef33bb4e-15c9-47cc-bdbf-cab81067befa"
      },
      "outputs": [
        {
          "output_type": "stream",
          "name": "stdout",
          "text": [
            "Correct! You earned 1/1 points. You are a star!\n",
            "\n",
            "Your submission has been successfully recorded in the gradebook.\n"
          ]
        }
      ],
      "source": [
        "# Grader Cell (1 points)\n",
        "grader.grade(test_case_id = 'month_price_df', answer = month_price)"
      ]
    },
    {
      "cell_type": "markdown",
      "metadata": {
        "id": "3zv3ETHZnSwp"
      },
      "source": [
        "**Manually Graded Task:** We will be using the `seaborn` library for this problem to create a <ins>barplot</ins> visualizing the data in `month_price`\n",
        "\n",
        "Your plot must:\n",
        "*   Be of figure size (8,6)\n",
        "*   Use `palette = 'husl'` and `errorbar=None`. \n",
        "*   Have three-letter abbreviations for months as x-tick labels (for example: Jan, Feb, Mar)\n",
        "*   Have appropriate titles and axes labels\n",
        "*   Be clearly legible and should **not** have overlapping text or bars."
      ]
    },
    {
      "cell_type": "code",
      "execution_count": 188,
      "metadata": {
        "id": "Ldul5GNGGshh",
        "colab": {
          "base_uri": "https://localhost:8080/",
          "height": 564
        },
        "outputId": "7f54970b-ed96-4ae5-9ee2-4342828b8526"
      },
      "outputs": [
        {
          "output_type": "display_data",
          "data": {
            "text/plain": [
              "<Figure size 800x600 with 1 Axes>"
            ],
            "image/png": "[encoded data removed]"
          },
          "metadata": {}
        }
      ],
      "source": [
        "# TO-DO: [MANUALLY GRADED: 4 points]\n",
        "monthsConversion = {1: 'Jan', 2: 'Feb', 3: 'Mar', 4: 'Apr', 5: 'May', 6: 'Jun', 7: 'Jul', 8: 'Aug', 9: 'Sep', 10: 'Oct', 11: 'Nov', 12: 'Dec'}\n",
        "\n",
        "month_price = month_price.groupby('arrival_month')['avg_price_per_room'].mean( ).reset_index()\n",
        "month_price['arrival_month'] = month_price['arrival_month'].map(monthsConversion)\n",
        "\n",
        "fig = plt.figure(figsize=(8, 6))\n",
        "sns.barplot(x='arrival_month', y='avg_price_per_room', data=month_price, palette='husl', errorbar = None)\n",
        "plt.title('Average Price per Room by Month')\n",
        "plt.xlabel('Month')\n",
        "plt.ylabel('Average Price per Room')\n",
        "plt.show()\n"
      ]
    },
    {
      "cell_type": "markdown",
      "metadata": {
        "id": "D_uvTv_VKYfY"
      },
      "source": [
        "### **1.2.3** Correlation of Feature Variables\n",
        "\n",
        "With multiple features, it can be somewhat exhausting to do bivariate analysis on every possible pair of features. While you certainly should, your first instinct should be to check for the correlation between features since certain models (e.g. Linear Regression) won't work well if we have strong multicollinearity."
      ]
    },
    {
      "cell_type": "markdown",
      "metadata": {
        "id": "YacG1jN-_WI6"
      },
      "source": [
        "#### (a) Isolating Numerics from Categorical Features [3 pts]\n",
        "\n",
        "Before anything else, it may help to create groups of the numeric and categorical variables.\n",
        "\n",
        "**Task:** is to split the `df_reservations` dataframe into 2 dataframes:\n",
        "\n",
        "1. `numerics_df`: This dataframe contains all numerical columns from `df_reservations`\n",
        "\n",
        "2. `categorical_df`: This dataframe contains all categorical columns from `df_reservations`\n",
        "  - i.e. the columns of non-numeric type or contain boolean values\n",
        "\n",
        "In the above dataframes, **please do not include `arrival_year`, `arrival_month`, `arrival_date`, `Booking_ID`, `booking_status`**, \n",
        "because we do not consider time series here and will be predicting `booking_status` in the immidiate classification problem.\n",
        "\n",
        "Also, **sort the columns of `numerics_df` and `categorical_df` in alphabetic order**"
      ]
    },
    {
      "cell_type": "code",
      "execution_count": 189,
      "metadata": {
        "colab": {
          "base_uri": "https://localhost:8080/"
        },
        "id": "zBxOkIQp_B_w",
        "outputId": "5baf621b-8259-49fa-8911-c6173e2546fc"
      },
      "outputs": [
        {
          "output_type": "execute_result",
          "data": {
            "text/plain": [
              "Booking_ID                              36275\n",
              "no_of_adults                                5\n",
              "no_of_children                              6\n",
              "no_of_weekend_nights                        8\n",
              "no_of_week_nights                          18\n",
              "type_of_meal_plan                           4\n",
              "required_car_parking_space                  2\n",
              "room_type_reserved                          7\n",
              "lead_time                                 352\n",
              "arrival_year                                2\n",
              "arrival_month                              12\n",
              "arrival_date                               31\n",
              "market_segment_type                         5\n",
              "repeated_guest                              2\n",
              "no_of_previous_cancellations                9\n",
              "no_of_previous_bookings_not_canceled       59\n",
              "avg_price_per_room                       3930\n",
              "no_of_special_requests                      6\n",
              "booking_status                              2\n",
              "dtype: int64"
            ]
          },
          "metadata": {},
          "execution_count": 189
        }
      ],
      "source": [
        "# TO-DO: Visualize number of unique values and datatype in each column (call .nunique())\n",
        "df_reservations.nunique()\n",
        "# df_reservations.dtypes"
      ]
    },
    {
      "cell_type": "code",
      "execution_count": 190,
      "metadata": {
        "id": "PZIPC3qoLgag"
      },
      "outputs": [],
      "source": [
        "# TO-DO: Form 'numerics_df' and 'categorical_df'\n",
        "numerics_df = df_reservations[['no_of_adults', 'no_of_children', 'no_of_weekend_nights', 'no_of_week_nights', 'lead_time', 'no_of_previous_cancellations', 'no_of_previous_bookings_not_canceled', 'no_of_special_requests', 'avg_price_per_room']]\n",
        "categorical_df = df_reservations[['type_of_meal_plan', 'required_car_parking_space', 'room_type_reserved', 'market_segment_type', 'repeated_guest']]"
      ]
    },
    {
      "cell_type": "code",
      "execution_count": 191,
      "metadata": {
        "id": "kl0qUiGjOYnZ"
      },
      "outputs": [],
      "source": [
        "# TO-DO: sort the columns of `numerics_df` and `categorical_df` in alphabetic order \n",
        "categorical_df = categorical_df.sort_index(axis=1)\n",
        "nuerics_df = numerics_df.sort_index(axis = 1)"
      ]
    },
    {
      "cell_type": "code",
      "execution_count": 192,
      "metadata": {
        "colab": {
          "base_uri": "https://localhost:8080/"
        },
        "id": "eGWnwyl4Bkjt",
        "outputId": "a3552cc2-bf5a-482e-8574-37a79e133808"
      },
      "outputs": [
        {
          "output_type": "stream",
          "name": "stdout",
          "text": [
            "You earned 2/3 points.\n",
            "\n",
            "But, don't worry you can re-submit and we will keep only your latest score.\n"
          ]
        }
      ],
      "source": [
        "#Grader Cell (3 points)\n",
        "grader.grade(test_case_id = 'cat_num_df', answer = (numerics_df, categorical_df))"
      ]
    },
    {
      "cell_type": "markdown",
      "metadata": {
        "id": "QRaftmxV-FEV"
      },
      "source": [
        "#### (b) **Correlation Heatmap** [3 pts]\n",
        "\n",
        "**Manually Graded Task:** Create a correlation matrix using `numerics_df` and call it `corr_mat`. Using the correlation matrix, generate a correlation heatmap for these numeric features. We will be using Seaborn library to create this heatmap.\n",
        "\n",
        "Make sure your correlation heatmap meets the following criteria:\n",
        "*   Ensure that your heatmap is of figure size `(8,8)`: all feature labels should be visible on both the $x$-axis and $y$-axis\n",
        "*   Use the `RdBu` color map to ensure that negative correlations are red and positive correlations are blue. This is far more intuitive than other ones.\n",
        "*   Standardize the color scale so that -1 takes the darkest red color, 0 is totally white, and +1 takes the darkest blue color. Remember, the Official Documentation should always be your first point of reference."
      ]
    },
    {
      "cell_type": "code",
      "execution_count": 193,
      "metadata": {
        "colab": {
          "base_uri": "https://localhost:8080/",
          "height": 957
        },
        "id": "3IjmGO3eLcjz",
        "outputId": "6a85ba09-e81c-4c07-91a3-04d96d694980"
      },
      "outputs": [
        {
          "output_type": "display_data",
          "data": {
            "text/plain": [
              "<Figure size 800x800 with 2 Axes>"
            ],
            "image/png": "[encoded data removed]"
          },
          "metadata": {}
        }
      ],
      "source": [
        "# TO-DO: Plot correlation heatmap (3 points)\n",
        "import seaborn as sns\n",
        "import pandas as pd\n",
        "import numpy as np\n",
        "import matplotlib.pyplot as plt\n",
        "\n",
        "# Calculate correlation matrix\n",
        "corr_mat = numerics_df.corr()\n",
        "\n",
        "# Create heatmap\n",
        "plt.figure(figsize=(8, 8))\n",
        "sns.heatmap(corr_mat, annot=True, cmap='RdBu', vmin=-1, vmax=1)\n",
        "plt.title('Correlation Heatmap')\n",
        "plt.show()\n"
      ]
    },
    {
      "cell_type": "markdown",
      "metadata": {
        "id": "06OFh_eTNIPI"
      },
      "source": [
        "## **1.3** Feature Engineering [Total: 4 points]\n",
        "\n",
        "Feature engineering is the process of applying domain knowledge to extract features from raw data via data mining techniques. These features can be used to improve the performance of machine learning algorithms."
      ]
    },
    {
      "cell_type": "markdown",
      "metadata": {
        "id": "gJ2ptxmkNyG6"
      },
      "source": [
        "### **1.3.1** One Hot Encoding [2 pts]"
      ]
    },
    {
      "cell_type": "markdown",
      "metadata": {
        "id": "AIaH3ZHsNvei"
      },
      "source": [
        "One hot encoding is a process by which categorical variables are converted into a form that could be provided to ML algorithms to do a better job in prediction. With one-hot encoding, we convert each categorical value into a new categorical column and assign a binary value of 1 or 0 to those columns. \n",
        "\n",
        "One way to one-hot encode in Pandas is by using `pd.get_dummies()` . The documentation can be found [here](https://pandas.pydata.org/docs/reference/api/pandas.get_dummies.html). \n",
        "\n",
        "**Input:** Perform operations on `df_reservations`\n",
        "\n",
        "**Task:**\n",
        "- Use `pd.get_dummies()` to one hot encode the following columns: \n",
        "  - `\"type_of_meal_plan\"`\n",
        "  - `\"room_type_reserved\"`\n",
        "  - `\"market_segment_type\"`\n",
        "- Save your result in the dataframe `encoded_df_reservations`.\n",
        "\n",
        "**Note:** Do <ins>NOT</ins> modify the column names. Use the default names `pd.get_dummies()` generates."
      ]
    },
    {
      "cell_type": "code",
      "execution_count": 194,
      "metadata": {
        "id": "ttMWoxUPOhqF"
      },
      "outputs": [],
      "source": [
        "# TO-DO: drop \"Booking_ID\" column from `df_reservations`\n",
        "df_reservations = df_reservations.drop('Booking_ID', axis=1)"
      ]
    },
    {
      "cell_type": "code",
      "execution_count": null,
      "metadata": {
        "id": "DCwdnXBRCNe-"
      },
      "outputs": [],
      "source": [
        "# TO-DO: create dataframe 'encoded_df_reservations' that contains the appropriate one hot encoded columns\n",
        "encoded_df_reservations = pd.get_dummies(df_reservations,columns = ['type_of_meal_plan','room_type_reserved','market_segment_type'])\n"
      ]
    },
    {
      "cell_type": "code",
      "execution_count": null,
      "metadata": {
        "id": "fvEcv14XGrV2"
      },
      "outputs": [],
      "source": [
        "# CHECK: display the first two rows of 'encoded_df_reservations'\n",
        "encoded_df_reservations.head(2)"
      ]
    },
    {
      "cell_type": "code",
      "execution_count": 197,
      "metadata": {
        "colab": {
          "base_uri": "https://localhost:8080/"
        },
        "id": "sa082oxXE8F-",
        "outputId": "b1db3da0-3f2c-461d-f387-f22765007165"
      },
      "outputs": [
        {
          "output_type": "stream",
          "name": "stdout",
          "text": [
            "Correct! You earned 2/2 points. You are a star!\n",
            "\n",
            "Your submission has been successfully recorded in the gradebook.\n"
          ]
        }
      ],
      "source": [
        "#Grader Cell (2 points)\n",
        "grader.grade(test_case_id = 'one_hot_encoded', answer = encoded_df_reservations.head(10))"
      ]
    },
    {
      "cell_type": "markdown",
      "metadata": {
        "id": "4bVkkvxRrWuc"
      },
      "source": [
        "### **1.3.2** Change 'booking_status' to Boolean [2 pts]"
      ]
    },
    {
      "cell_type": "markdown",
      "metadata": {
        "id": "SGMeJ17zsX5v"
      },
      "source": [
        "We will use `encoded_df_reservations` starting from 1.3.2\n",
        "\n",
        "We will be predicting the `\"booking_status\"` for our classification problem. Let's convert this column into a Boolean column. \n",
        "\n",
        "**Input:** Use `encoded_df_reservations` in forward sections\n",
        "\n",
        "**Task:** If the `\"booking_status\"` is \"Canceled\", set it to 1. Otherwise, set it to 0.\n",
        "\n",
        "_(Aside: while this may sound oddly familiar, please note that this is not the same as your Midterm 1)_"
      ]
    },
    {
      "cell_type": "code",
      "execution_count": 198,
      "metadata": {
        "id": "jcbPXfEuEy6s"
      },
      "outputs": [],
      "source": [
        "# TO-DO: canceled = 1, not canceled = 0 \n",
        "encoded_df_reservations['booking_status'] = encoded_df_reservations['booking_status'].apply(lambda x: 1.0 if x == 'Canceled' else 0.0)\n",
        "encoded_df_reservations['booking_status'] = encoded_df_reservations['booking_status'].astype('double')"
      ]
    },
    {
      "cell_type": "code",
      "execution_count": 199,
      "metadata": {
        "colab": {
          "base_uri": "https://localhost:8080/"
        },
        "id": "ILEHbWkbrrfi",
        "outputId": "93457497-520c-45d3-e423-f609429ebca8"
      },
      "outputs": [
        {
          "output_type": "stream",
          "name": "stdout",
          "text": [
            "Correct! You earned 2/2 points. You are a star!\n",
            "\n",
            "Your submission has been successfully recorded in the gradebook.\n"
          ]
        }
      ],
      "source": [
        "# Grader Cell (2 points)\n",
        "grader.grade(test_case_id = 'boolean_booking', answer = encoded_df_reservations.head(20)['booking_status'])"
      ]
    },
    {
      "cell_type": "markdown",
      "metadata": {
        "id": "K-iqlFZacKO9"
      },
      "source": [
        "## **1.4** Modeling (sklearn) [Total: 43 points]"
      ]
    },
    {
      "cell_type": "markdown",
      "metadata": {
        "id": "xPBSUmK9HRHc"
      },
      "source": [
        "### **1.4.1** Preprocessing: Create Features and Label and Split Data into Train and Test [4 pts]\n",
        "\n",
        "Now that we have explored and cleaned our dataset, let's prepare it for a machine learning task. In this homework, you will work with various models and attempt to predict whether a room booking will be cancelled or not.\n",
        "\n",
        "The features will be all the variables in the dataset **except** `\"booking_status\"`, which will act as the label for our problem. First, store these two as `features` (pd.DataFrame) and `target` (pd.Series), respectively."
      ]
    },
    {
      "cell_type": "code",
      "execution_count": 200,
      "metadata": {
        "id": "N7_jhB-LEVNK"
      },
      "outputs": [],
      "source": [
        "# TO-DO: stores features dataframe into variable called \"features\"\n",
        "features = encoded_df_reservations.drop('booking_status', axis=1)"
      ]
    },
    {
      "cell_type": "code",
      "execution_count": 201,
      "metadata": {
        "id": "tAuxd7Q2rbYO"
      },
      "outputs": [],
      "source": [
        "# TO-DO: store the classification target variable into \"target\"\n",
        "target = encoded_df_reservations['booking_status']"
      ]
    },
    {
      "cell_type": "markdown",
      "metadata": {
        "id": "Q4IK9S59ud0Q"
      },
      "source": [
        "Now, use scikit-learn's `train_test_split` function to split data for regression into train and test sets. The split should be 80-20 meaning 80% for training and rest for testing.\n",
        "\n",
        "**_IMPORTANT_:** Please set the `seed` variable to 42, then set the parameter to `random_state = seed`, and then finally store the resulting splits as `X_train, X_test, y_train,` and `y_test`."
      ]
    },
    {
      "cell_type": "code",
      "execution_count": 202,
      "metadata": {
        "id": "D48UmEtDEo0g"
      },
      "outputs": [],
      "source": [
        "# TO-DO: Assign appropriate value to seed and conduct 80/20 train-test split with random_state = seed\n",
        "seed = 42 \n",
        "X_train, X_test, y_train, y_test = train_test_split(features, target, random_state = seed, test_size = 0.2)"
      ]
    },
    {
      "cell_type": "code",
      "execution_count": 203,
      "metadata": {
        "colab": {
          "base_uri": "https://localhost:8080/"
        },
        "id": "Z4SMMl8JEqnT",
        "outputId": "24ad6ba6-3dee-48c0-eb68-6b86bdf9d8d3"
      },
      "outputs": [
        {
          "output_type": "stream",
          "name": "stdout",
          "text": [
            "Correct! You earned 4/4 points. You are a star!\n",
            "\n",
            "Your submission has been successfully recorded in the gradebook.\n"
          ]
        }
      ],
      "source": [
        "# Grader Cell (4 points)\n",
        "grader.grade(test_case_id = 'train_test_split_classification', answer = (X_train.shape, X_test.shape,\n",
        "                                                                         y_train.shape, y_test.shape,\n",
        "                                                                         seed, Counter(y_test)))"
      ]
    },
    {
      "cell_type": "markdown",
      "metadata": {
        "id": "IQid9KfyIN2-"
      },
      "source": [
        "### **1.4.2** Classification Models"
      ]
    },
    {
      "cell_type": "markdown",
      "metadata": {
        "id": "M1Vj9AkIIgpL"
      },
      "source": [
        "#### (a) Logistic Regression [2 pts]\n",
        "\n",
        "Fit a Logistic regression classifier on the `X_train` and `y_train` with the default hyperparameters. Calculate the accuracy of the model on the test set using the `score` method and store it in a variable named `log_acc`"
      ]
    },
    {
      "cell_type": "code",
      "execution_count": 204,
      "metadata": {
        "colab": {
          "base_uri": "https://localhost:8080/"
        },
        "id": "cS9UpoTmEsin",
        "outputId": "50a5abdf-31d1-4841-fa75-01c676b5df80"
      },
      "outputs": [
        {
          "output_type": "stream",
          "name": "stderr",
          "text": [
            "/usr/local/lib/python3.9/dist-packages/sklearn/linear_model/_logistic.py:458: ConvergenceWarning: lbfgs failed to converge (status=1):\n",
            "STOP: TOTAL NO. of ITERATIONS REACHED LIMIT.\n",
            "\n",
            "Increase the number of iterations (max_iter) or scale the data as shown in:\n",
            "    https://scikit-learn.org/stable/modules/preprocessing.html\n",
            "Please also refer to the documentation for alternative solver options:\n",
            "    https://scikit-learn.org/stable/modules/linear_model.html#logistic-regression\n",
            "  n_iter_i = _check_optimize_result(\n"
          ]
        }
      ],
      "source": [
        "# TO-DO: Import required libraries\n",
        "from sklearn.linear_model import LogisticRegression\n",
        "\n",
        "# TO-DO: Initialize model with default parameters and fit it on the training set\n",
        "log_reg = LogisticRegression()\n",
        "log_reg.fit(X_train, y_train)\n",
        "\n",
        "# TO-DO: Use the model to predict on the test set and save these predictions as `y_pred`\n",
        "y_pred = log_reg.predict(X_test)\n",
        "\n",
        "# TO-DO: Find the accuracy and store the value in `log_acc`\n",
        "log_acc = log_reg.score(X_test, y_test)\n"
      ]
    },
    {
      "cell_type": "code",
      "execution_count": 205,
      "metadata": {
        "colab": {
          "base_uri": "https://localhost:8080/"
        },
        "id": "EyfS-7oIF88y",
        "outputId": "b86552d2-c88d-4b33-9fb1-4690696c4d16"
      },
      "outputs": [
        {
          "output_type": "stream",
          "name": "stdout",
          "text": [
            "Correct! You earned 2/2 points. You are a star!\n",
            "\n",
            "Your submission has been successfully recorded in the gradebook.\n"
          ]
        }
      ],
      "source": [
        "# Grader Cell [2 points]\n",
        "grader.grade(test_case_id = 'check_log_clf', answer = log_acc)"
      ]
    },
    {
      "cell_type": "markdown",
      "metadata": {
        "id": "wgbNIcEFMch4"
      },
      "source": [
        "#### (b) Random Forest Classifier [3 pts]\n",
        "\n",
        "Fit a Random Forest classifier on the `X_train` and `y_train` with the following hyperparameters: \n",
        "- balanced class_weight\n",
        "- 120 estimators\n",
        "- maximum depth of 30\n",
        "- random seed set to 42\n",
        "\n",
        "Calculate the accuracy of the model on the test set using the `score` method and store it in a variable named `rf_acc`.\n",
        "Also, compute a [confusion matrix](https://scikit-learn.org/stable/modules/generated/sklearn.metrics.confusion_matrix.html) for your prediction and save it as `rf_confusion`."
      ]
    },
    {
      "cell_type": "code",
      "execution_count": 206,
      "metadata": {
        "id": "tk9YGVBVFTIe"
      },
      "outputs": [],
      "source": [
        "# TO-DO: Import required libraries\n",
        "from sklearn.metrics import confusion_matrix, accuracy_score\n",
        "from sklearn.ensemble import RandomForestClassifier\n",
        "\n",
        "# TO-DO: Initialize model with default parameters and fit it on the training set\n",
        "rf_def = RandomForestClassifier(class_weight = 'balanced', n_estimators=120, max_depth=30, random_state=42)\n",
        "rf_def.fit(X_train, y_train)\n",
        "# TO-DO: Use the model to predict on the test set and save these predictions as `y_pred`\n",
        "y_pred = rf_def.predict(X_test)\n",
        "\n",
        "# TO-DO: Find the accuracy and store the value in `rf_acc`\n",
        "rf_acc = accuracy_score(y_test,y_pred)\n",
        "\n",
        "# TO-DO: Compute the confusion matrix and save it to `rf_confusion`\n",
        "rf_confusion = confusion_matrix(y_test,y_pred)"
      ]
    },
    {
      "cell_type": "code",
      "execution_count": 207,
      "metadata": {
        "colab": {
          "base_uri": "https://localhost:8080/"
        },
        "id": "rlpS3wDEE9-T",
        "outputId": "619de4a8-6fdb-4afb-8b36-acdd4b6025dd"
      },
      "outputs": [
        {
          "output_type": "stream",
          "name": "stdout",
          "text": [
            "Correct! You earned 3/3 points. You are a star!\n",
            "\n",
            "Your submission has been successfully recorded in the gradebook.\n"
          ]
        }
      ],
      "source": [
        "# Grader Cell (3 points)\n",
        "grader.grade(test_case_id = 'check_rf_clf', answer = (rf_acc, rf_confusion))"
      ]
    },
    {
      "cell_type": "markdown",
      "metadata": {
        "id": "lbSul1eKNIVG"
      },
      "source": [
        "#### (c) PCA to Reduce Dimensionality [4 + 2 pts]\n",
        "\n",
        "The goal of Principal Component Analysis is to reduce number of dimensions of our features."
      ]
    },
    {
      "cell_type": "markdown",
      "metadata": {
        "id": "caGTeWhxNL3K"
      },
      "source": [
        "_**Initial PCA**_\n",
        "\n",
        "As a first step, instantiate the `PCA` class from scikit-learn and fit it on your training set. We are not reducing the dimensionality of our data in this step but rather trying to find what would be the ideal number of Principal Components to choose. So keep all Principal Components for this step\n",
        "\n",
        "Please remember that PCA is **not** scale-invariant! What does this imply you need to do first? This requires conceptual understanding to implement so make sure you _watched_ the corresponding lecture and recitation!\n",
        "\n",
        "<ins>WARNING</ins>: It is _CRITICALLY_ important that you understand the difference between the `.fit_transform`, `.fit` and `.transform` methods. This has been the most common mistake students have made in this homework, which has potentially made it more difficult for them. Without fully understanding this, those same students have gone on to make the same mistakes in the final exam and their project. We cannot emphasize this enough!"
      ]
    },
    {
      "cell_type": "code",
      "execution_count": 208,
      "metadata": {
        "id": "PuETOl5gQuNb"
      },
      "outputs": [],
      "source": [
        "# TO-DO: Import necessary libraries\n",
        "from sklearn.decomposition import PCA\n",
        "from sklearn.preprocessing import StandardScaler\n"
      ]
    },
    {
      "cell_type": "code",
      "execution_count": 209,
      "metadata": {
        "id": "D4us_KsqtN1Y"
      },
      "outputs": [],
      "source": [
        "# TO-DO: Intermediate step to address fac that PCA is not scale-invariant\n",
        "scaler = StandardScaler()\n",
        "scaler.fit(X_train)\n",
        "X_train_scaled = scaler.transform(X_train)\n",
        "X_test_scaled = scaler.transform(X_test)\n",
        "\n",
        "\n",
        "# TO-DO: Instantiate and Fit PCA\n",
        "pca = PCA(n_components=X_train_scaled.shape[1])\n",
        "pca_X_train = pca.fit_transform(X_train_scaled)"
      ]
    },
    {
      "cell_type": "markdown",
      "metadata": {
        "id": "oeJnO6EENQQq"
      },
      "source": [
        "_**Cumulative Explained Variance Ratios**_\n",
        "\n",
        "Create an array of explained variance ratios and store it into a variable called `explained_variance_ratios`. Also, calculate the _cumulative_ explained variance ratios and store that into another variable called `cum_evr`."
      ]
    },
    {
      "cell_type": "code",
      "execution_count": 210,
      "metadata": {
        "id": "_o9yURt1GLMs"
      },
      "outputs": [],
      "source": [
        "# TO-DO: Save the explained variance ratios into variable called \"explained_variance_ratios\"\n",
        "explained_variance_ratios = pca.explained_variance_ratio_\n",
        "\n",
        "# TO-DO: Save the CUMULATIVE explained variance ratios into variable called \"cum_evr\"\n",
        "cum_evr = np.cumsum(explained_variance_ratios)"
      ]
    },
    {
      "cell_type": "code",
      "execution_count": 211,
      "metadata": {
        "colab": {
          "base_uri": "https://localhost:8080/"
        },
        "id": "synUBPNMGY7e",
        "outputId": "a89c4c4c-a35e-4e32-f813-6449c8a3706e"
      },
      "outputs": [
        {
          "output_type": "stream",
          "name": "stdout",
          "text": [
            "Correct! You earned 2/2 points. You are a star!\n",
            "\n",
            "Your submission has been successfully recorded in the gradebook.\n"
          ]
        }
      ],
      "source": [
        "#Grader cell (2 points)\n",
        "grader.grade(test_case_id = 'check_pca_explained_variance', answer = (explained_variance_ratios, cum_evr))"
      ]
    },
    {
      "cell_type": "markdown",
      "metadata": {
        "id": "UNzvjLeTNZB-"
      },
      "source": [
        "Now plot the _cumulative_ `explained_variance_ratio` against the number of components to decide the number of components you should keep (this should look very similar to a visualization in lecture). Also add a horizontal line that represents the 80% of the variance as a threshold.\n",
        "\n",
        "As before, you should ensure that the plot follows the best practices you've developed over the past 2 plotting exercises in this HW (Labelling the axes and adding title to the plot, readability, etc.). **This will be manually graded for 2 points**\n",
        "\n",
        "_**CAUTION:** Recall that Python starts counting from 0, but this would make it very intuitive when reading from your graph. We strongly recommend that you modify the x-axis of your graph so that the **number of components begins at 1**. Otherwise, you may risk making silly mistakes in the subsequent sections._"
      ]
    },
    {
      "cell_type": "code",
      "execution_count": 212,
      "metadata": {
        "colab": {
          "base_uri": "https://localhost:8080/",
          "height": 472
        },
        "id": "FpuM4rGYNZ56",
        "outputId": "651a7bbe-ea53-4344-c60d-3103cf394730"
      },
      "outputs": [
        {
          "output_type": "display_data",
          "data": {
            "text/plain": [
              "<Figure size 640x480 with 1 Axes>"
            ],
            "image/png": "[encoded data removed]"
          },
          "metadata": {}
        }
      ],
      "source": [
        "# TO-DO: find optimal num components to use (n) by plotting explained variance ratio (2 points)\n",
        "plt.plot(np.arange(1, pca_X_train.shape[1]+1), np.cumsum(pca.explained_variance_ratio_))\n",
        "plt.plot(np.arange(1, pca_X_train.shape[1]+1), [0.80]*pca_X_train.shape[1])\n",
        "\n",
        "plt.title('PCA Cumulative ',fontweight='bold')\n",
        "plt.xlabel('Number of components')\n",
        "plt.ylabel('Cumulative explained variance ratio')\n",
        "\n",
        "plt.show()"
      ]
    },
    {
      "cell_type": "markdown",
      "metadata": {
        "id": "PIhrE2ILNmve"
      },
      "source": [
        "_**Final PCA**_\n",
        "\n",
        "Using your results above to help you decide the number of components to keep, choose a number (`n`) that explains **at least 80% of total variance** in the dataset. Then re-fit and transform your PCA on the training set using the number of components you decided.\n",
        "\n",
        "Remember that your PCA should be trained on the training set (`X_train`) but only transformed on the test set (`X_test`).\n",
        "\n",
        "Call your transformed set of principal components `X_test_pca` in order to submit it to the autograder."
      ]
    },
    {
      "cell_type": "code",
      "execution_count": 213,
      "metadata": {
        "id": "o3jrh59gGZ0s"
      },
      "outputs": [],
      "source": [
        "# TO-DO: Get transformed set of principal components on x_test\n",
        "\n",
        "# 1. Refit and transform on training with parameter n (as deduced from the last step) \n",
        "n = 17\n",
        "pca = PCA(n_components=17)\n",
        "pca_X_train = pca.fit_transform(X_train_scaled)\n",
        "# 2. Transform on Testing Set and store it as `X_test_pca`\n",
        "X_test_pca = pca.transform(X_test_scaled)\n"
      ]
    },
    {
      "cell_type": "code",
      "execution_count": 214,
      "metadata": {
        "colab": {
          "base_uri": "https://localhost:8080/"
        },
        "id": "QlIUmcW5Gl0M",
        "outputId": "438eee79-693d-444f-d1d9-7ca3cffbd076"
      },
      "outputs": [
        {
          "output_type": "stream",
          "name": "stdout",
          "text": [
            "Correct! You earned 2/2 points. You are a star!\n",
            "\n",
            "Your submission has been successfully recorded in the gradebook.\n"
          ]
        }
      ],
      "source": [
        "# Grader cell (2 points)\n",
        "grader.grade(test_case_id = 'check_fitted_pca', answer = X_test_pca)"
      ]
    },
    {
      "cell_type": "markdown",
      "metadata": {
        "id": "TzIlLTj0Nq92"
      },
      "source": [
        "#### (d) Logistic Regression with PCA [4 pts]\n",
        "\n",
        "1. Fit the logistic regression on your Final Principal Components data using your optimal `n`. Name the model `log_reg_pca`\n",
        "2. Make predictions on the **test** set and store this as `y_pred`.\n",
        "3. Report accuracy for the **test** set and call it `test_accuracy`"
      ]
    },
    {
      "cell_type": "code",
      "execution_count": 215,
      "metadata": {
        "id": "z5w5ZgkAGoXh"
      },
      "outputs": [],
      "source": [
        "# TO-DO: Initialize `log_reg_pca` model with default parameters and fit it on the PCA transformed training set\n",
        "log_reg_pca = LogisticRegression()\n",
        "log_reg_pca.fit(pca_X_train,y_train)\n",
        "\n",
        "# TO-DO: Use the model to predict on the PCA transformed test set and save these predictions as `y_pred`\n",
        "y_pred = log_reg_pca.predict(X_test_pca)\n",
        "\n",
        "# TO-DO: Find the accuracy and store the value in `test_accuracy`\n",
        "test_accuracy = log_reg_pca.score(X_test_pca, y_test)"
      ]
    },
    {
      "cell_type": "code",
      "execution_count": 216,
      "metadata": {
        "colab": {
          "base_uri": "https://localhost:8080/"
        },
        "id": "WVrpOF6NHDVX",
        "outputId": "d699d7c0-937b-4884-88f6-16d9ba0f3d15"
      },
      "outputs": [
        {
          "output_type": "stream",
          "name": "stdout",
          "text": [
            "Correct! You earned 4/4 points. You are a star!\n",
            "\n",
            "Your submission has been successfully recorded in the gradebook.\n"
          ]
        }
      ],
      "source": [
        "# Grader (4 points)\n",
        "grader.grade(test_case_id = 'check_log_reg_pca', answer = (test_accuracy, log_reg_pca.n_features_in_, y_pred))"
      ]
    },
    {
      "cell_type": "markdown",
      "metadata": {
        "id": "tYGjFnJ8kfaK"
      },
      "source": [
        "### **1.4.3.0** Regression: Split Data into Train and Test [4 pts]\n",
        "\n",
        "\n",
        "**Task:** \n",
        " We will be predicting `avg_price_per_room` for regression models.\n",
        "\n",
        " Drop the columns: `'arrival_year'`,`arrival_month`, `'arrival_date'`,`'no_of_previous_cancellations'`, `'no_of_previous_bookings_not_canceled'` `'booking_status'` \n",
        " from `encoded_df_reservations` and save the dataframe to `reg_df_reservations`. Then, use scikit-learn's `train_test_split` function to split data for regression into train and test sets. The split should be 80-20 meaning 80% for training and rest for testing.\n",
        "\n",
        "\n",
        "**_IMPORTANT_: Please set the `seed` variable to 42 and then set the parameter to `random_state = seed`** and store the resulting splits as `X_train, X_test, y_train,` and `y_test`."
      ]
    },
    {
      "cell_type": "code",
      "execution_count": 271,
      "metadata": {
        "id": "NzF_JNnEhvBC"
      },
      "outputs": [],
      "source": [
        "# TO-DO: drop arrival_year, arrival_month, arrival_date, no_of_previous_cancellations, no_of_previous_bookings_not_canceled,booking_status\n",
        "reg_df_reservations = encoded_df_reservations.drop(['arrival_year', 'arrival_month', 'arrival_date','no_of_previous_cancellations', 'no_of_previous_bookings_not_canceled','booking_status'], axis =1)\n",
        "# TO-DO: save the dataframe to reg_df_reservations"
      ]
    },
    {
      "cell_type": "code",
      "execution_count": 272,
      "metadata": {
        "id": "5f8a8uTcmTSV"
      },
      "outputs": [],
      "source": [
        "# TO-DO: stores features dataframe into variable called \"features\"\n",
        "features = reg_df_reservations.drop(['avg_price_per_room'], axis = 1)\n",
        "\n",
        "# TO-DO: store the classification target variable  (`avg_price_per_room`) into \"target\"\n",
        "target = reg_df_reservations['avg_price_per_room']\n"
      ]
    },
    {
      "cell_type": "code",
      "execution_count": 273,
      "metadata": {
        "id": "Z5rG25VRkfaL"
      },
      "outputs": [],
      "source": [
        "# TO-DO: Assign appropriate value to seed and conduct 80/20 train-test split with random_state = seed\n",
        "seed = 42\n",
        "X_train, X_test, y_train, y_test = train_test_split(features, target, random_state = seed, test_size = 0.2)"
      ]
    },
    {
      "cell_type": "code",
      "execution_count": 274,
      "metadata": {
        "colab": {
          "base_uri": "https://localhost:8080/"
        },
        "id": "FfU3m6MNkfaL",
        "outputId": "e84bed84-62db-4d36-9056-ecb0db4bb81a"
      },
      "outputs": [
        {
          "output_type": "stream",
          "name": "stdout",
          "text": [
            "Correct! You earned 4/4 points. You are a star!\n",
            "\n",
            "Your submission has been successfully recorded in the gradebook.\n"
          ]
        }
      ],
      "source": [
        "# Grader cell (4 points)\n",
        "grader.grade(test_case_id = 'train_test_split_regression', answer = (X_train.shape, X_test.shape,\n",
        "                                                                     y_train.shape, y_test.shape,\n",
        "                                                                     seed, len([i for i in y_test if i < 100])))"
      ]
    },
    {
      "cell_type": "markdown",
      "metadata": {
        "id": "NGlb6tnNcKO-"
      },
      "source": [
        "### **1.4.3.1** Regression Models\n",
        "\n",
        "In this section, we will switch from classification models to regression models.\n",
        "\n",
        "Let's use the features we created in 1.4.3.0 to create regression models and predict the **average price per room**."
      ]
    },
    {
      "cell_type": "markdown",
      "metadata": {
        "id": "kS06q6k8UosE"
      },
      "source": [
        "#### (a) Linear Regression (Unregularized) [5 pts]\n",
        "\n",
        "Use the `LinearRegression` class in scikit-learn to perform Linear Regression. Initialize a Linear regression model named `reg` with default parameters, fit the model to the training set, and then make predictions on the testing set.\n",
        "\n",
        "Save your predictions in an array named `y_pred`, and report your R-squared score (saved it as a variable called `lin_reg_score`)."
      ]
    },
    {
      "cell_type": "code",
      "execution_count": 222,
      "metadata": {
        "id": "6PCTGcGEokY2"
      },
      "outputs": [],
      "source": [
        "# TO-DO: Import required libraries\n",
        "from sklearn.linear_model import LinearRegression\n",
        "\n",
        "# TO-DO: Initialize model with default parameters and fit it on the training set\n",
        "reg = LinearRegression()\n",
        "reg.fit(X_train,y_train)\n",
        "# TO-DO: Use the model to predict on the test set and save these predictions as `y_pred`\n",
        "y_pred = reg.predict(X_test)\n",
        "\n",
        "# TO-DO: Find the R-squared score and store the value in `lin_reg_score`\n",
        "lin_reg_score = reg.score(X_test,y_test)"
      ]
    },
    {
      "cell_type": "code",
      "execution_count": 223,
      "metadata": {
        "colab": {
          "base_uri": "https://localhost:8080/"
        },
        "id": "YCABLR7TokV4",
        "outputId": "80aba02f-67de-439b-cd12-85bd3e345c49"
      },
      "outputs": [
        {
          "output_type": "stream",
          "name": "stdout",
          "text": [
            "Correct! You earned 5/5 points. You are a star!\n",
            "\n",
            "Your submission has been successfully recorded in the gradebook.\n"
          ]
        }
      ],
      "source": [
        "# Grader (5 points)\n",
        "grader.grade(test_case_id = 'check_linear_reg', answer = (lin_reg_score, reg.coef_, reg.intercept_))"
      ]
    },
    {
      "cell_type": "markdown",
      "metadata": {
        "id": "G7EV4dpDcKO_"
      },
      "source": [
        "#### (b) Ridge Regression [2 pts]\n",
        "\n",
        "Use the `Ridge` class in scikit-learn to perform $L_2$ Regularized Linear Regression. Initialize a Ridge regression model named `reg_ridge` with regularization strength `alpha = 10`, fit the model to the training set, and then make predictions on the testing set.\n",
        "\n",
        "**Note:** Recall that Ridge regression is not scale-invariant, so you will need to standardize the features prior to modeling.\n",
        "\n",
        "Report your $R^2$ score and save it as a variable called `ridge_score`."
      ]
    },
    {
      "cell_type": "code",
      "execution_count": 224,
      "metadata": {
        "id": "pUi11tA3zCUe"
      },
      "outputs": [],
      "source": [
        "# TO-DO: Intermediate step to address scale-invariance\n",
        "from sklearn.preprocessing import StandardScaler\n",
        "scaler = StandardScaler()\n",
        "X_train_scaled = scaler.fit_transform(X_train)\n",
        "X_test_scaled = scaler.transform(X_test)"
      ]
    },
    {
      "cell_type": "code",
      "execution_count": 277,
      "metadata": {
        "id": "tng1e7myy9gn"
      },
      "outputs": [],
      "source": [
        "# TO-DO: Import required libraries\n",
        "from sklearn.linear_model import Ridge\n",
        "\n",
        "# TO-DO: Initialize model with alpha = 10 (keep other hyperparameters as default values) and fit it on the training set\n",
        "reg_ridge = Ridge(alpha=10)\n",
        "reg_ridge.fit(X_train_scaled, y_train)\n",
        "# TO-DO: Use the model to predict on the test set and save these predictions as `y_pred`\n",
        "y_pred_ridge = reg_ridge.predict(X_test_scaled)\n",
        "\n",
        "# TO-DO: Find the R-squared score and store the value in `ridge_score`\n",
        "ridge_score = reg_ridge.score(X_test_scaled, y_test)"
      ]
    },
    {
      "cell_type": "code",
      "execution_count": 278,
      "metadata": {
        "colab": {
          "base_uri": "https://localhost:8080/"
        },
        "id": "ytmTMU7Z0jxo",
        "outputId": "01d9bea1-783d-4e0f-99fa-598a5e8260f8"
      },
      "outputs": [
        {
          "output_type": "stream",
          "name": "stdout",
          "text": [
            "Correct! You earned 2/2 points. You are a star!\n",
            "\n",
            "Your submission has been successfully recorded in the gradebook.\n"
          ]
        }
      ],
      "source": [
        "# Grader (2 points)\n",
        "grader.grade(test_case_id = 'check_ridge_reg', answer = (ridge_score, reg_ridge.alpha))"
      ]
    },
    {
      "cell_type": "markdown",
      "metadata": {
        "id": "A1Cl9DePQzfq"
      },
      "source": [
        "_**Exam-Style Practice Questions:**_\n",
        "\n",
        "_(While we will NOT grade this for the purpose of the HW, it is in your best interest to take just 30-60 seconds to think about this as I may very well put something similar in the final exam!_ 😉_)_\n",
        "\n",
        "- What do you notice about the $R^2$ scores of the Ridge and unregularized Linear Regression above?\n",
        "- If Ridge is supposed to \"improve\" Linear Regression, we may find it unusual if that is not happening here. Under what circumstances would we consider using Ridge over unregularized Linear Regression?\n",
        "- Would you expect different results if we made `alpha` bigger ($\\alpha \\rightarrow \\infty$)? smaller ($\\alpha \\rightarrow 0$)? Why or why not?"
      ]
    },
    {
      "cell_type": "markdown",
      "metadata": {
        "id": "dRb_Kzn1pZBD"
      },
      "source": [
        "#### (c) Random Forest Regression [3 pts]\n",
        "\n",
        "From the results of linear regression and ridge linear regression, we see a linear model may not be ideal for this regression problem. We want a model that can capture the complex relationship between the target variable and the features. Fortunately, we have access to ensemble methods, which combine multiple simple models to improve performance. We will explore the bagging algorithm called Random Forest Regressor using scikit-learn.\n",
        "\n",
        "Use the `RandomForestRegressor` class in Scikit-learn's ensemble library to perform Random Forest Regression. Initialize a Random Forest regression model named `reg_rf`, fit the model to the training set, and then make predictions on the testing set.\n",
        "\n",
        "Report your R-squared score and save it as a variable called `rfr_score`, set random state to 42"
      ]
    },
    {
      "cell_type": "code",
      "execution_count": 227,
      "metadata": {
        "id": "zSqhgdjqokTa"
      },
      "outputs": [],
      "source": [
        "# TO-DO: Import required libraries\n",
        "from sklearn.ensemble import RandomForestRegressor\n",
        "from sklearn.metrics import r2_score\n",
        "# TO-DO: Initialize model with default parameters and fit it on the training set\n",
        "reg_rf = RandomForestRegressor(random_state = 42)\n",
        "reg_rf.fit(X_train, y_train)\n",
        "\n",
        "# TO-DO: Use the model to predict on the test set and save these predictions as `y_pred`\n",
        "y_pred = reg_rf.predict(X_test)\n",
        "\n",
        "# TO-DO: Find the R-squared score and store the value in `rfr_score`\n",
        "rfr_score = r2_score(y_test, y_pred)"
      ]
    },
    {
      "cell_type": "code",
      "execution_count": 228,
      "metadata": {
        "colab": {
          "base_uri": "https://localhost:8080/"
        },
        "id": "vkJoI5QTpID8",
        "outputId": "a52becb6-4407-4462-e227-f0a5904edb2c"
      },
      "outputs": [
        {
          "output_type": "stream",
          "name": "stdout",
          "text": [
            "Correct! You earned 3/3 points. You are a star!\n",
            "\n",
            "Your submission has been successfully recorded in the gradebook.\n"
          ]
        }
      ],
      "source": [
        "# Grader (3 points)\n",
        "grader.grade(test_case_id = 'check_rf_reg', answer = (rfr_score, reg_rf.feature_names_in_, reg_rf.n_outputs_, y_pred))"
      ]
    },
    {
      "cell_type": "markdown",
      "metadata": {
        "id": "iX1UkLEjk7U_"
      },
      "source": [
        "### **1.4.4** K-Means Clustering\n",
        "\n",
        "K-means clustering is a popular unsupervised machine learning algorithm that is used for grouping similar data points into a predetermined number of clusters. It is a simple and effective algorithm that is widely used in various fields such as image processing, recommendation systems, and customer segmentation.\n",
        "\n",
        "An elbow plot is a visualization tool used to determine the optimal number of clusters for a dataset. It plots the within-cluster sum of squares (WCSS) against the number of clusters. WCSS is the sum of the squared distance between each data point and its assigned centroid. The elbow plot helps you to choose the number of clusters that minimize the WCSS while avoiding overfitting.\n",
        "\n",
        "Please refer to [this document](https://scikit-learn.org/stable/modules/generated/sklearn.cluster.KMeans.html) to find out how to compute the sum of squared distances\n",
        "\n",
        "**We will be using the same features from the <ins>classification</ins> setting.\n",
        "To determine the best $k$ for the clustering, let's firstly generate an elbow plot.**\n",
        "- Consider number of clusters from 2 to 10\n",
        "- Set parameter `n_init` to 5.\n",
        "- Set random seed to 0\n",
        "\n",
        "**The elbow plot (4 points) will be manully graded**\n",
        "- x-axis is the \"number of clusters\", i.e. \"k\".\n",
        "- y-axis is the within-cluster sum of squares (WCSS) value\n",
        "- add proper titles for the plot and axis.\n",
        "\n",
        "Note that standardizing the data before performing k-means clustering is often recommended, but for illustration purpose, we do not standardize the input in this section."
      ]
    },
    {
      "cell_type": "markdown",
      "metadata": {
        "id": "nTF8RcWHtJf1"
      },
      "source": [
        "#### (a) Find the best number of clusters with the elbow plot [4 + 3 pts]"
      ]
    },
    {
      "cell_type": "code",
      "execution_count": 229,
      "metadata": {
        "id": "XXEC7Ab9k_4W"
      },
      "outputs": [],
      "source": [
        "# TO-DO: Prepare the data (the same features from the classification setting, i.e. excluding \"booking_status\")\n",
        "# stores features dataframe into variable called \"features\"\n",
        "features = encoded_df_reservations.drop(['booking_status'], axis = 1)"
      ]
    },
    {
      "cell_type": "code",
      "execution_count": 230,
      "metadata": {
        "id": "frRJFXs9m-NT",
        "colab": {
          "base_uri": "https://localhost:8080/",
          "height": 472
        },
        "outputId": "ab503dde-dc94-4d0f-b1df-d2f41dc2a976"
      },
      "outputs": [
        {
          "output_type": "display_data",
          "data": {
            "text/plain": [
              "<Figure size 640x480 with 1 Axes>"
            ],
            "image/png": "[encoded data removed]"
          },
          "metadata": {}
        }
      ],
      "source": [
        "# Import the necessary libraries\n",
        "from sklearn.cluster import KMeans\n",
        "import matplotlib.pyplot as plt\n",
        "\n",
        "# TO-DO: [MANUALLY GRADED: 4 points]\n",
        "#   for k ranges from 2 to 10, fit on \"features\" to generate an elbow plot\n",
        "\n",
        "# Create a list to store the WCSS \n",
        "wcss = []\n",
        "\n",
        "# Perform K-means clustering for each k value and compute the WCSS\n",
        "for i in range(2, 11):\n",
        "    kmeans = KMeans(n_clusters = i, n_init=5, random_state=0)\n",
        "    kmeans.fit(features)\n",
        "    wcss.append(kmeans.inertia_)\n",
        "\n",
        "# Plot the elbow curve\n",
        "plt.plot(range(2,11), wcss, marker='o')\n",
        "plt.xlabel('Number of clusters')\n",
        "plt.ylabel('Within-cluster sum of squares')\n",
        "plt.title('Elbow Plot')\n",
        "plt.show()\n"
      ]
    },
    {
      "cell_type": "code",
      "execution_count": 231,
      "metadata": {
        "id": "DMZqEOq7rW95",
        "colab": {
          "base_uri": "https://localhost:8080/"
        },
        "outputId": "610add64-556c-4f37-9ab3-6a5cf3e52f03"
      },
      "outputs": [
        {
          "output_type": "execute_result",
          "data": {
            "text/plain": [
              "[123995820.58992885,\n",
              " 83029184.2830323,\n",
              " 62709569.20968771,\n",
              " 48493035.86965159,\n",
              " 43323622.11187718,\n",
              " 38616627.06351603,\n",
              " 34737045.9894306,\n",
              " 31174476.481427513,\n",
              " 27911481.847818397]"
            ]
          },
          "metadata": {},
          "execution_count": 231
        }
      ],
      "source": [
        "# TO-DO: choose the best number of clusters (the elbow) and fill in\n",
        "number_of_cluster = 5\n",
        "\n",
        "# TO-DO: fill in the sum of squared distances for the best number of clusters\n",
        "wcss_elbow = wcss[3]\n",
        "wcss"
      ]
    },
    {
      "cell_type": "code",
      "execution_count": 232,
      "metadata": {
        "id": "yAVyIyXssIuf",
        "colab": {
          "base_uri": "https://localhost:8080/"
        },
        "outputId": "9141e107-91bb-433f-a6f3-3aac91456fc6"
      },
      "outputs": [
        {
          "output_type": "stream",
          "name": "stdout",
          "text": [
            "Correct! You earned 3/3 points. You are a star!\n",
            "\n",
            "Your submission has been successfully recorded in the gradebook.\n"
          ]
        }
      ],
      "source": [
        "# Grader (3 points)\n",
        "grader.grade(test_case_id = 'kmeans_elbow', answer = (number_of_cluster, wcss_elbow))"
      ]
    },
    {
      "cell_type": "markdown",
      "metadata": {
        "id": "EQLHFhzds7BC"
      },
      "source": [
        "#### (b) Re-fit with the best number of clusters [3 pts]"
      ]
    },
    {
      "cell_type": "code",
      "execution_count": 233,
      "metadata": {
        "id": "WUcjqzqxszye",
        "colab": {
          "base_uri": "https://localhost:8080/",
          "height": 75
        },
        "outputId": "59e8e803-a943-45a9-f2fb-828f8dfe45cf"
      },
      "outputs": [
        {
          "output_type": "execute_result",
          "data": {
            "text/plain": [
              "KMeans(n_clusters=5, n_init=5, random_state=0)"
            ],
            "text/html": [
              "<style>#sk-container-id-2 {color: black;background-color: white;}#sk-container-id-2 pre{padding: 0;}#sk-container-id-2 div.sk-toggleable {background-color: white;}#sk-container-id-2 label.sk-toggleable__label {cursor: pointer;display: block;width: 100%;margin-bottom: 0;padding: 0.3em;box-sizing: border-box;text-align: center;}#sk-container-id-2 label.sk-toggleable__label-arrow:before {content: \"▸\";float: left;margin-right: 0.25em;color: #696969;}#sk-container-id-2 label.sk-toggleable__label-arrow:hover:before {color: black;}#sk-container-id-2 div.sk-estimator:hover label.sk-toggleable__label-arrow:before {color: black;}#sk-container-id-2 div.sk-toggleable__content {max-height: 0;max-width: 0;overflow: hidden;text-align: left;background-color: #f0f8ff;}#sk-container-id-2 div.sk-toggleable__content pre {margin: 0.2em;color: black;border-radius: 0.25em;background-color: #f0f8ff;}#sk-container-id-2 input.sk-toggleable__control:checked~div.sk-toggleable__content {max-height: 200px;max-width: 100%;overflow: auto;}#sk-container-id-2 input.sk-toggleable__control:checked~label.sk-toggleable__label-arrow:before {content: \"▾\";}#sk-container-id-2 div.sk-estimator input.sk-toggleable__control:checked~label.sk-toggleable__label {background-color: #d4ebff;}#sk-container-id-2 div.sk-label input.sk-toggleable__control:checked~label.sk-toggleable__label {background-color: #d4ebff;}#sk-container-id-2 input.sk-hidden--visually {border: 0;clip: rect(1px 1px 1px 1px);clip: rect(1px, 1px, 1px, 1px);height: 1px;margin: -1px;overflow: hidden;padding: 0;position: absolute;width: 1px;}#sk-container-id-2 div.sk-estimator {font-family: monospace;background-color: #f0f8ff;border: 1px dotted black;border-radius: 0.25em;box-sizing: border-box;margin-bottom: 0.5em;}#sk-container-id-2 div.sk-estimator:hover {background-color: #d4ebff;}#sk-container-id-2 div.sk-parallel-item::after {content: \"\";width: 100%;border-bottom: 1px solid gray;flex-grow: 1;}#sk-container-id-2 div.sk-label:hover label.sk-toggleable__label {background-color: #d4ebff;}#sk-container-id-2 div.sk-serial::before {content: \"\";position: absolute;border-left: 1px solid gray;box-sizing: border-box;top: 0;bottom: 0;left: 50%;z-index: 0;}#sk-container-id-2 div.sk-serial {display: flex;flex-direction: column;align-items: center;background-color: white;padding-right: 0.2em;padding-left: 0.2em;position: relative;}#sk-container-id-2 div.sk-item {position: relative;z-index: 1;}#sk-container-id-2 div.sk-parallel {display: flex;align-items: stretch;justify-content: center;background-color: white;position: relative;}#sk-container-id-2 div.sk-item::before, #sk-container-id-2 div.sk-parallel-item::before {content: \"\";position: absolute;border-left: 1px solid gray;box-sizing: border-box;top: 0;bottom: 0;left: 50%;z-index: -1;}#sk-container-id-2 div.sk-parallel-item {display: flex;flex-direction: column;z-index: 1;position: relative;background-color: white;}#sk-container-id-2 div.sk-parallel-item:first-child::after {align-self: flex-end;width: 50%;}#sk-container-id-2 div.sk-parallel-item:last-child::after {align-self: flex-start;width: 50%;}#sk-container-id-2 div.sk-parallel-item:only-child::after {width: 0;}#sk-container-id-2 div.sk-dashed-wrapped {border: 1px dashed gray;margin: 0 0.4em 0.5em 0.4em;box-sizing: border-box;padding-bottom: 0.4em;background-color: white;}#sk-container-id-2 div.sk-label label {font-family: monospace;font-weight: bold;display: inline-block;line-height: 1.2em;}#sk-container-id-2 div.sk-label-container {text-align: center;}#sk-container-id-2 div.sk-container {/* jupyter's `normalize.less` sets `[hidden] { display: none; }` but bootstrap.min.css set `[hidden] { display: none !important; }` so we also need the `!important` here to be able to override the default hidden behavior on the sphinx rendered scikit-learn.org. See: https://github.com/scikit-learn/scikit-learn/issues/21755 */display: inline-block !important;position: relative;}#sk-container-id-2 div.sk-text-repr-fallback {display: none;}</style><div id=\"sk-container-id-2\" class=\"sk-top-container\"><div class=\"sk-text-repr-fallback\"><pre>KMeans(n_clusters=5, n_init=5, random_state=0)</pre><b>In a Jupyter environment, please rerun this cell to show the HTML representation or trust the notebook. <br />On GitHub, the HTML representation is unable to render, please try loading this page with nbviewer.org.</b></div><div class=\"sk-container\" hidden><div class=\"sk-item\"><div class=\"sk-estimator sk-toggleable\"><input class=\"sk-toggleable__control sk-hidden--visually\" id=\"sk-estimator-id-2\" type=\"checkbox\" checked><label for=\"sk-estimator-id-2\" class=\"sk-toggleable__label sk-toggleable__label-arrow\">KMeans</label><div class=\"sk-toggleable__content\"><pre>KMeans(n_clusters=5, n_init=5, random_state=0)</pre></div></div></div></div></div>"
            ]
          },
          "metadata": {},
          "execution_count": 233
        }
      ],
      "source": [
        "# TO-DO: re-run the K-Means clustering with the best number of clusters, save the fitted model to `kmeans`\n",
        "kmeans = KMeans(n_clusters = 5, n_init = 5, random_state = 0)\n",
        "kmeans.fit(features)"
      ]
    },
    {
      "cell_type": "code",
      "execution_count": 234,
      "metadata": {
        "id": "vF9gZHL6tkuo",
        "colab": {
          "base_uri": "https://localhost:8080/"
        },
        "outputId": "79e432a7-949d-4850-b3fd-b47911f455b3"
      },
      "outputs": [
        {
          "output_type": "stream",
          "name": "stdout",
          "text": [
            "Correct! You earned 3/3 points. You are a star!\n",
            "\n",
            "Your submission has been successfully recorded in the gradebook.\n"
          ]
        }
      ],
      "source": [
        "# Grader (3 points)\n",
        "grader.grade(test_case_id = 'refit_kmeans', answer = (Counter(kmeans.labels_), kmeans.n_features_in_))"
      ]
    },
    {
      "cell_type": "markdown",
      "metadata": {
        "id": "nyURjOkMcKPD"
      },
      "source": [
        "# **Part II:** Distributed Machine Learning with Spark (35  points)\n",
        "\n",
        "Apache Spark ML is a machine learning library that consists of common learning algorithms and utilities, including classification, regression, clustering, collaborative filtering, dimensionality reduction, and underlying optimization primitives.\n",
        "\n",
        "**Why Spark ML?**\n",
        "\n",
        "Moving to the Big Data Era requires heavy iterative computations on very large datasets. Standard implementations of machine learning algorithms require very powerful machines to be able to run. However, depending on high-end machines is not advantageous due to their high price and improper costs of scaling up. The idea of using distributed computing engines is to distribute the calculations to multiple low-end machines (commodity hardware) instead of a single high-end one. _This **definitely speeds up** the learning phase and allows us to create better models._\n",
        "\n",
        "Read more about it with the python documentation **[here](https://spark.apache.org/docs/latest/ml-guide.html)**.\n",
        "\n",
        "Run the code below to set up Spark.\n",
        "\n",
        "## _PENALTY WARNING_:\n",
        "We will very carefully go through the code in your notebook for this HW. Any student caught trying anything devious like using sklearn to avoid using SparkML in this section will get a **ZERO**."
      ]
    },
    {
      "cell_type": "markdown",
      "metadata": {
        "id": "PY9ShBxkOQT0"
      },
      "source": [
        "**Note:** The cell below may take upto **4-5 minutes** to run so be patient!"
      ]
    },
    {
      "cell_type": "code",
      "execution_count": 235,
      "metadata": {
        "id": "9Eo8fwt8OcMa"
      },
      "outputs": [],
      "source": [
        "%%capture\n",
        "\n",
        "!apt install libkrb5-dev\n",
        "!wget https://downloads.apache.org/spark/spark-3.1.2/spark-3.1.2-bin-hadoop3.2.tgz\n",
        "!tar xf spark-3.1.2-bin-hadoop3.2.tgz\n",
        "!pip install findspark\n",
        "!pip install sparkmagic\n",
        "!pip install pyspark\n",
        "! pip install pyspark --user\n",
        "! pip install seaborn --user\n",
        "! pip install plotly --user\n",
        "! pip install imageio --user\n",
        "! pip install folium --user"
      ]
    },
    {
      "cell_type": "code",
      "execution_count": 236,
      "metadata": {
        "id": "lwqTpkc3Ogz3",
        "colab": {
          "base_uri": "https://localhost:8080/"
        },
        "outputId": "31a318a4-ea2c-439c-d545-da8c72084776"
      },
      "outputs": [
        {
          "output_type": "stream",
          "name": "stderr",
          "text": [
            "/usr/local/lib/python3.9/dist-packages/pyspark/sql/context.py:112: FutureWarning: Deprecated in 3.0.0. Use SparkSession.builder.getOrCreate() instead.\n",
            "  warnings.warn(\n"
          ]
        }
      ],
      "source": [
        "import pyspark\n",
        "from pyspark.sql import SQLContext\n",
        "from pyspark.sql import SparkSession\n",
        "from pyspark.sql.types import *\n",
        "import pyspark.sql.functions as F\n",
        "\n",
        "spark = SparkSession.builder.appName('bigdata-hw4').getOrCreate()\n",
        "sqlContext = SQLContext(spark)"
      ]
    },
    {
      "cell_type": "code",
      "execution_count": 237,
      "metadata": {
        "id": "WAjmBWz7Oqs0",
        "colab": {
          "base_uri": "https://localhost:8080/"
        },
        "outputId": "eeb95ee1-6914-43be-a3e3-454eb33f3df7"
      },
      "outputs": [
        {
          "output_type": "stream",
          "name": "stdout",
          "text": [
            "The sparkmagic.magics extension is already loaded. To reload it, use:\n",
            "  %reload_ext sparkmagic.magics\n"
          ]
        }
      ],
      "source": [
        "%load_ext sparkmagic.magics"
      ]
    },
    {
      "cell_type": "code",
      "execution_count": 238,
      "metadata": {
        "id": "TfQ72cpUOr3l"
      },
      "outputs": [],
      "source": [
        "# Graph section\n",
        "import networkx as nx\n",
        "\n",
        "# SQLite RDBMS\n",
        "import sqlite3\n",
        "\n",
        "import os\n",
        "os.environ['SPARK_HOME'] = '/content/spark-3.1.2-bin-hadoop3.2'\n",
        "os.environ[\"JAVA_HOME\"] = \"/usr/lib/jvm/java-8-openjdk-amd64\""
      ]
    },
    {
      "cell_type": "markdown",
      "metadata": {
        "id": "6F4x_ia7RGyp"
      },
      "source": [
        "## **2.1** Initializing Spark Data [Total: 2 Points]\n",
        "\n",
        "We have the Spark setup ready, and we now need the data for our ML algorithms. We will use the data you processed in Part I, but in Spark. "
      ]
    },
    {
      "cell_type": "markdown",
      "metadata": {
        "id": "WYTG07Kq4E82"
      },
      "source": [
        "### **2.1.0** Converting the Pandas Dataframe into a Spark Dataframe\n",
        "\n",
        "Read the `encoded_df_reservations` that you created in Part I into a Spark dataframe (`sdf`) and name the SDF as `reservations_sdf`. \\\\\n",
        "**Note:** Just like Part I, the target variable (label) for this section will be `\"booking_status\"`."
      ]
    },
    {
      "cell_type": "code",
      "execution_count": 239,
      "metadata": {
        "id": "UQtC3kw7rf1V"
      },
      "outputs": [],
      "source": [
        "#TO-DO: Read encoded_df_reservations into a Spark Dataframe called reservations_sdf\n",
        "reservations_sdf = spark.createDataFrame(encoded_df_reservations)"
      ]
    },
    {
      "cell_type": "markdown",
      "metadata": {
        "id": "ywmJD03O0Zas"
      },
      "source": [
        "Print out the Dataframe Schema and verify the datatypes. If you did everything correctly so far, the schema should be:\n",
        "```\n",
        "root\n",
        " |-- no_of_adults: long (nullable = true)\n",
        " |-- no_of_children: long (nullable = true)\n",
        " |-- no_of_weekend_nights: long (nullable = true)\n",
        " |-- no_of_week_nights: long (nullable = true)\n",
        " |-- required_car_parking_space: long (nullable = true)\n",
        " |-- lead_time: long (nullable = true)\n",
        " |-- arrival_year: long (nullable = true)\n",
        " |-- arrival_month: long (nullable = true)\n",
        " |-- arrival_date: long (nullable = true)\n",
        " |-- repeated_guest: long (nullable = true)\n",
        " |-- no_of_previous_cancellations: long (nullable = true)\n",
        " |-- no_of_previous_bookings_not_canceled: long (nullable = true)\n",
        " |-- avg_price_per_room: double (nullable = true)\n",
        " |-- no_of_special_requests: long (nullable = true)\n",
        " |-- booking_status: double (nullable = true)\n",
        " |-- type_of_meal_plan_Meal Plan 1: long (nullable = true)\n",
        " |-- type_of_meal_plan_Meal Plan 2: long (nullable = true)\n",
        " |-- type_of_meal_plan_Meal Plan 3: long (nullable = true)\n",
        " |-- type_of_meal_plan_Not Selected: long (nullable = true)\n",
        " |-- room_type_reserved_Room_Type 1: long (nullable = true)\n",
        " |-- room_type_reserved_Room_Type 2: long (nullable = true)\n",
        " |-- room_type_reserved_Room_Type 3: long (nullable = true)\n",
        " |-- room_type_reserved_Room_Type 4: long (nullable = true)\n",
        " |-- room_type_reserved_Room_Type 5: long (nullable = true)\n",
        " |-- room_type_reserved_Room_Type 6: long (nullable = true)\n",
        " |-- room_type_reserved_Room_Type 7: long (nullable = true)\n",
        " |-- market_segment_type_Aviation: long (nullable = true)\n",
        " |-- market_segment_type_Complementary: long (nullable = true)\n",
        " |-- market_segment_type_Corporate: long (nullable = true)\n",
        " |-- market_segment_type_Offline: long (nullable = true)\n",
        " |-- market_segment_type_Online: long (nullable = true)\n",
        "```\n",
        "\n",
        "**Note:** Especially ensure that the target variable is of the datatype `double`. Cast it to the correct datatype, if needed."
      ]
    },
    {
      "cell_type": "code",
      "execution_count": null,
      "metadata": {
        "id": "URd9g_An0qVY"
      },
      "outputs": [],
      "source": [
        "# TO-DO: Verify that the schema of your Spark dataframe matches the above\n",
        "#        Make sure to double-check that the target variable i.e. booking_status is of type \"double\"\n",
        "reservations_sdf.printSchema()\n"
      ]
    },
    {
      "cell_type": "markdown",
      "metadata": {
        "id": "X3WUlDEv46rH"
      },
      "source": [
        "### **2.1.1** Setting Up a VectorAssembler\n",
        "\n",
        "Great! We have the processed data now. For Spark ML, we need to create a feature column which has all features concatenated as a list, and a single column for labels (which we already have!)\n",
        "We will use `VectorAssembler()` to create a feature vector from all our features, and we will call this vectorized variable as “features”.\n",
        "\n",
        "First, list all column names in `reservations_sdf` and store them in a list variable called `all_columns`."
      ]
    },
    {
      "cell_type": "code",
      "execution_count": 241,
      "metadata": {
        "id": "Ya0DE8ml2YPj"
      },
      "outputs": [],
      "source": [
        "# TO-DO: store all column name in the data_sdf in a list called \"all_columns\"\n",
        "all_columns = reservations_sdf.columns"
      ]
    },
    {
      "cell_type": "markdown",
      "metadata": {
        "id": "OAMDrTU157iA"
      },
      "source": [
        "Create a list of column(s) you don't want to include as your features. Name this list `drop_columns`."
      ]
    },
    {
      "cell_type": "code",
      "execution_count": 242,
      "metadata": {
        "id": "tbcp9QqH5_l0"
      },
      "outputs": [],
      "source": [
        "# TO-DO: Create \"drop_columns\"\n",
        "drop_columns = ['booking_status']"
      ]
    },
    {
      "cell_type": "markdown",
      "metadata": {
        "id": "j56ev2Mr6MZN"
      },
      "source": [
        "Now, using `drop_columns`, create a list called `feature_columns` that only contains the names of the columns that would be used as features for our ML models."
      ]
    },
    {
      "cell_type": "code",
      "execution_count": 279,
      "metadata": {
        "id": "kMcrRpJb6Xo-"
      },
      "outputs": [],
      "source": [
        "# TO-DO: Create the \"feature_columns\" list\n",
        "feature_columns = [col for col in all_columns if col not in drop_columns]"
      ]
    },
    {
      "cell_type": "code",
      "execution_count": 280,
      "metadata": {
        "id": "B5_jVWBI6znW",
        "colab": {
          "base_uri": "https://localhost:8080/"
        },
        "outputId": "7f572a75-1398-4090-e58c-1a9e59c95978"
      },
      "outputs": [
        {
          "output_type": "stream",
          "name": "stdout",
          "text": [
            "Correct! You earned 2/2 points. You are a star!\n",
            "\n",
            "Your submission has been successfully recorded in the gradebook.\n"
          ]
        }
      ],
      "source": [
        "# Grader cell [2 points]\n",
        "grader.grade(test_case_id = 'check_feature_columns', answer = feature_columns)"
      ]
    },
    {
      "cell_type": "markdown",
      "metadata": {
        "id": "JFDTSMCM72uR"
      },
      "source": [
        "Finally, create a [VectorAssembler](https://spark.apache.org/docs/3.1.3/api/python/reference/api/pyspark.ml.feature.VectorAssembler.html) object with the columns that you want to use as features. Name your output column as `features` (i.e. they are the features that will be used for SparkML)."
      ]
    },
    {
      "cell_type": "code",
      "execution_count": 245,
      "metadata": {
        "id": "WmAZT38o7zxM"
      },
      "outputs": [],
      "source": [
        "# TO-DO: Import required library and create VectorAssembler object (to be used later)\n",
        "from pyspark.ml.feature import StringIndexer, VectorAssembler\n",
        "features = VectorAssembler(inputCols = feature_columns, outputCol = \"features\")"
      ]
    },
    {
      "cell_type": "markdown",
      "metadata": {
        "id": "WYgt35u-68XA"
      },
      "source": [
        "## **2.2** Preprocessing: Pipeline and Train-Test Split [Total: 3 Points]\n",
        "\n",
        "Now that we have a VectorAssembler object ready, let's use it on our Spark dataframe to get the concatenated features column. To do this, we implement a [Pipeline](https://spark.apache.org/docs/latest/api/python/reference/api/pyspark.ml.Pipeline.html), which can be used to streamline multiple preprocessing stages at once. For this data, we just need a single stage with the assembler, but you could have other stages before that where you perform operations on the data like converting categorical strings in the features to numeric values, or do feature scaling operations.\n",
        "\n",
        "We will create a pipeline with a single stage — the assembler. Fit the pipeline on `reservations_sdf` to create the transformed dataframe and name it `processed_reservations_sdf`.\n"
      ]
    },
    {
      "cell_type": "code",
      "execution_count": 246,
      "metadata": {
        "id": "PozlPEwbMw9l"
      },
      "outputs": [],
      "source": [
        "# TO-DO: Import required libraries\n",
        "from pyspark.ml import Pipeline\n",
        "\n",
        "# TO-DO: Define a pipeline object\n",
        "pipeObj  = Pipeline(stages = [features])\n",
        "\n",
        "# TO-DO: Fit and transform the pipeline on the data and store the transformed sdf as \"processed_reservations_sdf\" \n",
        "processed_reservations_sdf = pipeObj.fit(reservations_sdf).transform(reservations_sdf)\n"
      ]
    },
    {
      "cell_type": "markdown",
      "metadata": {
        "id": "3LUua0RlNLpk"
      },
      "source": [
        "Now that we have the data in the format we need, we will create our train and test sets.\n",
        "\n",
        "Conduct a train-test split where 80% of the data is assigned to the training set while the remaining 20% is assigned to the testing set.\n",
        "\n",
        "- Name these sets as `train_sdf` and `test_sdf` respectively.\n",
        "- Set the variable `random_seed` to 42 and then add the argument `seed = random_seed` in the function to fix the random state in order to ensure consistency with our results."
      ]
    },
    {
      "cell_type": "code",
      "execution_count": 247,
      "metadata": {
        "id": "CXym9xONNrzB"
      },
      "outputs": [],
      "source": [
        "# TO-DO: Assign appropriate value to the random_seed variable\n",
        "random_seed = 42\n",
        "\n",
        "# TO-DO: Do 80/20 train-test split with seed = random_seed and store them as \"train_sdf\" and \"test_sdf\"\n",
        "train_sdf, test_sdf = processed_reservations_sdf.randomSplit([0.8, 0.2], seed = random_seed) "
      ]
    },
    {
      "cell_type": "code",
      "execution_count": 248,
      "metadata": {
        "id": "kNPtpqJyNuWA",
        "colab": {
          "base_uri": "https://localhost:8080/"
        },
        "outputId": "6f6ca3d4-70fa-4ab1-9bcd-9a133054e0ad"
      },
      "outputs": [
        {
          "output_type": "stream",
          "name": "stdout",
          "text": [
            "Correct! You earned 3/3 points. You are a star!\n",
            "\n",
            "Your submission has been successfully recorded in the gradebook.\n"
          ]
        }
      ],
      "source": [
        "# Grader (3 points)\n",
        "grader.grade(test_case_id = 'check_train_test_split_spark', answer = (train_sdf.count(), test_sdf.count(), random_seed))"
      ]
    },
    {
      "cell_type": "markdown",
      "metadata": {
        "id": "ZlAv_PlBcYDr"
      },
      "source": [
        "## **2.3** Modeling (SparkML) [Total: 30 Points]\n",
        "\n",
        "Time to do the cool stuff! We will work on various types of models using SparkML to see the difference in implementation from sklearn."
      ]
    },
    {
      "cell_type": "markdown",
      "metadata": {
        "id": "0s65E3utg0Zo"
      },
      "source": [
        "### **2.3.1** Vanilla Logistic Regression [6 pts]\n",
        "\n",
        "Let's train an **unregularized** Logistic Regression model to our data and try to predict whether the `booking_status` will be cancelled or not.\n",
        "\n",
        "This time, we will use \"Big\" data tools to help us build a Logistic Regression model for binary classification. Look up the documentation online and try to understand how to implement this.\n",
        "\n",
        "**Note**: Make sure to set the parameter `maxIter` to an appropriate value (e.g. 5) for fast computation."
      ]
    },
    {
      "cell_type": "code",
      "execution_count": 249,
      "metadata": {
        "id": "IktoDMkWhn9p"
      },
      "outputs": [],
      "source": [
        "# TO-DO: Import required library for Logistic Regression\n",
        "from pyspark.ml.classification import LogisticRegression\n",
        "\n",
        "# TO-DO: Instantiate and fit Logistic Regression model to training data\n",
        "log_reg = LogisticRegression(maxIter=5, labelCol=\"booking_status\", featuresCol=\"features\")\n",
        "log_rec_fit = log_reg.fit(train_sdf)"
      ]
    },
    {
      "cell_type": "markdown",
      "metadata": {
        "id": "uQWTQGRjiy2A"
      },
      "source": [
        "Calculate the training accuracy using the model's summary and store it in a variable called `train_accuracy`."
      ]
    },
    {
      "cell_type": "code",
      "execution_count": 250,
      "metadata": {
        "id": "XjyYCYw6i1sD",
        "colab": {
          "base_uri": "https://localhost:8080/"
        },
        "outputId": "ec98198b-df6a-45b4-ad71-fd8180ede889"
      },
      "outputs": [
        {
          "output_type": "execute_result",
          "data": {
            "text/plain": [
              "0.8040480274442539"
            ]
          },
          "metadata": {},
          "execution_count": 250
        }
      ],
      "source": [
        "# TO-DO: Get training accuracy and store it as `train_accuracy`\n",
        "train_accuracy = log_rec_fit.summary.accuracy\n",
        "train_accuracy"
      ]
    },
    {
      "cell_type": "markdown",
      "metadata": {
        "id": "C20Hy2qii_OO"
      },
      "source": [
        "Now, let's find out how good the model actually is and see if it overfits to the training data.\n",
        "\n",
        "Predict the labels `\"booking_status\"` for your test data and store them as `predictions` _(Hint: it is called 'transform' in SparkML)_"
      ]
    },
    {
      "cell_type": "code",
      "execution_count": 251,
      "metadata": {
        "id": "szq8zQ3QjPWp",
        "colab": {
          "base_uri": "https://localhost:8080/"
        },
        "outputId": "a924b0be-d8ef-444c-8ae2-dfd79da4c440"
      },
      "outputs": [
        {
          "output_type": "execute_result",
          "data": {
            "text/plain": [
              "0.7581493321713767"
            ]
          },
          "metadata": {},
          "execution_count": 251
        }
      ],
      "source": [
        "# TO-DO: Make predictions on testing set and store it as \"predictions\"\n",
        "from pyspark.ml.evaluation import BinaryClassificationEvaluator\n",
        "evaluator = BinaryClassificationEvaluator(rawPredictionCol='prediction', labelCol='booking_status')\n",
        "\n",
        "predictions = log_rec_fit.transform(test_sdf)\n",
        "test_accuracy = evaluator.evaluate(predictions)\n",
        "test_accuracy"
      ]
    },
    {
      "cell_type": "markdown",
      "metadata": {
        "id": "Kj_g8Ii_9-Gm"
      },
      "source": [
        "To get the test accuracy, we will make use of a **confusion matrix**. It is used to consolidate the predictive performance of a model into a single table. In a binary classification scenario, it looks like this:\n",
        "<img src = \"https://s2.loli.net/2023/04/01/Bg4yaIRGkEZXxvD.png\">"
      ]
    },
    {
      "cell_type": "markdown",
      "metadata": {
        "id": "ZzEQ4ltcnKZg"
      },
      "source": [
        "Given the confusion matrix, we can calculate various metrics such as accuracy, precision, recall, F1 score etc.\n",
        "\n",
        "For our task, we will calculate the test accuracy. The formula for this is: \\\\\n",
        "\n",
        "> Accuracy = $\\frac{TP + TN}{TP + FP + TN + FN}$"
      ]
    },
    {
      "cell_type": "markdown",
      "metadata": {
        "id": "FBjkb5KAn2rl"
      },
      "source": [
        "Evaluate the performance using the Confusion Matrix using [MulticlassMetrics](https://spark.apache.org/docs/latest/api/python/reference/api/pyspark.mllib.evaluation.MulticlassMetrics.html) object in the SparkML Regression library. Store the Confusion Matrix as an numpy array named  `confusion_matrix`. \\\\\n",
        "\n",
        "(*Ignore any warnings you may get*)"
      ]
    },
    {
      "cell_type": "code",
      "execution_count": 252,
      "metadata": {
        "id": "IJ7JKag7jUMW",
        "colab": {
          "base_uri": "https://localhost:8080/"
        },
        "outputId": "4331ecf5-789d-453c-aaf2-ebc39ea92042"
      },
      "outputs": [
        {
          "output_type": "stream",
          "name": "stderr",
          "text": [
            "/usr/local/lib/python3.9/dist-packages/pyspark/sql/context.py:157: FutureWarning: Deprecated in 3.0.0. Use SparkSession.builder.getOrCreate() instead.\n",
            "  warnings.warn(\n"
          ]
        },
        {
          "output_type": "execute_result",
          "data": {
            "text/plain": [
              "array([[4243.,  522.],\n",
              "       [ 883., 1477.]])"
            ]
          },
          "metadata": {},
          "execution_count": 252
        }
      ],
      "source": [
        "# TO-DO: Import required libraries\n",
        "from pyspark.mllib.evaluation import MulticlassMetrics\n",
        "import numpy as np\n",
        "# TO-DO: Select appropriate columns to use MulticlassMetrics\n",
        "predictionAndLabels = predictions.select('prediction','booking_status').rdd\n",
        "\n",
        "# TO-DO: Instantiate metrics objects\n",
        "metrics = MulticlassMetrics(predictionAndLabels)\n",
        "\n",
        "# TO-DO: Create confusion matrix and store it as a numpy array named \"confusion_matrix\"\n",
        "confusion_matrix = metrics.confusionMatrix().toArray()\n",
        "confusion_matrix"
      ]
    },
    {
      "cell_type": "markdown",
      "metadata": {
        "id": "xWDnRN0upGh1"
      },
      "source": [
        "Now, calculate the test accuracy using the Confusion Matrix obtained above and store it in a variable called `test_accuracy`."
      ]
    },
    {
      "cell_type": "code",
      "execution_count": 253,
      "metadata": {
        "id": "K3IRPWAEpDpO",
        "colab": {
          "base_uri": "https://localhost:8080/"
        },
        "outputId": "dae167d2-d796-44a8-fa96-fc276fc38556"
      },
      "outputs": [
        {
          "output_type": "execute_result",
          "data": {
            "text/plain": [
              "0.8028070175438596"
            ]
          },
          "metadata": {},
          "execution_count": 253
        }
      ],
      "source": [
        "# TO-DO: Calculate test accuracy using the confusion matrix and store it as \"test_accuracy\"\n",
        "test_accuracy = metrics.accuracy\n",
        "test_accuracy"
      ]
    },
    {
      "cell_type": "code",
      "execution_count": 254,
      "metadata": {
        "id": "jAcHDaDPqp4Z",
        "colab": {
          "base_uri": "https://localhost:8080/"
        },
        "outputId": "eab1ef63-af1b-4660-b0ad-604acadbb943"
      },
      "outputs": [
        {
          "output_type": "stream",
          "name": "stdout",
          "text": [
            "Correct! You earned 6/6 points. You are a star!\n",
            "\n",
            "Your submission has been successfully recorded in the gradebook.\n"
          ]
        }
      ],
      "source": [
        "# Grader cell (6 points)\n",
        "grader.grade(test_case_id = 'check_unreg_logistic', answer = (train_accuracy, test_accuracy, confusion_matrix))"
      ]
    },
    {
      "cell_type": "markdown",
      "metadata": {
        "id": "zu_wBe65VrW9"
      },
      "source": [
        "### **2.3.2** Regularized Logistic Regression [8 pts]\n",
        "\n",
        "Now, we will add regularization – LASSO (L1), Ridge (L2) and elastic net (combination of L1 and L2), to avoid overfitting. You can play around with different regularization hyperparameters when initializing the 3 different regularized logistic regression models. \n",
        "\n",
        "Compare these with each other and with the unregularized regression performed in 2.3.1.\n",
        "\n",
        "Make sure to evaluate the performance on test data using the same methodology as above (using a confusion matrix to calculate the accuracy).\n",
        "\n",
        "**Note**: Just like 2.3.1, set `maxIter` to a suitable value."
      ]
    },
    {
      "cell_type": "markdown",
      "metadata": {
        "id": "fSEYNPEPYBJk"
      },
      "source": [
        "#### (a) LASSO (L1)\n",
        "\n",
        "First, implement a LASSO Logistic Regression model using SparkML and call it `l1_model`, fit it on `train_sdf` and get predictions using `test_sdf`. Get the training accuracy and store it as `l1_train_accuracy`."
      ]
    },
    {
      "cell_type": "code",
      "execution_count": 255,
      "metadata": {
        "id": "xlC3TNEnYzD2",
        "colab": {
          "base_uri": "https://localhost:8080/"
        },
        "outputId": "1233c8cb-831e-4e4b-caee-67ae9ce023bb"
      },
      "outputs": [
        {
          "output_type": "execute_result",
          "data": {
            "text/plain": [
              "0.721852487135506"
            ]
          },
          "metadata": {},
          "execution_count": 255
        }
      ],
      "source": [
        "# TO-DO: Instantiate LASSO/L1 regularized model as \"l1_model\"\n",
        "l1_model = LogisticRegression(featuresCol = 'features', labelCol = 'booking_status', maxIter = 10, regParam = 0.1, elasticNetParam = 1)\n",
        "\n",
        "# TO-DO: Fit and Transform using \"l1_model\"\n",
        "l1_model = l1_model.fit(train_sdf)\n",
        "l1_train_tran = l1_model.transform(train_sdf)\n",
        "prediction_l1 = l1_model.transform(test_sdf)\n",
        "\n",
        "# TO-DO: Store training accuracy as \"l1_train_accuracy\"\n",
        "l1_train_accuracy = l1_model.summary.accuracy\n",
        "l1_train_accuracy"
      ]
    },
    {
      "cell_type": "markdown",
      "metadata": {
        "id": "YZTFIUbicwmh"
      },
      "source": [
        "From the predictions, create a confusion matrix and use it to get the test accuracy. Store this accuracy value as `l1_test_accuracy`."
      ]
    },
    {
      "cell_type": "code",
      "execution_count": 256,
      "metadata": {
        "id": "GXTGezetajEi"
      },
      "outputs": [],
      "source": [
        "# TO-DO: Create the Confusion matrix\n",
        "prediction_l1 = prediction_l1.select('prediction','booking_status').rdd\n",
        "metrics_l1 = MulticlassMetrics(prediction_l1)\n",
        "confusion_matrix_l1 = metrics_l1.confusionMatrix().toArray()\n",
        "# TO-DO: Calculate the test accuracy as done in the previous section. Store test accuracy as \"l1_test_accuracy\"\n",
        "l1_test_accuracy = metrics_l1.accuracy\n"
      ]
    },
    {
      "cell_type": "markdown",
      "metadata": {
        "id": "-O7Oq8KPdD9h"
      },
      "source": [
        "#### (b) Ridge (L2)\n",
        "\n",
        "Next, implement a Ridge Logistic Regression model using SparkML and call it `l2_model`, fit it on `train_sdf` and get predictions using `test_sdf`. Get the training accuracy and store it as `l2_train_accuracy`."
      ]
    },
    {
      "cell_type": "code",
      "execution_count": 257,
      "metadata": {
        "id": "BzxfiooYdO-s",
        "colab": {
          "base_uri": "https://localhost:8080/"
        },
        "outputId": "caa56b57-109e-4143-fe99-c63561d345c2"
      },
      "outputs": [
        {
          "output_type": "execute_result",
          "data": {
            "text/plain": [
              "0.7845969125214408"
            ]
          },
          "metadata": {},
          "execution_count": 257
        }
      ],
      "source": [
        "# TO-DO: Instantiate Ridge/L2 regularized model as \"l2_model\"\n",
        "l2_model = LogisticRegression(featuresCol = 'features', labelCol = 'booking_status', maxIter = 5, regParam = 0.1, elasticNetParam = 0)\n",
        "\n",
        "# TO-DO: Fit and Transform using \"l2_model\"\n",
        "l2_model = l2_model.fit(train_sdf)\n",
        "l2_train_tran = l2_model.transform(train_sdf)\n",
        "prediction_l2 = l2_model.transform(test_sdf)\n",
        "\n",
        "# TO-DO: Store training accuracy as \"l2_train_accuracy\"\n",
        "l2_train_accuracy = l2_model.summary.accuracy\n",
        "l2_train_accuracy"
      ]
    },
    {
      "cell_type": "markdown",
      "metadata": {
        "id": "z6BD1lsvdjZS"
      },
      "source": [
        "From the predictions, create a confusion matrix and use it to get the test accuracy. Store this accuracy value as `l2_test_accuracy`."
      ]
    },
    {
      "cell_type": "code",
      "execution_count": 258,
      "metadata": {
        "id": "vron91efdi8s",
        "colab": {
          "base_uri": "https://localhost:8080/"
        },
        "outputId": "7fbce670-b477-49e4-a0f4-236db5a9e7e5"
      },
      "outputs": [
        {
          "output_type": "execute_result",
          "data": {
            "text/plain": [
              "0.783298245614035"
            ]
          },
          "metadata": {},
          "execution_count": 258
        }
      ],
      "source": [
        "# TO-DO: Create the Confusion matrix\n",
        "prediction_l2 = prediction_l2.select('prediction','booking_status').rdd\n",
        "metrics_l2 = MulticlassMetrics(prediction_l2)\n",
        "confusion_matrix_l2 = metrics_l2.confusionMatrix().toArray()\n",
        "\n",
        "# TO-DO: Calculate the test accuracy as done in the previous section. Store test accuracy as \"l2_test_accuracy\"\n",
        "l2_test_accuracy = metrics_l2.accuracy\n",
        "l2_test_accuracy"
      ]
    },
    {
      "cell_type": "markdown",
      "metadata": {
        "id": "fUibpxvqeCsz"
      },
      "source": [
        "#### (c) Elastic Net\n",
        "\n",
        "Finally, implement an Elastic Net Logistic Regression model using SparkML and call it `en_model`, fit it on `train_sdf` and get predictions using `test_sdf`. Get the training accuracy and store it as `en_train_accuracy`."
      ]
    },
    {
      "cell_type": "code",
      "execution_count": 259,
      "metadata": {
        "id": "h_j1zU38eSAS"
      },
      "outputs": [],
      "source": [
        "# TO-DO: Instantiate Elastic Net regularized model as \"en_model\"\n",
        "en_model = LogisticRegression(featuresCol = 'features', labelCol = 'booking_status', maxIter = 5, regParam = 0.1, elasticNetParam = 0.5)\n",
        "\n",
        "# TO-DO: Fit and Transform using \"en_model\"\n",
        "en_model = en_model.fit(train_sdf)\n",
        "en_train_tran = en_model.transform(train_sdf)\n",
        "prediction_en = en_model.transform(test_sdf)\n",
        "# TO-DO: Store training accuracy as \"en_train_accuracy\"\n",
        "en_train_accuracy = en_model.summary.accuracy"
      ]
    },
    {
      "cell_type": "markdown",
      "metadata": {
        "id": "-Xge3cFxecaU"
      },
      "source": [
        "From the predictions, create a confusion matrix and use it to get the test accuracy. Store this accuracy value as `en_test_accuracy`."
      ]
    },
    {
      "cell_type": "code",
      "execution_count": 260,
      "metadata": {
        "id": "oI6OHfWJeeeX",
        "colab": {
          "base_uri": "https://localhost:8080/"
        },
        "outputId": "f5aa0e89-a67d-47b7-9612-c6e92efe16cd"
      },
      "outputs": [
        {
          "output_type": "execute_result",
          "data": {
            "text/plain": [
              "0.7559298245614036"
            ]
          },
          "metadata": {},
          "execution_count": 260
        }
      ],
      "source": [
        "# TO-DO: Create the Confusion matrix\n",
        "prediction_en = prediction_en.select('prediction','booking_status').rdd\n",
        "metrics_en = MulticlassMetrics(prediction_en)\n",
        "confusion_matrix_en = metrics_en.confusionMatrix().toArray()\n",
        "\n",
        "# TO-DO: Calculate the test accuracy as done in the previous section. Store test accuracy as \"en_test_accuracy\"\n",
        "en_test_accuracy = metrics_en.accuracy\n",
        "en_test_accuracy"
      ]
    },
    {
      "cell_type": "code",
      "execution_count": 261,
      "metadata": {
        "id": "RU3LaLu6ewjQ",
        "colab": {
          "base_uri": "https://localhost:8080/"
        },
        "outputId": "95bdd0ec-7b44-4bfd-8752-601890cc8e39"
      },
      "outputs": [
        {
          "output_type": "stream",
          "name": "stdout",
          "text": [
            "Correct! You earned 8/8 points. You are a star!\n",
            "\n",
            "Your submission has been successfully recorded in the gradebook.\n"
          ]
        }
      ],
      "source": [
        "#8 points\n",
        "#Grader cell\n",
        "grader.grade(test_case_id = 'check_reg_logistic', answer = (l1_model.getElasticNetParam(), l1_model.getRegParam(), l1_train_accuracy, l1_test_accuracy,\n",
        "                                                            l2_model.getElasticNetParam(), l2_model.getRegParam(), l2_train_accuracy, l2_test_accuracy,\n",
        "                                                            en_model.getElasticNetParam(), en_model.getRegParam(), en_train_accuracy, en_test_accuracy))"
      ]
    },
    {
      "cell_type": "markdown",
      "metadata": {
        "id": "H8k-KqujfWbA"
      },
      "source": [
        "### **2.3.3** Random Forest Classification [8 pts]\n",
        "\n",
        "If you are looking to win Kaggle competitions, you definitely must know about Random Forests, Boosted Trees, etc. These ensemble methods generalize and work surprisingly well for a lot of classification problems and sometimes for regression problems (though regression trees are not the focus of this course).\n",
        "\n",
        "Let's give it a go. Similar to what you did for the Logistic Regression model, create a Random Forest classifier model and name it `rf` and fit it to the training data. Call the fitted model `rf_model`.\n",
        "\n",
        "**Note1:** Set the `random_seed` to 42 and set the argument `seed = random_seed` while creating `rf` as a RandomForest object. \\\\\n",
        "**Note2:** Set `maxDepth` to a reasonable value (e.g. 10) to find a good balance between performance and computation time."
      ]
    },
    {
      "cell_type": "code",
      "execution_count": 262,
      "metadata": {
        "id": "J-rKH7Qh0m4H"
      },
      "outputs": [],
      "source": [
        "# TO-DO: Import required libraries\n",
        "from pyspark.ml.classification import RandomForestClassifier\n",
        "\n",
        "# TO-DO: Set random_seed to 42\n",
        "random_seed = 42\n",
        "\n",
        "# TO-DO: Instantiate the RF Model and call it \"rf\", then fit it on the training data\n",
        "rf = RandomForestClassifier(featuresCol = 'features', labelCol = 'booking_status', maxDepth = 10, seed = random_seed)\n",
        "rf = rf.fit(train_sdf)"
      ]
    },
    {
      "cell_type": "markdown",
      "metadata": {
        "id": "M71HnmZ41eIy"
      },
      "source": [
        "This time, get predictions on both the training and testing sets, and store them as `train_pred` and `test_pred` respectively."
      ]
    },
    {
      "cell_type": "code",
      "execution_count": 263,
      "metadata": {
        "id": "dzPe3ld01hhA"
      },
      "outputs": [],
      "source": [
        "# TO-DO: Get predictions and save to \"train_pred\" and \"test_pred\" respectively\n",
        "train_pred = rf.transform(train_sdf)\n",
        "test_pred = rf.transform(test_sdf)"
      ]
    },
    {
      "cell_type": "markdown",
      "metadata": {
        "id": "xcEQUtzP1tZ4"
      },
      "source": [
        "Evaluate using the accuracy metric again, similar to the previous sections.\n",
        "- Store the confusion matrices as `rf_train_cm` and `rf_test_cm` respectively.\n",
        "- Store the training and test accuracy as `rf_train_accuracy` and  `rf_test_accuracy` respectively."
      ]
    },
    {
      "cell_type": "code",
      "execution_count": 264,
      "metadata": {
        "id": "es9Wql3B14TV"
      },
      "outputs": [],
      "source": [
        "# TO-DO: Evaluate the prediction accuracy for train set and call it \"rf_train_accuracy\"\n",
        "prediction_train = train_pred.select('prediction','booking_status').rdd\n",
        "prediction_test = test_pred.select('prediction','booking_status').rdd\n",
        "\n",
        "metrics_train = MulticlassMetrics(prediction_train)\n",
        "metrics_test = MulticlassMetrics(prediction_test)\n",
        "\n",
        "rf_train_cm = metrics_train.confusionMatrix().toArray()\n",
        "rf_test_cm = metrics_test.confusionMatrix().toArray()\n",
        "\n",
        "# TO-DO: Evaluate the prediction accuracy for test set and call it \"rf_test_accuracy\"\n",
        "rf_train_accuracy = metrics_train.accuracy\n",
        "rf_test_accuracy = metrics_test.accuracy"
      ]
    },
    {
      "cell_type": "code",
      "execution_count": 265,
      "metadata": {
        "id": "3VH0SRIs3m30",
        "colab": {
          "base_uri": "https://localhost:8080/"
        },
        "outputId": "afb53802-7ae2-434c-cc0f-9e8c83d55517"
      },
      "outputs": [
        {
          "output_type": "stream",
          "name": "stdout",
          "text": [
            "Correct! You earned 8/8 points. You are a star!\n",
            "\n",
            "Your submission has been successfully recorded in the gradebook.\n"
          ]
        }
      ],
      "source": [
        "# Grader (8 points)\n",
        "grader.grade(test_case_id = 'check_random_forest', answer = (rf_train_accuracy, train_pred.count(), rf_test_accuracy, test_pred.count(), rf_train_cm, rf_test_cm))"
      ]
    },
    {
      "cell_type": "markdown",
      "metadata": {
        "id": "n972zXod4DXF"
      },
      "source": [
        "### **2.3.4** Dimensionality Reduction Using PCA [8 pts]\n",
        "\n",
        "We will again use the powerful PCA to reduce the dimensions and project the data onto a lower dimensional space and fit a logistic regression on the new projected data."
      ]
    },
    {
      "cell_type": "markdown",
      "metadata": {
        "id": "LiL8evmIBhDL"
      },
      "source": [
        "Initialize a PCA model on SparkML, where you select an appropriate number of dimensions, and call it `pca`. Then, fit the model on the training data and get the PCA features from the trained model.\n",
        "\n",
        "**Hint**: Choose `k` for the PCA model using the explained variance plot you made earlier."
      ]
    },
    {
      "cell_type": "code",
      "execution_count": 266,
      "metadata": {
        "id": "J4t4b6RECbRl"
      },
      "outputs": [],
      "source": [
        "# TO-DO: Import required libraries\n",
        "from pyspark.ml.feature import PCA\n",
        "from pyspark.ml.feature import StandardScaler\n",
        "\n",
        "# TO-DO: Perform intermediate steps to address scale-variance in PCA\n",
        "scaler = StandardScaler(inputCol = 'features',outputCol = 'scaledFeatures', withMean = True, withStd = False)\n",
        "\n",
        "model = scaler.fit(train_sdf)\n",
        "\n",
        "train_sdf_scaled = model.transform(train_sdf)\n",
        "test_sdf_scaled = model.transform(test_sdf)\n",
        "\n",
        "# TO-DO: Instantiate PCA object as \"pca\" and then fit and transform.\n",
        "#        Make sure you make a reasonable choice for the number of Principal Components\n",
        "pca = PCA(k=17, inputCol=\"scaledFeatures\", outputCol ='pca_features')\n",
        "pca_model = pca.fit(train_sdf_scaled)\n",
        "\n",
        "pca_train_sdf = pca_model.transform(train_sdf_scaled)\n",
        "pca_test_sdf = pca_model.transform(test_sdf_scaled)"
      ]
    },
    {
      "cell_type": "markdown",
      "metadata": {
        "id": "IFxyRkmTDBta"
      },
      "source": [
        "Now, create a Logistic Regression model and train it using the PCA features."
      ]
    },
    {
      "cell_type": "code",
      "execution_count": 267,
      "metadata": {
        "id": "QdX0LisYDcb1"
      },
      "outputs": [],
      "source": [
        "# TO-DO: Instantiate Logistic Regression model and call the model object \"lr_model\"\n",
        "lr_model = LogisticRegression(featuresCol = 'pca_features',labelCol = 'booking_status', maxIter=5)\n",
        "\n",
        "\n",
        "# TO-DO: Fit Logistic Regression Model and get predictions\n",
        "lr_model = lr_model.fit(pca_train_sdf)\n",
        "train_pred = lr_model.transform(pca_train_sdf)\n",
        "test_pred = lr_model.transform(pca_test_sdf)\n",
        "\n",
        "prediction_train = train_pred.select('prediction','booking_status').rdd\n",
        "prediction_test = test_pred.select('prediction','booking_status').rdd\n",
        "\n",
        "#setting up for confusion matrix \n",
        "metrics_train = MulticlassMetrics(prediction_train)\n",
        "metrics_test = MulticlassMetrics(prediction_test)\n"
      ]
    },
    {
      "cell_type": "markdown",
      "metadata": {
        "id": "pz2c4099D_h-"
      },
      "source": [
        "Calculate the training accuracy using the model's summary and store it in a variable called `train_accuracy_pca`."
      ]
    },
    {
      "cell_type": "code",
      "execution_count": 268,
      "metadata": {
        "id": "EafeNRLMD7Rh"
      },
      "outputs": [],
      "source": [
        "# TO-DO: Get training accuracy and store it as `train_accuracy_pca`\n",
        "train_accuracy_pca = lr_model.summary.accuracy"
      ]
    },
    {
      "cell_type": "markdown",
      "metadata": {
        "id": "DRTBu6AOEe-L"
      },
      "source": [
        "\n",
        "Evaulate the test performance by creating a confusion matrix and call it `confusion_matrix_pca`. Then, calculate the test accuracy using the confusion matrix  and store it as `test_accuracy_pca`."
      ]
    },
    {
      "cell_type": "code",
      "execution_count": 269,
      "metadata": {
        "id": "6AbNje50EU2a"
      },
      "outputs": [],
      "source": [
        "# TO-DO: Create confusion matrix and store it as \"confusion_matrix_pca\"\n",
        "confusion_matrix_pca = metrics_train.confusionMatrix().toArray()\n",
        "\n",
        "# TO-DO: Calculate test accuracy and store it as \"test_accuracy_pca\"\n",
        "test_accuracy_pca = metrics_test.accuracy"
      ]
    },
    {
      "cell_type": "code",
      "execution_count": 270,
      "metadata": {
        "id": "ighJ-OTRG1al",
        "colab": {
          "base_uri": "https://localhost:8080/"
        },
        "outputId": "867b4ce2-2c57-4e23-d475-b23ff8dbd939"
      },
      "outputs": [
        {
          "output_type": "stream",
          "name": "stdout",
          "text": [
            "You earned 6/8 points.\n",
            "\n",
            "But, don't worry you can re-submit and we will keep only your latest score.\n"
          ]
        }
      ],
      "source": [
        "# Grader cell (8 points)\n",
        "grader.grade(test_case_id = 'check_pca', answer = (pca.getK(), len(lr_model.coefficients), train_accuracy_pca, test_accuracy_pca, confusion_matrix_pca))"
      ]
    },
    {
      "cell_type": "markdown",
      "metadata": {
        "id": "jfH7LMHMGpgB"
      },
      "source": [
        "# Homework Submission Reminders & Penalties\n",
        "\n",
        "Good job! You have finished the homework :) The submission instructions are as follows:\n",
        "\n",
        "* **Double check** that you have the correct PennID (all numbers) in the autograder. \n",
        "\n",
        "* **Triple check** that you have all plots shown in this Colab notebook before submitting (otherwise, your submission will be subjected to a **penalty of -5 points**).\n",
        "\n",
        "*  Go to the \"File\" tab at the top left of the Colab UI, click \"Download .ipynb\" and then \"Download .py\".  **Rename** these two files to `homework4.ipynb` and `homework4.py` respectively and upload them to Gradescope.\n",
        "  - <ins>**WAIT UNTIL THE GRADESCOPE AUTOGRADER FINISHES RUNNING!**</ins> If we have to manually upload this for you after the deadline, **we will apply a penalty of -10 points** (this stacks with any other penatlies)\n",
        "\n",
        "* After the autograder finishes running, Remember to click on the \"Code\" tab and see what your `.ipynb` file looks like on Gradescope.\n",
        "  - Just like in HW2, if \"Large File Hidden\" shows up, you MUST fix it. Refer back to [Ed Post \\#957](https://edstem.org/us/courses/32226/discussion/2628740) from earlier in this Spring 2023 semester.\n",
        "\n",
        "* Post any issues with submission on Ed and make sure to keep in mind the late day policy.\n",
        "\n",
        "* After you submit your code, the teaching staff will manually grade your Colab notebook in order to validate the correctness of your code."
      ]
    }
  ],
  "metadata": {
    "colab": {
      "provenance": []
    },
    "kernelspec": {
      "display_name": "Python 3",
      "name": "python3"
    },
    "language_info": {
      "name": "python"
    }
  },
  "nbformat": 4,
  "nbformat_minor": 0
}