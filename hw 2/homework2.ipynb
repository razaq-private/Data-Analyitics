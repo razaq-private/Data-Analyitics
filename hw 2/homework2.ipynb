{
  "cells": [
    {
      "cell_type": "markdown",
      "metadata": {
        "id": "wlv8esDGMj0h"
      },
      "source": [
        "# CIS 5450 Homework 2: SQL\n",
        "## Due: Tuesday, February 21 2023, 10pm EST \n",
        "### Worth 100 points in total\n",
        "\n",
        "Welcome to Homework 2! By now, you should be familiar with the world of data science and the Pandas library. This assignment focuses on helping you get to grips with a new tool: SQL.\n",
        "\n",
        "Through this homework, we will be working with SQL (specifically **pandasql**) by exploring a [Indego](https://www.rideindego.com/) dataset containing bike rides, stations and weather data. We will also conduct some text analysis of reataurant reviews in Philly.\n",
        "\n",
        " <!-- We will finish off the homework with some text analysis. -->\n",
        "\n",
        "We are introducing a lot of new things in this homework, and this is often where students start to get lost. Thus, we **strongly** encourage you to review the slides/material as you work through this assignment. \n",
        "\n",
        "**Before you begin:**\n",
        "- Be sure to click \"Copy to Drive\" to make sure you're working on your own personal version of the homework\n",
        "- Check the pinned FAQ post on Ed for updates! If you have been stuck, chances are other students have also faced similar problems.\n",
        "\n",
        "# <ins> Note</ins>: this has historically been the _**MOST  difficult**_ HW out of all of them, so please watch the SQL recitation and **start early**!"
      ]
    },
    {
      "cell_type": "markdown",
      "metadata": {
        "id": "W0hcZWDcqCUL"
      },
      "source": [
        "## Part 0: Libraries and Set Up Jargon (The usual wall of imports)"
      ]
    },
    {
      "cell_type": "code",
      "execution_count": 395,
      "metadata": {
        "id": "ylkUtozb2Oc8",
        "colab": {
          "base_uri": "https://localhost:8080/"
        },
        "outputId": "ec8a69ca-fc92-4d28-a367-56acab04f264"
      },
      "outputs": [
        {
          "output_type": "stream",
          "name": "stdout",
          "text": [
            "Looking in indexes: https://pypi.org/simple, https://us-python.pkg.dev/colab-wheels/public/simple/\n",
            "Requirement already satisfied: penngrader in /usr/local/lib/python3.8/dist-packages (0.4)\n",
            "Looking in indexes: https://pypi.org/simple, https://us-python.pkg.dev/colab-wheels/public/simple/\n",
            "Requirement already satisfied: sqlalchemy==1.4.46 in /usr/local/lib/python3.8/dist-packages (1.4.46)\n",
            "Requirement already satisfied: greenlet!=0.4.17 in /usr/local/lib/python3.8/dist-packages (from sqlalchemy==1.4.46) (2.0.2)\n",
            "Looking in indexes: https://pypi.org/simple, https://us-python.pkg.dev/colab-wheels/public/simple/\n",
            "Requirement already satisfied: pandasql in /usr/local/lib/python3.8/dist-packages (0.7.3)\n",
            "Requirement already satisfied: sqlalchemy in /usr/local/lib/python3.8/dist-packages (from pandasql) (1.4.46)\n",
            "Requirement already satisfied: numpy in /usr/local/lib/python3.8/dist-packages (from pandasql) (1.21.6)\n",
            "Requirement already satisfied: pandas in /usr/local/lib/python3.8/dist-packages (from pandasql) (1.3.5)\n",
            "Requirement already satisfied: pytz>=2017.3 in /usr/local/lib/python3.8/dist-packages (from pandas->pandasql) (2022.7.1)\n",
            "Requirement already satisfied: python-dateutil>=2.7.3 in /usr/local/lib/python3.8/dist-packages (from pandas->pandasql) (2.8.2)\n",
            "Requirement already satisfied: greenlet!=0.4.17 in /usr/local/lib/python3.8/dist-packages (from sqlalchemy->pandasql) (2.0.2)\n",
            "Requirement already satisfied: six>=1.5 in /usr/local/lib/python3.8/dist-packages (from python-dateutil>=2.7.3->pandas->pandasql) (1.15.0)\n",
            "Looking in indexes: https://pypi.org/simple, https://us-python.pkg.dev/colab-wheels/public/simple/\n",
            "Requirement already satisfied: geopy in /usr/local/lib/python3.8/dist-packages (1.17.0)\n",
            "Requirement already satisfied: geographiclib<2,>=1.49 in /usr/local/lib/python3.8/dist-packages (from geopy) (1.52)\n",
            "Looking in indexes: https://pypi.org/simple, https://us-python.pkg.dev/colab-wheels/public/simple/\n",
            "Requirement already satisfied: kaleido in /usr/local/lib/python3.8/dist-packages (0.2.1)\n"
          ]
        }
      ],
      "source": [
        "!pip3 install penngrader\n",
        "!pip install sqlalchemy==1.4.46\n",
        "!pip install pandasql\n",
        "!pip install geopy\n",
        "!pip install -U kaleido"
      ]
    },
    {
      "cell_type": "code",
      "execution_count": 396,
      "metadata": {
        "id": "LAXVD0Lo454x",
        "colab": {
          "base_uri": "https://localhost:8080/"
        },
        "outputId": "0aa06b2a-dc20-41a8-f8b5-89ce6d118e06"
      },
      "outputs": [
        {
          "output_type": "stream",
          "name": "stderr",
          "text": [
            "[nltk_data] Downloading package punkt to /root/nltk_data...\n",
            "[nltk_data]   Package punkt is already up-to-date!\n"
          ]
        }
      ],
      "source": [
        "from penngrader.grader import *\n",
        "import pandas as pd\n",
        "import datetime as dt\n",
        "import geopy.distance as gp\n",
        "import matplotlib.image as mpimg\n",
        "import plotly.express as px\n",
        "# import re\n",
        "import pandasql as ps #SQL on Pandas Dataframe\n",
        "import nltk\n",
        "nltk.download('punkt')\n",
        "\n",
        "from wordcloud import WordCloud\n",
        "\n",
        "import matplotlib.pyplot as plt \n",
        "# from collections import Counter\n",
        "# import random"
      ]
    },
    {
      "cell_type": "code",
      "execution_count": 397,
      "metadata": {
        "id": "0TmMEXVcwONB",
        "colab": {
          "base_uri": "https://localhost:8080/"
        },
        "outputId": "63f2b5ce-bb3e-4f83-af0c-673e5ea09509"
      },
      "outputs": [
        {
          "output_type": "stream",
          "name": "stdout",
          "text": [
            "File ‘indego_trips.csv’ already there; not retrieving.\n",
            "\n",
            "File ‘indego_stations.csv’ already there; not retrieving.\n",
            "\n",
            "File ‘weather_2022_PHL.csv’ already there; not retrieving.\n",
            "\n",
            "File ‘restaurant_reviews.csv’ already there; not retrieving.\n",
            "\n"
          ]
        }
      ],
      "source": [
        "# Three datasets we're using\n",
        "! wget -nc https://storage.googleapis.com/penn-cis5450/indego_trips.csv\n",
        "! wget -nc https://storage.googleapis.com/penn-cis5450/indego_stations.csv\n",
        "! wget -nc https://storage.googleapis.com/penn-cis5450/weather_2022_PHL.csv\n",
        "! wget -nc https://storage.googleapis.com/penn-cis5450/restaurant_reviews.csv"
      ]
    },
    {
      "cell_type": "code",
      "execution_count": 398,
      "metadata": {
        "id": "b5NogkmdhhQ7",
        "colab": {
          "base_uri": "https://localhost:8080/"
        },
        "outputId": "5fb106df-77d4-4014-c4e9-6e661720c8af"
      },
      "outputs": [
        {
          "output_type": "stream",
          "name": "stdout",
          "text": [
            "1.3.5\n"
          ]
        }
      ],
      "source": [
        "print(pd.__version__ )"
      ]
    },
    {
      "cell_type": "markdown",
      "metadata": {
        "id": "TeyWoMn6pxSC"
      },
      "source": [
        "### PennGrader Setup"
      ]
    },
    {
      "cell_type": "code",
      "execution_count": 399,
      "metadata": {
        "id": "4ds2HHSkpvBO"
      },
      "outputs": [],
      "source": [
        "# ENSURE YOUR PENN-ID IS ENTERED CORRECTLY. IF NOT, THE AUTOGRADER WON'T KNOW \n",
        "# TO ASSIGN POINTS TO YOU IN OUR BACKEND\n",
        "\n",
        "STUDENT_ID = 30808116                                                           # YOUR PENN-ID GOES HERE AS AN INTEGER #\n",
        "\n",
        "\n",
        "################################################################################\n",
        "# Check (no need to modify below - we're checking if you changed the ID above)\n",
        "if STUDENT_ID == 12345678:\n",
        "   print(\"Hold up!!! \\nHold up!!!!! \\nHold up!!!!!!!! \\n \\nWe can't store your grade if you forgot to change the ID!\")"
      ]
    },
    {
      "cell_type": "code",
      "execution_count": 400,
      "metadata": {
        "id": "vAsLYJGotKbO",
        "colab": {
          "base_uri": "https://localhost:8080/"
        },
        "outputId": "e08192f1-66a0-4307-88f9-8960d9199c88"
      },
      "outputs": [
        {
          "output_type": "stream",
          "name": "stdout",
          "text": [
            "PennGrader initialized with Student ID: 30808116\n",
            "\n",
            "Make sure this correct or we will not be able to store your grade\n"
          ]
        }
      ],
      "source": [
        "grader = PennGrader(homework_id = 'CIS5450_23Sp_HW2', student_id = STUDENT_ID)"
      ]
    },
    {
      "cell_type": "markdown",
      "metadata": {
        "id": "VzZ6JNnKLplQ"
      },
      "source": [
        "\n",
        "\n",
        "# Biking in Philadelphia\n",
        "\n",
        "<br>\n",
        "<center><img src = \"https://whyy.org/wp-content/uploads/2021/11/AP-indego-bike-share-philly-docking-station-110421-768x512.jpg\" width= \"500\" align =\"center\"/></center>\n",
        "<br>\n",
        "\n",
        "I'm sure in your time in Philadelphia so far you've come across these blue bikes and stations. Indego is the company responsible for this bike sharing ride system, and they make data on bike trips available to the public. This data can not only be useful to get information of how people in Philly use bikes, but it can give information on the most visited places in the city which can be useful for city planners and business owners.\n",
        "\n",
        "\n",
        "In this homework, we'll be exploring some data about bikes including:\n",
        "\n",
        "*   Trips: data about bike trips during the first week of October 2022.\n",
        "\n",
        "*   Stations: data about bike stations, their ID and Name.\n",
        "\n",
        "*   Weather: data about the weather in Philadelphia during 2022.\n",
        "\n",
        "\n",
        "We'll be parsing this data into dataframes and relations, and then exploring how to query and assemble the tables into results. We will primarily be using PandaSQL, but for some of the initial questions, we will ask you to perform the same operations in Pandas as well, so as to familiarize you with the differences and similarities of the two.\n",
        "\n",
        "For the final part of this Homework, we'll use a fourth database with restaurants and reviews, and perform some text analysis."
      ]
    },
    {
      "cell_type": "markdown",
      "metadata": {
        "id": "oENmSeFkFRCo"
      },
      "source": [
        "## Part 1: Load & Process our Datasets [10 points total]\n",
        "\n",
        "Before we get into the data, we first need to load and clean our datasets. \n",
        "\n",
        "# Metadata\n",
        "You'll be working with four CSV files:\n",
        "- `indego_trips.csv`: contains data about each trip, like the origin station, destination station and duration. \n",
        "- `indego_stations.csv`: includes information about stations and their status in January 2023.\n",
        "- `weather_2022_PHL.csv`: has one row per day during 2022 and shows weather information.\n",
        "- `restaurant_reviews.csv`: has several reviews about three restaurants.\n",
        "\n",
        "**TO-DO**:\n",
        "* Load `indego_trips.csv` and save the data to a dataframe called `trips_df`.\n",
        "* Load `indego_stations.csv` and save the data to a dataframe called `stations_df`.\n",
        "* Load `weather_2022_PHL.csv` and save the data to a dataframe called `weather_df`.\n",
        "* Load `restaurant_reviews.csv` and save the data to a dataframe called `reviews_df`."
      ]
    },
    {
      "cell_type": "code",
      "execution_count": 401,
      "metadata": {
        "id": "zfMn38A25Vt8"
      },
      "outputs": [],
      "source": [
        "# TODO: Import the 4 datasets to pandas dataframes -- make sure the dataframes are named correctly! \n",
        "trips_df = pd.read_csv('indego_trips.csv')\n",
        "stations_df = pd.read_csv('indego_stations.csv')\n",
        "weather_df = pd.read_csv('weather_2022_PHL.csv')\n",
        "reviews_df = pd.read_csv('restaurant_reviews.csv')"
      ]
    },
    {
      "cell_type": "code",
      "execution_count": 402,
      "metadata": {
        "id": "yTBIwDJ1qDp0",
        "colab": {
          "base_uri": "https://localhost:8080/",
          "height": 356
        },
        "outputId": "6c7438ba-e703-46f1-8746-2f2f43ab003e"
      },
      "outputs": [
        {
          "output_type": "execute_result",
          "data": {
            "text/plain": [
              "     trip_id  duration      start_time        end_time  start_station  \\\n",
              "0  536547052         9  10/1/2022 0:00  10/1/2022 0:09         3190.0   \n",
              "1  536547050        19  10/1/2022 0:01  10/1/2022 0:20         3168.0   \n",
              "2  536547048        12  10/1/2022 0:02  10/1/2022 0:14         3190.0   \n",
              "3  536547046         5  10/1/2022 0:03  10/1/2022 0:08         3075.0   \n",
              "4  536547044        11  10/1/2022 0:03  10/1/2022 0:14         3050.0   \n",
              "\n",
              "   start_lat  start_lon  end_station    end_lat    end_lon bike_id  \\\n",
              "0  39.948921 -75.169907       3158.0  39.925522 -75.169037   23553   \n",
              "1  39.951340 -75.173943       3034.0  39.933151 -75.162483   22190   \n",
              "2  39.948921 -75.169907       3158.0  39.925522 -75.169037   18789   \n",
              "3  39.967178 -75.161247       3039.0  39.971569 -75.159927   23383   \n",
              "4  39.953388 -75.154259       3075.0  39.967178 -75.161247    5367   \n",
              "\n",
              "   plan_duration trip_route_category passholder_type bike_type  \n",
              "0           30.0             One Way        Indego30  electric  \n",
              "1           30.0             One Way        Indego30  electric  \n",
              "2           30.0             One Way        Indego30  electric  \n",
              "3           30.0             One Way        Indego30  electric  \n",
              "4           30.0             One Way        Indego30  standard  "
            ],
            "text/html": [
              "\n",
              "  <div id=\"df-c263f7e5-93c1-4a89-a45a-5ccddab4d47e\">\n",
              "    <div class=\"colab-df-container\">\n",
              "      <div>\n",
              "<style scoped>\n",
              "    .dataframe tbody tr th:only-of-type {\n",
              "        vertical-align: middle;\n",
              "    }\n",
              "\n",
              "    .dataframe tbody tr th {\n",
              "        vertical-align: top;\n",
              "    }\n",
              "\n",
              "    .dataframe thead th {\n",
              "        text-align: right;\n",
              "    }\n",
              "</style>\n",
              "<table border=\"1\" class=\"dataframe\">\n",
              "  <thead>\n",
              "    <tr style=\"text-align: right;\">\n",
              "      <th></th>\n",
              "      <th>trip_id</th>\n",
              "      <th>duration</th>\n",
              "      <th>start_time</th>\n",
              "      <th>end_time</th>\n",
              "      <th>start_station</th>\n",
              "      <th>start_lat</th>\n",
              "      <th>start_lon</th>\n",
              "      <th>end_station</th>\n",
              "      <th>end_lat</th>\n",
              "      <th>end_lon</th>\n",
              "      <th>bike_id</th>\n",
              "      <th>plan_duration</th>\n",
              "      <th>trip_route_category</th>\n",
              "      <th>passholder_type</th>\n",
              "      <th>bike_type</th>\n",
              "    </tr>\n",
              "  </thead>\n",
              "  <tbody>\n",
              "    <tr>\n",
              "      <th>0</th>\n",
              "      <td>536547052</td>\n",
              "      <td>9</td>\n",
              "      <td>10/1/2022 0:00</td>\n",
              "      <td>10/1/2022 0:09</td>\n",
              "      <td>3190.0</td>\n",
              "      <td>39.948921</td>\n",
              "      <td>-75.169907</td>\n",
              "      <td>3158.0</td>\n",
              "      <td>39.925522</td>\n",
              "      <td>-75.169037</td>\n",
              "      <td>23553</td>\n",
              "      <td>30.0</td>\n",
              "      <td>One Way</td>\n",
              "      <td>Indego30</td>\n",
              "      <td>electric</td>\n",
              "    </tr>\n",
              "    <tr>\n",
              "      <th>1</th>\n",
              "      <td>536547050</td>\n",
              "      <td>19</td>\n",
              "      <td>10/1/2022 0:01</td>\n",
              "      <td>10/1/2022 0:20</td>\n",
              "      <td>3168.0</td>\n",
              "      <td>39.951340</td>\n",
              "      <td>-75.173943</td>\n",
              "      <td>3034.0</td>\n",
              "      <td>39.933151</td>\n",
              "      <td>-75.162483</td>\n",
              "      <td>22190</td>\n",
              "      <td>30.0</td>\n",
              "      <td>One Way</td>\n",
              "      <td>Indego30</td>\n",
              "      <td>electric</td>\n",
              "    </tr>\n",
              "    <tr>\n",
              "      <th>2</th>\n",
              "      <td>536547048</td>\n",
              "      <td>12</td>\n",
              "      <td>10/1/2022 0:02</td>\n",
              "      <td>10/1/2022 0:14</td>\n",
              "      <td>3190.0</td>\n",
              "      <td>39.948921</td>\n",
              "      <td>-75.169907</td>\n",
              "      <td>3158.0</td>\n",
              "      <td>39.925522</td>\n",
              "      <td>-75.169037</td>\n",
              "      <td>18789</td>\n",
              "      <td>30.0</td>\n",
              "      <td>One Way</td>\n",
              "      <td>Indego30</td>\n",
              "      <td>electric</td>\n",
              "    </tr>\n",
              "    <tr>\n",
              "      <th>3</th>\n",
              "      <td>536547046</td>\n",
              "      <td>5</td>\n",
              "      <td>10/1/2022 0:03</td>\n",
              "      <td>10/1/2022 0:08</td>\n",
              "      <td>3075.0</td>\n",
              "      <td>39.967178</td>\n",
              "      <td>-75.161247</td>\n",
              "      <td>3039.0</td>\n",
              "      <td>39.971569</td>\n",
              "      <td>-75.159927</td>\n",
              "      <td>23383</td>\n",
              "      <td>30.0</td>\n",
              "      <td>One Way</td>\n",
              "      <td>Indego30</td>\n",
              "      <td>electric</td>\n",
              "    </tr>\n",
              "    <tr>\n",
              "      <th>4</th>\n",
              "      <td>536547044</td>\n",
              "      <td>11</td>\n",
              "      <td>10/1/2022 0:03</td>\n",
              "      <td>10/1/2022 0:14</td>\n",
              "      <td>3050.0</td>\n",
              "      <td>39.953388</td>\n",
              "      <td>-75.154259</td>\n",
              "      <td>3075.0</td>\n",
              "      <td>39.967178</td>\n",
              "      <td>-75.161247</td>\n",
              "      <td>5367</td>\n",
              "      <td>30.0</td>\n",
              "      <td>One Way</td>\n",
              "      <td>Indego30</td>\n",
              "      <td>standard</td>\n",
              "    </tr>\n",
              "  </tbody>\n",
              "</table>\n",
              "</div>\n",
              "      <button class=\"colab-df-convert\" onclick=\"convertToInteractive('df-c263f7e5-93c1-4a89-a45a-5ccddab4d47e')\"\n",
              "              title=\"Convert this dataframe to an interactive table.\"\n",
              "              style=\"display:none;\">\n",
              "        \n",
              "  <svg xmlns=\"http://www.w3.org/2000/svg\" height=\"24px\"viewBox=\"0 0 24 24\"\n",
              "       width=\"24px\">\n",
              "    <path d=\"M0 0h24v24H0V0z\" fill=\"none\"/>\n",
              "    <path d=\"M18.56 5.44l.94 2.06.94-2.06 2.06-.94-2.06-.94-.94-2.06-.94 2.06-2.06.94zm-11 1L8.5 8.5l.94-2.06 2.06-.94-2.06-.94L8.5 2.5l-.94 2.06-2.06.94zm10 10l.94 2.06.94-2.06 2.06-.94-2.06-.94-.94-2.06-.94 2.06-2.06.94z\"/><path d=\"M17.41 7.96l-1.37-1.37c-.4-.4-.92-.59-1.43-.59-.52 0-1.04.2-1.43.59L10.3 9.45l-7.72 7.72c-.78.78-.78 2.05 0 2.83L4 21.41c.39.39.9.59 1.41.59.51 0 1.02-.2 1.41-.59l7.78-7.78 2.81-2.81c.8-.78.8-2.07 0-2.86zM5.41 20L4 18.59l7.72-7.72 1.47 1.35L5.41 20z\"/>\n",
              "  </svg>\n",
              "      </button>\n",
              "      \n",
              "  <style>\n",
              "    .colab-df-container {\n",
              "      display:flex;\n",
              "      flex-wrap:wrap;\n",
              "      gap: 12px;\n",
              "    }\n",
              "\n",
              "    .colab-df-convert {\n",
              "      background-color: #E8F0FE;\n",
              "      border: none;\n",
              "      border-radius: 50%;\n",
              "      cursor: pointer;\n",
              "      display: none;\n",
              "      fill: #1967D2;\n",
              "      height: 32px;\n",
              "      padding: 0 0 0 0;\n",
              "      width: 32px;\n",
              "    }\n",
              "\n",
              "    .colab-df-convert:hover {\n",
              "      background-color: #E2EBFA;\n",
              "      box-shadow: 0px 1px 2px rgba(60, 64, 67, 0.3), 0px 1px 3px 1px rgba(60, 64, 67, 0.15);\n",
              "      fill: #174EA6;\n",
              "    }\n",
              "\n",
              "    [theme=dark] .colab-df-convert {\n",
              "      background-color: #3B4455;\n",
              "      fill: #D2E3FC;\n",
              "    }\n",
              "\n",
              "    [theme=dark] .colab-df-convert:hover {\n",
              "      background-color: #434B5C;\n",
              "      box-shadow: 0px 1px 3px 1px rgba(0, 0, 0, 0.15);\n",
              "      filter: drop-shadow(0px 1px 2px rgba(0, 0, 0, 0.3));\n",
              "      fill: #FFFFFF;\n",
              "    }\n",
              "  </style>\n",
              "\n",
              "      <script>\n",
              "        const buttonEl =\n",
              "          document.querySelector('#df-c263f7e5-93c1-4a89-a45a-5ccddab4d47e button.colab-df-convert');\n",
              "        buttonEl.style.display =\n",
              "          google.colab.kernel.accessAllowed ? 'block' : 'none';\n",
              "\n",
              "        async function convertToInteractive(key) {\n",
              "          const element = document.querySelector('#df-c263f7e5-93c1-4a89-a45a-5ccddab4d47e');\n",
              "          const dataTable =\n",
              "            await google.colab.kernel.invokeFunction('convertToInteractive',\n",
              "                                                     [key], {});\n",
              "          if (!dataTable) return;\n",
              "\n",
              "          const docLinkHtml = 'Like what you see? Visit the ' +\n",
              "            '<a target=\"_blank\" href=https://colab.research.google.com/notebooks/data_table.ipynb>data table notebook</a>'\n",
              "            + ' to learn more about interactive tables.';\n",
              "          element.innerHTML = '';\n",
              "          dataTable['output_type'] = 'display_data';\n",
              "          await google.colab.output.renderOutput(dataTable, element);\n",
              "          const docLink = document.createElement('div');\n",
              "          docLink.innerHTML = docLinkHtml;\n",
              "          element.appendChild(docLink);\n",
              "        }\n",
              "      </script>\n",
              "    </div>\n",
              "  </div>\n",
              "  "
            ]
          },
          "metadata": {},
          "execution_count": 402
        }
      ],
      "source": [
        "# TODO: view `trips_df` (just the first 5 rows with .head() is fine) to make sure the import was successful\n",
        "trips_df.head(5)"
      ]
    },
    {
      "cell_type": "code",
      "execution_count": 403,
      "metadata": {
        "id": "Py_XvfZiNzXx",
        "colab": {
          "base_uri": "https://localhost:8080/",
          "height": 206
        },
        "outputId": "3200ba5c-2c51-4f46-a66d-2e0bb832a98a"
      },
      "outputs": [
        {
          "output_type": "execute_result",
          "data": {
            "text/plain": [
              "   station_id                       station_name day_of_go_live_date  status  \\\n",
              "0        3000                    Virtual Station           4/23/2015  Active   \n",
              "1        3004  Municipal Services Building Plaza           4/23/2015  Active   \n",
              "2        3005                  Welcome Park, NPS           4/23/2015  Active   \n",
              "3        3006                      40th & Spruce           4/23/2015  Active   \n",
              "4        3007             11th & Pine, Kahn Park           4/23/2015  Active   \n",
              "\n",
              "   zone  \n",
              "0     0  \n",
              "1     0  \n",
              "2     0  \n",
              "3     2  \n",
              "4     0  "
            ],
            "text/html": [
              "\n",
              "  <div id=\"df-19d751a4-8edf-4cb0-a52e-4e4958002d92\">\n",
              "    <div class=\"colab-df-container\">\n",
              "      <div>\n",
              "<style scoped>\n",
              "    .dataframe tbody tr th:only-of-type {\n",
              "        vertical-align: middle;\n",
              "    }\n",
              "\n",
              "    .dataframe tbody tr th {\n",
              "        vertical-align: top;\n",
              "    }\n",
              "\n",
              "    .dataframe thead th {\n",
              "        text-align: right;\n",
              "    }\n",
              "</style>\n",
              "<table border=\"1\" class=\"dataframe\">\n",
              "  <thead>\n",
              "    <tr style=\"text-align: right;\">\n",
              "      <th></th>\n",
              "      <th>station_id</th>\n",
              "      <th>station_name</th>\n",
              "      <th>day_of_go_live_date</th>\n",
              "      <th>status</th>\n",
              "      <th>zone</th>\n",
              "    </tr>\n",
              "  </thead>\n",
              "  <tbody>\n",
              "    <tr>\n",
              "      <th>0</th>\n",
              "      <td>3000</td>\n",
              "      <td>Virtual Station</td>\n",
              "      <td>4/23/2015</td>\n",
              "      <td>Active</td>\n",
              "      <td>0</td>\n",
              "    </tr>\n",
              "    <tr>\n",
              "      <th>1</th>\n",
              "      <td>3004</td>\n",
              "      <td>Municipal Services Building Plaza</td>\n",
              "      <td>4/23/2015</td>\n",
              "      <td>Active</td>\n",
              "      <td>0</td>\n",
              "    </tr>\n",
              "    <tr>\n",
              "      <th>2</th>\n",
              "      <td>3005</td>\n",
              "      <td>Welcome Park, NPS</td>\n",
              "      <td>4/23/2015</td>\n",
              "      <td>Active</td>\n",
              "      <td>0</td>\n",
              "    </tr>\n",
              "    <tr>\n",
              "      <th>3</th>\n",
              "      <td>3006</td>\n",
              "      <td>40th &amp; Spruce</td>\n",
              "      <td>4/23/2015</td>\n",
              "      <td>Active</td>\n",
              "      <td>2</td>\n",
              "    </tr>\n",
              "    <tr>\n",
              "      <th>4</th>\n",
              "      <td>3007</td>\n",
              "      <td>11th &amp; Pine, Kahn Park</td>\n",
              "      <td>4/23/2015</td>\n",
              "      <td>Active</td>\n",
              "      <td>0</td>\n",
              "    </tr>\n",
              "  </tbody>\n",
              "</table>\n",
              "</div>\n",
              "      <button class=\"colab-df-convert\" onclick=\"convertToInteractive('df-19d751a4-8edf-4cb0-a52e-4e4958002d92')\"\n",
              "              title=\"Convert this dataframe to an interactive table.\"\n",
              "              style=\"display:none;\">\n",
              "        \n",
              "  <svg xmlns=\"http://www.w3.org/2000/svg\" height=\"24px\"viewBox=\"0 0 24 24\"\n",
              "       width=\"24px\">\n",
              "    <path d=\"M0 0h24v24H0V0z\" fill=\"none\"/>\n",
              "    <path d=\"M18.56 5.44l.94 2.06.94-2.06 2.06-.94-2.06-.94-.94-2.06-.94 2.06-2.06.94zm-11 1L8.5 8.5l.94-2.06 2.06-.94-2.06-.94L8.5 2.5l-.94 2.06-2.06.94zm10 10l.94 2.06.94-2.06 2.06-.94-2.06-.94-.94-2.06-.94 2.06-2.06.94z\"/><path d=\"M17.41 7.96l-1.37-1.37c-.4-.4-.92-.59-1.43-.59-.52 0-1.04.2-1.43.59L10.3 9.45l-7.72 7.72c-.78.78-.78 2.05 0 2.83L4 21.41c.39.39.9.59 1.41.59.51 0 1.02-.2 1.41-.59l7.78-7.78 2.81-2.81c.8-.78.8-2.07 0-2.86zM5.41 20L4 18.59l7.72-7.72 1.47 1.35L5.41 20z\"/>\n",
              "  </svg>\n",
              "      </button>\n",
              "      \n",
              "  <style>\n",
              "    .colab-df-container {\n",
              "      display:flex;\n",
              "      flex-wrap:wrap;\n",
              "      gap: 12px;\n",
              "    }\n",
              "\n",
              "    .colab-df-convert {\n",
              "      background-color: #E8F0FE;\n",
              "      border: none;\n",
              "      border-radius: 50%;\n",
              "      cursor: pointer;\n",
              "      display: none;\n",
              "      fill: #1967D2;\n",
              "      height: 32px;\n",
              "      padding: 0 0 0 0;\n",
              "      width: 32px;\n",
              "    }\n",
              "\n",
              "    .colab-df-convert:hover {\n",
              "      background-color: #E2EBFA;\n",
              "      box-shadow: 0px 1px 2px rgba(60, 64, 67, 0.3), 0px 1px 3px 1px rgba(60, 64, 67, 0.15);\n",
              "      fill: #174EA6;\n",
              "    }\n",
              "\n",
              "    [theme=dark] .colab-df-convert {\n",
              "      background-color: #3B4455;\n",
              "      fill: #D2E3FC;\n",
              "    }\n",
              "\n",
              "    [theme=dark] .colab-df-convert:hover {\n",
              "      background-color: #434B5C;\n",
              "      box-shadow: 0px 1px 3px 1px rgba(0, 0, 0, 0.15);\n",
              "      filter: drop-shadow(0px 1px 2px rgba(0, 0, 0, 0.3));\n",
              "      fill: #FFFFFF;\n",
              "    }\n",
              "  </style>\n",
              "\n",
              "      <script>\n",
              "        const buttonEl =\n",
              "          document.querySelector('#df-19d751a4-8edf-4cb0-a52e-4e4958002d92 button.colab-df-convert');\n",
              "        buttonEl.style.display =\n",
              "          google.colab.kernel.accessAllowed ? 'block' : 'none';\n",
              "\n",
              "        async function convertToInteractive(key) {\n",
              "          const element = document.querySelector('#df-19d751a4-8edf-4cb0-a52e-4e4958002d92');\n",
              "          const dataTable =\n",
              "            await google.colab.kernel.invokeFunction('convertToInteractive',\n",
              "                                                     [key], {});\n",
              "          if (!dataTable) return;\n",
              "\n",
              "          const docLinkHtml = 'Like what you see? Visit the ' +\n",
              "            '<a target=\"_blank\" href=https://colab.research.google.com/notebooks/data_table.ipynb>data table notebook</a>'\n",
              "            + ' to learn more about interactive tables.';\n",
              "          element.innerHTML = '';\n",
              "          dataTable['output_type'] = 'display_data';\n",
              "          await google.colab.output.renderOutput(dataTable, element);\n",
              "          const docLink = document.createElement('div');\n",
              "          docLink.innerHTML = docLinkHtml;\n",
              "          element.appendChild(docLink);\n",
              "        }\n",
              "      </script>\n",
              "    </div>\n",
              "  </div>\n",
              "  "
            ]
          },
          "metadata": {},
          "execution_count": 403
        }
      ],
      "source": [
        "# TODO: view `stations_df` (just the first 5 rows with .head() is fine)to make sure the import was successful\n",
        "stations_df.head(5)"
      ]
    },
    {
      "cell_type": "code",
      "execution_count": 404,
      "metadata": {
        "id": "hZJwhz1lx4ZV",
        "colab": {
          "base_uri": "https://localhost:8080/",
          "height": 270
        },
        "outputId": "f8592bad-0724-4678-e893-b172112b5c22"
      },
      "outputs": [
        {
          "output_type": "execute_result",
          "data": {
            "text/plain": [
              "       date  actual_mean_temp  actual_min_temp  actual_max_temp  \\\n",
              "0  1/1/2022                35               28               42   \n",
              "1  1/2/2022                37               29               44   \n",
              "2  1/3/2022                36               28               44   \n",
              "3  1/4/2022                50               42               58   \n",
              "4  1/5/2022                37               24               50   \n",
              "\n",
              "   average_min_temp  average_max_temp  record_min_temp  record_max_temp  \\\n",
              "0                27                41                4               64   \n",
              "1                26                41                7               67   \n",
              "2                26                41               -3               63   \n",
              "3                26                41                2               68   \n",
              "4                26                40               -2               66   \n",
              "\n",
              "   record_min_temp_year  record_max_temp_year  actual_precipitation  \\\n",
              "0                  1881                  2005                  0.00   \n",
              "1                  1968                  1876                  0.00   \n",
              "2                  1879                  2000                  0.72   \n",
              "3                  1918                  1950                  0.37   \n",
              "4                  1904                  1997                  0.00   \n",
              "\n",
              "   average_precipitation  record_precipitation  \n",
              "0                   0.09                  1.60  \n",
              "1                   0.10                  1.68  \n",
              "2                   0.09                  1.50  \n",
              "3                   0.10                  1.51  \n",
              "4                   0.10                  2.24  "
            ],
            "text/html": [
              "\n",
              "  <div id=\"df-6355654c-aa90-40fe-9dc2-f50e3aebd84f\">\n",
              "    <div class=\"colab-df-container\">\n",
              "      <div>\n",
              "<style scoped>\n",
              "    .dataframe tbody tr th:only-of-type {\n",
              "        vertical-align: middle;\n",
              "    }\n",
              "\n",
              "    .dataframe tbody tr th {\n",
              "        vertical-align: top;\n",
              "    }\n",
              "\n",
              "    .dataframe thead th {\n",
              "        text-align: right;\n",
              "    }\n",
              "</style>\n",
              "<table border=\"1\" class=\"dataframe\">\n",
              "  <thead>\n",
              "    <tr style=\"text-align: right;\">\n",
              "      <th></th>\n",
              "      <th>date</th>\n",
              "      <th>actual_mean_temp</th>\n",
              "      <th>actual_min_temp</th>\n",
              "      <th>actual_max_temp</th>\n",
              "      <th>average_min_temp</th>\n",
              "      <th>average_max_temp</th>\n",
              "      <th>record_min_temp</th>\n",
              "      <th>record_max_temp</th>\n",
              "      <th>record_min_temp_year</th>\n",
              "      <th>record_max_temp_year</th>\n",
              "      <th>actual_precipitation</th>\n",
              "      <th>average_precipitation</th>\n",
              "      <th>record_precipitation</th>\n",
              "    </tr>\n",
              "  </thead>\n",
              "  <tbody>\n",
              "    <tr>\n",
              "      <th>0</th>\n",
              "      <td>1/1/2022</td>\n",
              "      <td>35</td>\n",
              "      <td>28</td>\n",
              "      <td>42</td>\n",
              "      <td>27</td>\n",
              "      <td>41</td>\n",
              "      <td>4</td>\n",
              "      <td>64</td>\n",
              "      <td>1881</td>\n",
              "      <td>2005</td>\n",
              "      <td>0.00</td>\n",
              "      <td>0.09</td>\n",
              "      <td>1.60</td>\n",
              "    </tr>\n",
              "    <tr>\n",
              "      <th>1</th>\n",
              "      <td>1/2/2022</td>\n",
              "      <td>37</td>\n",
              "      <td>29</td>\n",
              "      <td>44</td>\n",
              "      <td>26</td>\n",
              "      <td>41</td>\n",
              "      <td>7</td>\n",
              "      <td>67</td>\n",
              "      <td>1968</td>\n",
              "      <td>1876</td>\n",
              "      <td>0.00</td>\n",
              "      <td>0.10</td>\n",
              "      <td>1.68</td>\n",
              "    </tr>\n",
              "    <tr>\n",
              "      <th>2</th>\n",
              "      <td>1/3/2022</td>\n",
              "      <td>36</td>\n",
              "      <td>28</td>\n",
              "      <td>44</td>\n",
              "      <td>26</td>\n",
              "      <td>41</td>\n",
              "      <td>-3</td>\n",
              "      <td>63</td>\n",
              "      <td>1879</td>\n",
              "      <td>2000</td>\n",
              "      <td>0.72</td>\n",
              "      <td>0.09</td>\n",
              "      <td>1.50</td>\n",
              "    </tr>\n",
              "    <tr>\n",
              "      <th>3</th>\n",
              "      <td>1/4/2022</td>\n",
              "      <td>50</td>\n",
              "      <td>42</td>\n",
              "      <td>58</td>\n",
              "      <td>26</td>\n",
              "      <td>41</td>\n",
              "      <td>2</td>\n",
              "      <td>68</td>\n",
              "      <td>1918</td>\n",
              "      <td>1950</td>\n",
              "      <td>0.37</td>\n",
              "      <td>0.10</td>\n",
              "      <td>1.51</td>\n",
              "    </tr>\n",
              "    <tr>\n",
              "      <th>4</th>\n",
              "      <td>1/5/2022</td>\n",
              "      <td>37</td>\n",
              "      <td>24</td>\n",
              "      <td>50</td>\n",
              "      <td>26</td>\n",
              "      <td>40</td>\n",
              "      <td>-2</td>\n",
              "      <td>66</td>\n",
              "      <td>1904</td>\n",
              "      <td>1997</td>\n",
              "      <td>0.00</td>\n",
              "      <td>0.10</td>\n",
              "      <td>2.24</td>\n",
              "    </tr>\n",
              "  </tbody>\n",
              "</table>\n",
              "</div>\n",
              "      <button class=\"colab-df-convert\" onclick=\"convertToInteractive('df-6355654c-aa90-40fe-9dc2-f50e3aebd84f')\"\n",
              "              title=\"Convert this dataframe to an interactive table.\"\n",
              "              style=\"display:none;\">\n",
              "        \n",
              "  <svg xmlns=\"http://www.w3.org/2000/svg\" height=\"24px\"viewBox=\"0 0 24 24\"\n",
              "       width=\"24px\">\n",
              "    <path d=\"M0 0h24v24H0V0z\" fill=\"none\"/>\n",
              "    <path d=\"M18.56 5.44l.94 2.06.94-2.06 2.06-.94-2.06-.94-.94-2.06-.94 2.06-2.06.94zm-11 1L8.5 8.5l.94-2.06 2.06-.94-2.06-.94L8.5 2.5l-.94 2.06-2.06.94zm10 10l.94 2.06.94-2.06 2.06-.94-2.06-.94-.94-2.06-.94 2.06-2.06.94z\"/><path d=\"M17.41 7.96l-1.37-1.37c-.4-.4-.92-.59-1.43-.59-.52 0-1.04.2-1.43.59L10.3 9.45l-7.72 7.72c-.78.78-.78 2.05 0 2.83L4 21.41c.39.39.9.59 1.41.59.51 0 1.02-.2 1.41-.59l7.78-7.78 2.81-2.81c.8-.78.8-2.07 0-2.86zM5.41 20L4 18.59l7.72-7.72 1.47 1.35L5.41 20z\"/>\n",
              "  </svg>\n",
              "      </button>\n",
              "      \n",
              "  <style>\n",
              "    .colab-df-container {\n",
              "      display:flex;\n",
              "      flex-wrap:wrap;\n",
              "      gap: 12px;\n",
              "    }\n",
              "\n",
              "    .colab-df-convert {\n",
              "      background-color: #E8F0FE;\n",
              "      border: none;\n",
              "      border-radius: 50%;\n",
              "      cursor: pointer;\n",
              "      display: none;\n",
              "      fill: #1967D2;\n",
              "      height: 32px;\n",
              "      padding: 0 0 0 0;\n",
              "      width: 32px;\n",
              "    }\n",
              "\n",
              "    .colab-df-convert:hover {\n",
              "      background-color: #E2EBFA;\n",
              "      box-shadow: 0px 1px 2px rgba(60, 64, 67, 0.3), 0px 1px 3px 1px rgba(60, 64, 67, 0.15);\n",
              "      fill: #174EA6;\n",
              "    }\n",
              "\n",
              "    [theme=dark] .colab-df-convert {\n",
              "      background-color: #3B4455;\n",
              "      fill: #D2E3FC;\n",
              "    }\n",
              "\n",
              "    [theme=dark] .colab-df-convert:hover {\n",
              "      background-color: #434B5C;\n",
              "      box-shadow: 0px 1px 3px 1px rgba(0, 0, 0, 0.15);\n",
              "      filter: drop-shadow(0px 1px 2px rgba(0, 0, 0, 0.3));\n",
              "      fill: #FFFFFF;\n",
              "    }\n",
              "  </style>\n",
              "\n",
              "      <script>\n",
              "        const buttonEl =\n",
              "          document.querySelector('#df-6355654c-aa90-40fe-9dc2-f50e3aebd84f button.colab-df-convert');\n",
              "        buttonEl.style.display =\n",
              "          google.colab.kernel.accessAllowed ? 'block' : 'none';\n",
              "\n",
              "        async function convertToInteractive(key) {\n",
              "          const element = document.querySelector('#df-6355654c-aa90-40fe-9dc2-f50e3aebd84f');\n",
              "          const dataTable =\n",
              "            await google.colab.kernel.invokeFunction('convertToInteractive',\n",
              "                                                     [key], {});\n",
              "          if (!dataTable) return;\n",
              "\n",
              "          const docLinkHtml = 'Like what you see? Visit the ' +\n",
              "            '<a target=\"_blank\" href=https://colab.research.google.com/notebooks/data_table.ipynb>data table notebook</a>'\n",
              "            + ' to learn more about interactive tables.';\n",
              "          element.innerHTML = '';\n",
              "          dataTable['output_type'] = 'display_data';\n",
              "          await google.colab.output.renderOutput(dataTable, element);\n",
              "          const docLink = document.createElement('div');\n",
              "          docLink.innerHTML = docLinkHtml;\n",
              "          element.appendChild(docLink);\n",
              "        }\n",
              "      </script>\n",
              "    </div>\n",
              "  </div>\n",
              "  "
            ]
          },
          "metadata": {},
          "execution_count": 404
        }
      ],
      "source": [
        "# TODO: view `weather_df` (just the first 5 rows with .head() is fine)to make sure the import was successful\n",
        "weather_df.head(5)"
      ]
    },
    {
      "cell_type": "code",
      "source": [
        "# TODO: view `reviews_df` (just the first 5 rows with .head() is fine)to make sure the import was successful\n",
        "reviews_df.head(5)"
      ],
      "metadata": {
        "id": "FuxEO2U6VCNA",
        "colab": {
          "base_uri": "https://localhost:8080/",
          "height": 206
        },
        "outputId": "f5537537-4936-4eaa-a785-8a53658bea33"
      },
      "execution_count": 405,
      "outputs": [
        {
          "output_type": "execute_result",
          "data": {
            "text/plain": [
              "          restaurant                                             review  zone\n",
              "0  Gloria Restaurant  Today is the third time I've come to Gloria Re...     1\n",
              "1  Gloria Restaurant  I have been to Gloria Restaurant a couple time...     1\n",
              "2  Gloria Restaurant  Last Saturday I went to this restaurant hoping...     1\n",
              "3  Gloria Restaurant  First off, let me say I have never been to the...     1\n",
              "4  Gloria Restaurant  I've been coming here for a while now and I wa...     1"
            ],
            "text/html": [
              "\n",
              "  <div id=\"df-e25cc17c-ab2f-4c61-89e1-cf18a11ab833\">\n",
              "    <div class=\"colab-df-container\">\n",
              "      <div>\n",
              "<style scoped>\n",
              "    .dataframe tbody tr th:only-of-type {\n",
              "        vertical-align: middle;\n",
              "    }\n",
              "\n",
              "    .dataframe tbody tr th {\n",
              "        vertical-align: top;\n",
              "    }\n",
              "\n",
              "    .dataframe thead th {\n",
              "        text-align: right;\n",
              "    }\n",
              "</style>\n",
              "<table border=\"1\" class=\"dataframe\">\n",
              "  <thead>\n",
              "    <tr style=\"text-align: right;\">\n",
              "      <th></th>\n",
              "      <th>restaurant</th>\n",
              "      <th>review</th>\n",
              "      <th>zone</th>\n",
              "    </tr>\n",
              "  </thead>\n",
              "  <tbody>\n",
              "    <tr>\n",
              "      <th>0</th>\n",
              "      <td>Gloria Restaurant</td>\n",
              "      <td>Today is the third time I've come to Gloria Re...</td>\n",
              "      <td>1</td>\n",
              "    </tr>\n",
              "    <tr>\n",
              "      <th>1</th>\n",
              "      <td>Gloria Restaurant</td>\n",
              "      <td>I have been to Gloria Restaurant a couple time...</td>\n",
              "      <td>1</td>\n",
              "    </tr>\n",
              "    <tr>\n",
              "      <th>2</th>\n",
              "      <td>Gloria Restaurant</td>\n",
              "      <td>Last Saturday I went to this restaurant hoping...</td>\n",
              "      <td>1</td>\n",
              "    </tr>\n",
              "    <tr>\n",
              "      <th>3</th>\n",
              "      <td>Gloria Restaurant</td>\n",
              "      <td>First off, let me say I have never been to the...</td>\n",
              "      <td>1</td>\n",
              "    </tr>\n",
              "    <tr>\n",
              "      <th>4</th>\n",
              "      <td>Gloria Restaurant</td>\n",
              "      <td>I've been coming here for a while now and I wa...</td>\n",
              "      <td>1</td>\n",
              "    </tr>\n",
              "  </tbody>\n",
              "</table>\n",
              "</div>\n",
              "      <button class=\"colab-df-convert\" onclick=\"convertToInteractive('df-e25cc17c-ab2f-4c61-89e1-cf18a11ab833')\"\n",
              "              title=\"Convert this dataframe to an interactive table.\"\n",
              "              style=\"display:none;\">\n",
              "        \n",
              "  <svg xmlns=\"http://www.w3.org/2000/svg\" height=\"24px\"viewBox=\"0 0 24 24\"\n",
              "       width=\"24px\">\n",
              "    <path d=\"M0 0h24v24H0V0z\" fill=\"none\"/>\n",
              "    <path d=\"M18.56 5.44l.94 2.06.94-2.06 2.06-.94-2.06-.94-.94-2.06-.94 2.06-2.06.94zm-11 1L8.5 8.5l.94-2.06 2.06-.94-2.06-.94L8.5 2.5l-.94 2.06-2.06.94zm10 10l.94 2.06.94-2.06 2.06-.94-2.06-.94-.94-2.06-.94 2.06-2.06.94z\"/><path d=\"M17.41 7.96l-1.37-1.37c-.4-.4-.92-.59-1.43-.59-.52 0-1.04.2-1.43.59L10.3 9.45l-7.72 7.72c-.78.78-.78 2.05 0 2.83L4 21.41c.39.39.9.59 1.41.59.51 0 1.02-.2 1.41-.59l7.78-7.78 2.81-2.81c.8-.78.8-2.07 0-2.86zM5.41 20L4 18.59l7.72-7.72 1.47 1.35L5.41 20z\"/>\n",
              "  </svg>\n",
              "      </button>\n",
              "      \n",
              "  <style>\n",
              "    .colab-df-container {\n",
              "      display:flex;\n",
              "      flex-wrap:wrap;\n",
              "      gap: 12px;\n",
              "    }\n",
              "\n",
              "    .colab-df-convert {\n",
              "      background-color: #E8F0FE;\n",
              "      border: none;\n",
              "      border-radius: 50%;\n",
              "      cursor: pointer;\n",
              "      display: none;\n",
              "      fill: #1967D2;\n",
              "      height: 32px;\n",
              "      padding: 0 0 0 0;\n",
              "      width: 32px;\n",
              "    }\n",
              "\n",
              "    .colab-df-convert:hover {\n",
              "      background-color: #E2EBFA;\n",
              "      box-shadow: 0px 1px 2px rgba(60, 64, 67, 0.3), 0px 1px 3px 1px rgba(60, 64, 67, 0.15);\n",
              "      fill: #174EA6;\n",
              "    }\n",
              "\n",
              "    [theme=dark] .colab-df-convert {\n",
              "      background-color: #3B4455;\n",
              "      fill: #D2E3FC;\n",
              "    }\n",
              "\n",
              "    [theme=dark] .colab-df-convert:hover {\n",
              "      background-color: #434B5C;\n",
              "      box-shadow: 0px 1px 3px 1px rgba(0, 0, 0, 0.15);\n",
              "      filter: drop-shadow(0px 1px 2px rgba(0, 0, 0, 0.3));\n",
              "      fill: #FFFFFF;\n",
              "    }\n",
              "  </style>\n",
              "\n",
              "      <script>\n",
              "        const buttonEl =\n",
              "          document.querySelector('#df-e25cc17c-ab2f-4c61-89e1-cf18a11ab833 button.colab-df-convert');\n",
              "        buttonEl.style.display =\n",
              "          google.colab.kernel.accessAllowed ? 'block' : 'none';\n",
              "\n",
              "        async function convertToInteractive(key) {\n",
              "          const element = document.querySelector('#df-e25cc17c-ab2f-4c61-89e1-cf18a11ab833');\n",
              "          const dataTable =\n",
              "            await google.colab.kernel.invokeFunction('convertToInteractive',\n",
              "                                                     [key], {});\n",
              "          if (!dataTable) return;\n",
              "\n",
              "          const docLinkHtml = 'Like what you see? Visit the ' +\n",
              "            '<a target=\"_blank\" href=https://colab.research.google.com/notebooks/data_table.ipynb>data table notebook</a>'\n",
              "            + ' to learn more about interactive tables.';\n",
              "          element.innerHTML = '';\n",
              "          dataTable['output_type'] = 'display_data';\n",
              "          await google.colab.output.renderOutput(dataTable, element);\n",
              "          const docLink = document.createElement('div');\n",
              "          docLink.innerHTML = docLinkHtml;\n",
              "          element.appendChild(docLink);\n",
              "        }\n",
              "      </script>\n",
              "    </div>\n",
              "  </div>\n",
              "  "
            ]
          },
          "metadata": {},
          "execution_count": 405
        }
      ]
    },
    {
      "cell_type": "markdown",
      "metadata": {
        "id": "CPitr7eRJfO0"
      },
      "source": [
        "### 1.1 Data Preprocessing\n",
        "\n",
        "Next, we are going to want to clean up our dataframes, namely `trips_df` and `stations_df`, by \n",
        "\n",
        "1.   Fixing columns\n",
        "2.   Changing datatypes\n",
        "3.   Handling nulls\n",
        "\n",
        "\n",
        "First, let us view the first few rows of `trips_df`. You may also call `.info()` and additionally check the cardinality of each column to view the specifics of the dataframe. This is a good first step to take for Exploratory Data Analysis (EDA)."
      ]
    },
    {
      "cell_type": "code",
      "execution_count": 406,
      "metadata": {
        "id": "2nCrp9Z2SCRD",
        "colab": {
          "base_uri": "https://localhost:8080/"
        },
        "outputId": "d148d417-58ec-4c97-cb4f-8ccdae165768"
      },
      "outputs": [
        {
          "output_type": "stream",
          "name": "stdout",
          "text": [
            "<class 'pandas.core.frame.DataFrame'>\n",
            "RangeIndex: 15502 entries, 0 to 15501\n",
            "Data columns (total 15 columns):\n",
            " #   Column               Non-Null Count  Dtype  \n",
            "---  ------               --------------  -----  \n",
            " 0   trip_id              15502 non-null  int64  \n",
            " 1   duration             15502 non-null  int64  \n",
            " 2   start_time           15502 non-null  object \n",
            " 3   end_time             15502 non-null  object \n",
            " 4   start_station        15477 non-null  float64\n",
            " 5   start_lat            15477 non-null  float64\n",
            " 6   start_lon            15477 non-null  float64\n",
            " 7   end_station          15477 non-null  float64\n",
            " 8   end_lat              15255 non-null  float64\n",
            " 9   end_lon              15255 non-null  float64\n",
            " 10  bike_id              15477 non-null  object \n",
            " 11  plan_duration        15477 non-null  float64\n",
            " 12  trip_route_category  15477 non-null  object \n",
            " 13  passholder_type      15477 non-null  object \n",
            " 14  bike_type            15477 non-null  object \n",
            "dtypes: float64(7), int64(2), object(6)\n",
            "memory usage: 1.8+ MB\n"
          ]
        }
      ],
      "source": [
        "# view the .info() information for trips_df\n",
        "trips_df.info()"
      ]
    },
    {
      "cell_type": "markdown",
      "metadata": {
        "id": "c-ukI21sPkYV"
      },
      "source": [
        "#### 1.1.1 Cleaning `trips_df` (4 points)\n",
        "\n",
        "`.info()` gives us meaningful information regarding columns, their types, and the amount of nulls, based on which we can now clean our dataframe. \n",
        "\n",
        "Perform these steps and save results on a new dataframe: `trips_cleaned_df` \n",
        "\n",
        "**TODO**:\n",
        "* Drop the column `plan_duration`. We already have that information in the column `passholder_type`, which is more understandable.\n",
        "* Drop the rows where `end_station` is 3000. This is a virtual station used for maintainance, and doesn't represent a real trip.\n",
        "* Drop all rows with null values.\n",
        "* Cast the columns:\n",
        "  -  `start_time`, `end_time`, `trip_route_category`, `passholder_type`, `bike_type` as **string**. (Cast to 'string' and not 'str') \n",
        "  - `bike_id` as **int**.\n",
        "* Save results as `trips_cleaned_df` and sort it by `trip_id` ascending\n",
        "\n",
        "After performing these steps, `trips_cleaned_df` should have the following schema:\n",
        "\n",
        "**Final Schema**:\n",
        ">trip_id | duration | start_time | end_time | start_station | start_lat | start_lon | end_station |  end_lat | end_lon |  bike_id | trip_route_category | passholder_type | bike_type\n",
        ">--- | --- | --- |--- | --- | --- | --- |--- | --- | --- |--- |--- | --- | --- |"
      ]
    },
    {
      "cell_type": "code",
      "execution_count": 407,
      "metadata": {
        "id": "cMmQTXV7P4YK"
      },
      "outputs": [],
      "source": [
        "# TO-DO: drop the plan_duration column\n",
        "trips_df = trips_df.drop('plan_duration', axis = 1)"
      ]
    },
    {
      "cell_type": "code",
      "source": [
        "# TO-DO: drop rows with end_station = 3000\n",
        "trips_df = trips_df = trips_df[trips_df.end_station != 3000]"
      ],
      "metadata": {
        "id": "4QDdAb9es2Lw"
      },
      "execution_count": 408,
      "outputs": []
    },
    {
      "cell_type": "code",
      "source": [
        "# TO-DO: drop nulls\n",
        "trips_df = trips_df.dropna()"
      ],
      "metadata": {
        "id": "TZmxq-d_s1zR"
      },
      "execution_count": 409,
      "outputs": []
    },
    {
      "cell_type": "code",
      "source": [
        "# TO-DO: cast columns as indicated types\n",
        "# matches_cleaned_df = matches_cleaned_df.astype({'home_clubname': 'string', 'away_clubname': 'string', 'venue':'string'})\n",
        "trips_df = trips_df.astype({'start_time': 'string', 'end_time': 'string', 'trip_route_category': 'string', 'passholder_type': 'string', 'bike_type': 'string', 'bike_id': 'int'})"
      ],
      "metadata": {
        "id": "gwmG8EDds1VH"
      },
      "execution_count": 410,
      "outputs": []
    },
    {
      "cell_type": "code",
      "source": [
        "#TO-DO: save changes to trips_cleaned_df that is sorted by 'trip_id' \n",
        "trips_cleaned_df = trips_df.sort_values(by = 'trip_id', ascending = True)"
      ],
      "metadata": {
        "id": "XTOBCFtPROG-"
      },
      "execution_count": 411,
      "outputs": []
    },
    {
      "cell_type": "code",
      "execution_count": 412,
      "metadata": {
        "id": "9SYxGtgOQKLY",
        "colab": {
          "base_uri": "https://localhost:8080/"
        },
        "outputId": "feadd978-bc45-4df6-fd54-65115f35da0b"
      },
      "outputs": [
        {
          "output_type": "stream",
          "name": "stdout",
          "text": [
            "Correct! You earned 4/4 points. You are a star!\n",
            "\n",
            "Your submission has been successfully recorded in the gradebook.\n"
          ]
        }
      ],
      "source": [
        "# 4 points\n",
        "grader.grade(test_case_id = 'test_cleaning_trips', answer = [len(trips_cleaned_df), trips_cleaned_df.head()])"
      ]
    },
    {
      "cell_type": "markdown",
      "metadata": {
        "id": "aI_zsI3hNJCf"
      },
      "source": [
        "#### 1.1.2 Processing Stations (3 points)\n",
        "\n",
        "`stations_df` contains information on Indego stations across the city. We will clean this df by removing Inactive stations and stations created after October 2022.\n",
        "\n",
        "Perform these steps and assign the cleaned dataframe to `stations_cleaned_df`.\n",
        "\n",
        "**TODO**:\n",
        "* **Cast** column `day_of_go_live_date` as datetime64[ns].\n",
        "* **Drop** the stations that were created **after 10/7/2022** (i.e. we want to keep the ones on or before 10/7/2022)\n",
        "* **Drop** the stations that have an **Inactive** status.\n",
        "* **Drop** the columns `day_of_go_live_date` and `status`\n",
        "* **Create** a new column called `is_west_philly` that is True if zone is 2 or 3 and False otherwise.\n",
        "* **Save** the resulting dataframe as `stations_cleaned_df`, and sort it by `station_id` ascending\n",
        "\n",
        "\n",
        "After performing these steps, `stations_cleaned_df` should have the following schema:\n",
        "\n",
        "**Final Schema**:\n",
        ">station_id | station_name | zone | is_west_philly\n",
        ">--- | --- | --- |--- |"
      ]
    },
    {
      "cell_type": "code",
      "execution_count": 413,
      "metadata": {
        "id": "ZOfBFzD7NK8i"
      },
      "outputs": [],
      "source": [
        "# TO-DO: Your code goes below. We recommend creating code comments for each of the bullets above (like we did for you in 1.1.1)"
      ]
    },
    {
      "cell_type": "code",
      "source": [
        "# Cast column day_of_go_live_date as datetime64[ns].\n",
        "stations_df['day_of_go_live_date'] = pd.to_datetime(stations_df['day_of_go_live_date'])\n",
        "stations_df"
      ],
      "metadata": {
        "colab": {
          "base_uri": "https://localhost:8080/",
          "height": 423
        },
        "id": "ix3HSX_JRXMD",
        "outputId": "35b5c9ad-596d-4f50-f475-e78556b79050"
      },
      "execution_count": 414,
      "outputs": [
        {
          "output_type": "execute_result",
          "data": {
            "text/plain": [
              "     station_id                       station_name day_of_go_live_date  \\\n",
              "0          3000                    Virtual Station          2015-04-23   \n",
              "1          3004  Municipal Services Building Plaza          2015-04-23   \n",
              "2          3005                  Welcome Park, NPS          2015-04-23   \n",
              "3          3006                      40th & Spruce          2015-04-23   \n",
              "4          3007             11th & Pine, Kahn Park          2015-04-23   \n",
              "..          ...                                ...                 ...   \n",
              "198        3282                      10th & Nevada          2022-07-21   \n",
              "199        3287                     49th & Chester          2022-09-07   \n",
              "200        3288                      18th & Walnut          2022-12-03   \n",
              "201        3289                      23rd & Spruce          2022-12-03   \n",
              "202        3290                      14th & Market          2022-12-15   \n",
              "\n",
              "     status  zone  \n",
              "0    Active     0  \n",
              "1    Active     0  \n",
              "2    Active     0  \n",
              "3    Active     2  \n",
              "4    Active     0  \n",
              "..      ...   ...  \n",
              "198  Active     5  \n",
              "199  Active     3  \n",
              "200  Active     1  \n",
              "201  Active     1  \n",
              "202  Active     1  \n",
              "\n",
              "[203 rows x 5 columns]"
            ],
            "text/html": [
              "\n",
              "  <div id=\"df-8fc81416-31a5-4524-b1ca-a6f71a8c88f9\">\n",
              "    <div class=\"colab-df-container\">\n",
              "      <div>\n",
              "<style scoped>\n",
              "    .dataframe tbody tr th:only-of-type {\n",
              "        vertical-align: middle;\n",
              "    }\n",
              "\n",
              "    .dataframe tbody tr th {\n",
              "        vertical-align: top;\n",
              "    }\n",
              "\n",
              "    .dataframe thead th {\n",
              "        text-align: right;\n",
              "    }\n",
              "</style>\n",
              "<table border=\"1\" class=\"dataframe\">\n",
              "  <thead>\n",
              "    <tr style=\"text-align: right;\">\n",
              "      <th></th>\n",
              "      <th>station_id</th>\n",
              "      <th>station_name</th>\n",
              "      <th>day_of_go_live_date</th>\n",
              "      <th>status</th>\n",
              "      <th>zone</th>\n",
              "    </tr>\n",
              "  </thead>\n",
              "  <tbody>\n",
              "    <tr>\n",
              "      <th>0</th>\n",
              "      <td>3000</td>\n",
              "      <td>Virtual Station</td>\n",
              "      <td>2015-04-23</td>\n",
              "      <td>Active</td>\n",
              "      <td>0</td>\n",
              "    </tr>\n",
              "    <tr>\n",
              "      <th>1</th>\n",
              "      <td>3004</td>\n",
              "      <td>Municipal Services Building Plaza</td>\n",
              "      <td>2015-04-23</td>\n",
              "      <td>Active</td>\n",
              "      <td>0</td>\n",
              "    </tr>\n",
              "    <tr>\n",
              "      <th>2</th>\n",
              "      <td>3005</td>\n",
              "      <td>Welcome Park, NPS</td>\n",
              "      <td>2015-04-23</td>\n",
              "      <td>Active</td>\n",
              "      <td>0</td>\n",
              "    </tr>\n",
              "    <tr>\n",
              "      <th>3</th>\n",
              "      <td>3006</td>\n",
              "      <td>40th &amp; Spruce</td>\n",
              "      <td>2015-04-23</td>\n",
              "      <td>Active</td>\n",
              "      <td>2</td>\n",
              "    </tr>\n",
              "    <tr>\n",
              "      <th>4</th>\n",
              "      <td>3007</td>\n",
              "      <td>11th &amp; Pine, Kahn Park</td>\n",
              "      <td>2015-04-23</td>\n",
              "      <td>Active</td>\n",
              "      <td>0</td>\n",
              "    </tr>\n",
              "    <tr>\n",
              "      <th>...</th>\n",
              "      <td>...</td>\n",
              "      <td>...</td>\n",
              "      <td>...</td>\n",
              "      <td>...</td>\n",
              "      <td>...</td>\n",
              "    </tr>\n",
              "    <tr>\n",
              "      <th>198</th>\n",
              "      <td>3282</td>\n",
              "      <td>10th &amp; Nevada</td>\n",
              "      <td>2022-07-21</td>\n",
              "      <td>Active</td>\n",
              "      <td>5</td>\n",
              "    </tr>\n",
              "    <tr>\n",
              "      <th>199</th>\n",
              "      <td>3287</td>\n",
              "      <td>49th &amp; Chester</td>\n",
              "      <td>2022-09-07</td>\n",
              "      <td>Active</td>\n",
              "      <td>3</td>\n",
              "    </tr>\n",
              "    <tr>\n",
              "      <th>200</th>\n",
              "      <td>3288</td>\n",
              "      <td>18th &amp; Walnut</td>\n",
              "      <td>2022-12-03</td>\n",
              "      <td>Active</td>\n",
              "      <td>1</td>\n",
              "    </tr>\n",
              "    <tr>\n",
              "      <th>201</th>\n",
              "      <td>3289</td>\n",
              "      <td>23rd &amp; Spruce</td>\n",
              "      <td>2022-12-03</td>\n",
              "      <td>Active</td>\n",
              "      <td>1</td>\n",
              "    </tr>\n",
              "    <tr>\n",
              "      <th>202</th>\n",
              "      <td>3290</td>\n",
              "      <td>14th &amp; Market</td>\n",
              "      <td>2022-12-15</td>\n",
              "      <td>Active</td>\n",
              "      <td>1</td>\n",
              "    </tr>\n",
              "  </tbody>\n",
              "</table>\n",
              "<p>203 rows × 5 columns</p>\n",
              "</div>\n",
              "      <button class=\"colab-df-convert\" onclick=\"convertToInteractive('df-8fc81416-31a5-4524-b1ca-a6f71a8c88f9')\"\n",
              "              title=\"Convert this dataframe to an interactive table.\"\n",
              "              style=\"display:none;\">\n",
              "        \n",
              "  <svg xmlns=\"http://www.w3.org/2000/svg\" height=\"24px\"viewBox=\"0 0 24 24\"\n",
              "       width=\"24px\">\n",
              "    <path d=\"M0 0h24v24H0V0z\" fill=\"none\"/>\n",
              "    <path d=\"M18.56 5.44l.94 2.06.94-2.06 2.06-.94-2.06-.94-.94-2.06-.94 2.06-2.06.94zm-11 1L8.5 8.5l.94-2.06 2.06-.94-2.06-.94L8.5 2.5l-.94 2.06-2.06.94zm10 10l.94 2.06.94-2.06 2.06-.94-2.06-.94-.94-2.06-.94 2.06-2.06.94z\"/><path d=\"M17.41 7.96l-1.37-1.37c-.4-.4-.92-.59-1.43-.59-.52 0-1.04.2-1.43.59L10.3 9.45l-7.72 7.72c-.78.78-.78 2.05 0 2.83L4 21.41c.39.39.9.59 1.41.59.51 0 1.02-.2 1.41-.59l7.78-7.78 2.81-2.81c.8-.78.8-2.07 0-2.86zM5.41 20L4 18.59l7.72-7.72 1.47 1.35L5.41 20z\"/>\n",
              "  </svg>\n",
              "      </button>\n",
              "      \n",
              "  <style>\n",
              "    .colab-df-container {\n",
              "      display:flex;\n",
              "      flex-wrap:wrap;\n",
              "      gap: 12px;\n",
              "    }\n",
              "\n",
              "    .colab-df-convert {\n",
              "      background-color: #E8F0FE;\n",
              "      border: none;\n",
              "      border-radius: 50%;\n",
              "      cursor: pointer;\n",
              "      display: none;\n",
              "      fill: #1967D2;\n",
              "      height: 32px;\n",
              "      padding: 0 0 0 0;\n",
              "      width: 32px;\n",
              "    }\n",
              "\n",
              "    .colab-df-convert:hover {\n",
              "      background-color: #E2EBFA;\n",
              "      box-shadow: 0px 1px 2px rgba(60, 64, 67, 0.3), 0px 1px 3px 1px rgba(60, 64, 67, 0.15);\n",
              "      fill: #174EA6;\n",
              "    }\n",
              "\n",
              "    [theme=dark] .colab-df-convert {\n",
              "      background-color: #3B4455;\n",
              "      fill: #D2E3FC;\n",
              "    }\n",
              "\n",
              "    [theme=dark] .colab-df-convert:hover {\n",
              "      background-color: #434B5C;\n",
              "      box-shadow: 0px 1px 3px 1px rgba(0, 0, 0, 0.15);\n",
              "      filter: drop-shadow(0px 1px 2px rgba(0, 0, 0, 0.3));\n",
              "      fill: #FFFFFF;\n",
              "    }\n",
              "  </style>\n",
              "\n",
              "      <script>\n",
              "        const buttonEl =\n",
              "          document.querySelector('#df-8fc81416-31a5-4524-b1ca-a6f71a8c88f9 button.colab-df-convert');\n",
              "        buttonEl.style.display =\n",
              "          google.colab.kernel.accessAllowed ? 'block' : 'none';\n",
              "\n",
              "        async function convertToInteractive(key) {\n",
              "          const element = document.querySelector('#df-8fc81416-31a5-4524-b1ca-a6f71a8c88f9');\n",
              "          const dataTable =\n",
              "            await google.colab.kernel.invokeFunction('convertToInteractive',\n",
              "                                                     [key], {});\n",
              "          if (!dataTable) return;\n",
              "\n",
              "          const docLinkHtml = 'Like what you see? Visit the ' +\n",
              "            '<a target=\"_blank\" href=https://colab.research.google.com/notebooks/data_table.ipynb>data table notebook</a>'\n",
              "            + ' to learn more about interactive tables.';\n",
              "          element.innerHTML = '';\n",
              "          dataTable['output_type'] = 'display_data';\n",
              "          await google.colab.output.renderOutput(dataTable, element);\n",
              "          const docLink = document.createElement('div');\n",
              "          docLink.innerHTML = docLinkHtml;\n",
              "          element.appendChild(docLink);\n",
              "        }\n",
              "      </script>\n",
              "    </div>\n",
              "  </div>\n",
              "  "
            ]
          },
          "metadata": {},
          "execution_count": 414
        }
      ]
    },
    {
      "cell_type": "code",
      "source": [
        "#Drop the stations that were created after 10/7/2022\n",
        "stations_df = stations_df[stations_df['day_of_go_live_date'] <= '2022-10-7']"
      ],
      "metadata": {
        "id": "8DMlvgxmVujL"
      },
      "execution_count": 415,
      "outputs": []
    },
    {
      "cell_type": "code",
      "source": [
        "#Drop the stations that have an Inactive status\n",
        "stations_df = stations_df[stations_df['status'] != 'Inactive']"
      ],
      "metadata": {
        "id": "_BJW2YclXBGr"
      },
      "execution_count": 416,
      "outputs": []
    },
    {
      "cell_type": "code",
      "source": [
        "#Drop the columns day_of_go_live_date and status\n",
        "stations_df = stations_df.drop(['day_of_go_live_date', 'status'], axis = 1)"
      ],
      "metadata": {
        "id": "qLcoxLnGaMJT"
      },
      "execution_count": 417,
      "outputs": []
    },
    {
      "cell_type": "code",
      "source": [
        "#Create a new column called is_west_philly that is True if zone is 2 or 3 and False otherwise.\n",
        "stations_df['is_west_philly'] = stations_df['zone'].apply(lambda x : True if x == 2 or x == 3 else False) \n",
        "stations_df"
      ],
      "metadata": {
        "colab": {
          "base_uri": "https://localhost:8080/",
          "height": 423
        },
        "id": "1LkVwFqwaum3",
        "outputId": "934a6c7d-a2d3-4fe5-a481-f79fbabdfb76"
      },
      "execution_count": 418,
      "outputs": [
        {
          "output_type": "execute_result",
          "data": {
            "text/plain": [
              "     station_id                       station_name  zone  is_west_philly\n",
              "0          3000                    Virtual Station     0           False\n",
              "1          3004  Municipal Services Building Plaza     0           False\n",
              "2          3005                  Welcome Park, NPS     0           False\n",
              "3          3006                      40th & Spruce     2            True\n",
              "4          3007             11th & Pine, Kahn Park     0           False\n",
              "..          ...                                ...   ...             ...\n",
              "195        3279                     13th & Mifflin     5           False\n",
              "196        3280                    50th & Woodland     3            True\n",
              "197        3281                Lindbergh & Wheeler     5           False\n",
              "198        3282                      10th & Nevada     5           False\n",
              "199        3287                     49th & Chester     3            True\n",
              "\n",
              "[180 rows x 4 columns]"
            ],
            "text/html": [
              "\n",
              "  <div id=\"df-196e2a6b-3299-4452-b80c-acddc6b48b8e\">\n",
              "    <div class=\"colab-df-container\">\n",
              "      <div>\n",
              "<style scoped>\n",
              "    .dataframe tbody tr th:only-of-type {\n",
              "        vertical-align: middle;\n",
              "    }\n",
              "\n",
              "    .dataframe tbody tr th {\n",
              "        vertical-align: top;\n",
              "    }\n",
              "\n",
              "    .dataframe thead th {\n",
              "        text-align: right;\n",
              "    }\n",
              "</style>\n",
              "<table border=\"1\" class=\"dataframe\">\n",
              "  <thead>\n",
              "    <tr style=\"text-align: right;\">\n",
              "      <th></th>\n",
              "      <th>station_id</th>\n",
              "      <th>station_name</th>\n",
              "      <th>zone</th>\n",
              "      <th>is_west_philly</th>\n",
              "    </tr>\n",
              "  </thead>\n",
              "  <tbody>\n",
              "    <tr>\n",
              "      <th>0</th>\n",
              "      <td>3000</td>\n",
              "      <td>Virtual Station</td>\n",
              "      <td>0</td>\n",
              "      <td>False</td>\n",
              "    </tr>\n",
              "    <tr>\n",
              "      <th>1</th>\n",
              "      <td>3004</td>\n",
              "      <td>Municipal Services Building Plaza</td>\n",
              "      <td>0</td>\n",
              "      <td>False</td>\n",
              "    </tr>\n",
              "    <tr>\n",
              "      <th>2</th>\n",
              "      <td>3005</td>\n",
              "      <td>Welcome Park, NPS</td>\n",
              "      <td>0</td>\n",
              "      <td>False</td>\n",
              "    </tr>\n",
              "    <tr>\n",
              "      <th>3</th>\n",
              "      <td>3006</td>\n",
              "      <td>40th &amp; Spruce</td>\n",
              "      <td>2</td>\n",
              "      <td>True</td>\n",
              "    </tr>\n",
              "    <tr>\n",
              "      <th>4</th>\n",
              "      <td>3007</td>\n",
              "      <td>11th &amp; Pine, Kahn Park</td>\n",
              "      <td>0</td>\n",
              "      <td>False</td>\n",
              "    </tr>\n",
              "    <tr>\n",
              "      <th>...</th>\n",
              "      <td>...</td>\n",
              "      <td>...</td>\n",
              "      <td>...</td>\n",
              "      <td>...</td>\n",
              "    </tr>\n",
              "    <tr>\n",
              "      <th>195</th>\n",
              "      <td>3279</td>\n",
              "      <td>13th &amp; Mifflin</td>\n",
              "      <td>5</td>\n",
              "      <td>False</td>\n",
              "    </tr>\n",
              "    <tr>\n",
              "      <th>196</th>\n",
              "      <td>3280</td>\n",
              "      <td>50th &amp; Woodland</td>\n",
              "      <td>3</td>\n",
              "      <td>True</td>\n",
              "    </tr>\n",
              "    <tr>\n",
              "      <th>197</th>\n",
              "      <td>3281</td>\n",
              "      <td>Lindbergh &amp; Wheeler</td>\n",
              "      <td>5</td>\n",
              "      <td>False</td>\n",
              "    </tr>\n",
              "    <tr>\n",
              "      <th>198</th>\n",
              "      <td>3282</td>\n",
              "      <td>10th &amp; Nevada</td>\n",
              "      <td>5</td>\n",
              "      <td>False</td>\n",
              "    </tr>\n",
              "    <tr>\n",
              "      <th>199</th>\n",
              "      <td>3287</td>\n",
              "      <td>49th &amp; Chester</td>\n",
              "      <td>3</td>\n",
              "      <td>True</td>\n",
              "    </tr>\n",
              "  </tbody>\n",
              "</table>\n",
              "<p>180 rows × 4 columns</p>\n",
              "</div>\n",
              "      <button class=\"colab-df-convert\" onclick=\"convertToInteractive('df-196e2a6b-3299-4452-b80c-acddc6b48b8e')\"\n",
              "              title=\"Convert this dataframe to an interactive table.\"\n",
              "              style=\"display:none;\">\n",
              "        \n",
              "  <svg xmlns=\"http://www.w3.org/2000/svg\" height=\"24px\"viewBox=\"0 0 24 24\"\n",
              "       width=\"24px\">\n",
              "    <path d=\"M0 0h24v24H0V0z\" fill=\"none\"/>\n",
              "    <path d=\"M18.56 5.44l.94 2.06.94-2.06 2.06-.94-2.06-.94-.94-2.06-.94 2.06-2.06.94zm-11 1L8.5 8.5l.94-2.06 2.06-.94-2.06-.94L8.5 2.5l-.94 2.06-2.06.94zm10 10l.94 2.06.94-2.06 2.06-.94-2.06-.94-.94-2.06-.94 2.06-2.06.94z\"/><path d=\"M17.41 7.96l-1.37-1.37c-.4-.4-.92-.59-1.43-.59-.52 0-1.04.2-1.43.59L10.3 9.45l-7.72 7.72c-.78.78-.78 2.05 0 2.83L4 21.41c.39.39.9.59 1.41.59.51 0 1.02-.2 1.41-.59l7.78-7.78 2.81-2.81c.8-.78.8-2.07 0-2.86zM5.41 20L4 18.59l7.72-7.72 1.47 1.35L5.41 20z\"/>\n",
              "  </svg>\n",
              "      </button>\n",
              "      \n",
              "  <style>\n",
              "    .colab-df-container {\n",
              "      display:flex;\n",
              "      flex-wrap:wrap;\n",
              "      gap: 12px;\n",
              "    }\n",
              "\n",
              "    .colab-df-convert {\n",
              "      background-color: #E8F0FE;\n",
              "      border: none;\n",
              "      border-radius: 50%;\n",
              "      cursor: pointer;\n",
              "      display: none;\n",
              "      fill: #1967D2;\n",
              "      height: 32px;\n",
              "      padding: 0 0 0 0;\n",
              "      width: 32px;\n",
              "    }\n",
              "\n",
              "    .colab-df-convert:hover {\n",
              "      background-color: #E2EBFA;\n",
              "      box-shadow: 0px 1px 2px rgba(60, 64, 67, 0.3), 0px 1px 3px 1px rgba(60, 64, 67, 0.15);\n",
              "      fill: #174EA6;\n",
              "    }\n",
              "\n",
              "    [theme=dark] .colab-df-convert {\n",
              "      background-color: #3B4455;\n",
              "      fill: #D2E3FC;\n",
              "    }\n",
              "\n",
              "    [theme=dark] .colab-df-convert:hover {\n",
              "      background-color: #434B5C;\n",
              "      box-shadow: 0px 1px 3px 1px rgba(0, 0, 0, 0.15);\n",
              "      filter: drop-shadow(0px 1px 2px rgba(0, 0, 0, 0.3));\n",
              "      fill: #FFFFFF;\n",
              "    }\n",
              "  </style>\n",
              "\n",
              "      <script>\n",
              "        const buttonEl =\n",
              "          document.querySelector('#df-196e2a6b-3299-4452-b80c-acddc6b48b8e button.colab-df-convert');\n",
              "        buttonEl.style.display =\n",
              "          google.colab.kernel.accessAllowed ? 'block' : 'none';\n",
              "\n",
              "        async function convertToInteractive(key) {\n",
              "          const element = document.querySelector('#df-196e2a6b-3299-4452-b80c-acddc6b48b8e');\n",
              "          const dataTable =\n",
              "            await google.colab.kernel.invokeFunction('convertToInteractive',\n",
              "                                                     [key], {});\n",
              "          if (!dataTable) return;\n",
              "\n",
              "          const docLinkHtml = 'Like what you see? Visit the ' +\n",
              "            '<a target=\"_blank\" href=https://colab.research.google.com/notebooks/data_table.ipynb>data table notebook</a>'\n",
              "            + ' to learn more about interactive tables.';\n",
              "          element.innerHTML = '';\n",
              "          dataTable['output_type'] = 'display_data';\n",
              "          await google.colab.output.renderOutput(dataTable, element);\n",
              "          const docLink = document.createElement('div');\n",
              "          docLink.innerHTML = docLinkHtml;\n",
              "          element.appendChild(docLink);\n",
              "        }\n",
              "      </script>\n",
              "    </div>\n",
              "  </div>\n",
              "  "
            ]
          },
          "metadata": {},
          "execution_count": 418
        }
      ]
    },
    {
      "cell_type": "code",
      "source": [
        "#Save the resulting dataframe as stations_cleaned_df, and sort it by station_id ascending\n",
        "stations_cleaned_df = stations_df.sort_values(by = 'station_id', ascending = True)\n",
        "stations_cleaned_df"
      ],
      "metadata": {
        "colab": {
          "base_uri": "https://localhost:8080/",
          "height": 423
        },
        "id": "lX34mrembZbP",
        "outputId": "efb57c37-80a7-46d3-e908-9ec17f1d5f25"
      },
      "execution_count": 419,
      "outputs": [
        {
          "output_type": "execute_result",
          "data": {
            "text/plain": [
              "     station_id                       station_name  zone  is_west_philly\n",
              "0          3000                    Virtual Station     0           False\n",
              "1          3004  Municipal Services Building Plaza     0           False\n",
              "2          3005                  Welcome Park, NPS     0           False\n",
              "3          3006                      40th & Spruce     2            True\n",
              "4          3007             11th & Pine, Kahn Park     0           False\n",
              "..          ...                                ...   ...             ...\n",
              "195        3279                     13th & Mifflin     5           False\n",
              "196        3280                    50th & Woodland     3            True\n",
              "197        3281                Lindbergh & Wheeler     5           False\n",
              "198        3282                      10th & Nevada     5           False\n",
              "199        3287                     49th & Chester     3            True\n",
              "\n",
              "[180 rows x 4 columns]"
            ],
            "text/html": [
              "\n",
              "  <div id=\"df-5978a3e9-67ce-4b99-8011-422793cad72b\">\n",
              "    <div class=\"colab-df-container\">\n",
              "      <div>\n",
              "<style scoped>\n",
              "    .dataframe tbody tr th:only-of-type {\n",
              "        vertical-align: middle;\n",
              "    }\n",
              "\n",
              "    .dataframe tbody tr th {\n",
              "        vertical-align: top;\n",
              "    }\n",
              "\n",
              "    .dataframe thead th {\n",
              "        text-align: right;\n",
              "    }\n",
              "</style>\n",
              "<table border=\"1\" class=\"dataframe\">\n",
              "  <thead>\n",
              "    <tr style=\"text-align: right;\">\n",
              "      <th></th>\n",
              "      <th>station_id</th>\n",
              "      <th>station_name</th>\n",
              "      <th>zone</th>\n",
              "      <th>is_west_philly</th>\n",
              "    </tr>\n",
              "  </thead>\n",
              "  <tbody>\n",
              "    <tr>\n",
              "      <th>0</th>\n",
              "      <td>3000</td>\n",
              "      <td>Virtual Station</td>\n",
              "      <td>0</td>\n",
              "      <td>False</td>\n",
              "    </tr>\n",
              "    <tr>\n",
              "      <th>1</th>\n",
              "      <td>3004</td>\n",
              "      <td>Municipal Services Building Plaza</td>\n",
              "      <td>0</td>\n",
              "      <td>False</td>\n",
              "    </tr>\n",
              "    <tr>\n",
              "      <th>2</th>\n",
              "      <td>3005</td>\n",
              "      <td>Welcome Park, NPS</td>\n",
              "      <td>0</td>\n",
              "      <td>False</td>\n",
              "    </tr>\n",
              "    <tr>\n",
              "      <th>3</th>\n",
              "      <td>3006</td>\n",
              "      <td>40th &amp; Spruce</td>\n",
              "      <td>2</td>\n",
              "      <td>True</td>\n",
              "    </tr>\n",
              "    <tr>\n",
              "      <th>4</th>\n",
              "      <td>3007</td>\n",
              "      <td>11th &amp; Pine, Kahn Park</td>\n",
              "      <td>0</td>\n",
              "      <td>False</td>\n",
              "    </tr>\n",
              "    <tr>\n",
              "      <th>...</th>\n",
              "      <td>...</td>\n",
              "      <td>...</td>\n",
              "      <td>...</td>\n",
              "      <td>...</td>\n",
              "    </tr>\n",
              "    <tr>\n",
              "      <th>195</th>\n",
              "      <td>3279</td>\n",
              "      <td>13th &amp; Mifflin</td>\n",
              "      <td>5</td>\n",
              "      <td>False</td>\n",
              "    </tr>\n",
              "    <tr>\n",
              "      <th>196</th>\n",
              "      <td>3280</td>\n",
              "      <td>50th &amp; Woodland</td>\n",
              "      <td>3</td>\n",
              "      <td>True</td>\n",
              "    </tr>\n",
              "    <tr>\n",
              "      <th>197</th>\n",
              "      <td>3281</td>\n",
              "      <td>Lindbergh &amp; Wheeler</td>\n",
              "      <td>5</td>\n",
              "      <td>False</td>\n",
              "    </tr>\n",
              "    <tr>\n",
              "      <th>198</th>\n",
              "      <td>3282</td>\n",
              "      <td>10th &amp; Nevada</td>\n",
              "      <td>5</td>\n",
              "      <td>False</td>\n",
              "    </tr>\n",
              "    <tr>\n",
              "      <th>199</th>\n",
              "      <td>3287</td>\n",
              "      <td>49th &amp; Chester</td>\n",
              "      <td>3</td>\n",
              "      <td>True</td>\n",
              "    </tr>\n",
              "  </tbody>\n",
              "</table>\n",
              "<p>180 rows × 4 columns</p>\n",
              "</div>\n",
              "      <button class=\"colab-df-convert\" onclick=\"convertToInteractive('df-5978a3e9-67ce-4b99-8011-422793cad72b')\"\n",
              "              title=\"Convert this dataframe to an interactive table.\"\n",
              "              style=\"display:none;\">\n",
              "        \n",
              "  <svg xmlns=\"http://www.w3.org/2000/svg\" height=\"24px\"viewBox=\"0 0 24 24\"\n",
              "       width=\"24px\">\n",
              "    <path d=\"M0 0h24v24H0V0z\" fill=\"none\"/>\n",
              "    <path d=\"M18.56 5.44l.94 2.06.94-2.06 2.06-.94-2.06-.94-.94-2.06-.94 2.06-2.06.94zm-11 1L8.5 8.5l.94-2.06 2.06-.94-2.06-.94L8.5 2.5l-.94 2.06-2.06.94zm10 10l.94 2.06.94-2.06 2.06-.94-2.06-.94-.94-2.06-.94 2.06-2.06.94z\"/><path d=\"M17.41 7.96l-1.37-1.37c-.4-.4-.92-.59-1.43-.59-.52 0-1.04.2-1.43.59L10.3 9.45l-7.72 7.72c-.78.78-.78 2.05 0 2.83L4 21.41c.39.39.9.59 1.41.59.51 0 1.02-.2 1.41-.59l7.78-7.78 2.81-2.81c.8-.78.8-2.07 0-2.86zM5.41 20L4 18.59l7.72-7.72 1.47 1.35L5.41 20z\"/>\n",
              "  </svg>\n",
              "      </button>\n",
              "      \n",
              "  <style>\n",
              "    .colab-df-container {\n",
              "      display:flex;\n",
              "      flex-wrap:wrap;\n",
              "      gap: 12px;\n",
              "    }\n",
              "\n",
              "    .colab-df-convert {\n",
              "      background-color: #E8F0FE;\n",
              "      border: none;\n",
              "      border-radius: 50%;\n",
              "      cursor: pointer;\n",
              "      display: none;\n",
              "      fill: #1967D2;\n",
              "      height: 32px;\n",
              "      padding: 0 0 0 0;\n",
              "      width: 32px;\n",
              "    }\n",
              "\n",
              "    .colab-df-convert:hover {\n",
              "      background-color: #E2EBFA;\n",
              "      box-shadow: 0px 1px 2px rgba(60, 64, 67, 0.3), 0px 1px 3px 1px rgba(60, 64, 67, 0.15);\n",
              "      fill: #174EA6;\n",
              "    }\n",
              "\n",
              "    [theme=dark] .colab-df-convert {\n",
              "      background-color: #3B4455;\n",
              "      fill: #D2E3FC;\n",
              "    }\n",
              "\n",
              "    [theme=dark] .colab-df-convert:hover {\n",
              "      background-color: #434B5C;\n",
              "      box-shadow: 0px 1px 3px 1px rgba(0, 0, 0, 0.15);\n",
              "      filter: drop-shadow(0px 1px 2px rgba(0, 0, 0, 0.3));\n",
              "      fill: #FFFFFF;\n",
              "    }\n",
              "  </style>\n",
              "\n",
              "      <script>\n",
              "        const buttonEl =\n",
              "          document.querySelector('#df-5978a3e9-67ce-4b99-8011-422793cad72b button.colab-df-convert');\n",
              "        buttonEl.style.display =\n",
              "          google.colab.kernel.accessAllowed ? 'block' : 'none';\n",
              "\n",
              "        async function convertToInteractive(key) {\n",
              "          const element = document.querySelector('#df-5978a3e9-67ce-4b99-8011-422793cad72b');\n",
              "          const dataTable =\n",
              "            await google.colab.kernel.invokeFunction('convertToInteractive',\n",
              "                                                     [key], {});\n",
              "          if (!dataTable) return;\n",
              "\n",
              "          const docLinkHtml = 'Like what you see? Visit the ' +\n",
              "            '<a target=\"_blank\" href=https://colab.research.google.com/notebooks/data_table.ipynb>data table notebook</a>'\n",
              "            + ' to learn more about interactive tables.';\n",
              "          element.innerHTML = '';\n",
              "          dataTable['output_type'] = 'display_data';\n",
              "          await google.colab.output.renderOutput(dataTable, element);\n",
              "          const docLink = document.createElement('div');\n",
              "          docLink.innerHTML = docLinkHtml;\n",
              "          element.appendChild(docLink);\n",
              "        }\n",
              "      </script>\n",
              "    </div>\n",
              "  </div>\n",
              "  "
            ]
          },
          "metadata": {},
          "execution_count": 419
        }
      ]
    },
    {
      "cell_type": "code",
      "execution_count": 420,
      "metadata": {
        "id": "sKA2_ScM6nWv",
        "colab": {
          "base_uri": "https://localhost:8080/"
        },
        "outputId": "259f6e95-1dfd-4f4d-9a21-268bf524c50a"
      },
      "outputs": [
        {
          "output_type": "stream",
          "name": "stdout",
          "text": [
            "Correct! You earned 3/3 points. You are a star!\n",
            "\n",
            "Your submission has been successfully recorded in the gradebook.\n"
          ]
        }
      ],
      "source": [
        "# 3 points\n",
        "grader.grade(test_case_id = 'test_stations_processing', answer = (len(stations_cleaned_df), stations_cleaned_df.head()))"
      ]
    },
    {
      "cell_type": "markdown",
      "metadata": {
        "id": "38JSvyEGCGYN"
      },
      "source": [
        "#### 1.1.3 Cleaning the weather (3 points)\n",
        "Then, let's clean `weather_df` and make it usable."
      ]
    },
    {
      "cell_type": "code",
      "execution_count": 421,
      "metadata": {
        "id": "vKv7Gdi_CGYQ",
        "colab": {
          "base_uri": "https://localhost:8080/"
        },
        "outputId": "f1ecb568-15b3-4f41-e4e2-498f4acc6e7b"
      },
      "outputs": [
        {
          "output_type": "stream",
          "name": "stdout",
          "text": [
            "<class 'pandas.core.frame.DataFrame'>\n",
            "RangeIndex: 365 entries, 0 to 364\n",
            "Data columns (total 13 columns):\n",
            " #   Column                 Non-Null Count  Dtype  \n",
            "---  ------                 --------------  -----  \n",
            " 0   date                   365 non-null    object \n",
            " 1   actual_mean_temp       365 non-null    int64  \n",
            " 2   actual_min_temp        365 non-null    int64  \n",
            " 3   actual_max_temp        365 non-null    int64  \n",
            " 4   average_min_temp       365 non-null    int64  \n",
            " 5   average_max_temp       365 non-null    int64  \n",
            " 6   record_min_temp        365 non-null    int64  \n",
            " 7   record_max_temp        365 non-null    int64  \n",
            " 8   record_min_temp_year   365 non-null    int64  \n",
            " 9   record_max_temp_year   365 non-null    int64  \n",
            " 10  actual_precipitation   365 non-null    float64\n",
            " 11  average_precipitation  365 non-null    float64\n",
            " 12  record_precipitation   365 non-null    float64\n",
            "dtypes: float64(3), int64(9), object(1)\n",
            "memory usage: 37.2+ KB\n"
          ]
        }
      ],
      "source": [
        "# view .info() of weather_df to sense check it\n",
        "weather_df.info()"
      ]
    },
    {
      "cell_type": "markdown",
      "metadata": {
        "id": "Cz3Xx84WCGYU"
      },
      "source": [
        "\n",
        "**TO-DO**:\n",
        "* Create `weather_cleaned_df` and only keep the following 5 columns:\n",
        "     * `date`, `actual_mean_temp`, `actual_min_temp`, `actual_max_temp`, `actual_precipitation`\n",
        "* Convert column `date` into type `datetime64[ns]`.\n",
        "* Keep only the rows from 9/1/2022 to 10/31/2022, inclusive.\n",
        "* Sort by column `date` descending.\n",
        "\n",
        "After performing these steps, `weather_cleaned_df` should have the following schema:\n",
        "\n",
        "**Final Schema**:\n",
        ">date | actual_mean_temp | actual_min_temp | actual_max_temp | actual_precipitation\n",
        ">--- | --- | --- |--- |--- |"
      ]
    },
    {
      "cell_type": "code",
      "execution_count": 422,
      "metadata": {
        "id": "GfBTqJs3CGYV",
        "colab": {
          "base_uri": "https://localhost:8080/"
        },
        "outputId": "c6930a62-1bba-4b58-925a-fcfcdb592d82"
      },
      "outputs": [
        {
          "output_type": "stream",
          "name": "stderr",
          "text": [
            "<ipython-input-422-1146339bb259>:3: SettingWithCopyWarning: \n",
            "A value is trying to be set on a copy of a slice from a DataFrame.\n",
            "Try using .loc[row_indexer,col_indexer] = value instead\n",
            "\n",
            "See the caveats in the documentation: https://pandas.pydata.org/pandas-docs/stable/user_guide/indexing.html#returning-a-view-versus-a-copy\n",
            "  weather_cleaned_df['date'] = pd.to_datetime(weather_cleaned_df['date'])\n"
          ]
        }
      ],
      "source": [
        "#TO-DO: clean up the weather_df \n",
        "weather_cleaned_df = weather_df[['date', 'actual_mean_temp', 'actual_min_temp', 'actual_max_temp', 'actual_precipitation']]\n",
        "weather_cleaned_df['date'] = pd.to_datetime(weather_cleaned_df['date'])\n",
        "weather_cleaned_df = weather_cleaned_df[weather_cleaned_df['date'] >= '2022-9-1']\n",
        "weather_cleaned_df = weather_cleaned_df[weather_cleaned_df['date'] <= '2022-10-31']\n",
        "weather_cleaned_df = weather_cleaned_df.sort_values(by = 'date', ascending = False)\n"
      ]
    },
    {
      "cell_type": "code",
      "execution_count": 423,
      "metadata": {
        "id": "PacFnS9JCGYW",
        "colab": {
          "base_uri": "https://localhost:8080/"
        },
        "outputId": "d5ab98e3-59cd-4ef9-ea61-46ddeb7dbbaa"
      },
      "outputs": [
        {
          "output_type": "stream",
          "name": "stdout",
          "text": [
            "Correct! You earned 3/3 points. You are a star!\n",
            "\n",
            "Your submission has been successfully recorded in the gradebook.\n"
          ]
        }
      ],
      "source": [
        "# 3 points\n",
        "grader.grade(test_case_id = 'test_cleaning_weather', answer = [len(weather_cleaned_df),weather_cleaned_df.head()])"
      ]
    },
    {
      "cell_type": "markdown",
      "metadata": {
        "id": "kYp9fW_SvG3g"
      },
      "source": [
        "### 1.2 Your Sandbox \n",
        "\n",
        "`.info()` is just one of many basic tools that you can use for Exploratory Data Analysis (EDA). Instead of throwing you straight into the deep end, we wanted to give you a chance to take some time and explore the data on your own. **This section is not graded**, so for the speedrunners out there feel free to just jump in, but we wanted to at least give you a small space to utilize your EDA toolkit to familiarize yourself with all the data you just downloaded.\n",
        "\n",
        "Some suggestions to get you started:\n",
        "- `df.head()`\n",
        "- `df.describe()`\n",
        "- `Series.unique()`"
      ]
    },
    {
      "cell_type": "code",
      "execution_count": 424,
      "metadata": {
        "id": "U429NTI5RY4a"
      },
      "outputs": [],
      "source": [
        "# Your EDA here! Feel free to add more cells\n"
      ]
    },
    {
      "cell_type": "markdown",
      "source": [
        "## Part 2: Exploring the Data with PandasSQL (and Pandas) [73 points total]\n",
        "\n",
        "Now that you are familiar (or still unfamiliar) with the dataset, we will now introduce you to SQL, or more specifically **pandasql**: a package created to allow users to query pandas DataFrames with SQL statements."
      ],
      "metadata": {
        "id": "uLO0ZpVr54ZS"
      }
    },
    {
      "cell_type": "markdown",
      "source": [
        "## 👇👇👇 IMPORTANT: Pay VERY CLOSE attention to this style guide! 👇👇👇\n",
        "\n",
        "The typical flow to use pandasql (aliased as `ps`) is as follows:\n",
        "1. Write a SQL query in the form of a string\n",
        "    - **String Syntax:** use triple quotes `\"\"\"<your query>\"\"\"` to write multi-line strings in Python\n",
        "    - **Aliases are your friend:** if there are very long table names or you find yourself needed to declare the source (common during join tasks), it's almost always optimal to alias your tables with short INTUITIVE alias names\n",
        "    - **New Clauses New Line:** each of the main SQL clauses (`SELECT`, `FROM`, `WHERE`, etc.) should begin on a new line\n",
        "    - **Use Indentation:** if there are many components for a single clause, separate them out with new <ins>indented</ins> lines.\n",
        "\n",
        "    Example below:\n",
        "    ```SQL\n",
        "    \"\"\"\n",
        "    SELECT ltn.some_id, SUM(stn.some_value) AS total\n",
        "    FROM long_table_name AS ltn\n",
        "         INNER JOIN short_table_name AS stn \n",
        "            ON ltn.common_key = stn.common_key\n",
        "         INNER JOIN med_table_name AS mtn\n",
        "            ON ltn.other_key = mtn.other_key\n",
        "    WHERE ltn.col1 > value\n",
        "         AND stn.col2 <= another_value\n",
        "         AND mtn.col3 != something_else\n",
        "    GROUP BY ltn.some_id\n",
        "    ORDER BY total DESC\n",
        "    \"\"\"\n",
        "    ```\n",
        "2. Run the query using `ps.sqldf(your_query, locals())`\n",
        "\n",
        "Pandasql is convenient in that it allows you to reference the dataframes that are currently defined in your notebook, so you will be able to fully utilize the dataframes `trips_cleaned_df`, `stations_cleaned_df` and `weather__cleaned_df` that you have created above!\n",
        "\n",
        "Given that it is a brand new language, we wanted to give you a chance to directly compare the similarities/differences of the pandas that you already know and the SQL that you are about to learn. Thus, for each of the simpler queries, we may ask that you **look into the question twice: once with pandas and once with pandasql**. "
      ],
      "metadata": {
        "id": "EoV3Uv69ot_Y"
      }
    },
    {
      "cell_type": "markdown",
      "source": [
        "### 2.1 One Way vs Round Trip [19 points]"
      ],
      "metadata": {
        "id": "65adiX7u55m2"
      }
    },
    {
      "cell_type": "markdown",
      "source": [
        "#### 2.1.1 How many of the rides taken were Round Trip journeys? (4 points)\n",
        "\n",
        "The dataframe `trips_cleaned_df` contains information for each ride. We want to know which of these rides were Round Trip journeys, and how many such rides were taken.\n",
        "\n",
        "**TO-DO:**\n",
        "\n",
        "*    Using what you learned in EDA in 1.2, use `pandas` to filter on the appropriate column to obtain only round trips, and save it to a DataFrame called `round_df`, which is sorted by `trip_id` in ascending order.\n",
        "*   Save the number of rides in the integer variable `number_of_rounds`. "
      ],
      "metadata": {
        "id": "0PfvXCpC6NB2"
      }
    },
    {
      "cell_type": "code",
      "source": [
        "# TO-DO: Use pandas to obtain rides that were round trip\n",
        "trips_cleaned_df\n",
        "round_df = trips_cleaned_df[trips_cleaned_df['trip_route_category'] == 'Round Trip'].sort_values(by = 'trip_id', ascending = True)\n"
      ],
      "metadata": {
        "id": "pknIChHj6Oom"
      },
      "execution_count": 425,
      "outputs": []
    },
    {
      "cell_type": "code",
      "source": [
        "# TO-DO : Save the number of round trip rides obtained from round_df to number_of_rounds\n",
        "number_of_rounds = len(round_df)\n"
      ],
      "metadata": {
        "id": "DwCpytm38dYW"
      },
      "execution_count": 426,
      "outputs": []
    },
    {
      "cell_type": "code",
      "source": [
        "# 2 points\n",
        "grader.grade(test_case_id = 'test_round', answer = (round_df, number_of_rounds))"
      ],
      "metadata": {
        "id": "73kQXwnL6OZ0",
        "colab": {
          "base_uri": "https://localhost:8080/"
        },
        "outputId": "2f59d880-bd4b-429e-c31a-78786fd6c304"
      },
      "execution_count": 427,
      "outputs": [
        {
          "output_type": "stream",
          "name": "stdout",
          "text": [
            "Correct! You earned 2/2 points. You are a star!\n",
            "\n",
            "Your submission has been successfully recorded in the gradebook.\n"
          ]
        }
      ]
    },
    {
      "cell_type": "markdown",
      "source": [
        "**TO-DO:** Now using **pandasql**, calculate the number of round trips in trips_cleaned_df and save it to the dataframe `round_df_sql`, with the column named `num`. This will be a rather unconventional 1x1 dataframe, but that's OK.\n",
        "\n",
        "**Final Schema:**\n",
        "\n",
        "> num|\n",
        "> --- |"
      ],
      "metadata": {
        "id": "gUSj2RVaXBDd"
      }
    },
    {
      "cell_type": "code",
      "source": [
        "# TODO: Use pandasql to calculate the number of round trips\n",
        "# round_query = \"\"\"\n",
        "              \n",
        "#               \"\"\"\n",
        "round_df.head()\n",
        "\n",
        "round_query = \"\"\"SELECT COUNT (*) AS num FROM round_df \"\"\"\n",
        "\n",
        "\n",
        "round_df_sql = ps.sqldf(round_query, locals())\n",
        "round_df_sql"
      ],
      "metadata": {
        "id": "xdGJjfXDXPig",
        "colab": {
          "base_uri": "https://localhost:8080/",
          "height": 80
        },
        "outputId": "36f74692-0d7c-494b-ef21-fcf184b95fbe"
      },
      "execution_count": 428,
      "outputs": [
        {
          "output_type": "execute_result",
          "data": {
            "text/plain": [
              "   num\n",
              "0  930"
            ],
            "text/html": [
              "\n",
              "  <div id=\"df-26d9c67b-f8da-4e4a-a458-fc965580972e\">\n",
              "    <div class=\"colab-df-container\">\n",
              "      <div>\n",
              "<style scoped>\n",
              "    .dataframe tbody tr th:only-of-type {\n",
              "        vertical-align: middle;\n",
              "    }\n",
              "\n",
              "    .dataframe tbody tr th {\n",
              "        vertical-align: top;\n",
              "    }\n",
              "\n",
              "    .dataframe thead th {\n",
              "        text-align: right;\n",
              "    }\n",
              "</style>\n",
              "<table border=\"1\" class=\"dataframe\">\n",
              "  <thead>\n",
              "    <tr style=\"text-align: right;\">\n",
              "      <th></th>\n",
              "      <th>num</th>\n",
              "    </tr>\n",
              "  </thead>\n",
              "  <tbody>\n",
              "    <tr>\n",
              "      <th>0</th>\n",
              "      <td>930</td>\n",
              "    </tr>\n",
              "  </tbody>\n",
              "</table>\n",
              "</div>\n",
              "      <button class=\"colab-df-convert\" onclick=\"convertToInteractive('df-26d9c67b-f8da-4e4a-a458-fc965580972e')\"\n",
              "              title=\"Convert this dataframe to an interactive table.\"\n",
              "              style=\"display:none;\">\n",
              "        \n",
              "  <svg xmlns=\"http://www.w3.org/2000/svg\" height=\"24px\"viewBox=\"0 0 24 24\"\n",
              "       width=\"24px\">\n",
              "    <path d=\"M0 0h24v24H0V0z\" fill=\"none\"/>\n",
              "    <path d=\"M18.56 5.44l.94 2.06.94-2.06 2.06-.94-2.06-.94-.94-2.06-.94 2.06-2.06.94zm-11 1L8.5 8.5l.94-2.06 2.06-.94-2.06-.94L8.5 2.5l-.94 2.06-2.06.94zm10 10l.94 2.06.94-2.06 2.06-.94-2.06-.94-.94-2.06-.94 2.06-2.06.94z\"/><path d=\"M17.41 7.96l-1.37-1.37c-.4-.4-.92-.59-1.43-.59-.52 0-1.04.2-1.43.59L10.3 9.45l-7.72 7.72c-.78.78-.78 2.05 0 2.83L4 21.41c.39.39.9.59 1.41.59.51 0 1.02-.2 1.41-.59l7.78-7.78 2.81-2.81c.8-.78.8-2.07 0-2.86zM5.41 20L4 18.59l7.72-7.72 1.47 1.35L5.41 20z\"/>\n",
              "  </svg>\n",
              "      </button>\n",
              "      \n",
              "  <style>\n",
              "    .colab-df-container {\n",
              "      display:flex;\n",
              "      flex-wrap:wrap;\n",
              "      gap: 12px;\n",
              "    }\n",
              "\n",
              "    .colab-df-convert {\n",
              "      background-color: #E8F0FE;\n",
              "      border: none;\n",
              "      border-radius: 50%;\n",
              "      cursor: pointer;\n",
              "      display: none;\n",
              "      fill: #1967D2;\n",
              "      height: 32px;\n",
              "      padding: 0 0 0 0;\n",
              "      width: 32px;\n",
              "    }\n",
              "\n",
              "    .colab-df-convert:hover {\n",
              "      background-color: #E2EBFA;\n",
              "      box-shadow: 0px 1px 2px rgba(60, 64, 67, 0.3), 0px 1px 3px 1px rgba(60, 64, 67, 0.15);\n",
              "      fill: #174EA6;\n",
              "    }\n",
              "\n",
              "    [theme=dark] .colab-df-convert {\n",
              "      background-color: #3B4455;\n",
              "      fill: #D2E3FC;\n",
              "    }\n",
              "\n",
              "    [theme=dark] .colab-df-convert:hover {\n",
              "      background-color: #434B5C;\n",
              "      box-shadow: 0px 1px 3px 1px rgba(0, 0, 0, 0.15);\n",
              "      filter: drop-shadow(0px 1px 2px rgba(0, 0, 0, 0.3));\n",
              "      fill: #FFFFFF;\n",
              "    }\n",
              "  </style>\n",
              "\n",
              "      <script>\n",
              "        const buttonEl =\n",
              "          document.querySelector('#df-26d9c67b-f8da-4e4a-a458-fc965580972e button.colab-df-convert');\n",
              "        buttonEl.style.display =\n",
              "          google.colab.kernel.accessAllowed ? 'block' : 'none';\n",
              "\n",
              "        async function convertToInteractive(key) {\n",
              "          const element = document.querySelector('#df-26d9c67b-f8da-4e4a-a458-fc965580972e');\n",
              "          const dataTable =\n",
              "            await google.colab.kernel.invokeFunction('convertToInteractive',\n",
              "                                                     [key], {});\n",
              "          if (!dataTable) return;\n",
              "\n",
              "          const docLinkHtml = 'Like what you see? Visit the ' +\n",
              "            '<a target=\"_blank\" href=https://colab.research.google.com/notebooks/data_table.ipynb>data table notebook</a>'\n",
              "            + ' to learn more about interactive tables.';\n",
              "          element.innerHTML = '';\n",
              "          dataTable['output_type'] = 'display_data';\n",
              "          await google.colab.output.renderOutput(dataTable, element);\n",
              "          const docLink = document.createElement('div');\n",
              "          docLink.innerHTML = docLinkHtml;\n",
              "          element.appendChild(docLink);\n",
              "        }\n",
              "      </script>\n",
              "    </div>\n",
              "  </div>\n",
              "  "
            ]
          },
          "metadata": {},
          "execution_count": 428
        }
      ]
    },
    {
      "cell_type": "code",
      "source": [
        "# 2 points\n",
        "grader.grade(test_case_id = 'test_round_sql', answer = round_df_sql)"
      ],
      "metadata": {
        "id": "nXuUq8UWXPSo",
        "colab": {
          "base_uri": "https://localhost:8080/"
        },
        "outputId": "99d1187a-88eb-4d7a-eb9f-4f13b79071bd"
      },
      "execution_count": 429,
      "outputs": [
        {
          "output_type": "stream",
          "name": "stdout",
          "text": [
            "Correct! You earned 2/2 points. You are a star!\n",
            "\n",
            "Your submission has been successfully recorded in the gradebook.\n"
          ]
        }
      ]
    },
    {
      "cell_type": "markdown",
      "source": [
        "#### 2.1.2 What was the duration of these round trips? [4 points]\n",
        "\n",
        "The dataframe `round_df` contains information for each ride that was a round trip. We want to know the average duration of the trip for all these rides. \n",
        "\n",
        "**TO-DO:** Using **pandas**, calculate the average duration of the rides in `round_df` and save it to the variable `avg_round_pd`. Please make sure you do NOT cast it to any type explicitly nor should you round it. \n",
        "\n",
        "\n",
        "\n"
      ],
      "metadata": {
        "id": "a_JjvuvQdqxo"
      }
    },
    {
      "cell_type": "code",
      "source": [
        "# TODO: Use pandas to calculate the average duration of round trips\n",
        "avg_round_pd = round_df['duration'].mean()"
      ],
      "metadata": {
        "id": "r-OX8Ss9Vm2C"
      },
      "execution_count": 430,
      "outputs": []
    },
    {
      "cell_type": "code",
      "source": [
        "# 2 points\n",
        "grader.grade(test_case_id = 'test_round_dur_pd', answer = avg_round_pd)"
      ],
      "metadata": {
        "id": "d0zPIuloVnMc",
        "colab": {
          "base_uri": "https://localhost:8080/"
        },
        "outputId": "2603ae40-4dd9-4b55-d903-c84cd94f1c8e"
      },
      "execution_count": 431,
      "outputs": [
        {
          "output_type": "stream",
          "name": "stdout",
          "text": [
            "Correct! You earned 2/2 points. You are a star!\n",
            "\n",
            "Your submission has been successfully recorded in the gradebook.\n"
          ]
        }
      ]
    },
    {
      "cell_type": "markdown",
      "source": [
        "**TO-DO:** Using **pandasql**, calculate the average duration of the rides in round_df and save it to the dataframe `avg_round_df`, with the column named `avg_dur`. Please make sure you do NOT cast it to any type explicitly nor should you round it.\n",
        "\n",
        "Again, this will be a 1x1 dataframe but that's OK.\n",
        "\n",
        "**Final Schema:**\n",
        "\n",
        "\n",
        "> avg_dur |\n",
        "> --- |"
      ],
      "metadata": {
        "id": "3INzdIvKVvYM"
      }
    },
    {
      "cell_type": "code",
      "source": [
        "# TODO: Use pandasql to calculate the average duration of round trips\n",
        "avg_dur_query = \"\"\"\n",
        "                SELECT AVG(duration) AS avg_dur FROM round_df\n",
        "                \"\"\"\n",
        "\n",
        "avg_round_df = ps.sqldf(avg_dur_query, locals())\n",
        "avg_round_df"
      ],
      "metadata": {
        "id": "CCvBUvzHdqxs",
        "colab": {
          "base_uri": "https://localhost:8080/",
          "height": 80
        },
        "outputId": "8bea9af5-26b7-4362-9269-77796be30e84"
      },
      "execution_count": 432,
      "outputs": [
        {
          "output_type": "execute_result",
          "data": {
            "text/plain": [
              "     avg_dur\n",
              "0  20.107527"
            ],
            "text/html": [
              "\n",
              "  <div id=\"df-f496818f-e108-426d-8954-2bec4e22750c\">\n",
              "    <div class=\"colab-df-container\">\n",
              "      <div>\n",
              "<style scoped>\n",
              "    .dataframe tbody tr th:only-of-type {\n",
              "        vertical-align: middle;\n",
              "    }\n",
              "\n",
              "    .dataframe tbody tr th {\n",
              "        vertical-align: top;\n",
              "    }\n",
              "\n",
              "    .dataframe thead th {\n",
              "        text-align: right;\n",
              "    }\n",
              "</style>\n",
              "<table border=\"1\" class=\"dataframe\">\n",
              "  <thead>\n",
              "    <tr style=\"text-align: right;\">\n",
              "      <th></th>\n",
              "      <th>avg_dur</th>\n",
              "    </tr>\n",
              "  </thead>\n",
              "  <tbody>\n",
              "    <tr>\n",
              "      <th>0</th>\n",
              "      <td>20.107527</td>\n",
              "    </tr>\n",
              "  </tbody>\n",
              "</table>\n",
              "</div>\n",
              "      <button class=\"colab-df-convert\" onclick=\"convertToInteractive('df-f496818f-e108-426d-8954-2bec4e22750c')\"\n",
              "              title=\"Convert this dataframe to an interactive table.\"\n",
              "              style=\"display:none;\">\n",
              "        \n",
              "  <svg xmlns=\"http://www.w3.org/2000/svg\" height=\"24px\"viewBox=\"0 0 24 24\"\n",
              "       width=\"24px\">\n",
              "    <path d=\"M0 0h24v24H0V0z\" fill=\"none\"/>\n",
              "    <path d=\"M18.56 5.44l.94 2.06.94-2.06 2.06-.94-2.06-.94-.94-2.06-.94 2.06-2.06.94zm-11 1L8.5 8.5l.94-2.06 2.06-.94-2.06-.94L8.5 2.5l-.94 2.06-2.06.94zm10 10l.94 2.06.94-2.06 2.06-.94-2.06-.94-.94-2.06-.94 2.06-2.06.94z\"/><path d=\"M17.41 7.96l-1.37-1.37c-.4-.4-.92-.59-1.43-.59-.52 0-1.04.2-1.43.59L10.3 9.45l-7.72 7.72c-.78.78-.78 2.05 0 2.83L4 21.41c.39.39.9.59 1.41.59.51 0 1.02-.2 1.41-.59l7.78-7.78 2.81-2.81c.8-.78.8-2.07 0-2.86zM5.41 20L4 18.59l7.72-7.72 1.47 1.35L5.41 20z\"/>\n",
              "  </svg>\n",
              "      </button>\n",
              "      \n",
              "  <style>\n",
              "    .colab-df-container {\n",
              "      display:flex;\n",
              "      flex-wrap:wrap;\n",
              "      gap: 12px;\n",
              "    }\n",
              "\n",
              "    .colab-df-convert {\n",
              "      background-color: #E8F0FE;\n",
              "      border: none;\n",
              "      border-radius: 50%;\n",
              "      cursor: pointer;\n",
              "      display: none;\n",
              "      fill: #1967D2;\n",
              "      height: 32px;\n",
              "      padding: 0 0 0 0;\n",
              "      width: 32px;\n",
              "    }\n",
              "\n",
              "    .colab-df-convert:hover {\n",
              "      background-color: #E2EBFA;\n",
              "      box-shadow: 0px 1px 2px rgba(60, 64, 67, 0.3), 0px 1px 3px 1px rgba(60, 64, 67, 0.15);\n",
              "      fill: #174EA6;\n",
              "    }\n",
              "\n",
              "    [theme=dark] .colab-df-convert {\n",
              "      background-color: #3B4455;\n",
              "      fill: #D2E3FC;\n",
              "    }\n",
              "\n",
              "    [theme=dark] .colab-df-convert:hover {\n",
              "      background-color: #434B5C;\n",
              "      box-shadow: 0px 1px 3px 1px rgba(0, 0, 0, 0.15);\n",
              "      filter: drop-shadow(0px 1px 2px rgba(0, 0, 0, 0.3));\n",
              "      fill: #FFFFFF;\n",
              "    }\n",
              "  </style>\n",
              "\n",
              "      <script>\n",
              "        const buttonEl =\n",
              "          document.querySelector('#df-f496818f-e108-426d-8954-2bec4e22750c button.colab-df-convert');\n",
              "        buttonEl.style.display =\n",
              "          google.colab.kernel.accessAllowed ? 'block' : 'none';\n",
              "\n",
              "        async function convertToInteractive(key) {\n",
              "          const element = document.querySelector('#df-f496818f-e108-426d-8954-2bec4e22750c');\n",
              "          const dataTable =\n",
              "            await google.colab.kernel.invokeFunction('convertToInteractive',\n",
              "                                                     [key], {});\n",
              "          if (!dataTable) return;\n",
              "\n",
              "          const docLinkHtml = 'Like what you see? Visit the ' +\n",
              "            '<a target=\"_blank\" href=https://colab.research.google.com/notebooks/data_table.ipynb>data table notebook</a>'\n",
              "            + ' to learn more about interactive tables.';\n",
              "          element.innerHTML = '';\n",
              "          dataTable['output_type'] = 'display_data';\n",
              "          await google.colab.output.renderOutput(dataTable, element);\n",
              "          const docLink = document.createElement('div');\n",
              "          docLink.innerHTML = docLinkHtml;\n",
              "          element.appendChild(docLink);\n",
              "        }\n",
              "      </script>\n",
              "    </div>\n",
              "  </div>\n",
              "  "
            ]
          },
          "metadata": {},
          "execution_count": 432
        }
      ]
    },
    {
      "cell_type": "code",
      "source": [
        "# 2 points\n",
        "grader.grade(test_case_id = 'test_round_dur', answer = avg_round_df)"
      ],
      "metadata": {
        "id": "pfI7GSRadqxs",
        "colab": {
          "base_uri": "https://localhost:8080/"
        },
        "outputId": "ef5ba9e6-de29-4376-8060-662ea22fcfe2"
      },
      "execution_count": 433,
      "outputs": [
        {
          "output_type": "stream",
          "name": "stdout",
          "text": [
            "Correct! You earned 2/2 points. You are a star!\n",
            "\n",
            "Your submission has been successfully recorded in the gradebook.\n"
          ]
        }
      ]
    },
    {
      "cell_type": "markdown",
      "source": [
        "#### 2.1.3 How long do you take? (5 points)\n",
        "\n",
        "Some of the rides listed in the `trips_cleaned_df` are marked as Day Pass. We'd like to know how long riders take their bikes out when they get a Day Pass. \n",
        "\n",
        "**TO-DO:** Using **pandas**, and what you learned in EDA in 1.2, use a filter on the appropriate column to obtain only “Day Pass” to calculate the average duration of these trips from `trips_cleaned_df` and save it to the variable `day_df_pd`. Please make sure you do not cast it to any type explicitly, or round it.  \n",
        "\n",
        "**Final Schema:**\n",
        "\n",
        "> avg_dur |\n",
        "> --- |\n",
        "\n",
        "Please use only `trips_cleaned_df` for both `pandas` and `pandasql`."
      ],
      "metadata": {
        "id": "FD3Dgsdv6atY"
      }
    },
    {
      "cell_type": "code",
      "source": [
        "# TODO: Use pandas to calculate the average duration of trips with a day pass \n",
        "day_df = trips_cleaned_df[trips_cleaned_df['passholder_type'] == 'Day Pass']\n",
        "day_df_pd = day_df['duration'].mean()\n",
        "day_df_pd"
      ],
      "metadata": {
        "id": "wRHgc5T-q95z",
        "colab": {
          "base_uri": "https://localhost:8080/"
        },
        "outputId": "6796920a-24f8-4079-c84e-5e62dbdbda9d"
      },
      "execution_count": 434,
      "outputs": [
        {
          "output_type": "execute_result",
          "data": {
            "text/plain": [
              "31.432989690721648"
            ]
          },
          "metadata": {},
          "execution_count": 434
        }
      ]
    },
    {
      "cell_type": "markdown",
      "source": [
        "**TO-DO:** Repeat the same using **pandasql** and save it as `day_df_sql` where the average duration column should be named `avg_dur`."
      ],
      "metadata": {
        "id": "C1m5KL71qxyY"
      }
    },
    {
      "cell_type": "code",
      "source": [
        "# TODO: Use pandasql to calculate the average duration of trips with a day pass \n",
        "day_query = \"\"\"\n",
        "            SELECT AVG(duration) AS avg_dur FROM trips_cleaned_df WHERE passholder_type == 'Day Pass' \n",
        "           \n",
        "            \"\"\"\n",
        "day_df_sql = ps.sqldf(day_query, locals())\n",
        "day_df_sql"
      ],
      "metadata": {
        "id": "r-8X-hQq6eb4",
        "colab": {
          "base_uri": "https://localhost:8080/",
          "height": 80
        },
        "outputId": "c1bc418b-a81e-403f-995e-c20a31d0d96b"
      },
      "execution_count": 435,
      "outputs": [
        {
          "output_type": "execute_result",
          "data": {
            "text/plain": [
              "    avg_dur\n",
              "0  31.43299"
            ],
            "text/html": [
              "\n",
              "  <div id=\"df-23307632-1a0b-4964-948b-f0da67771789\">\n",
              "    <div class=\"colab-df-container\">\n",
              "      <div>\n",
              "<style scoped>\n",
              "    .dataframe tbody tr th:only-of-type {\n",
              "        vertical-align: middle;\n",
              "    }\n",
              "\n",
              "    .dataframe tbody tr th {\n",
              "        vertical-align: top;\n",
              "    }\n",
              "\n",
              "    .dataframe thead th {\n",
              "        text-align: right;\n",
              "    }\n",
              "</style>\n",
              "<table border=\"1\" class=\"dataframe\">\n",
              "  <thead>\n",
              "    <tr style=\"text-align: right;\">\n",
              "      <th></th>\n",
              "      <th>avg_dur</th>\n",
              "    </tr>\n",
              "  </thead>\n",
              "  <tbody>\n",
              "    <tr>\n",
              "      <th>0</th>\n",
              "      <td>31.43299</td>\n",
              "    </tr>\n",
              "  </tbody>\n",
              "</table>\n",
              "</div>\n",
              "      <button class=\"colab-df-convert\" onclick=\"convertToInteractive('df-23307632-1a0b-4964-948b-f0da67771789')\"\n",
              "              title=\"Convert this dataframe to an interactive table.\"\n",
              "              style=\"display:none;\">\n",
              "        \n",
              "  <svg xmlns=\"http://www.w3.org/2000/svg\" height=\"24px\"viewBox=\"0 0 24 24\"\n",
              "       width=\"24px\">\n",
              "    <path d=\"M0 0h24v24H0V0z\" fill=\"none\"/>\n",
              "    <path d=\"M18.56 5.44l.94 2.06.94-2.06 2.06-.94-2.06-.94-.94-2.06-.94 2.06-2.06.94zm-11 1L8.5 8.5l.94-2.06 2.06-.94-2.06-.94L8.5 2.5l-.94 2.06-2.06.94zm10 10l.94 2.06.94-2.06 2.06-.94-2.06-.94-.94-2.06-.94 2.06-2.06.94z\"/><path d=\"M17.41 7.96l-1.37-1.37c-.4-.4-.92-.59-1.43-.59-.52 0-1.04.2-1.43.59L10.3 9.45l-7.72 7.72c-.78.78-.78 2.05 0 2.83L4 21.41c.39.39.9.59 1.41.59.51 0 1.02-.2 1.41-.59l7.78-7.78 2.81-2.81c.8-.78.8-2.07 0-2.86zM5.41 20L4 18.59l7.72-7.72 1.47 1.35L5.41 20z\"/>\n",
              "  </svg>\n",
              "      </button>\n",
              "      \n",
              "  <style>\n",
              "    .colab-df-container {\n",
              "      display:flex;\n",
              "      flex-wrap:wrap;\n",
              "      gap: 12px;\n",
              "    }\n",
              "\n",
              "    .colab-df-convert {\n",
              "      background-color: #E8F0FE;\n",
              "      border: none;\n",
              "      border-radius: 50%;\n",
              "      cursor: pointer;\n",
              "      display: none;\n",
              "      fill: #1967D2;\n",
              "      height: 32px;\n",
              "      padding: 0 0 0 0;\n",
              "      width: 32px;\n",
              "    }\n",
              "\n",
              "    .colab-df-convert:hover {\n",
              "      background-color: #E2EBFA;\n",
              "      box-shadow: 0px 1px 2px rgba(60, 64, 67, 0.3), 0px 1px 3px 1px rgba(60, 64, 67, 0.15);\n",
              "      fill: #174EA6;\n",
              "    }\n",
              "\n",
              "    [theme=dark] .colab-df-convert {\n",
              "      background-color: #3B4455;\n",
              "      fill: #D2E3FC;\n",
              "    }\n",
              "\n",
              "    [theme=dark] .colab-df-convert:hover {\n",
              "      background-color: #434B5C;\n",
              "      box-shadow: 0px 1px 3px 1px rgba(0, 0, 0, 0.15);\n",
              "      filter: drop-shadow(0px 1px 2px rgba(0, 0, 0, 0.3));\n",
              "      fill: #FFFFFF;\n",
              "    }\n",
              "  </style>\n",
              "\n",
              "      <script>\n",
              "        const buttonEl =\n",
              "          document.querySelector('#df-23307632-1a0b-4964-948b-f0da67771789 button.colab-df-convert');\n",
              "        buttonEl.style.display =\n",
              "          google.colab.kernel.accessAllowed ? 'block' : 'none';\n",
              "\n",
              "        async function convertToInteractive(key) {\n",
              "          const element = document.querySelector('#df-23307632-1a0b-4964-948b-f0da67771789');\n",
              "          const dataTable =\n",
              "            await google.colab.kernel.invokeFunction('convertToInteractive',\n",
              "                                                     [key], {});\n",
              "          if (!dataTable) return;\n",
              "\n",
              "          const docLinkHtml = 'Like what you see? Visit the ' +\n",
              "            '<a target=\"_blank\" href=https://colab.research.google.com/notebooks/data_table.ipynb>data table notebook</a>'\n",
              "            + ' to learn more about interactive tables.';\n",
              "          element.innerHTML = '';\n",
              "          dataTable['output_type'] = 'display_data';\n",
              "          await google.colab.output.renderOutput(dataTable, element);\n",
              "          const docLink = document.createElement('div');\n",
              "          docLink.innerHTML = docLinkHtml;\n",
              "          element.appendChild(docLink);\n",
              "        }\n",
              "      </script>\n",
              "    </div>\n",
              "  </div>\n",
              "  "
            ]
          },
          "metadata": {},
          "execution_count": 435
        }
      ]
    },
    {
      "cell_type": "code",
      "source": [
        "# 4 points\n",
        "grader.grade(test_case_id = 'test_day_dur', answer = (day_df_sql, day_df_pd, day_query))"
      ],
      "metadata": {
        "id": "aZti3-Tp6d2t",
        "colab": {
          "base_uri": "https://localhost:8080/"
        },
        "outputId": "09a48d0d-f5ab-4fa1-bd7d-7d6f28198ac5"
      },
      "execution_count": 436,
      "outputs": [
        {
          "output_type": "stream",
          "name": "stdout",
          "text": [
            "Correct! You earned 4/4 points. You are a star!\n",
            "\n",
            "Your submission has been successfully recorded in the gradebook.\n"
          ]
        }
      ]
    },
    {
      "cell_type": "markdown",
      "source": [
        "##### **Reflect:**  What do you think? (1 point)\n",
        "\n",
        "Is there a difference between the average duration for round trips (2.1.2) and Day Pass journeys (2.1.3)? Please state your answer as Yes/No with a reason for the possible similarity/difference? [1 pt]\n",
        "\n"
      ],
      "metadata": {
        "id": "0TzDzttGEUxV"
      }
    },
    {
      "cell_type": "code",
      "source": [
        "your_ans = \"\"\"Yes because the one using Panda only seems to allow for more digits but this may just be due to a limit of the column size when using SQL. Ideally though, I believe they should be the same\"\"\""
      ],
      "metadata": {
        "id": "9vGtS4TjExHZ"
      },
      "execution_count": 486,
      "outputs": []
    },
    {
      "cell_type": "code",
      "source": [
        "# Grader Cell for Text Response (do not modify) [1 point]\n",
        "grader.grade(test_case_id = 'test_q', answer = your_ans)"
      ],
      "metadata": {
        "id": "B7fdjrTJEzTu",
        "colab": {
          "base_uri": "https://localhost:8080/"
        },
        "outputId": "374c659c-a5ed-4c56-a7eb-9040cd57e42b"
      },
      "execution_count": 487,
      "outputs": [
        {
          "output_type": "stream",
          "name": "stdout",
          "text": [
            "Correct! You earned 1/1 points. You are a star!\n",
            "\n",
            "Your submission has been successfully recorded in the gradebook.\n"
          ]
        }
      ]
    },
    {
      "cell_type": "markdown",
      "source": [
        "#### 2.1.4 Ratio of Rides (6 points)\n",
        "\n",
        "Some of the rides listed in the `trips_cleaned_df` are marked as One Way while some are marked as Round Trip. We'd like to know the ratio between the number of one - way trips to the number of round-trip journeys. \n",
        "\n",
        "**TO-DO:** Using **pandas**, calculate the ratio of the number of one-way rides to the number of round-trip rides from `trips_cleaned_df` and save it to the variable `ratio_1_round` \n",
        "\n",
        "**HINT:** Let the answer remain a float value when using pandas. "
      ],
      "metadata": {
        "id": "zQ4D0K4w6e-F"
      }
    },
    {
      "cell_type": "code",
      "source": [
        "# TO-DO: Use pandas to obtain the ratio of average number of one-way trips to average number of round-trip journeys\n",
        "trip_count = trips_cleaned_df['trip_route_category'].value_counts()\n",
        "print(trip_count)\n",
        "ratio_1_round = trip_count['One Way']/trip_count['Round Trip']"
      ],
      "metadata": {
        "id": "4nlsC5Ul67Da",
        "colab": {
          "base_uri": "https://localhost:8080/"
        },
        "outputId": "9cde7e50-04c8-45fe-c248-3277ba152f67"
      },
      "execution_count": 439,
      "outputs": [
        {
          "output_type": "stream",
          "name": "stdout",
          "text": [
            "One Way       14325\n",
            "Round Trip      930\n",
            "Name: trip_route_category, dtype: Int64\n"
          ]
        }
      ]
    },
    {
      "cell_type": "code",
      "source": [
        "# 2 points\n",
        "grader.grade(test_case_id = 'test_ratio_pd', answer = ratio_1_round)"
      ],
      "metadata": {
        "id": "b4m9-1M_Aptp",
        "colab": {
          "base_uri": "https://localhost:8080/"
        },
        "outputId": "4089da52-8297-4fbd-b08d-7ad58ba992a9"
      },
      "execution_count": 440,
      "outputs": [
        {
          "output_type": "stream",
          "name": "stdout",
          "text": [
            "Correct! You earned 2/2 points. You are a star!\n",
            "\n",
            "Your submission has been successfully recorded in the gradebook.\n"
          ]
        }
      ]
    },
    {
      "cell_type": "markdown",
      "source": [
        "Now, let's try doing the same thing using pandasql, and see if the results match. \n",
        "\n",
        "**TODO:** Using **pandasql**, calculate the ratio of the number of one-way rides to the number of round-trip rides from `trips_cleaned_df` and save it to the dataframe `ratio_df`, naming the column `'ratio'`. \n",
        "\n",
        "Try to make use of subqueries here! Note, your results should be equivalent (to each other, and the answer, of course) if you have done both parts correctly.\n",
        "\n",
        "**HINT:** Cast your ratio to `float` type.  \n",
        "\n",
        "**Final Schema:**\n",
        "\n",
        "> ratio |\n",
        "> --- |"
      ],
      "metadata": {
        "id": "6D6k9ydQBCiT"
      }
    },
    {
      "cell_type": "code",
      "source": [
        "# TODO: Use pandasql to obtain the ratio of number of one-way trips to number of round trips \n",
        "\n",
        "ratio_query = \"\"\"  \n",
        "              SELECT \n",
        "              CAST(COUNT(CASE WHEN trips_cleaned_df.trip_route_category = 'One Way' THEN 1 END) AS FLOAT)\n",
        "              / \n",
        "              CAST (COUNT(CASE WHEN trips_cleaned_df.trip_route_category = 'Round Trip' THEN 1 END) AS FLOAT)\n",
        "              AS ratio \n",
        "              FROM trips_cleaned_df\n",
        "\n",
        "              \n",
        "              \"\"\"\n",
        "\n",
        "              #\"\"\"SELECT COUNT (*) AS num FROM round_df \"\"\"\n",
        "#AS round_amount WHERE trip_route_category = 'Round Trip' \n",
        "ratio_df = ps.sqldf(ratio_query, locals())\n",
        "ratio_df"
      ],
      "metadata": {
        "id": "GZjIm-C_661o",
        "colab": {
          "base_uri": "https://localhost:8080/",
          "height": 80
        },
        "outputId": "1402456b-c07c-44d8-ff3f-817000857a1a"
      },
      "execution_count": 441,
      "outputs": [
        {
          "output_type": "execute_result",
          "data": {
            "text/plain": [
              "       ratio\n",
              "0  15.403226"
            ],
            "text/html": [
              "\n",
              "  <div id=\"df-8c7e89e9-9056-4ddf-99e9-306bec0054a6\">\n",
              "    <div class=\"colab-df-container\">\n",
              "      <div>\n",
              "<style scoped>\n",
              "    .dataframe tbody tr th:only-of-type {\n",
              "        vertical-align: middle;\n",
              "    }\n",
              "\n",
              "    .dataframe tbody tr th {\n",
              "        vertical-align: top;\n",
              "    }\n",
              "\n",
              "    .dataframe thead th {\n",
              "        text-align: right;\n",
              "    }\n",
              "</style>\n",
              "<table border=\"1\" class=\"dataframe\">\n",
              "  <thead>\n",
              "    <tr style=\"text-align: right;\">\n",
              "      <th></th>\n",
              "      <th>ratio</th>\n",
              "    </tr>\n",
              "  </thead>\n",
              "  <tbody>\n",
              "    <tr>\n",
              "      <th>0</th>\n",
              "      <td>15.403226</td>\n",
              "    </tr>\n",
              "  </tbody>\n",
              "</table>\n",
              "</div>\n",
              "      <button class=\"colab-df-convert\" onclick=\"convertToInteractive('df-8c7e89e9-9056-4ddf-99e9-306bec0054a6')\"\n",
              "              title=\"Convert this dataframe to an interactive table.\"\n",
              "              style=\"display:none;\">\n",
              "        \n",
              "  <svg xmlns=\"http://www.w3.org/2000/svg\" height=\"24px\"viewBox=\"0 0 24 24\"\n",
              "       width=\"24px\">\n",
              "    <path d=\"M0 0h24v24H0V0z\" fill=\"none\"/>\n",
              "    <path d=\"M18.56 5.44l.94 2.06.94-2.06 2.06-.94-2.06-.94-.94-2.06-.94 2.06-2.06.94zm-11 1L8.5 8.5l.94-2.06 2.06-.94-2.06-.94L8.5 2.5l-.94 2.06-2.06.94zm10 10l.94 2.06.94-2.06 2.06-.94-2.06-.94-.94-2.06-.94 2.06-2.06.94z\"/><path d=\"M17.41 7.96l-1.37-1.37c-.4-.4-.92-.59-1.43-.59-.52 0-1.04.2-1.43.59L10.3 9.45l-7.72 7.72c-.78.78-.78 2.05 0 2.83L4 21.41c.39.39.9.59 1.41.59.51 0 1.02-.2 1.41-.59l7.78-7.78 2.81-2.81c.8-.78.8-2.07 0-2.86zM5.41 20L4 18.59l7.72-7.72 1.47 1.35L5.41 20z\"/>\n",
              "  </svg>\n",
              "      </button>\n",
              "      \n",
              "  <style>\n",
              "    .colab-df-container {\n",
              "      display:flex;\n",
              "      flex-wrap:wrap;\n",
              "      gap: 12px;\n",
              "    }\n",
              "\n",
              "    .colab-df-convert {\n",
              "      background-color: #E8F0FE;\n",
              "      border: none;\n",
              "      border-radius: 50%;\n",
              "      cursor: pointer;\n",
              "      display: none;\n",
              "      fill: #1967D2;\n",
              "      height: 32px;\n",
              "      padding: 0 0 0 0;\n",
              "      width: 32px;\n",
              "    }\n",
              "\n",
              "    .colab-df-convert:hover {\n",
              "      background-color: #E2EBFA;\n",
              "      box-shadow: 0px 1px 2px rgba(60, 64, 67, 0.3), 0px 1px 3px 1px rgba(60, 64, 67, 0.15);\n",
              "      fill: #174EA6;\n",
              "    }\n",
              "\n",
              "    [theme=dark] .colab-df-convert {\n",
              "      background-color: #3B4455;\n",
              "      fill: #D2E3FC;\n",
              "    }\n",
              "\n",
              "    [theme=dark] .colab-df-convert:hover {\n",
              "      background-color: #434B5C;\n",
              "      box-shadow: 0px 1px 3px 1px rgba(0, 0, 0, 0.15);\n",
              "      filter: drop-shadow(0px 1px 2px rgba(0, 0, 0, 0.3));\n",
              "      fill: #FFFFFF;\n",
              "    }\n",
              "  </style>\n",
              "\n",
              "      <script>\n",
              "        const buttonEl =\n",
              "          document.querySelector('#df-8c7e89e9-9056-4ddf-99e9-306bec0054a6 button.colab-df-convert');\n",
              "        buttonEl.style.display =\n",
              "          google.colab.kernel.accessAllowed ? 'block' : 'none';\n",
              "\n",
              "        async function convertToInteractive(key) {\n",
              "          const element = document.querySelector('#df-8c7e89e9-9056-4ddf-99e9-306bec0054a6');\n",
              "          const dataTable =\n",
              "            await google.colab.kernel.invokeFunction('convertToInteractive',\n",
              "                                                     [key], {});\n",
              "          if (!dataTable) return;\n",
              "\n",
              "          const docLinkHtml = 'Like what you see? Visit the ' +\n",
              "            '<a target=\"_blank\" href=https://colab.research.google.com/notebooks/data_table.ipynb>data table notebook</a>'\n",
              "            + ' to learn more about interactive tables.';\n",
              "          element.innerHTML = '';\n",
              "          dataTable['output_type'] = 'display_data';\n",
              "          await google.colab.output.renderOutput(dataTable, element);\n",
              "          const docLink = document.createElement('div');\n",
              "          docLink.innerHTML = docLinkHtml;\n",
              "          element.appendChild(docLink);\n",
              "        }\n",
              "      </script>\n",
              "    </div>\n",
              "  </div>\n",
              "  "
            ]
          },
          "metadata": {},
          "execution_count": 441
        }
      ]
    },
    {
      "cell_type": "code",
      "source": [
        "# 4 points\n",
        "grader.grade(test_case_id = 'test_ratio_sql', answer = (ratio_df, ratio_query))"
      ],
      "metadata": {
        "id": "l3orIXJvAqe2",
        "colab": {
          "base_uri": "https://localhost:8080/"
        },
        "outputId": "b0ad9fac-a041-4c0d-831b-d40e6f392e28"
      },
      "execution_count": 442,
      "outputs": [
        {
          "output_type": "stream",
          "name": "stdout",
          "text": [
            "Correct! You earned 4/4 points. You are a star!\n",
            "\n",
            "Your submission has been successfully recorded in the gradebook.\n"
          ]
        }
      ]
    },
    {
      "cell_type": "markdown",
      "source": [
        "###2.2 Station Involvement [16 points]"
      ],
      "metadata": {
        "id": "EmtOjC3s67UW"
      }
    },
    {
      "cell_type": "markdown",
      "source": [
        "#### 2.2.1 Names not numbers [5 points]\n",
        "We will now use `stations_cleaned_df` to modify our `trips_final_df`. If you look at the rides data, you will notice that both start and end station columns have numbers corresponding to the station ID listed. Using the station ID listed in stations_df, we want to include station names instead of station IDs in our `trips_final_df`.\n",
        "\n",
        "**TO-DO** (`pandas`): \n",
        "* Drop records with missing values and update `trips_cleaned_df`\n",
        "* Create a new dataframe called `trips_final_df` which you'll use after this question. Begin by assigning a **copy** of `trips_cleaned_df` to it.\n",
        "  * **Hint:** Don't just set them equal right away! Refer to the ```.copy()``` function!\n",
        ". \n",
        "* Replace the IDs in the `'start_station'` column of `trips_final_df` with the corresponding station name. \n",
        "* Replace the IDs in the `'end_station'` column of `trips_final_df` with the corresponding station name. \n",
        "* If the any station ID cannot be mapped to a name, the name should be set to 'Unknown'\n",
        "* Sort `trips_final_df` by the trip_id (in ascending order). \n",
        "\n"
      ],
      "metadata": {
        "id": "2fXGZWkF7AeD"
      }
    },
    {
      "cell_type": "code",
      "source": [
        "# TO-DO : Drop missing values\n",
        "trips_cleaned_df = trips_cleaned_df.dropna(how = 'all')\n"
      ],
      "metadata": {
        "id": "ZEbcMIew1CSR",
        "colab": {
          "base_uri": "https://localhost:8080/",
          "height": 467
        },
        "outputId": "52e51e4f-e0f2-4298-e48d-28424b2f9a06"
      },
      "execution_count": 443,
      "outputs": [
        {
          "output_type": "execute_result",
          "data": {
            "text/plain": [
              "         trip_id  duration       start_time         end_time  start_station  \\\n",
              "68     536546924         3   10/1/2022 1:50   10/1/2022 1:53         3188.0   \n",
              "67     536546925         3   10/1/2022 1:50   10/1/2022 1:53         3188.0   \n",
              "66     536546927         7   10/1/2022 1:48   10/1/2022 1:55         3010.0   \n",
              "65     536546929         7   10/1/2022 1:48   10/1/2022 1:55         3010.0   \n",
              "63     536546932         6   10/1/2022 1:41   10/1/2022 1:47         3004.0   \n",
              "...          ...       ...              ...              ...            ...   \n",
              "15293  540422839       100  10/7/2022 21:36  10/7/2022 23:16         3045.0   \n",
              "15292  540422840       102  10/7/2022 21:35  10/7/2022 23:17         3045.0   \n",
              "15291  540422841       102  10/7/2022 21:34  10/7/2022 23:16         3045.0   \n",
              "15272  540422860        50  10/7/2022 21:27  10/7/2022 22:17         3167.0   \n",
              "15237  540422896        53  10/7/2022 21:12  10/7/2022 22:05         3169.0   \n",
              "\n",
              "       start_lat  start_lon  end_station    end_lat    end_lon  bike_id  \\\n",
              "68     39.904709 -75.173401       3188.0  39.904709 -75.173401    11708   \n",
              "67     39.904709 -75.173401       3188.0  39.904709 -75.173401     3483   \n",
              "66     39.947109 -75.166183       3064.0  39.938400 -75.173271    14655   \n",
              "65     39.947109 -75.166183       3064.0  39.938400 -75.173271    12987   \n",
              "63     39.953781 -75.163742       3206.0  39.951740 -75.170631    22554   \n",
              "...          ...        ...          ...        ...        ...      ...   \n",
              "15293  39.947922 -75.162369       3045.0  39.947922 -75.162369    22404   \n",
              "15292  39.947922 -75.162369       3045.0  39.947922 -75.162369    23321   \n",
              "15291  39.947922 -75.162369       3045.0  39.947922 -75.162369    22950   \n",
              "15272  39.950249 -75.160278       3039.0  39.971569 -75.159927    14533   \n",
              "15237  39.953819 -75.142632       3261.0  39.963039 -75.140991     3570   \n",
              "\n",
              "      trip_route_category passholder_type bike_type  \n",
              "68             Round Trip        Indego30  standard  \n",
              "67             Round Trip        Indego30  standard  \n",
              "66                One Way        Indego30  standard  \n",
              "65                One Way        Indego30  standard  \n",
              "63                One Way        Day Pass  electric  \n",
              "...                   ...             ...       ...  \n",
              "15293          Round Trip        Day Pass  electric  \n",
              "15292          Round Trip        Day Pass  electric  \n",
              "15291          Round Trip        Day Pass  electric  \n",
              "15272             One Way        Indego30  standard  \n",
              "15237             One Way       Indego365  standard  \n",
              "\n",
              "[15255 rows x 14 columns]"
            ],
            "text/html": [
              "\n",
              "  <div id=\"df-a80e82a4-e633-42b5-8b48-9cf8e75e703c\">\n",
              "    <div class=\"colab-df-container\">\n",
              "      <div>\n",
              "<style scoped>\n",
              "    .dataframe tbody tr th:only-of-type {\n",
              "        vertical-align: middle;\n",
              "    }\n",
              "\n",
              "    .dataframe tbody tr th {\n",
              "        vertical-align: top;\n",
              "    }\n",
              "\n",
              "    .dataframe thead th {\n",
              "        text-align: right;\n",
              "    }\n",
              "</style>\n",
              "<table border=\"1\" class=\"dataframe\">\n",
              "  <thead>\n",
              "    <tr style=\"text-align: right;\">\n",
              "      <th></th>\n",
              "      <th>trip_id</th>\n",
              "      <th>duration</th>\n",
              "      <th>start_time</th>\n",
              "      <th>end_time</th>\n",
              "      <th>start_station</th>\n",
              "      <th>start_lat</th>\n",
              "      <th>start_lon</th>\n",
              "      <th>end_station</th>\n",
              "      <th>end_lat</th>\n",
              "      <th>end_lon</th>\n",
              "      <th>bike_id</th>\n",
              "      <th>trip_route_category</th>\n",
              "      <th>passholder_type</th>\n",
              "      <th>bike_type</th>\n",
              "    </tr>\n",
              "  </thead>\n",
              "  <tbody>\n",
              "    <tr>\n",
              "      <th>68</th>\n",
              "      <td>536546924</td>\n",
              "      <td>3</td>\n",
              "      <td>10/1/2022 1:50</td>\n",
              "      <td>10/1/2022 1:53</td>\n",
              "      <td>3188.0</td>\n",
              "      <td>39.904709</td>\n",
              "      <td>-75.173401</td>\n",
              "      <td>3188.0</td>\n",
              "      <td>39.904709</td>\n",
              "      <td>-75.173401</td>\n",
              "      <td>11708</td>\n",
              "      <td>Round Trip</td>\n",
              "      <td>Indego30</td>\n",
              "      <td>standard</td>\n",
              "    </tr>\n",
              "    <tr>\n",
              "      <th>67</th>\n",
              "      <td>536546925</td>\n",
              "      <td>3</td>\n",
              "      <td>10/1/2022 1:50</td>\n",
              "      <td>10/1/2022 1:53</td>\n",
              "      <td>3188.0</td>\n",
              "      <td>39.904709</td>\n",
              "      <td>-75.173401</td>\n",
              "      <td>3188.0</td>\n",
              "      <td>39.904709</td>\n",
              "      <td>-75.173401</td>\n",
              "      <td>3483</td>\n",
              "      <td>Round Trip</td>\n",
              "      <td>Indego30</td>\n",
              "      <td>standard</td>\n",
              "    </tr>\n",
              "    <tr>\n",
              "      <th>66</th>\n",
              "      <td>536546927</td>\n",
              "      <td>7</td>\n",
              "      <td>10/1/2022 1:48</td>\n",
              "      <td>10/1/2022 1:55</td>\n",
              "      <td>3010.0</td>\n",
              "      <td>39.947109</td>\n",
              "      <td>-75.166183</td>\n",
              "      <td>3064.0</td>\n",
              "      <td>39.938400</td>\n",
              "      <td>-75.173271</td>\n",
              "      <td>14655</td>\n",
              "      <td>One Way</td>\n",
              "      <td>Indego30</td>\n",
              "      <td>standard</td>\n",
              "    </tr>\n",
              "    <tr>\n",
              "      <th>65</th>\n",
              "      <td>536546929</td>\n",
              "      <td>7</td>\n",
              "      <td>10/1/2022 1:48</td>\n",
              "      <td>10/1/2022 1:55</td>\n",
              "      <td>3010.0</td>\n",
              "      <td>39.947109</td>\n",
              "      <td>-75.166183</td>\n",
              "      <td>3064.0</td>\n",
              "      <td>39.938400</td>\n",
              "      <td>-75.173271</td>\n",
              "      <td>12987</td>\n",
              "      <td>One Way</td>\n",
              "      <td>Indego30</td>\n",
              "      <td>standard</td>\n",
              "    </tr>\n",
              "    <tr>\n",
              "      <th>63</th>\n",
              "      <td>536546932</td>\n",
              "      <td>6</td>\n",
              "      <td>10/1/2022 1:41</td>\n",
              "      <td>10/1/2022 1:47</td>\n",
              "      <td>3004.0</td>\n",
              "      <td>39.953781</td>\n",
              "      <td>-75.163742</td>\n",
              "      <td>3206.0</td>\n",
              "      <td>39.951740</td>\n",
              "      <td>-75.170631</td>\n",
              "      <td>22554</td>\n",
              "      <td>One Way</td>\n",
              "      <td>Day Pass</td>\n",
              "      <td>electric</td>\n",
              "    </tr>\n",
              "    <tr>\n",
              "      <th>...</th>\n",
              "      <td>...</td>\n",
              "      <td>...</td>\n",
              "      <td>...</td>\n",
              "      <td>...</td>\n",
              "      <td>...</td>\n",
              "      <td>...</td>\n",
              "      <td>...</td>\n",
              "      <td>...</td>\n",
              "      <td>...</td>\n",
              "      <td>...</td>\n",
              "      <td>...</td>\n",
              "      <td>...</td>\n",
              "      <td>...</td>\n",
              "      <td>...</td>\n",
              "    </tr>\n",
              "    <tr>\n",
              "      <th>15293</th>\n",
              "      <td>540422839</td>\n",
              "      <td>100</td>\n",
              "      <td>10/7/2022 21:36</td>\n",
              "      <td>10/7/2022 23:16</td>\n",
              "      <td>3045.0</td>\n",
              "      <td>39.947922</td>\n",
              "      <td>-75.162369</td>\n",
              "      <td>3045.0</td>\n",
              "      <td>39.947922</td>\n",
              "      <td>-75.162369</td>\n",
              "      <td>22404</td>\n",
              "      <td>Round Trip</td>\n",
              "      <td>Day Pass</td>\n",
              "      <td>electric</td>\n",
              "    </tr>\n",
              "    <tr>\n",
              "      <th>15292</th>\n",
              "      <td>540422840</td>\n",
              "      <td>102</td>\n",
              "      <td>10/7/2022 21:35</td>\n",
              "      <td>10/7/2022 23:17</td>\n",
              "      <td>3045.0</td>\n",
              "      <td>39.947922</td>\n",
              "      <td>-75.162369</td>\n",
              "      <td>3045.0</td>\n",
              "      <td>39.947922</td>\n",
              "      <td>-75.162369</td>\n",
              "      <td>23321</td>\n",
              "      <td>Round Trip</td>\n",
              "      <td>Day Pass</td>\n",
              "      <td>electric</td>\n",
              "    </tr>\n",
              "    <tr>\n",
              "      <th>15291</th>\n",
              "      <td>540422841</td>\n",
              "      <td>102</td>\n",
              "      <td>10/7/2022 21:34</td>\n",
              "      <td>10/7/2022 23:16</td>\n",
              "      <td>3045.0</td>\n",
              "      <td>39.947922</td>\n",
              "      <td>-75.162369</td>\n",
              "      <td>3045.0</td>\n",
              "      <td>39.947922</td>\n",
              "      <td>-75.162369</td>\n",
              "      <td>22950</td>\n",
              "      <td>Round Trip</td>\n",
              "      <td>Day Pass</td>\n",
              "      <td>electric</td>\n",
              "    </tr>\n",
              "    <tr>\n",
              "      <th>15272</th>\n",
              "      <td>540422860</td>\n",
              "      <td>50</td>\n",
              "      <td>10/7/2022 21:27</td>\n",
              "      <td>10/7/2022 22:17</td>\n",
              "      <td>3167.0</td>\n",
              "      <td>39.950249</td>\n",
              "      <td>-75.160278</td>\n",
              "      <td>3039.0</td>\n",
              "      <td>39.971569</td>\n",
              "      <td>-75.159927</td>\n",
              "      <td>14533</td>\n",
              "      <td>One Way</td>\n",
              "      <td>Indego30</td>\n",
              "      <td>standard</td>\n",
              "    </tr>\n",
              "    <tr>\n",
              "      <th>15237</th>\n",
              "      <td>540422896</td>\n",
              "      <td>53</td>\n",
              "      <td>10/7/2022 21:12</td>\n",
              "      <td>10/7/2022 22:05</td>\n",
              "      <td>3169.0</td>\n",
              "      <td>39.953819</td>\n",
              "      <td>-75.142632</td>\n",
              "      <td>3261.0</td>\n",
              "      <td>39.963039</td>\n",
              "      <td>-75.140991</td>\n",
              "      <td>3570</td>\n",
              "      <td>One Way</td>\n",
              "      <td>Indego365</td>\n",
              "      <td>standard</td>\n",
              "    </tr>\n",
              "  </tbody>\n",
              "</table>\n",
              "<p>15255 rows × 14 columns</p>\n",
              "</div>\n",
              "      <button class=\"colab-df-convert\" onclick=\"convertToInteractive('df-a80e82a4-e633-42b5-8b48-9cf8e75e703c')\"\n",
              "              title=\"Convert this dataframe to an interactive table.\"\n",
              "              style=\"display:none;\">\n",
              "        \n",
              "  <svg xmlns=\"http://www.w3.org/2000/svg\" height=\"24px\"viewBox=\"0 0 24 24\"\n",
              "       width=\"24px\">\n",
              "    <path d=\"M0 0h24v24H0V0z\" fill=\"none\"/>\n",
              "    <path d=\"M18.56 5.44l.94 2.06.94-2.06 2.06-.94-2.06-.94-.94-2.06-.94 2.06-2.06.94zm-11 1L8.5 8.5l.94-2.06 2.06-.94-2.06-.94L8.5 2.5l-.94 2.06-2.06.94zm10 10l.94 2.06.94-2.06 2.06-.94-2.06-.94-.94-2.06-.94 2.06-2.06.94z\"/><path d=\"M17.41 7.96l-1.37-1.37c-.4-.4-.92-.59-1.43-.59-.52 0-1.04.2-1.43.59L10.3 9.45l-7.72 7.72c-.78.78-.78 2.05 0 2.83L4 21.41c.39.39.9.59 1.41.59.51 0 1.02-.2 1.41-.59l7.78-7.78 2.81-2.81c.8-.78.8-2.07 0-2.86zM5.41 20L4 18.59l7.72-7.72 1.47 1.35L5.41 20z\"/>\n",
              "  </svg>\n",
              "      </button>\n",
              "      \n",
              "  <style>\n",
              "    .colab-df-container {\n",
              "      display:flex;\n",
              "      flex-wrap:wrap;\n",
              "      gap: 12px;\n",
              "    }\n",
              "\n",
              "    .colab-df-convert {\n",
              "      background-color: #E8F0FE;\n",
              "      border: none;\n",
              "      border-radius: 50%;\n",
              "      cursor: pointer;\n",
              "      display: none;\n",
              "      fill: #1967D2;\n",
              "      height: 32px;\n",
              "      padding: 0 0 0 0;\n",
              "      width: 32px;\n",
              "    }\n",
              "\n",
              "    .colab-df-convert:hover {\n",
              "      background-color: #E2EBFA;\n",
              "      box-shadow: 0px 1px 2px rgba(60, 64, 67, 0.3), 0px 1px 3px 1px rgba(60, 64, 67, 0.15);\n",
              "      fill: #174EA6;\n",
              "    }\n",
              "\n",
              "    [theme=dark] .colab-df-convert {\n",
              "      background-color: #3B4455;\n",
              "      fill: #D2E3FC;\n",
              "    }\n",
              "\n",
              "    [theme=dark] .colab-df-convert:hover {\n",
              "      background-color: #434B5C;\n",
              "      box-shadow: 0px 1px 3px 1px rgba(0, 0, 0, 0.15);\n",
              "      filter: drop-shadow(0px 1px 2px rgba(0, 0, 0, 0.3));\n",
              "      fill: #FFFFFF;\n",
              "    }\n",
              "  </style>\n",
              "\n",
              "      <script>\n",
              "        const buttonEl =\n",
              "          document.querySelector('#df-a80e82a4-e633-42b5-8b48-9cf8e75e703c button.colab-df-convert');\n",
              "        buttonEl.style.display =\n",
              "          google.colab.kernel.accessAllowed ? 'block' : 'none';\n",
              "\n",
              "        async function convertToInteractive(key) {\n",
              "          const element = document.querySelector('#df-a80e82a4-e633-42b5-8b48-9cf8e75e703c');\n",
              "          const dataTable =\n",
              "            await google.colab.kernel.invokeFunction('convertToInteractive',\n",
              "                                                     [key], {});\n",
              "          if (!dataTable) return;\n",
              "\n",
              "          const docLinkHtml = 'Like what you see? Visit the ' +\n",
              "            '<a target=\"_blank\" href=https://colab.research.google.com/notebooks/data_table.ipynb>data table notebook</a>'\n",
              "            + ' to learn more about interactive tables.';\n",
              "          element.innerHTML = '';\n",
              "          dataTable['output_type'] = 'display_data';\n",
              "          await google.colab.output.renderOutput(dataTable, element);\n",
              "          const docLink = document.createElement('div');\n",
              "          docLink.innerHTML = docLinkHtml;\n",
              "          element.appendChild(docLink);\n",
              "        }\n",
              "      </script>\n",
              "    </div>\n",
              "  </div>\n",
              "  "
            ]
          },
          "metadata": {},
          "execution_count": 443
        }
      ]
    },
    {
      "cell_type": "code",
      "source": [
        "# TO-DO : Create a copy named trips_final_df using .copy()\n",
        "trips_final_df = trips_cleaned_df.copy()\n",
        "# stations_cleaned_df"
      ],
      "metadata": {
        "id": "LaTHa9dU1Ehk"
      },
      "execution_count": 444,
      "outputs": []
    },
    {
      "cell_type": "code",
      "source": [
        "# # TO-DO: Replace station IDs with station names in trips_final_df. Read ALL the bullets above carefully!\n",
        "\n",
        "trips_final_df['start_station'] = trips_final_df['start_station'].map(stations_cleaned_df.set_index('station_id')['station_name']).fillna('Unknown')\n",
        "trips_final_df['end_station'] = trips_final_df['end_station'].map(stations_cleaned_df.set_index('station_id')['station_name']).fillna('Unknown')"
      ],
      "metadata": {
        "id": "TIBK-_uO7EVZ"
      },
      "execution_count": 445,
      "outputs": []
    },
    {
      "cell_type": "code",
      "source": [
        "# TO-DO: Sort trips_final_df by the trip_id\n",
        "trips_final_df = trips_final_df.sort_values(by = 'trip_id', ascending = True)\n"
      ],
      "metadata": {
        "id": "EfdLg0mpxANz"
      },
      "execution_count": 446,
      "outputs": []
    },
    {
      "cell_type": "code",
      "source": [
        "# 2 points\n",
        "grader.grade(test_case_id = 'test_stations', answer = trips_final_df)"
      ],
      "metadata": {
        "id": "hXK8HI2j7EL0",
        "colab": {
          "base_uri": "https://localhost:8080/"
        },
        "outputId": "a7d14b80-96c8-4d61-ce9a-5aa1b0fb4347"
      },
      "execution_count": 447,
      "outputs": [
        {
          "output_type": "stream",
          "name": "stdout",
          "text": [
            "Correct! You earned 2/2 points. You are a star!\n",
            "\n",
            "Your submission has been successfully recorded in the gradebook.\n"
          ]
        }
      ]
    },
    {
      "cell_type": "markdown",
      "source": [
        "**TO-DO** : Repeat the same using `trips_cleaned_df` (only for this sql query) and `pandasql`, saving it as `trips_stations_sql`.\n",
        "\n",
        "<ins>Remember:</ins> If a station ID cannot be mapped to a name, the name should be **NULL**"
      ],
      "metadata": {
        "id": "uon1cRZVZ6vI"
      }
    },
    {
      "cell_type": "code",
      "source": [
        "#TODO : Use pandasql to replace station IDs with station names in trips_cleaned_df and save it as trips_stations_sql\n",
        "\n",
        "replace_query = \"\"\"\n",
        "                SELECT trips_cleaned_df.start_station, stations_cleaned_df.station_name, *\n",
        "                FROM trips_cleaned_df\n",
        "                LEFT JOIN stations_cleaned_df ON trips_cleaned_df.start_station = stations_cleaned_df.station_id\n",
        "                \n",
        "                \"\"\"\n",
        "#                 '''\n",
        "# SELECT df1.value, df2_1.name as name1, df2_2.name as name2\n",
        "# FROM df1\n",
        "# LEFT JOIN df2 df2_1 ON df1.id1 = df2_1.id\n",
        "# LEFT JOIN df2 df2_2 ON df1.id2 = df2_2.id\n",
        "# '''\n",
        "\n",
        "trips_stations_sql = ps.sqldf(replace_query, locals())\n",
        "trips_stations_sql"
      ],
      "metadata": {
        "id": "BoBeYT_uZtJH",
        "colab": {
          "base_uri": "https://localhost:8080/",
          "height": 678
        },
        "outputId": "186f2826-260a-4609-b947-4de42a78f12e"
      },
      "execution_count": 450,
      "outputs": [
        {
          "output_type": "execute_result",
          "data": {
            "text/plain": [
              "       start_station                       station_name    trip_id  duration  \\\n",
              "0             3188.0              Broad & Pattison, BSL  536546924         3   \n",
              "1             3188.0              Broad & Pattison, BSL  536546925         3   \n",
              "2             3010.0                      15th & Spruce  536546927         7   \n",
              "3             3010.0                      15th & Spruce  536546929         7   \n",
              "4             3004.0  Municipal Services Building Plaza  536546932         6   \n",
              "...              ...                                ...        ...       ...   \n",
              "15250         3045.0                      13th & Locust  540422839       100   \n",
              "15251         3045.0                      13th & Locust  540422840       102   \n",
              "15252         3045.0                      13th & Locust  540422841       102   \n",
              "15253         3167.0                    12th & Chestnut  540422860        50   \n",
              "15254         3169.0                         2nd & Race  540422896        53   \n",
              "\n",
              "            start_time         end_time  start_station  start_lat  start_lon  \\\n",
              "0       10/1/2022 1:50   10/1/2022 1:53         3188.0  39.904709 -75.173401   \n",
              "1       10/1/2022 1:50   10/1/2022 1:53         3188.0  39.904709 -75.173401   \n",
              "2       10/1/2022 1:48   10/1/2022 1:55         3010.0  39.947109 -75.166183   \n",
              "3       10/1/2022 1:48   10/1/2022 1:55         3010.0  39.947109 -75.166183   \n",
              "4       10/1/2022 1:41   10/1/2022 1:47         3004.0  39.953781 -75.163742   \n",
              "...                ...              ...            ...        ...        ...   \n",
              "15250  10/7/2022 21:36  10/7/2022 23:16         3045.0  39.947922 -75.162369   \n",
              "15251  10/7/2022 21:35  10/7/2022 23:17         3045.0  39.947922 -75.162369   \n",
              "15252  10/7/2022 21:34  10/7/2022 23:16         3045.0  39.947922 -75.162369   \n",
              "15253  10/7/2022 21:27  10/7/2022 22:17         3167.0  39.950249 -75.160278   \n",
              "15254  10/7/2022 21:12  10/7/2022 22:05         3169.0  39.953819 -75.142632   \n",
              "\n",
              "       end_station    end_lat    end_lon  bike_id trip_route_category  \\\n",
              "0           3188.0  39.904709 -75.173401    11708          Round Trip   \n",
              "1           3188.0  39.904709 -75.173401     3483          Round Trip   \n",
              "2           3064.0  39.938400 -75.173271    14655             One Way   \n",
              "3           3064.0  39.938400 -75.173271    12987             One Way   \n",
              "4           3206.0  39.951740 -75.170631    22554             One Way   \n",
              "...            ...        ...        ...      ...                 ...   \n",
              "15250       3045.0  39.947922 -75.162369    22404          Round Trip   \n",
              "15251       3045.0  39.947922 -75.162369    23321          Round Trip   \n",
              "15252       3045.0  39.947922 -75.162369    22950          Round Trip   \n",
              "15253       3039.0  39.971569 -75.159927    14533             One Way   \n",
              "15254       3261.0  39.963039 -75.140991     3570             One Way   \n",
              "\n",
              "      passholder_type bike_type  station_id  \\\n",
              "0            Indego30  standard      3188.0   \n",
              "1            Indego30  standard      3188.0   \n",
              "2            Indego30  standard      3010.0   \n",
              "3            Indego30  standard      3010.0   \n",
              "4            Day Pass  electric      3004.0   \n",
              "...               ...       ...         ...   \n",
              "15250        Day Pass  electric      3045.0   \n",
              "15251        Day Pass  electric      3045.0   \n",
              "15252        Day Pass  electric      3045.0   \n",
              "15253        Indego30  standard      3167.0   \n",
              "15254       Indego365  standard      3169.0   \n",
              "\n",
              "                            station_name  zone  is_west_philly  \n",
              "0                  Broad & Pattison, BSL   4.0             0.0  \n",
              "1                  Broad & Pattison, BSL   4.0             0.0  \n",
              "2                          15th & Spruce   0.0             0.0  \n",
              "3                          15th & Spruce   0.0             0.0  \n",
              "4      Municipal Services Building Plaza   0.0             0.0  \n",
              "...                                  ...   ...             ...  \n",
              "15250                      13th & Locust   0.0             0.0  \n",
              "15251                      13th & Locust   0.0             0.0  \n",
              "15252                      13th & Locust   0.0             0.0  \n",
              "15253                    12th & Chestnut   4.0             0.0  \n",
              "15254                         2nd & Race   4.0             0.0  \n",
              "\n",
              "[15255 rows x 20 columns]"
            ],
            "text/html": [
              "\n",
              "  <div id=\"df-efd0d8b3-7846-412d-ae6f-19f482127566\">\n",
              "    <div class=\"colab-df-container\">\n",
              "      <div>\n",
              "<style scoped>\n",
              "    .dataframe tbody tr th:only-of-type {\n",
              "        vertical-align: middle;\n",
              "    }\n",
              "\n",
              "    .dataframe tbody tr th {\n",
              "        vertical-align: top;\n",
              "    }\n",
              "\n",
              "    .dataframe thead th {\n",
              "        text-align: right;\n",
              "    }\n",
              "</style>\n",
              "<table border=\"1\" class=\"dataframe\">\n",
              "  <thead>\n",
              "    <tr style=\"text-align: right;\">\n",
              "      <th></th>\n",
              "      <th>start_station</th>\n",
              "      <th>station_name</th>\n",
              "      <th>trip_id</th>\n",
              "      <th>duration</th>\n",
              "      <th>start_time</th>\n",
              "      <th>end_time</th>\n",
              "      <th>start_station</th>\n",
              "      <th>start_lat</th>\n",
              "      <th>start_lon</th>\n",
              "      <th>end_station</th>\n",
              "      <th>end_lat</th>\n",
              "      <th>end_lon</th>\n",
              "      <th>bike_id</th>\n",
              "      <th>trip_route_category</th>\n",
              "      <th>passholder_type</th>\n",
              "      <th>bike_type</th>\n",
              "      <th>station_id</th>\n",
              "      <th>station_name</th>\n",
              "      <th>zone</th>\n",
              "      <th>is_west_philly</th>\n",
              "    </tr>\n",
              "  </thead>\n",
              "  <tbody>\n",
              "    <tr>\n",
              "      <th>0</th>\n",
              "      <td>3188.0</td>\n",
              "      <td>Broad &amp; Pattison, BSL</td>\n",
              "      <td>536546924</td>\n",
              "      <td>3</td>\n",
              "      <td>10/1/2022 1:50</td>\n",
              "      <td>10/1/2022 1:53</td>\n",
              "      <td>3188.0</td>\n",
              "      <td>39.904709</td>\n",
              "      <td>-75.173401</td>\n",
              "      <td>3188.0</td>\n",
              "      <td>39.904709</td>\n",
              "      <td>-75.173401</td>\n",
              "      <td>11708</td>\n",
              "      <td>Round Trip</td>\n",
              "      <td>Indego30</td>\n",
              "      <td>standard</td>\n",
              "      <td>3188.0</td>\n",
              "      <td>Broad &amp; Pattison, BSL</td>\n",
              "      <td>4.0</td>\n",
              "      <td>0.0</td>\n",
              "    </tr>\n",
              "    <tr>\n",
              "      <th>1</th>\n",
              "      <td>3188.0</td>\n",
              "      <td>Broad &amp; Pattison, BSL</td>\n",
              "      <td>536546925</td>\n",
              "      <td>3</td>\n",
              "      <td>10/1/2022 1:50</td>\n",
              "      <td>10/1/2022 1:53</td>\n",
              "      <td>3188.0</td>\n",
              "      <td>39.904709</td>\n",
              "      <td>-75.173401</td>\n",
              "      <td>3188.0</td>\n",
              "      <td>39.904709</td>\n",
              "      <td>-75.173401</td>\n",
              "      <td>3483</td>\n",
              "      <td>Round Trip</td>\n",
              "      <td>Indego30</td>\n",
              "      <td>standard</td>\n",
              "      <td>3188.0</td>\n",
              "      <td>Broad &amp; Pattison, BSL</td>\n",
              "      <td>4.0</td>\n",
              "      <td>0.0</td>\n",
              "    </tr>\n",
              "    <tr>\n",
              "      <th>2</th>\n",
              "      <td>3010.0</td>\n",
              "      <td>15th &amp; Spruce</td>\n",
              "      <td>536546927</td>\n",
              "      <td>7</td>\n",
              "      <td>10/1/2022 1:48</td>\n",
              "      <td>10/1/2022 1:55</td>\n",
              "      <td>3010.0</td>\n",
              "      <td>39.947109</td>\n",
              "      <td>-75.166183</td>\n",
              "      <td>3064.0</td>\n",
              "      <td>39.938400</td>\n",
              "      <td>-75.173271</td>\n",
              "      <td>14655</td>\n",
              "      <td>One Way</td>\n",
              "      <td>Indego30</td>\n",
              "      <td>standard</td>\n",
              "      <td>3010.0</td>\n",
              "      <td>15th &amp; Spruce</td>\n",
              "      <td>0.0</td>\n",
              "      <td>0.0</td>\n",
              "    </tr>\n",
              "    <tr>\n",
              "      <th>3</th>\n",
              "      <td>3010.0</td>\n",
              "      <td>15th &amp; Spruce</td>\n",
              "      <td>536546929</td>\n",
              "      <td>7</td>\n",
              "      <td>10/1/2022 1:48</td>\n",
              "      <td>10/1/2022 1:55</td>\n",
              "      <td>3010.0</td>\n",
              "      <td>39.947109</td>\n",
              "      <td>-75.166183</td>\n",
              "      <td>3064.0</td>\n",
              "      <td>39.938400</td>\n",
              "      <td>-75.173271</td>\n",
              "      <td>12987</td>\n",
              "      <td>One Way</td>\n",
              "      <td>Indego30</td>\n",
              "      <td>standard</td>\n",
              "      <td>3010.0</td>\n",
              "      <td>15th &amp; Spruce</td>\n",
              "      <td>0.0</td>\n",
              "      <td>0.0</td>\n",
              "    </tr>\n",
              "    <tr>\n",
              "      <th>4</th>\n",
              "      <td>3004.0</td>\n",
              "      <td>Municipal Services Building Plaza</td>\n",
              "      <td>536546932</td>\n",
              "      <td>6</td>\n",
              "      <td>10/1/2022 1:41</td>\n",
              "      <td>10/1/2022 1:47</td>\n",
              "      <td>3004.0</td>\n",
              "      <td>39.953781</td>\n",
              "      <td>-75.163742</td>\n",
              "      <td>3206.0</td>\n",
              "      <td>39.951740</td>\n",
              "      <td>-75.170631</td>\n",
              "      <td>22554</td>\n",
              "      <td>One Way</td>\n",
              "      <td>Day Pass</td>\n",
              "      <td>electric</td>\n",
              "      <td>3004.0</td>\n",
              "      <td>Municipal Services Building Plaza</td>\n",
              "      <td>0.0</td>\n",
              "      <td>0.0</td>\n",
              "    </tr>\n",
              "    <tr>\n",
              "      <th>...</th>\n",
              "      <td>...</td>\n",
              "      <td>...</td>\n",
              "      <td>...</td>\n",
              "      <td>...</td>\n",
              "      <td>...</td>\n",
              "      <td>...</td>\n",
              "      <td>...</td>\n",
              "      <td>...</td>\n",
              "      <td>...</td>\n",
              "      <td>...</td>\n",
              "      <td>...</td>\n",
              "      <td>...</td>\n",
              "      <td>...</td>\n",
              "      <td>...</td>\n",
              "      <td>...</td>\n",
              "      <td>...</td>\n",
              "      <td>...</td>\n",
              "      <td>...</td>\n",
              "      <td>...</td>\n",
              "      <td>...</td>\n",
              "    </tr>\n",
              "    <tr>\n",
              "      <th>15250</th>\n",
              "      <td>3045.0</td>\n",
              "      <td>13th &amp; Locust</td>\n",
              "      <td>540422839</td>\n",
              "      <td>100</td>\n",
              "      <td>10/7/2022 21:36</td>\n",
              "      <td>10/7/2022 23:16</td>\n",
              "      <td>3045.0</td>\n",
              "      <td>39.947922</td>\n",
              "      <td>-75.162369</td>\n",
              "      <td>3045.0</td>\n",
              "      <td>39.947922</td>\n",
              "      <td>-75.162369</td>\n",
              "      <td>22404</td>\n",
              "      <td>Round Trip</td>\n",
              "      <td>Day Pass</td>\n",
              "      <td>electric</td>\n",
              "      <td>3045.0</td>\n",
              "      <td>13th &amp; Locust</td>\n",
              "      <td>0.0</td>\n",
              "      <td>0.0</td>\n",
              "    </tr>\n",
              "    <tr>\n",
              "      <th>15251</th>\n",
              "      <td>3045.0</td>\n",
              "      <td>13th &amp; Locust</td>\n",
              "      <td>540422840</td>\n",
              "      <td>102</td>\n",
              "      <td>10/7/2022 21:35</td>\n",
              "      <td>10/7/2022 23:17</td>\n",
              "      <td>3045.0</td>\n",
              "      <td>39.947922</td>\n",
              "      <td>-75.162369</td>\n",
              "      <td>3045.0</td>\n",
              "      <td>39.947922</td>\n",
              "      <td>-75.162369</td>\n",
              "      <td>23321</td>\n",
              "      <td>Round Trip</td>\n",
              "      <td>Day Pass</td>\n",
              "      <td>electric</td>\n",
              "      <td>3045.0</td>\n",
              "      <td>13th &amp; Locust</td>\n",
              "      <td>0.0</td>\n",
              "      <td>0.0</td>\n",
              "    </tr>\n",
              "    <tr>\n",
              "      <th>15252</th>\n",
              "      <td>3045.0</td>\n",
              "      <td>13th &amp; Locust</td>\n",
              "      <td>540422841</td>\n",
              "      <td>102</td>\n",
              "      <td>10/7/2022 21:34</td>\n",
              "      <td>10/7/2022 23:16</td>\n",
              "      <td>3045.0</td>\n",
              "      <td>39.947922</td>\n",
              "      <td>-75.162369</td>\n",
              "      <td>3045.0</td>\n",
              "      <td>39.947922</td>\n",
              "      <td>-75.162369</td>\n",
              "      <td>22950</td>\n",
              "      <td>Round Trip</td>\n",
              "      <td>Day Pass</td>\n",
              "      <td>electric</td>\n",
              "      <td>3045.0</td>\n",
              "      <td>13th &amp; Locust</td>\n",
              "      <td>0.0</td>\n",
              "      <td>0.0</td>\n",
              "    </tr>\n",
              "    <tr>\n",
              "      <th>15253</th>\n",
              "      <td>3167.0</td>\n",
              "      <td>12th &amp; Chestnut</td>\n",
              "      <td>540422860</td>\n",
              "      <td>50</td>\n",
              "      <td>10/7/2022 21:27</td>\n",
              "      <td>10/7/2022 22:17</td>\n",
              "      <td>3167.0</td>\n",
              "      <td>39.950249</td>\n",
              "      <td>-75.160278</td>\n",
              "      <td>3039.0</td>\n",
              "      <td>39.971569</td>\n",
              "      <td>-75.159927</td>\n",
              "      <td>14533</td>\n",
              "      <td>One Way</td>\n",
              "      <td>Indego30</td>\n",
              "      <td>standard</td>\n",
              "      <td>3167.0</td>\n",
              "      <td>12th &amp; Chestnut</td>\n",
              "      <td>4.0</td>\n",
              "      <td>0.0</td>\n",
              "    </tr>\n",
              "    <tr>\n",
              "      <th>15254</th>\n",
              "      <td>3169.0</td>\n",
              "      <td>2nd &amp; Race</td>\n",
              "      <td>540422896</td>\n",
              "      <td>53</td>\n",
              "      <td>10/7/2022 21:12</td>\n",
              "      <td>10/7/2022 22:05</td>\n",
              "      <td>3169.0</td>\n",
              "      <td>39.953819</td>\n",
              "      <td>-75.142632</td>\n",
              "      <td>3261.0</td>\n",
              "      <td>39.963039</td>\n",
              "      <td>-75.140991</td>\n",
              "      <td>3570</td>\n",
              "      <td>One Way</td>\n",
              "      <td>Indego365</td>\n",
              "      <td>standard</td>\n",
              "      <td>3169.0</td>\n",
              "      <td>2nd &amp; Race</td>\n",
              "      <td>4.0</td>\n",
              "      <td>0.0</td>\n",
              "    </tr>\n",
              "  </tbody>\n",
              "</table>\n",
              "<p>15255 rows × 20 columns</p>\n",
              "</div>\n",
              "      <button class=\"colab-df-convert\" onclick=\"convertToInteractive('df-efd0d8b3-7846-412d-ae6f-19f482127566')\"\n",
              "              title=\"Convert this dataframe to an interactive table.\"\n",
              "              style=\"display:none;\">\n",
              "        \n",
              "  <svg xmlns=\"http://www.w3.org/2000/svg\" height=\"24px\"viewBox=\"0 0 24 24\"\n",
              "       width=\"24px\">\n",
              "    <path d=\"M0 0h24v24H0V0z\" fill=\"none\"/>\n",
              "    <path d=\"M18.56 5.44l.94 2.06.94-2.06 2.06-.94-2.06-.94-.94-2.06-.94 2.06-2.06.94zm-11 1L8.5 8.5l.94-2.06 2.06-.94-2.06-.94L8.5 2.5l-.94 2.06-2.06.94zm10 10l.94 2.06.94-2.06 2.06-.94-2.06-.94-.94-2.06-.94 2.06-2.06.94z\"/><path d=\"M17.41 7.96l-1.37-1.37c-.4-.4-.92-.59-1.43-.59-.52 0-1.04.2-1.43.59L10.3 9.45l-7.72 7.72c-.78.78-.78 2.05 0 2.83L4 21.41c.39.39.9.59 1.41.59.51 0 1.02-.2 1.41-.59l7.78-7.78 2.81-2.81c.8-.78.8-2.07 0-2.86zM5.41 20L4 18.59l7.72-7.72 1.47 1.35L5.41 20z\"/>\n",
              "  </svg>\n",
              "      </button>\n",
              "      \n",
              "  <style>\n",
              "    .colab-df-container {\n",
              "      display:flex;\n",
              "      flex-wrap:wrap;\n",
              "      gap: 12px;\n",
              "    }\n",
              "\n",
              "    .colab-df-convert {\n",
              "      background-color: #E8F0FE;\n",
              "      border: none;\n",
              "      border-radius: 50%;\n",
              "      cursor: pointer;\n",
              "      display: none;\n",
              "      fill: #1967D2;\n",
              "      height: 32px;\n",
              "      padding: 0 0 0 0;\n",
              "      width: 32px;\n",
              "    }\n",
              "\n",
              "    .colab-df-convert:hover {\n",
              "      background-color: #E2EBFA;\n",
              "      box-shadow: 0px 1px 2px rgba(60, 64, 67, 0.3), 0px 1px 3px 1px rgba(60, 64, 67, 0.15);\n",
              "      fill: #174EA6;\n",
              "    }\n",
              "\n",
              "    [theme=dark] .colab-df-convert {\n",
              "      background-color: #3B4455;\n",
              "      fill: #D2E3FC;\n",
              "    }\n",
              "\n",
              "    [theme=dark] .colab-df-convert:hover {\n",
              "      background-color: #434B5C;\n",
              "      box-shadow: 0px 1px 3px 1px rgba(0, 0, 0, 0.15);\n",
              "      filter: drop-shadow(0px 1px 2px rgba(0, 0, 0, 0.3));\n",
              "      fill: #FFFFFF;\n",
              "    }\n",
              "  </style>\n",
              "\n",
              "      <script>\n",
              "        const buttonEl =\n",
              "          document.querySelector('#df-efd0d8b3-7846-412d-ae6f-19f482127566 button.colab-df-convert');\n",
              "        buttonEl.style.display =\n",
              "          google.colab.kernel.accessAllowed ? 'block' : 'none';\n",
              "\n",
              "        async function convertToInteractive(key) {\n",
              "          const element = document.querySelector('#df-efd0d8b3-7846-412d-ae6f-19f482127566');\n",
              "          const dataTable =\n",
              "            await google.colab.kernel.invokeFunction('convertToInteractive',\n",
              "                                                     [key], {});\n",
              "          if (!dataTable) return;\n",
              "\n",
              "          const docLinkHtml = 'Like what you see? Visit the ' +\n",
              "            '<a target=\"_blank\" href=https://colab.research.google.com/notebooks/data_table.ipynb>data table notebook</a>'\n",
              "            + ' to learn more about interactive tables.';\n",
              "          element.innerHTML = '';\n",
              "          dataTable['output_type'] = 'display_data';\n",
              "          await google.colab.output.renderOutput(dataTable, element);\n",
              "          const docLink = document.createElement('div');\n",
              "          docLink.innerHTML = docLinkHtml;\n",
              "          element.appendChild(docLink);\n",
              "        }\n",
              "      </script>\n",
              "    </div>\n",
              "  </div>\n",
              "  "
            ]
          },
          "metadata": {},
          "execution_count": 450
        }
      ]
    },
    {
      "cell_type": "code",
      "source": [
        "#3 points\n",
        "grader.grade(test_case_id = 'test_stations_sql', answer = (trips_stations_sql, replace_query))"
      ],
      "metadata": {
        "id": "rnEiHa_8Zs--",
        "colab": {
          "base_uri": "https://localhost:8080/"
        },
        "outputId": "222c47d9-944e-4c61-e976-f2d8610a3709"
      },
      "execution_count": 451,
      "outputs": [
        {
          "output_type": "stream",
          "name": "stdout",
          "text": [
            "You earned 1/3 points.\n",
            "\n",
            "But, don't worry you can re-submit and we will keep only your latest score.\n"
          ]
        }
      ]
    },
    {
      "cell_type": "markdown",
      "source": [
        "#### 2.2.2 Morning Class? (5 points)\n",
        "We are all pretty familiar with University City, most of you probably live in or commute to this area every day. We want to count the number of people who start out at the University City Station before noon. \n",
        "\n",
        "**TO-DO**: \n",
        "* The first step involved is creating a new column in `trips_final_df` called `hour` where you will extract the hour of the `start_time` column. You can do this using pandas, and an apply function. \n",
        "* The next step is to use `pandasql` to count the number of rides that start at the 'University City Station' before noon (do not include trips with hour 12) and store the result in a dataframe called `ucity_df`, with the column name as `ride_count`.\n",
        "\n",
        "**Hint**: you may find it helpful to look up the `.Timestamp()` function to understand how to extract the hour of a particular date. "
      ],
      "metadata": {
        "id": "_BuyVlRb7EvA"
      }
    },
    {
      "cell_type": "code",
      "source": [
        "#TODO : Create a new column called hour\n",
        "# weather_merge_df = weather_cleaned_df[['date', 'actual_max_temp', 'actual_precipitation']]\n",
        "# weather_merge_df = weather_merge_df.astype({'date': 'string'})\n",
        "# trips_merge_df = trips_final_df[['bike_type', 'start_station', 'trip_id']]\n",
        "# trips_merge_df['date'] = pd.to_datetime(trips_final_df['start_time'])\n",
        "# trips_merge_df['date'] = trips_merge_df['date'].dt.date\n",
        "# trips_merge_df = trips_merge_df.astype({'date': 'string'})\n",
        "\n",
        "trips_final_df['hour'] = pd.to_datetime(trips_final_df['start_time'])\n",
        "trips_final_df['hour'] = trips_final_df['hour'].dt.hour\n"
      ],
      "metadata": {
        "id": "bUWKZMoA7I5E"
      },
      "execution_count": 452,
      "outputs": []
    },
    {
      "cell_type": "code",
      "source": [
        "# Count the number of rides before noon that started at `University City Station`\n",
        "ucity_query = \"\"\" \n",
        "              SELECT COUNT(*) AS ride_count\n",
        "              FROM trips_final_df \n",
        "              WHERE Hour < 12 AND start_station = 'University City Station'\n",
        "              \"\"\"\n",
        "\n",
        "ucity_df = ps.sqldf(ucity_query, locals())\n",
        "ucity_df "
      ],
      "metadata": {
        "id": "gfga-M2B7InM",
        "colab": {
          "base_uri": "https://localhost:8080/",
          "height": 80
        },
        "outputId": "62d5828d-f191-40e5-937e-975475b120fd"
      },
      "execution_count": 453,
      "outputs": [
        {
          "output_type": "execute_result",
          "data": {
            "text/plain": [
              "   ride_count\n",
              "0          23"
            ],
            "text/html": [
              "\n",
              "  <div id=\"df-f8e797ef-d138-4e89-bad0-89dd21b8b200\">\n",
              "    <div class=\"colab-df-container\">\n",
              "      <div>\n",
              "<style scoped>\n",
              "    .dataframe tbody tr th:only-of-type {\n",
              "        vertical-align: middle;\n",
              "    }\n",
              "\n",
              "    .dataframe tbody tr th {\n",
              "        vertical-align: top;\n",
              "    }\n",
              "\n",
              "    .dataframe thead th {\n",
              "        text-align: right;\n",
              "    }\n",
              "</style>\n",
              "<table border=\"1\" class=\"dataframe\">\n",
              "  <thead>\n",
              "    <tr style=\"text-align: right;\">\n",
              "      <th></th>\n",
              "      <th>ride_count</th>\n",
              "    </tr>\n",
              "  </thead>\n",
              "  <tbody>\n",
              "    <tr>\n",
              "      <th>0</th>\n",
              "      <td>23</td>\n",
              "    </tr>\n",
              "  </tbody>\n",
              "</table>\n",
              "</div>\n",
              "      <button class=\"colab-df-convert\" onclick=\"convertToInteractive('df-f8e797ef-d138-4e89-bad0-89dd21b8b200')\"\n",
              "              title=\"Convert this dataframe to an interactive table.\"\n",
              "              style=\"display:none;\">\n",
              "        \n",
              "  <svg xmlns=\"http://www.w3.org/2000/svg\" height=\"24px\"viewBox=\"0 0 24 24\"\n",
              "       width=\"24px\">\n",
              "    <path d=\"M0 0h24v24H0V0z\" fill=\"none\"/>\n",
              "    <path d=\"M18.56 5.44l.94 2.06.94-2.06 2.06-.94-2.06-.94-.94-2.06-.94 2.06-2.06.94zm-11 1L8.5 8.5l.94-2.06 2.06-.94-2.06-.94L8.5 2.5l-.94 2.06-2.06.94zm10 10l.94 2.06.94-2.06 2.06-.94-2.06-.94-.94-2.06-.94 2.06-2.06.94z\"/><path d=\"M17.41 7.96l-1.37-1.37c-.4-.4-.92-.59-1.43-.59-.52 0-1.04.2-1.43.59L10.3 9.45l-7.72 7.72c-.78.78-.78 2.05 0 2.83L4 21.41c.39.39.9.59 1.41.59.51 0 1.02-.2 1.41-.59l7.78-7.78 2.81-2.81c.8-.78.8-2.07 0-2.86zM5.41 20L4 18.59l7.72-7.72 1.47 1.35L5.41 20z\"/>\n",
              "  </svg>\n",
              "      </button>\n",
              "      \n",
              "  <style>\n",
              "    .colab-df-container {\n",
              "      display:flex;\n",
              "      flex-wrap:wrap;\n",
              "      gap: 12px;\n",
              "    }\n",
              "\n",
              "    .colab-df-convert {\n",
              "      background-color: #E8F0FE;\n",
              "      border: none;\n",
              "      border-radius: 50%;\n",
              "      cursor: pointer;\n",
              "      display: none;\n",
              "      fill: #1967D2;\n",
              "      height: 32px;\n",
              "      padding: 0 0 0 0;\n",
              "      width: 32px;\n",
              "    }\n",
              "\n",
              "    .colab-df-convert:hover {\n",
              "      background-color: #E2EBFA;\n",
              "      box-shadow: 0px 1px 2px rgba(60, 64, 67, 0.3), 0px 1px 3px 1px rgba(60, 64, 67, 0.15);\n",
              "      fill: #174EA6;\n",
              "    }\n",
              "\n",
              "    [theme=dark] .colab-df-convert {\n",
              "      background-color: #3B4455;\n",
              "      fill: #D2E3FC;\n",
              "    }\n",
              "\n",
              "    [theme=dark] .colab-df-convert:hover {\n",
              "      background-color: #434B5C;\n",
              "      box-shadow: 0px 1px 3px 1px rgba(0, 0, 0, 0.15);\n",
              "      filter: drop-shadow(0px 1px 2px rgba(0, 0, 0, 0.3));\n",
              "      fill: #FFFFFF;\n",
              "    }\n",
              "  </style>\n",
              "\n",
              "      <script>\n",
              "        const buttonEl =\n",
              "          document.querySelector('#df-f8e797ef-d138-4e89-bad0-89dd21b8b200 button.colab-df-convert');\n",
              "        buttonEl.style.display =\n",
              "          google.colab.kernel.accessAllowed ? 'block' : 'none';\n",
              "\n",
              "        async function convertToInteractive(key) {\n",
              "          const element = document.querySelector('#df-f8e797ef-d138-4e89-bad0-89dd21b8b200');\n",
              "          const dataTable =\n",
              "            await google.colab.kernel.invokeFunction('convertToInteractive',\n",
              "                                                     [key], {});\n",
              "          if (!dataTable) return;\n",
              "\n",
              "          const docLinkHtml = 'Like what you see? Visit the ' +\n",
              "            '<a target=\"_blank\" href=https://colab.research.google.com/notebooks/data_table.ipynb>data table notebook</a>'\n",
              "            + ' to learn more about interactive tables.';\n",
              "          element.innerHTML = '';\n",
              "          dataTable['output_type'] = 'display_data';\n",
              "          await google.colab.output.renderOutput(dataTable, element);\n",
              "          const docLink = document.createElement('div');\n",
              "          docLink.innerHTML = docLinkHtml;\n",
              "          element.appendChild(docLink);\n",
              "        }\n",
              "      </script>\n",
              "    </div>\n",
              "  </div>\n",
              "  "
            ]
          },
          "metadata": {},
          "execution_count": 453
        }
      ]
    },
    {
      "cell_type": "code",
      "source": [
        "# 7 points\n",
        "grader.grade(test_case_id = 'test_ucity', answer = (trips_final_df, ucity_df, ucity_query))"
      ],
      "metadata": {
        "id": "I8i6HGFDJPi1",
        "colab": {
          "base_uri": "https://localhost:8080/"
        },
        "outputId": "2b44aeac-00e4-4087-bf1d-40156bd2fd29"
      },
      "execution_count": 454,
      "outputs": [
        {
          "output_type": "stream",
          "name": "stdout",
          "text": [
            "Correct! You earned 5/5 points. You are a star!\n",
            "\n",
            "Your submission has been successfully recorded in the gradebook.\n"
          ]
        }
      ]
    },
    {
      "cell_type": "markdown",
      "source": [
        "#### 2.2.3 Most Popular Stations (6 points)\n",
        "We now want to see which stations from `trips_final_df` are used most frequently. \n",
        "\n",
        "**TODO**: \n",
        "* Find the total number of rides for each `start_station`\n",
        "* Return the top 3 most frequently used stations in a dataframe named `top3_df` where the schema looks like this:\n",
        "\n",
        "> Station | Count_rides\n",
        "> --- | ---\n",
        "\n",
        "**Hint**: Use `pandasql` to do this in ONE query. "
      ],
      "metadata": {
        "id": "aCCk-rrn7JOg"
      }
    },
    {
      "cell_type": "code",
      "source": [
        "#TODO: Return the top three used stations by number of rides\n",
        "top3_query = \"\"\" \n",
        "             SELECT start_station AS Station, COUNT(*) AS Count_rides \n",
        "             FROM trips_final_df  \n",
        "             GROUP BY start_station \n",
        "             ORDER BY Count_rides DESC \n",
        "             LIMIT 3\n",
        "             \"\"\"\n",
        "\n",
        "top3_df = ps.sqldf(top3_query, locals())\n",
        "top3_df"
      ],
      "metadata": {
        "id": "ZaZqjaky7PHB",
        "colab": {
          "base_uri": "https://localhost:8080/",
          "height": 143
        },
        "outputId": "4b71ff6b-48ed-4b56-d1b2-5d445fa23c88"
      },
      "execution_count": 456,
      "outputs": [
        {
          "output_type": "execute_result",
          "data": {
            "text/plain": [
              "           Station  Count_rides\n",
              "0    17th & Locust          267\n",
              "1  12th & Chestnut          238\n",
              "2    15th & Spruce          233"
            ],
            "text/html": [
              "\n",
              "  <div id=\"df-091afdda-a9b4-488a-beed-879d4b243444\">\n",
              "    <div class=\"colab-df-container\">\n",
              "      <div>\n",
              "<style scoped>\n",
              "    .dataframe tbody tr th:only-of-type {\n",
              "        vertical-align: middle;\n",
              "    }\n",
              "\n",
              "    .dataframe tbody tr th {\n",
              "        vertical-align: top;\n",
              "    }\n",
              "\n",
              "    .dataframe thead th {\n",
              "        text-align: right;\n",
              "    }\n",
              "</style>\n",
              "<table border=\"1\" class=\"dataframe\">\n",
              "  <thead>\n",
              "    <tr style=\"text-align: right;\">\n",
              "      <th></th>\n",
              "      <th>Station</th>\n",
              "      <th>Count_rides</th>\n",
              "    </tr>\n",
              "  </thead>\n",
              "  <tbody>\n",
              "    <tr>\n",
              "      <th>0</th>\n",
              "      <td>17th &amp; Locust</td>\n",
              "      <td>267</td>\n",
              "    </tr>\n",
              "    <tr>\n",
              "      <th>1</th>\n",
              "      <td>12th &amp; Chestnut</td>\n",
              "      <td>238</td>\n",
              "    </tr>\n",
              "    <tr>\n",
              "      <th>2</th>\n",
              "      <td>15th &amp; Spruce</td>\n",
              "      <td>233</td>\n",
              "    </tr>\n",
              "  </tbody>\n",
              "</table>\n",
              "</div>\n",
              "      <button class=\"colab-df-convert\" onclick=\"convertToInteractive('df-091afdda-a9b4-488a-beed-879d4b243444')\"\n",
              "              title=\"Convert this dataframe to an interactive table.\"\n",
              "              style=\"display:none;\">\n",
              "        \n",
              "  <svg xmlns=\"http://www.w3.org/2000/svg\" height=\"24px\"viewBox=\"0 0 24 24\"\n",
              "       width=\"24px\">\n",
              "    <path d=\"M0 0h24v24H0V0z\" fill=\"none\"/>\n",
              "    <path d=\"M18.56 5.44l.94 2.06.94-2.06 2.06-.94-2.06-.94-.94-2.06-.94 2.06-2.06.94zm-11 1L8.5 8.5l.94-2.06 2.06-.94-2.06-.94L8.5 2.5l-.94 2.06-2.06.94zm10 10l.94 2.06.94-2.06 2.06-.94-2.06-.94-.94-2.06-.94 2.06-2.06.94z\"/><path d=\"M17.41 7.96l-1.37-1.37c-.4-.4-.92-.59-1.43-.59-.52 0-1.04.2-1.43.59L10.3 9.45l-7.72 7.72c-.78.78-.78 2.05 0 2.83L4 21.41c.39.39.9.59 1.41.59.51 0 1.02-.2 1.41-.59l7.78-7.78 2.81-2.81c.8-.78.8-2.07 0-2.86zM5.41 20L4 18.59l7.72-7.72 1.47 1.35L5.41 20z\"/>\n",
              "  </svg>\n",
              "      </button>\n",
              "      \n",
              "  <style>\n",
              "    .colab-df-container {\n",
              "      display:flex;\n",
              "      flex-wrap:wrap;\n",
              "      gap: 12px;\n",
              "    }\n",
              "\n",
              "    .colab-df-convert {\n",
              "      background-color: #E8F0FE;\n",
              "      border: none;\n",
              "      border-radius: 50%;\n",
              "      cursor: pointer;\n",
              "      display: none;\n",
              "      fill: #1967D2;\n",
              "      height: 32px;\n",
              "      padding: 0 0 0 0;\n",
              "      width: 32px;\n",
              "    }\n",
              "\n",
              "    .colab-df-convert:hover {\n",
              "      background-color: #E2EBFA;\n",
              "      box-shadow: 0px 1px 2px rgba(60, 64, 67, 0.3), 0px 1px 3px 1px rgba(60, 64, 67, 0.15);\n",
              "      fill: #174EA6;\n",
              "    }\n",
              "\n",
              "    [theme=dark] .colab-df-convert {\n",
              "      background-color: #3B4455;\n",
              "      fill: #D2E3FC;\n",
              "    }\n",
              "\n",
              "    [theme=dark] .colab-df-convert:hover {\n",
              "      background-color: #434B5C;\n",
              "      box-shadow: 0px 1px 3px 1px rgba(0, 0, 0, 0.15);\n",
              "      filter: drop-shadow(0px 1px 2px rgba(0, 0, 0, 0.3));\n",
              "      fill: #FFFFFF;\n",
              "    }\n",
              "  </style>\n",
              "\n",
              "      <script>\n",
              "        const buttonEl =\n",
              "          document.querySelector('#df-091afdda-a9b4-488a-beed-879d4b243444 button.colab-df-convert');\n",
              "        buttonEl.style.display =\n",
              "          google.colab.kernel.accessAllowed ? 'block' : 'none';\n",
              "\n",
              "        async function convertToInteractive(key) {\n",
              "          const element = document.querySelector('#df-091afdda-a9b4-488a-beed-879d4b243444');\n",
              "          const dataTable =\n",
              "            await google.colab.kernel.invokeFunction('convertToInteractive',\n",
              "                                                     [key], {});\n",
              "          if (!dataTable) return;\n",
              "\n",
              "          const docLinkHtml = 'Like what you see? Visit the ' +\n",
              "            '<a target=\"_blank\" href=https://colab.research.google.com/notebooks/data_table.ipynb>data table notebook</a>'\n",
              "            + ' to learn more about interactive tables.';\n",
              "          element.innerHTML = '';\n",
              "          dataTable['output_type'] = 'display_data';\n",
              "          await google.colab.output.renderOutput(dataTable, element);\n",
              "          const docLink = document.createElement('div');\n",
              "          docLink.innerHTML = docLinkHtml;\n",
              "          element.appendChild(docLink);\n",
              "        }\n",
              "      </script>\n",
              "    </div>\n",
              "  </div>\n",
              "  "
            ]
          },
          "metadata": {},
          "execution_count": 456
        }
      ]
    },
    {
      "cell_type": "code",
      "source": [
        "# 6 points\n",
        "grader.grade(test_case_id = 'test_freq_stat', answer = (top3_query,top3_df))"
      ],
      "metadata": {
        "id": "nCcj1xdr7O2H",
        "colab": {
          "base_uri": "https://localhost:8080/"
        },
        "outputId": "8b0f8532-9efb-43bb-edd7-1f5617e8e49c"
      },
      "execution_count": 457,
      "outputs": [
        {
          "output_type": "stream",
          "name": "stdout",
          "text": [
            "Correct! You earned 6/6 points. You are a star!\n",
            "\n",
            "Your submission has been successfully recorded in the gradebook.\n"
          ]
        }
      ]
    },
    {
      "cell_type": "markdown",
      "source": [
        "### 2.3 Determining the Distance [8 points]\n",
        "\n",
        "We are going to be using a new package called geopy to calculate the distance between the start and end stations for a particular ride. \n",
        "\n",
        "`geopy` has been imported as `gp` above, and the `.geodesic()` gives you the distance between two sets of coordinates. We have the coordinates for the start_station and end_station for each ride. \n",
        "\n",
        "**TO-DO**: \n",
        "* For the trip with `'trip_id': 540422637`, find the latitude and longitudes of both the start and end stations.\n",
        "* Save the latitude and longitude as **tuples** into variables `coords_1` and `coords_2` for the `'start_station'` and `'end_station'` respectively.\n",
        "  - Do **NOT** hard code the values: you will get a **ZERO** for the question when we manually review for this!\n",
        "* Use geopy to calculate the distance **in miles** between the two stations and save it to the variable final_dist. "
      ],
      "metadata": {
        "id": "2oUvTghy7Pdw"
      }
    },
    {
      "cell_type": "code",
      "source": [
        "# TO-DO: Use pandasql to obtain the latitude and longitude of the start and end stations for ride ID 540422637. \n",
        "latlng_query = \"\"\"  \n",
        "               SELECT\n",
        "                    (SELECT start_lat FROM trips_final_df WHERE trip_id = 540422637) AS coords_1_lat, \n",
        "                    (SELECT start_lon FROM trips_final_df WHERE trip_id = 540422637) AS coords_1_lon, \n",
        "                    (SELECT end_lat FROM trips_final_df WHERE trip_id = 540422637) AS coords_2_lat, \n",
        "                    (SELECT end_lon FROM trips_final_df WHERE trip_id = 540422637) AS coords_2_lon \n",
        "               \"\"\"\n",
        "\n",
        "               #tuple(start_lat, start_loc) from start_station\n",
        "               #tuple(end_start, end_loc) from end_station \n",
        "\n",
        "\n",
        "latlng_df = ps.sqldf(latlng_query, locals())\n",
        "\n",
        "# coords_1 = list(latlng_df['coords_1_lat'])"
      ],
      "metadata": {
        "id": "EpVOwJtp7aWS"
      },
      "execution_count": 458,
      "outputs": []
    },
    {
      "cell_type": "code",
      "source": [
        "# TO-DO : Fill in the coordinates using the dataframe that has the resultant coordinates\n",
        "coords_1 = (latlng_df.iloc[0,0], latlng_df.iloc[0,1])\n",
        "coords_2 = (latlng_df.iloc[0,2], latlng_df.iloc[0,3])"
      ],
      "metadata": {
        "id": "kIZfNmVuMLEk"
      },
      "execution_count": 459,
      "outputs": []
    },
    {
      "cell_type": "code",
      "source": [
        "# TO-DO: Use geopy and its appropriate functions to calculate the distance between the two stations \n",
        "final_dist = gp.geodesic(coords_1, coords_2).mi\n"
      ],
      "metadata": {
        "id": "KpR7DKPBMLmL"
      },
      "execution_count": 460,
      "outputs": []
    },
    {
      "cell_type": "code",
      "source": [
        "# 8 points\n",
        "grader.grade(test_case_id = 'test_geodist', answer = (coords_1, coords_2, final_dist, latlng_query))"
      ],
      "metadata": {
        "id": "DIzg0Xkn7Z-7",
        "colab": {
          "base_uri": "https://localhost:8080/"
        },
        "outputId": "c8bd1711-b918-4895-e9c3-6daecd13bcd0"
      },
      "execution_count": 461,
      "outputs": [
        {
          "output_type": "stream",
          "name": "stdout",
          "text": [
            "You earned 7/8 points.\n",
            "\n",
            "But, don't worry you can re-submit and we will keep only your latest score.\n"
          ]
        }
      ]
    },
    {
      "cell_type": "markdown",
      "source": [
        "### 2.4 Destinations from Amtrak Station [7 points]\n",
        "As you might imagine, Amtrak Station is a very important location for Indego, as there is a lot of people that either want to get there for a train ride or are exiting from there to visit Philadelphia. Thus, we want to learn about where people tend to go once they leave Amtrak Station.\n",
        "\n",
        "You will first create this dataset using Pandas, and then SQL (pandasql)\n",
        "\n",
        "**TO-DO:**\n",
        "- Using `trips_final_df`, find the top 5 most common end stations where Amtrak Station was the start_station where the duration is **at least 15 minutes**\n",
        "  - Do **NOT** include Amtrak as an end station! \n",
        "  - Note that duration is already measured in minutes, and that Amtrak's station_name is _\"Amtrak 30th Street Station\"_\n",
        "- For this Pandas section, name the final dataframe `end_station_df`.\n",
        "- Ensure that `end_station_df` is first sorted by `Count` in descending order, and then sorted by `end_station` in ascending order.\n",
        "\n",
        "**Final Schema (make sure you have the same column names and order!)**:\n",
        "> end_station | Count\n",
        "> --- | ---"
      ],
      "metadata": {
        "id": "sQQ1CzdiS3yI"
      }
    },
    {
      "cell_type": "code",
      "source": [
        "# TODO: Get end_station_df using Pandas\n",
        "filter_df = trips_final_df[trips_final_df['duration'] >= 15]\n",
        "filter_df = filter_df[filter_df['start_station'] == 'Amtrak 30th Street Station']\n",
        "filter_df = filter_df[['end_station']]\n",
        "filter_df = filter_df.groupby('end_station').size().reset_index(name = 'Count')\n",
        "\n",
        "end_station_df = filter_df.sort_values(by = ['Count','end_station' ], ascending = [False, True])\n",
        "end_station_df = end_station_df.head(5)\n",
        "end_station_df\n"
      ],
      "metadata": {
        "id": "VGAB9ue9S3yK",
        "colab": {
          "base_uri": "https://localhost:8080/",
          "height": 206
        },
        "outputId": "f0ead7ae-a6cf-470e-fc81-2da047bffd77"
      },
      "execution_count": 463,
      "outputs": [
        {
          "output_type": "execute_result",
          "data": {
            "text/plain": [
              "                 end_station  Count\n",
              "19          Broad & Chestnut      3\n",
              "26  Schuylkill Banks Pergola      3\n",
              "1          12th & Callowhill      2\n",
              "3             12th & Filbert      2\n",
              "5          16th & Montgomery      2"
            ],
            "text/html": [
              "\n",
              "  <div id=\"df-60663f4c-1b4b-4d1a-acf0-728866d388fb\">\n",
              "    <div class=\"colab-df-container\">\n",
              "      <div>\n",
              "<style scoped>\n",
              "    .dataframe tbody tr th:only-of-type {\n",
              "        vertical-align: middle;\n",
              "    }\n",
              "\n",
              "    .dataframe tbody tr th {\n",
              "        vertical-align: top;\n",
              "    }\n",
              "\n",
              "    .dataframe thead th {\n",
              "        text-align: right;\n",
              "    }\n",
              "</style>\n",
              "<table border=\"1\" class=\"dataframe\">\n",
              "  <thead>\n",
              "    <tr style=\"text-align: right;\">\n",
              "      <th></th>\n",
              "      <th>end_station</th>\n",
              "      <th>Count</th>\n",
              "    </tr>\n",
              "  </thead>\n",
              "  <tbody>\n",
              "    <tr>\n",
              "      <th>19</th>\n",
              "      <td>Broad &amp; Chestnut</td>\n",
              "      <td>3</td>\n",
              "    </tr>\n",
              "    <tr>\n",
              "      <th>26</th>\n",
              "      <td>Schuylkill Banks Pergola</td>\n",
              "      <td>3</td>\n",
              "    </tr>\n",
              "    <tr>\n",
              "      <th>1</th>\n",
              "      <td>12th &amp; Callowhill</td>\n",
              "      <td>2</td>\n",
              "    </tr>\n",
              "    <tr>\n",
              "      <th>3</th>\n",
              "      <td>12th &amp; Filbert</td>\n",
              "      <td>2</td>\n",
              "    </tr>\n",
              "    <tr>\n",
              "      <th>5</th>\n",
              "      <td>16th &amp; Montgomery</td>\n",
              "      <td>2</td>\n",
              "    </tr>\n",
              "  </tbody>\n",
              "</table>\n",
              "</div>\n",
              "      <button class=\"colab-df-convert\" onclick=\"convertToInteractive('df-60663f4c-1b4b-4d1a-acf0-728866d388fb')\"\n",
              "              title=\"Convert this dataframe to an interactive table.\"\n",
              "              style=\"display:none;\">\n",
              "        \n",
              "  <svg xmlns=\"http://www.w3.org/2000/svg\" height=\"24px\"viewBox=\"0 0 24 24\"\n",
              "       width=\"24px\">\n",
              "    <path d=\"M0 0h24v24H0V0z\" fill=\"none\"/>\n",
              "    <path d=\"M18.56 5.44l.94 2.06.94-2.06 2.06-.94-2.06-.94-.94-2.06-.94 2.06-2.06.94zm-11 1L8.5 8.5l.94-2.06 2.06-.94-2.06-.94L8.5 2.5l-.94 2.06-2.06.94zm10 10l.94 2.06.94-2.06 2.06-.94-2.06-.94-.94-2.06-.94 2.06-2.06.94z\"/><path d=\"M17.41 7.96l-1.37-1.37c-.4-.4-.92-.59-1.43-.59-.52 0-1.04.2-1.43.59L10.3 9.45l-7.72 7.72c-.78.78-.78 2.05 0 2.83L4 21.41c.39.39.9.59 1.41.59.51 0 1.02-.2 1.41-.59l7.78-7.78 2.81-2.81c.8-.78.8-2.07 0-2.86zM5.41 20L4 18.59l7.72-7.72 1.47 1.35L5.41 20z\"/>\n",
              "  </svg>\n",
              "      </button>\n",
              "      \n",
              "  <style>\n",
              "    .colab-df-container {\n",
              "      display:flex;\n",
              "      flex-wrap:wrap;\n",
              "      gap: 12px;\n",
              "    }\n",
              "\n",
              "    .colab-df-convert {\n",
              "      background-color: #E8F0FE;\n",
              "      border: none;\n",
              "      border-radius: 50%;\n",
              "      cursor: pointer;\n",
              "      display: none;\n",
              "      fill: #1967D2;\n",
              "      height: 32px;\n",
              "      padding: 0 0 0 0;\n",
              "      width: 32px;\n",
              "    }\n",
              "\n",
              "    .colab-df-convert:hover {\n",
              "      background-color: #E2EBFA;\n",
              "      box-shadow: 0px 1px 2px rgba(60, 64, 67, 0.3), 0px 1px 3px 1px rgba(60, 64, 67, 0.15);\n",
              "      fill: #174EA6;\n",
              "    }\n",
              "\n",
              "    [theme=dark] .colab-df-convert {\n",
              "      background-color: #3B4455;\n",
              "      fill: #D2E3FC;\n",
              "    }\n",
              "\n",
              "    [theme=dark] .colab-df-convert:hover {\n",
              "      background-color: #434B5C;\n",
              "      box-shadow: 0px 1px 3px 1px rgba(0, 0, 0, 0.15);\n",
              "      filter: drop-shadow(0px 1px 2px rgba(0, 0, 0, 0.3));\n",
              "      fill: #FFFFFF;\n",
              "    }\n",
              "  </style>\n",
              "\n",
              "      <script>\n",
              "        const buttonEl =\n",
              "          document.querySelector('#df-60663f4c-1b4b-4d1a-acf0-728866d388fb button.colab-df-convert');\n",
              "        buttonEl.style.display =\n",
              "          google.colab.kernel.accessAllowed ? 'block' : 'none';\n",
              "\n",
              "        async function convertToInteractive(key) {\n",
              "          const element = document.querySelector('#df-60663f4c-1b4b-4d1a-acf0-728866d388fb');\n",
              "          const dataTable =\n",
              "            await google.colab.kernel.invokeFunction('convertToInteractive',\n",
              "                                                     [key], {});\n",
              "          if (!dataTable) return;\n",
              "\n",
              "          const docLinkHtml = 'Like what you see? Visit the ' +\n",
              "            '<a target=\"_blank\" href=https://colab.research.google.com/notebooks/data_table.ipynb>data table notebook</a>'\n",
              "            + ' to learn more about interactive tables.';\n",
              "          element.innerHTML = '';\n",
              "          dataTable['output_type'] = 'display_data';\n",
              "          await google.colab.output.renderOutput(dataTable, element);\n",
              "          const docLink = document.createElement('div');\n",
              "          docLink.innerHTML = docLinkHtml;\n",
              "          element.appendChild(docLink);\n",
              "        }\n",
              "      </script>\n",
              "    </div>\n",
              "  </div>\n",
              "  "
            ]
          },
          "metadata": {},
          "execution_count": 463
        }
      ]
    },
    {
      "cell_type": "markdown",
      "source": [
        "**TO-DO:**\n",
        "- Repeat the process but now using pandasql. Please make sure to use `end_station_query` to save your SQL code as this is what will be graded.\n",
        "- Name the final dataframe `sql_end_station_df`\n",
        "- Double-check that this looks the exact same as `end_station_df` from the Pandas section above.\n",
        "\n",
        "**Final Schema:**\n",
        "> end_station | Count\n",
        "> --- | ---"
      ],
      "metadata": {
        "id": "4XTfx3f_S3yL"
      }
    },
    {
      "cell_type": "code",
      "source": [
        "# TODO: Get the same exact query, but only using PandaSQL\n",
        "\n",
        "end_station_query = \"\"\"\n",
        "                        SELECT end_station, COUNT(*) AS Count\n",
        "                        FROM trips_final_df \n",
        "                        WHERE start_station = 'Amtrak 30th Street Station' AND duration >= 15 \n",
        "                        GROUP BY end_station\n",
        "                        ORDER BY Count DESC, end_station \n",
        "                        LIMIT 5\n",
        "                    \"\"\"\n",
        "\n",
        "sql_end_station_df = ps.sqldf(end_station_query, locals())\n",
        "sql_end_station_df"
      ],
      "metadata": {
        "id": "wArHcWrvS3yM",
        "colab": {
          "base_uri": "https://localhost:8080/",
          "height": 206
        },
        "outputId": "3638d66d-0de2-4681-91e6-840d90507877"
      },
      "execution_count": 464,
      "outputs": [
        {
          "output_type": "execute_result",
          "data": {
            "text/plain": [
              "                end_station  Count\n",
              "0          Broad & Chestnut      3\n",
              "1  Schuylkill Banks Pergola      3\n",
              "2         12th & Callowhill      2\n",
              "3            12th & Filbert      2\n",
              "4         16th & Montgomery      2"
            ],
            "text/html": [
              "\n",
              "  <div id=\"df-8903d9df-282a-4748-ad66-7f799aa954c9\">\n",
              "    <div class=\"colab-df-container\">\n",
              "      <div>\n",
              "<style scoped>\n",
              "    .dataframe tbody tr th:only-of-type {\n",
              "        vertical-align: middle;\n",
              "    }\n",
              "\n",
              "    .dataframe tbody tr th {\n",
              "        vertical-align: top;\n",
              "    }\n",
              "\n",
              "    .dataframe thead th {\n",
              "        text-align: right;\n",
              "    }\n",
              "</style>\n",
              "<table border=\"1\" class=\"dataframe\">\n",
              "  <thead>\n",
              "    <tr style=\"text-align: right;\">\n",
              "      <th></th>\n",
              "      <th>end_station</th>\n",
              "      <th>Count</th>\n",
              "    </tr>\n",
              "  </thead>\n",
              "  <tbody>\n",
              "    <tr>\n",
              "      <th>0</th>\n",
              "      <td>Broad &amp; Chestnut</td>\n",
              "      <td>3</td>\n",
              "    </tr>\n",
              "    <tr>\n",
              "      <th>1</th>\n",
              "      <td>Schuylkill Banks Pergola</td>\n",
              "      <td>3</td>\n",
              "    </tr>\n",
              "    <tr>\n",
              "      <th>2</th>\n",
              "      <td>12th &amp; Callowhill</td>\n",
              "      <td>2</td>\n",
              "    </tr>\n",
              "    <tr>\n",
              "      <th>3</th>\n",
              "      <td>12th &amp; Filbert</td>\n",
              "      <td>2</td>\n",
              "    </tr>\n",
              "    <tr>\n",
              "      <th>4</th>\n",
              "      <td>16th &amp; Montgomery</td>\n",
              "      <td>2</td>\n",
              "    </tr>\n",
              "  </tbody>\n",
              "</table>\n",
              "</div>\n",
              "      <button class=\"colab-df-convert\" onclick=\"convertToInteractive('df-8903d9df-282a-4748-ad66-7f799aa954c9')\"\n",
              "              title=\"Convert this dataframe to an interactive table.\"\n",
              "              style=\"display:none;\">\n",
              "        \n",
              "  <svg xmlns=\"http://www.w3.org/2000/svg\" height=\"24px\"viewBox=\"0 0 24 24\"\n",
              "       width=\"24px\">\n",
              "    <path d=\"M0 0h24v24H0V0z\" fill=\"none\"/>\n",
              "    <path d=\"M18.56 5.44l.94 2.06.94-2.06 2.06-.94-2.06-.94-.94-2.06-.94 2.06-2.06.94zm-11 1L8.5 8.5l.94-2.06 2.06-.94-2.06-.94L8.5 2.5l-.94 2.06-2.06.94zm10 10l.94 2.06.94-2.06 2.06-.94-2.06-.94-.94-2.06-.94 2.06-2.06.94z\"/><path d=\"M17.41 7.96l-1.37-1.37c-.4-.4-.92-.59-1.43-.59-.52 0-1.04.2-1.43.59L10.3 9.45l-7.72 7.72c-.78.78-.78 2.05 0 2.83L4 21.41c.39.39.9.59 1.41.59.51 0 1.02-.2 1.41-.59l7.78-7.78 2.81-2.81c.8-.78.8-2.07 0-2.86zM5.41 20L4 18.59l7.72-7.72 1.47 1.35L5.41 20z\"/>\n",
              "  </svg>\n",
              "      </button>\n",
              "      \n",
              "  <style>\n",
              "    .colab-df-container {\n",
              "      display:flex;\n",
              "      flex-wrap:wrap;\n",
              "      gap: 12px;\n",
              "    }\n",
              "\n",
              "    .colab-df-convert {\n",
              "      background-color: #E8F0FE;\n",
              "      border: none;\n",
              "      border-radius: 50%;\n",
              "      cursor: pointer;\n",
              "      display: none;\n",
              "      fill: #1967D2;\n",
              "      height: 32px;\n",
              "      padding: 0 0 0 0;\n",
              "      width: 32px;\n",
              "    }\n",
              "\n",
              "    .colab-df-convert:hover {\n",
              "      background-color: #E2EBFA;\n",
              "      box-shadow: 0px 1px 2px rgba(60, 64, 67, 0.3), 0px 1px 3px 1px rgba(60, 64, 67, 0.15);\n",
              "      fill: #174EA6;\n",
              "    }\n",
              "\n",
              "    [theme=dark] .colab-df-convert {\n",
              "      background-color: #3B4455;\n",
              "      fill: #D2E3FC;\n",
              "    }\n",
              "\n",
              "    [theme=dark] .colab-df-convert:hover {\n",
              "      background-color: #434B5C;\n",
              "      box-shadow: 0px 1px 3px 1px rgba(0, 0, 0, 0.15);\n",
              "      filter: drop-shadow(0px 1px 2px rgba(0, 0, 0, 0.3));\n",
              "      fill: #FFFFFF;\n",
              "    }\n",
              "  </style>\n",
              "\n",
              "      <script>\n",
              "        const buttonEl =\n",
              "          document.querySelector('#df-8903d9df-282a-4748-ad66-7f799aa954c9 button.colab-df-convert');\n",
              "        buttonEl.style.display =\n",
              "          google.colab.kernel.accessAllowed ? 'block' : 'none';\n",
              "\n",
              "        async function convertToInteractive(key) {\n",
              "          const element = document.querySelector('#df-8903d9df-282a-4748-ad66-7f799aa954c9');\n",
              "          const dataTable =\n",
              "            await google.colab.kernel.invokeFunction('convertToInteractive',\n",
              "                                                     [key], {});\n",
              "          if (!dataTable) return;\n",
              "\n",
              "          const docLinkHtml = 'Like what you see? Visit the ' +\n",
              "            '<a target=\"_blank\" href=https://colab.research.google.com/notebooks/data_table.ipynb>data table notebook</a>'\n",
              "            + ' to learn more about interactive tables.';\n",
              "          element.innerHTML = '';\n",
              "          dataTable['output_type'] = 'display_data';\n",
              "          await google.colab.output.renderOutput(dataTable, element);\n",
              "          const docLink = document.createElement('div');\n",
              "          docLink.innerHTML = docLinkHtml;\n",
              "          element.appendChild(docLink);\n",
              "        }\n",
              "      </script>\n",
              "    </div>\n",
              "  </div>\n",
              "  "
            ]
          },
          "metadata": {},
          "execution_count": 464
        }
      ]
    },
    {
      "cell_type": "code",
      "source": [
        "# 7 points\n",
        "grader.grade(test_case_id = 'test_amtrak', answer = (end_station_df, sql_end_station_df, end_station_query))"
      ],
      "metadata": {
        "id": "uCoROMVlS3yM",
        "colab": {
          "base_uri": "https://localhost:8080/"
        },
        "outputId": "4db88ff4-2d17-475b-fb08-e87de9102568"
      },
      "execution_count": 465,
      "outputs": [
        {
          "output_type": "stream",
          "name": "stdout",
          "text": [
            "Correct! You earned 7/7 points. You are a star!\n",
            "\n",
            "Your submission has been successfully recorded in the gradebook.\n"
          ]
        }
      ]
    },
    {
      "cell_type": "markdown",
      "source": [
        "### 2.5 Weather and Trip Data [15 points]"
      ],
      "metadata": {
        "id": "0OIIHzThS3yM"
      }
    },
    {
      "cell_type": "markdown",
      "source": [
        "#### 2.5.1 Trips and Weather Tables [2 points]\n",
        "\n",
        "We will begin by slightly modifying `trips_final_df` and `weather_cleaned_df`. We eventually want to merge using the `date` column from `weather_cleaned_df` and the `start_time` column from `trips_final_df`. You will note that these two columns do not contain the same information, since `date` does not contain the time.\n",
        "\n",
        "**We are not concerned about the time, it is up to you to find the best way to alter the `start_time` column to keep just the date and thus make merging possible**.\n",
        "\n",
        "We strongly recommend creating a new `date` column in `trips_final_df` containing only the day information, as it will make merging the dataframes much easier.\n",
        "\n",
        "**TO-DO:** \\\\\n",
        "- `weather_merge_df`, containing columns `date`, `actual_max_temp` and `actual_precipitation`\n",
        "- `trips_merge_df`, containing columns `date`,  `bike_type`, `start_station` and `trip_id`"
      ],
      "metadata": {
        "id": "FMW2nhXPS3yN"
      }
    },
    {
      "cell_type": "code",
      "source": [
        "# TODO: Create weather_merge_df and trips_merge_df\n",
        "weather_merge_df = weather_cleaned_df[['date', 'actual_max_temp', 'actual_precipitation']]\n",
        "weather_merge_df = weather_merge_df.astype({'date': 'string'})\n",
        "trips_merge_df = trips_final_df[['bike_type', 'start_station', 'trip_id']]\n",
        "trips_merge_df['date'] = pd.to_datetime(trips_final_df['start_time'])\n",
        "trips_merge_df['date'] = trips_merge_df['date'].dt.date\n",
        "trips_merge_df = trips_merge_df.astype({'date': 'string'})"
      ],
      "metadata": {
        "id": "owKCJszYS3yO",
        "colab": {
          "base_uri": "https://localhost:8080/"
        },
        "outputId": "04c3a7de-530a-4d9b-c1cb-95758388197d"
      },
      "execution_count": 466,
      "outputs": [
        {
          "output_type": "stream",
          "name": "stderr",
          "text": [
            "<ipython-input-466-1d8ea6fcbe60>:5: SettingWithCopyWarning: \n",
            "A value is trying to be set on a copy of a slice from a DataFrame.\n",
            "Try using .loc[row_indexer,col_indexer] = value instead\n",
            "\n",
            "See the caveats in the documentation: https://pandas.pydata.org/pandas-docs/stable/user_guide/indexing.html#returning-a-view-versus-a-copy\n",
            "  trips_merge_df['date'] = pd.to_datetime(trips_final_df['start_time'])\n",
            "<ipython-input-466-1d8ea6fcbe60>:6: SettingWithCopyWarning: \n",
            "A value is trying to be set on a copy of a slice from a DataFrame.\n",
            "Try using .loc[row_indexer,col_indexer] = value instead\n",
            "\n",
            "See the caveats in the documentation: https://pandas.pydata.org/pandas-docs/stable/user_guide/indexing.html#returning-a-view-versus-a-copy\n",
            "  trips_merge_df['date'] = trips_merge_df['date'].dt.date\n"
          ]
        }
      ]
    },
    {
      "cell_type": "code",
      "source": [
        "# 2 points\n",
        "grader.grade(test_case_id = 'test_merge_df', answer = (weather_merge_df, trips_merge_df))"
      ],
      "metadata": {
        "id": "IYjUTfDQS3yO",
        "colab": {
          "base_uri": "https://localhost:8080/"
        },
        "outputId": "1735054e-9ecb-4443-e044-d2766add6d4f"
      },
      "execution_count": 467,
      "outputs": [
        {
          "output_type": "stream",
          "name": "stdout",
          "text": [
            "Correct! You earned 2/2 points. You are a star!\n",
            "\n",
            "Your submission has been successfully recorded in the gradebook.\n"
          ]
        }
      ]
    },
    {
      "cell_type": "markdown",
      "source": [
        "#### 2.5.2 Standard Riding on Spruce (SQL) [3 points]\n",
        "\n",
        "**TO-DO:**\n",
        "- Using `trips_merge_df` and `weather_merge_df`, *for each actual max temperature*, find the percentage of rides that were of **standard** bike type on trips where the start_station included **Spruce** in it\n",
        "  - e.g. \"13th & Spruce\" OR \"15th & Spruce\" are 2 potential start_stations that would be included\n",
        "- Filter so that we only have entries where the **average actual_precipitation** is **less than** 0.3\n",
        "\n",
        "*   Cast your percentages to integers and name the column **Standard_Percentage**\n",
        "\n",
        "**Final Schema (make sure you have the same column names and order!)**:\n",
        ">Temperature | Standard_Percentage |\n",
        ">--- | --- |"
      ],
      "metadata": {
        "id": "NystCsO9EuIh"
      }
    },
    {
      "cell_type": "code",
      "source": [
        "# TO-DO: Create percentage_df (use PandaSQL)\n",
        "percentage_query = '''\n",
        "                  SELECT actual_max_temp AS Temperature, CAST(AVG(actual_precipitation) AS INTEGER) AS Standard_Percentatge\n",
        "                  FROM trips_merge_df\n",
        "                  JOIN weather_merge_df ON trips_merge_df.date = weather_merge_df.date\n",
        "                  WHERE start_station LIKE '%Spruce%'\n",
        "                  '''\n",
        "\n",
        "\n",
        "percentage_df = ps.sqldf(percentage_query, locals())\n",
        "percentage_df"
      ],
      "metadata": {
        "id": "7jbzplMKS3yP",
        "colab": {
          "base_uri": "https://localhost:8080/",
          "height": 80
        },
        "outputId": "c0187327-0d43-436a-a4cd-f34d12eb4a94"
      },
      "execution_count": 551,
      "outputs": [
        {
          "output_type": "execute_result",
          "data": {
            "text/plain": [
              "   Temperature  Standard_Percentatge\n",
              "0           73                     0"
            ],
            "text/html": [
              "\n",
              "  <div id=\"df-b6c77dec-3b85-48e5-8c58-9316a72b2d0d\">\n",
              "    <div class=\"colab-df-container\">\n",
              "      <div>\n",
              "<style scoped>\n",
              "    .dataframe tbody tr th:only-of-type {\n",
              "        vertical-align: middle;\n",
              "    }\n",
              "\n",
              "    .dataframe tbody tr th {\n",
              "        vertical-align: top;\n",
              "    }\n",
              "\n",
              "    .dataframe thead th {\n",
              "        text-align: right;\n",
              "    }\n",
              "</style>\n",
              "<table border=\"1\" class=\"dataframe\">\n",
              "  <thead>\n",
              "    <tr style=\"text-align: right;\">\n",
              "      <th></th>\n",
              "      <th>Temperature</th>\n",
              "      <th>Standard_Percentatge</th>\n",
              "    </tr>\n",
              "  </thead>\n",
              "  <tbody>\n",
              "    <tr>\n",
              "      <th>0</th>\n",
              "      <td>73</td>\n",
              "      <td>0</td>\n",
              "    </tr>\n",
              "  </tbody>\n",
              "</table>\n",
              "</div>\n",
              "      <button class=\"colab-df-convert\" onclick=\"convertToInteractive('df-b6c77dec-3b85-48e5-8c58-9316a72b2d0d')\"\n",
              "              title=\"Convert this dataframe to an interactive table.\"\n",
              "              style=\"display:none;\">\n",
              "        \n",
              "  <svg xmlns=\"http://www.w3.org/2000/svg\" height=\"24px\"viewBox=\"0 0 24 24\"\n",
              "       width=\"24px\">\n",
              "    <path d=\"M0 0h24v24H0V0z\" fill=\"none\"/>\n",
              "    <path d=\"M18.56 5.44l.94 2.06.94-2.06 2.06-.94-2.06-.94-.94-2.06-.94 2.06-2.06.94zm-11 1L8.5 8.5l.94-2.06 2.06-.94-2.06-.94L8.5 2.5l-.94 2.06-2.06.94zm10 10l.94 2.06.94-2.06 2.06-.94-2.06-.94-.94-2.06-.94 2.06-2.06.94z\"/><path d=\"M17.41 7.96l-1.37-1.37c-.4-.4-.92-.59-1.43-.59-.52 0-1.04.2-1.43.59L10.3 9.45l-7.72 7.72c-.78.78-.78 2.05 0 2.83L4 21.41c.39.39.9.59 1.41.59.51 0 1.02-.2 1.41-.59l7.78-7.78 2.81-2.81c.8-.78.8-2.07 0-2.86zM5.41 20L4 18.59l7.72-7.72 1.47 1.35L5.41 20z\"/>\n",
              "  </svg>\n",
              "      </button>\n",
              "      \n",
              "  <style>\n",
              "    .colab-df-container {\n",
              "      display:flex;\n",
              "      flex-wrap:wrap;\n",
              "      gap: 12px;\n",
              "    }\n",
              "\n",
              "    .colab-df-convert {\n",
              "      background-color: #E8F0FE;\n",
              "      border: none;\n",
              "      border-radius: 50%;\n",
              "      cursor: pointer;\n",
              "      display: none;\n",
              "      fill: #1967D2;\n",
              "      height: 32px;\n",
              "      padding: 0 0 0 0;\n",
              "      width: 32px;\n",
              "    }\n",
              "\n",
              "    .colab-df-convert:hover {\n",
              "      background-color: #E2EBFA;\n",
              "      box-shadow: 0px 1px 2px rgba(60, 64, 67, 0.3), 0px 1px 3px 1px rgba(60, 64, 67, 0.15);\n",
              "      fill: #174EA6;\n",
              "    }\n",
              "\n",
              "    [theme=dark] .colab-df-convert {\n",
              "      background-color: #3B4455;\n",
              "      fill: #D2E3FC;\n",
              "    }\n",
              "\n",
              "    [theme=dark] .colab-df-convert:hover {\n",
              "      background-color: #434B5C;\n",
              "      box-shadow: 0px 1px 3px 1px rgba(0, 0, 0, 0.15);\n",
              "      filter: drop-shadow(0px 1px 2px rgba(0, 0, 0, 0.3));\n",
              "      fill: #FFFFFF;\n",
              "    }\n",
              "  </style>\n",
              "\n",
              "      <script>\n",
              "        const buttonEl =\n",
              "          document.querySelector('#df-b6c77dec-3b85-48e5-8c58-9316a72b2d0d button.colab-df-convert');\n",
              "        buttonEl.style.display =\n",
              "          google.colab.kernel.accessAllowed ? 'block' : 'none';\n",
              "\n",
              "        async function convertToInteractive(key) {\n",
              "          const element = document.querySelector('#df-b6c77dec-3b85-48e5-8c58-9316a72b2d0d');\n",
              "          const dataTable =\n",
              "            await google.colab.kernel.invokeFunction('convertToInteractive',\n",
              "                                                     [key], {});\n",
              "          if (!dataTable) return;\n",
              "\n",
              "          const docLinkHtml = 'Like what you see? Visit the ' +\n",
              "            '<a target=\"_blank\" href=https://colab.research.google.com/notebooks/data_table.ipynb>data table notebook</a>'\n",
              "            + ' to learn more about interactive tables.';\n",
              "          element.innerHTML = '';\n",
              "          dataTable['output_type'] = 'display_data';\n",
              "          await google.colab.output.renderOutput(dataTable, element);\n",
              "          const docLink = document.createElement('div');\n",
              "          docLink.innerHTML = docLinkHtml;\n",
              "          element.appendChild(docLink);\n",
              "        }\n",
              "      </script>\n",
              "    </div>\n",
              "  </div>\n",
              "  "
            ]
          },
          "metadata": {},
          "execution_count": 551
        }
      ]
    },
    {
      "cell_type": "code",
      "source": [
        "# 3 points\n",
        "grader.grade(test_case_id = 'test_percentage', answer = (percentage_query, percentage_df))"
      ],
      "metadata": {
        "id": "ql6NED1sqwFr",
        "colab": {
          "base_uri": "https://localhost:8080/"
        },
        "outputId": "239ce30f-2717-4a8b-9a81-b534500dfffb"
      },
      "execution_count": 498,
      "outputs": [
        {
          "output_type": "stream",
          "name": "stdout",
          "text": [
            "You earned 0/3 points.\n",
            "\n",
            "But, don't worry you can re-submit and we will keep only your latest score.\n"
          ]
        }
      ]
    },
    {
      "cell_type": "markdown",
      "source": [
        "#### 2.5.3 Bike Types by Weather (SQL) [3 points]\n",
        "\n",
        "Using the dataframes from part 2.5.1, we want to find out which bike type is the most popular during good weather conditions.\n",
        "\n",
        "**TO-DO:**\n",
        "- Good weather conditions are defined to be when the temperature (`actual_max_temp`) is **AT OR ABOVE 70 degrees Farenheit**, and the `'actual_precipitation'` is **AT OR BELOW 0.3**.\n",
        "- Create a dataframe that has columns `Bike Type` for each of the various kinds of bikes that Indego offers, and `Number of Rides` for the number of rides taken by each kind of bike.\n",
        "- For the final dataframe, there should only be ONE entry, consisting of the bike type with the most rides. Name this dataframe `sql_bike_type_df`.\n",
        "\n",
        "**NOTE:** When renaming one of the aggregated columns as `Number of Rides`, you can select either `actual_max_temp` or `actual_precipitation`, just be consistent!\n",
        "\n",
        "**Final Schema (make sure you have the same column names and order!)**:\n",
        ">Bike Type | Number of Rides |\n",
        ">--- | --- |"
      ],
      "metadata": {
        "id": "AmZHEsBsS3yQ"
      }
    },
    {
      "cell_type": "code",
      "source": [
        "# TODO: Create sql_bike_type_df using PandasSQL\n",
        "\n",
        "bike_query = \"\"\"\n",
        "             SELECT trips_merge_df.bike_type as 'Bike Type', COUNT (*) AS 'Number of Rides'\n",
        "             FROM trips_merge_df \n",
        "             JOIN weather_merge_df ON trips_merge_df.date = weather_merge_df.date\n",
        "             WHERE actual_max_temp >= 70 AND actual_precipitation <= 0.3\n",
        "             GROUP BY bike_type\n",
        "             ORDER BY bike_type DESC\n",
        "             LIMIT 1\n",
        "             \"\"\"\n",
        "# Good weather conditions are defined to be when the temperature (actual_max_temp) is AT OR ABOVE 70 degrees Farenheit, and the 'actual_precipitation' is AT OR BELOW 0.3.\n",
        "sql_bike_type_df = ps.sqldf(bike_query, locals())\n",
        "sql_bike_type_df"
      ],
      "metadata": {
        "id": "AHgMRPv3S3yQ",
        "colab": {
          "base_uri": "https://localhost:8080/",
          "height": 80
        },
        "outputId": "733826c8-bd26-4da2-ff9c-cf38de7b079d"
      },
      "execution_count": 470,
      "outputs": [
        {
          "output_type": "execute_result",
          "data": {
            "text/plain": [
              "  Bike Type  Number of Rides\n",
              "0  standard             4690"
            ],
            "text/html": [
              "\n",
              "  <div id=\"df-80bca3f5-163f-4248-b906-aa82c5dc6d70\">\n",
              "    <div class=\"colab-df-container\">\n",
              "      <div>\n",
              "<style scoped>\n",
              "    .dataframe tbody tr th:only-of-type {\n",
              "        vertical-align: middle;\n",
              "    }\n",
              "\n",
              "    .dataframe tbody tr th {\n",
              "        vertical-align: top;\n",
              "    }\n",
              "\n",
              "    .dataframe thead th {\n",
              "        text-align: right;\n",
              "    }\n",
              "</style>\n",
              "<table border=\"1\" class=\"dataframe\">\n",
              "  <thead>\n",
              "    <tr style=\"text-align: right;\">\n",
              "      <th></th>\n",
              "      <th>Bike Type</th>\n",
              "      <th>Number of Rides</th>\n",
              "    </tr>\n",
              "  </thead>\n",
              "  <tbody>\n",
              "    <tr>\n",
              "      <th>0</th>\n",
              "      <td>standard</td>\n",
              "      <td>4690</td>\n",
              "    </tr>\n",
              "  </tbody>\n",
              "</table>\n",
              "</div>\n",
              "      <button class=\"colab-df-convert\" onclick=\"convertToInteractive('df-80bca3f5-163f-4248-b906-aa82c5dc6d70')\"\n",
              "              title=\"Convert this dataframe to an interactive table.\"\n",
              "              style=\"display:none;\">\n",
              "        \n",
              "  <svg xmlns=\"http://www.w3.org/2000/svg\" height=\"24px\"viewBox=\"0 0 24 24\"\n",
              "       width=\"24px\">\n",
              "    <path d=\"M0 0h24v24H0V0z\" fill=\"none\"/>\n",
              "    <path d=\"M18.56 5.44l.94 2.06.94-2.06 2.06-.94-2.06-.94-.94-2.06-.94 2.06-2.06.94zm-11 1L8.5 8.5l.94-2.06 2.06-.94-2.06-.94L8.5 2.5l-.94 2.06-2.06.94zm10 10l.94 2.06.94-2.06 2.06-.94-2.06-.94-.94-2.06-.94 2.06-2.06.94z\"/><path d=\"M17.41 7.96l-1.37-1.37c-.4-.4-.92-.59-1.43-.59-.52 0-1.04.2-1.43.59L10.3 9.45l-7.72 7.72c-.78.78-.78 2.05 0 2.83L4 21.41c.39.39.9.59 1.41.59.51 0 1.02-.2 1.41-.59l7.78-7.78 2.81-2.81c.8-.78.8-2.07 0-2.86zM5.41 20L4 18.59l7.72-7.72 1.47 1.35L5.41 20z\"/>\n",
              "  </svg>\n",
              "      </button>\n",
              "      \n",
              "  <style>\n",
              "    .colab-df-container {\n",
              "      display:flex;\n",
              "      flex-wrap:wrap;\n",
              "      gap: 12px;\n",
              "    }\n",
              "\n",
              "    .colab-df-convert {\n",
              "      background-color: #E8F0FE;\n",
              "      border: none;\n",
              "      border-radius: 50%;\n",
              "      cursor: pointer;\n",
              "      display: none;\n",
              "      fill: #1967D2;\n",
              "      height: 32px;\n",
              "      padding: 0 0 0 0;\n",
              "      width: 32px;\n",
              "    }\n",
              "\n",
              "    .colab-df-convert:hover {\n",
              "      background-color: #E2EBFA;\n",
              "      box-shadow: 0px 1px 2px rgba(60, 64, 67, 0.3), 0px 1px 3px 1px rgba(60, 64, 67, 0.15);\n",
              "      fill: #174EA6;\n",
              "    }\n",
              "\n",
              "    [theme=dark] .colab-df-convert {\n",
              "      background-color: #3B4455;\n",
              "      fill: #D2E3FC;\n",
              "    }\n",
              "\n",
              "    [theme=dark] .colab-df-convert:hover {\n",
              "      background-color: #434B5C;\n",
              "      box-shadow: 0px 1px 3px 1px rgba(0, 0, 0, 0.15);\n",
              "      filter: drop-shadow(0px 1px 2px rgba(0, 0, 0, 0.3));\n",
              "      fill: #FFFFFF;\n",
              "    }\n",
              "  </style>\n",
              "\n",
              "      <script>\n",
              "        const buttonEl =\n",
              "          document.querySelector('#df-80bca3f5-163f-4248-b906-aa82c5dc6d70 button.colab-df-convert');\n",
              "        buttonEl.style.display =\n",
              "          google.colab.kernel.accessAllowed ? 'block' : 'none';\n",
              "\n",
              "        async function convertToInteractive(key) {\n",
              "          const element = document.querySelector('#df-80bca3f5-163f-4248-b906-aa82c5dc6d70');\n",
              "          const dataTable =\n",
              "            await google.colab.kernel.invokeFunction('convertToInteractive',\n",
              "                                                     [key], {});\n",
              "          if (!dataTable) return;\n",
              "\n",
              "          const docLinkHtml = 'Like what you see? Visit the ' +\n",
              "            '<a target=\"_blank\" href=https://colab.research.google.com/notebooks/data_table.ipynb>data table notebook</a>'\n",
              "            + ' to learn more about interactive tables.';\n",
              "          element.innerHTML = '';\n",
              "          dataTable['output_type'] = 'display_data';\n",
              "          await google.colab.output.renderOutput(dataTable, element);\n",
              "          const docLink = document.createElement('div');\n",
              "          docLink.innerHTML = docLinkHtml;\n",
              "          element.appendChild(docLink);\n",
              "        }\n",
              "      </script>\n",
              "    </div>\n",
              "  </div>\n",
              "  "
            ]
          },
          "metadata": {},
          "execution_count": 470
        }
      ]
    },
    {
      "cell_type": "code",
      "source": [
        "# 3 points\n",
        "grader.grade(test_case_id = 'test_bikes', answer = (sql_bike_type_df, bike_query))"
      ],
      "metadata": {
        "id": "w6RSHDbUS3yR",
        "colab": {
          "base_uri": "https://localhost:8080/"
        },
        "outputId": "837b66da-c5ab-45ea-d188-3aa65de5fc6e"
      },
      "execution_count": 471,
      "outputs": [
        {
          "output_type": "stream",
          "name": "stdout",
          "text": [
            "Correct! You earned 3/3 points. You are a star!\n",
            "\n",
            "Your submission has been successfully recorded in the gradebook.\n"
          ]
        }
      ]
    },
    {
      "cell_type": "markdown",
      "source": [
        "#### 2.5.4 Rainy Days vs Non-Rainy Days [7 points]\n",
        "\n",
        "Just to get a little more practice with SQL...\n",
        "\n",
        "**TO-DO:**\n",
        "- Make a dataframe called `sql_rain_df` using query `rain_query` that finds the total number of trips on Rainy Days vs. Sunny Days, along with the number of days for each day type (rainy, non-rainy)\n",
        "  - A rainy day is defined as one where the precipitation was **greater than 0**.\n",
        "  - You will find `WITH (...) AS` and `UNION` commands useful here.\n",
        "\n",
        "<ins>Sense-Check</ins>: The `'Number of Days'` in your output will necessarily need to sum up to **7** since we only have 7 different days in our bikes dataset.\n",
        "\n",
        "<ins>Warning</ins>: Please note that you do NOT need to do this with Pandas, **ONLY PANDASQL**! <br> If you do this in Pandas, we will reduce the score to **ZERO** during manual review.\n",
        "\n",
        "\n",
        "**Final Schema** _(make sure you have the same column names and order!)_:\n",
        ">Day Type | Number of Rides | Number of Days\n",
        ">--- | --- | --- |\n",
        "> Rainy Day | ? | ?\n",
        "> Sunny Day | ? | ?"
      ],
      "metadata": {
        "id": "_3sr7YYrS3yR"
      }
    },
    {
      "cell_type": "code",
      "source": [
        "# TODO: create sql_rain_df as described above. =\n",
        "#step 1: get the actual percipiation from weather_merge and then \n",
        "rain_query = \"\"\"\n",
        "             WITH add_weather as( \n",
        "                SELECT date(date) AS date, \n",
        "                CASE WHEN actual_precipitation != 0 THEN 'Rainy Day' ELSE 'Sunny Day' END AS day_type\n",
        "                FROM weather_merge_df\n",
        "             ),\n",
        "             temp_merge as ( \n",
        "               SELECT *\n",
        "               FROM trips_merge_df\n",
        "               JOIN add_weather ON trips_merge_df.date = add_weather.date\n",
        "             ), \n",
        "             temp_sunny as( \n",
        "               SELECT date(date) AS date, COUNT(*) AS 'number_of_rides'\n",
        "               FROM temp_merge \n",
        "               WHERE day_type = 'Sunny Day'\n",
        "               GROUP BY date(date)\n",
        "             ),\n",
        "             temp_rainy as( \n",
        "               SELECT date(date) AS date, COUNT(*) AS 'number_of_rides'\n",
        "               FROM temp_merge \n",
        "               WHERE day_type = 'Rainy Day'\n",
        "               GROUP BY date(date)\n",
        "             ), \n",
        "             complete_rain as ( \n",
        "              SELECT temp_merge.day_type AS 'Day_Type',\n",
        "              COUNT(DISTINCT temp_rainy.date) AS 'Number_of_Days' \n",
        "              FROM temp_merge, temp_rainy,add_weather\n",
        "             ), \n",
        "             complete_sun as(\n",
        "              SELECT add_weather.day_type AS 'Day_Type',\n",
        "              COUNT(DISTINCT temp_sunny.date) AS 'Number_of_Days' \n",
        "              FROM temp_merge, temp_sunny, add_weather\n",
        "             ), \n",
        "             sum_of_rainy as(\n",
        "               SELECT SUM(temp_rainy.number_of_rides) AS 'Number_of_Rides'\n",
        "               FROM temp_rainy\n",
        "             ),\n",
        "             sum_of_sun as( \n",
        "               SELECT SUM(temp_sunny.number_of_rides) AS 'Number_of_Rides'\n",
        "               FROM temp_sunny\n",
        "             ), \n",
        "             sun as( \n",
        "               SELECT Day_Type AS 'Day Type', \n",
        "               sum_of_sun.Number_of_Rides AS 'Number of Rides',\n",
        "               Number_of_Days AS 'Number of Days'\n",
        "               FROM complete_sun, sum_of_sun \n",
        "             ), \n",
        "             rain as(\n",
        "               SELECT Day_Type AS 'Day Type', \n",
        "               sum_of_rainy.Number_of_Rides AS 'Number of Rides',\n",
        "               Number_of_Days AS 'Number of Days'\n",
        "               FROM complete_rain, sum_of_rainy\n",
        "             )\n",
        "             \n",
        "              SELECT * FROM rain\n",
        "              UNION\n",
        "              SELECT * FROM sun\n",
        "            \n",
        "             \"\"\"\n",
        "sql_rain_df = ps.sqldf(rain_query, locals())\n",
        "sql_rain_df"
      ],
      "metadata": {
        "id": "x0ifSHrSS3yR",
        "colab": {
          "base_uri": "https://localhost:8080/",
          "height": 112
        },
        "outputId": "d5b1c370-367d-43ac-d9ad-d365e3b5fc58"
      },
      "execution_count": 472,
      "outputs": [
        {
          "output_type": "execute_result",
          "data": {
            "text/plain": [
              "    Day Type  Number of Rides  Number of Days\n",
              "0  Rainy Day             6419               3\n",
              "1  Sunny Day             8836               4"
            ],
            "text/html": [
              "\n",
              "  <div id=\"df-07b0044f-eb50-4bf1-9bbc-157e94b3cbfd\">\n",
              "    <div class=\"colab-df-container\">\n",
              "      <div>\n",
              "<style scoped>\n",
              "    .dataframe tbody tr th:only-of-type {\n",
              "        vertical-align: middle;\n",
              "    }\n",
              "\n",
              "    .dataframe tbody tr th {\n",
              "        vertical-align: top;\n",
              "    }\n",
              "\n",
              "    .dataframe thead th {\n",
              "        text-align: right;\n",
              "    }\n",
              "</style>\n",
              "<table border=\"1\" class=\"dataframe\">\n",
              "  <thead>\n",
              "    <tr style=\"text-align: right;\">\n",
              "      <th></th>\n",
              "      <th>Day Type</th>\n",
              "      <th>Number of Rides</th>\n",
              "      <th>Number of Days</th>\n",
              "    </tr>\n",
              "  </thead>\n",
              "  <tbody>\n",
              "    <tr>\n",
              "      <th>0</th>\n",
              "      <td>Rainy Day</td>\n",
              "      <td>6419</td>\n",
              "      <td>3</td>\n",
              "    </tr>\n",
              "    <tr>\n",
              "      <th>1</th>\n",
              "      <td>Sunny Day</td>\n",
              "      <td>8836</td>\n",
              "      <td>4</td>\n",
              "    </tr>\n",
              "  </tbody>\n",
              "</table>\n",
              "</div>\n",
              "      <button class=\"colab-df-convert\" onclick=\"convertToInteractive('df-07b0044f-eb50-4bf1-9bbc-157e94b3cbfd')\"\n",
              "              title=\"Convert this dataframe to an interactive table.\"\n",
              "              style=\"display:none;\">\n",
              "        \n",
              "  <svg xmlns=\"http://www.w3.org/2000/svg\" height=\"24px\"viewBox=\"0 0 24 24\"\n",
              "       width=\"24px\">\n",
              "    <path d=\"M0 0h24v24H0V0z\" fill=\"none\"/>\n",
              "    <path d=\"M18.56 5.44l.94 2.06.94-2.06 2.06-.94-2.06-.94-.94-2.06-.94 2.06-2.06.94zm-11 1L8.5 8.5l.94-2.06 2.06-.94-2.06-.94L8.5 2.5l-.94 2.06-2.06.94zm10 10l.94 2.06.94-2.06 2.06-.94-2.06-.94-.94-2.06-.94 2.06-2.06.94z\"/><path d=\"M17.41 7.96l-1.37-1.37c-.4-.4-.92-.59-1.43-.59-.52 0-1.04.2-1.43.59L10.3 9.45l-7.72 7.72c-.78.78-.78 2.05 0 2.83L4 21.41c.39.39.9.59 1.41.59.51 0 1.02-.2 1.41-.59l7.78-7.78 2.81-2.81c.8-.78.8-2.07 0-2.86zM5.41 20L4 18.59l7.72-7.72 1.47 1.35L5.41 20z\"/>\n",
              "  </svg>\n",
              "      </button>\n",
              "      \n",
              "  <style>\n",
              "    .colab-df-container {\n",
              "      display:flex;\n",
              "      flex-wrap:wrap;\n",
              "      gap: 12px;\n",
              "    }\n",
              "\n",
              "    .colab-df-convert {\n",
              "      background-color: #E8F0FE;\n",
              "      border: none;\n",
              "      border-radius: 50%;\n",
              "      cursor: pointer;\n",
              "      display: none;\n",
              "      fill: #1967D2;\n",
              "      height: 32px;\n",
              "      padding: 0 0 0 0;\n",
              "      width: 32px;\n",
              "    }\n",
              "\n",
              "    .colab-df-convert:hover {\n",
              "      background-color: #E2EBFA;\n",
              "      box-shadow: 0px 1px 2px rgba(60, 64, 67, 0.3), 0px 1px 3px 1px rgba(60, 64, 67, 0.15);\n",
              "      fill: #174EA6;\n",
              "    }\n",
              "\n",
              "    [theme=dark] .colab-df-convert {\n",
              "      background-color: #3B4455;\n",
              "      fill: #D2E3FC;\n",
              "    }\n",
              "\n",
              "    [theme=dark] .colab-df-convert:hover {\n",
              "      background-color: #434B5C;\n",
              "      box-shadow: 0px 1px 3px 1px rgba(0, 0, 0, 0.15);\n",
              "      filter: drop-shadow(0px 1px 2px rgba(0, 0, 0, 0.3));\n",
              "      fill: #FFFFFF;\n",
              "    }\n",
              "  </style>\n",
              "\n",
              "      <script>\n",
              "        const buttonEl =\n",
              "          document.querySelector('#df-07b0044f-eb50-4bf1-9bbc-157e94b3cbfd button.colab-df-convert');\n",
              "        buttonEl.style.display =\n",
              "          google.colab.kernel.accessAllowed ? 'block' : 'none';\n",
              "\n",
              "        async function convertToInteractive(key) {\n",
              "          const element = document.querySelector('#df-07b0044f-eb50-4bf1-9bbc-157e94b3cbfd');\n",
              "          const dataTable =\n",
              "            await google.colab.kernel.invokeFunction('convertToInteractive',\n",
              "                                                     [key], {});\n",
              "          if (!dataTable) return;\n",
              "\n",
              "          const docLinkHtml = 'Like what you see? Visit the ' +\n",
              "            '<a target=\"_blank\" href=https://colab.research.google.com/notebooks/data_table.ipynb>data table notebook</a>'\n",
              "            + ' to learn more about interactive tables.';\n",
              "          element.innerHTML = '';\n",
              "          dataTable['output_type'] = 'display_data';\n",
              "          await google.colab.output.renderOutput(dataTable, element);\n",
              "          const docLink = document.createElement('div');\n",
              "          docLink.innerHTML = docLinkHtml;\n",
              "          element.appendChild(docLink);\n",
              "        }\n",
              "      </script>\n",
              "    </div>\n",
              "  </div>\n",
              "  "
            ]
          },
          "metadata": {},
          "execution_count": 472
        }
      ]
    },
    {
      "cell_type": "code",
      "source": [
        "# 7 points\n",
        "grader.grade(test_case_id = 'test_rainy', answer = (sql_rain_df,rain_query))"
      ],
      "metadata": {
        "id": "XKRLmq_2S3yS",
        "colab": {
          "base_uri": "https://localhost:8080/"
        },
        "outputId": "14d9d8e6-9691-44be-d335-211d15ab964b"
      },
      "execution_count": 473,
      "outputs": [
        {
          "output_type": "stream",
          "name": "stdout",
          "text": [
            "Correct! You earned 7/7 points. You are a star!\n",
            "\n",
            "Your submission has been successfully recorded in the gradebook.\n"
          ]
        }
      ]
    },
    {
      "cell_type": "markdown",
      "source": [
        "### 2.6 Weekend Rush [8 points]\n",
        "\n",
        "We want to determine the percentage change in the number of rides from the weekend to the weekdays in the first 7 days of October using `pandasql`.\n",
        "\n",
        "\n",
        "\n",
        "**TODO**: Use `pandasql` to :\n",
        "* Count the number of rides that take place on the weekend (Saturday, Sunday)\n",
        "* Count the number of rides that take place M-F.\n",
        "* Calculate the percentage change for `trips_final_df` and save it in a new dataframe called `perc_df` with the column named `perc_change`. Please cast this column to `float` type You can use the following formula:\n",
        "\n",
        "$$\\frac{ number\\_of\\_trips\\_on\\_weekday - number\\_of\\_trips\\_on\\_weekend}{number\\_of\\_trips\\_on\\_weekend} \\times 100$$"
      ],
      "metadata": {
        "id": "O4HY0xZQS3yS"
      }
    },
    {
      "cell_type": "code",
      "source": [
        "trips_final_df"
      ],
      "metadata": {
        "id": "GqAQssg4taD6"
      },
      "execution_count": null,
      "outputs": []
    },
    {
      "cell_type": "code",
      "source": [
        "# TODO: Use pandasql to get the percentage change between trips on the weekend and trips on the weekday\n",
        "perc_query = \"\"\"\n",
        "             WITH \n",
        "             weekday_amount as( \n",
        "               SELECT CAST(COUNT(CASE WHEN strftime('%w', date) NOT IN ('0','6') THEN 1 END) AS FLOAT) \n",
        "               AS num_weekday\n",
        "               FROM trips_merge_df\n",
        "             ), \n",
        "             weekend_amount as(\n",
        "               SELECT CAST(COUNT(CASE WHEN strftime('%w', date) IN ('0','6') THEN 1 END) \n",
        "                AS FLOAT)\n",
        "                AS num_weekend\n",
        "               FROM trips_merge_df\n",
        "             )\n",
        "\n",
        "             SELECT \n",
        "             ((num_weekday - num_weekend) / num_weekend) *100 AS perc_change\n",
        "             FROM weekday_amount, weekend_amount\n",
        "             \n",
        "             \"\"\"\n",
        "\n",
        "perc_df = ps.sqldf(perc_query, locals())\n",
        "perc_df"
      ],
      "metadata": {
        "id": "JxRHY1lsS3yT",
        "colab": {
          "base_uri": "https://localhost:8080/",
          "height": 80
        },
        "outputId": "d36e855a-2732-4e36-a380-027c2656617f"
      },
      "execution_count": 475,
      "outputs": [
        {
          "output_type": "execute_result",
          "data": {
            "text/plain": [
              "   perc_change\n",
              "0   418.362383"
            ],
            "text/html": [
              "\n",
              "  <div id=\"df-067c1fa7-ef6c-45ac-8fb3-133fca67b6bc\">\n",
              "    <div class=\"colab-df-container\">\n",
              "      <div>\n",
              "<style scoped>\n",
              "    .dataframe tbody tr th:only-of-type {\n",
              "        vertical-align: middle;\n",
              "    }\n",
              "\n",
              "    .dataframe tbody tr th {\n",
              "        vertical-align: top;\n",
              "    }\n",
              "\n",
              "    .dataframe thead th {\n",
              "        text-align: right;\n",
              "    }\n",
              "</style>\n",
              "<table border=\"1\" class=\"dataframe\">\n",
              "  <thead>\n",
              "    <tr style=\"text-align: right;\">\n",
              "      <th></th>\n",
              "      <th>perc_change</th>\n",
              "    </tr>\n",
              "  </thead>\n",
              "  <tbody>\n",
              "    <tr>\n",
              "      <th>0</th>\n",
              "      <td>418.362383</td>\n",
              "    </tr>\n",
              "  </tbody>\n",
              "</table>\n",
              "</div>\n",
              "      <button class=\"colab-df-convert\" onclick=\"convertToInteractive('df-067c1fa7-ef6c-45ac-8fb3-133fca67b6bc')\"\n",
              "              title=\"Convert this dataframe to an interactive table.\"\n",
              "              style=\"display:none;\">\n",
              "        \n",
              "  <svg xmlns=\"http://www.w3.org/2000/svg\" height=\"24px\"viewBox=\"0 0 24 24\"\n",
              "       width=\"24px\">\n",
              "    <path d=\"M0 0h24v24H0V0z\" fill=\"none\"/>\n",
              "    <path d=\"M18.56 5.44l.94 2.06.94-2.06 2.06-.94-2.06-.94-.94-2.06-.94 2.06-2.06.94zm-11 1L8.5 8.5l.94-2.06 2.06-.94-2.06-.94L8.5 2.5l-.94 2.06-2.06.94zm10 10l.94 2.06.94-2.06 2.06-.94-2.06-.94-.94-2.06-.94 2.06-2.06.94z\"/><path d=\"M17.41 7.96l-1.37-1.37c-.4-.4-.92-.59-1.43-.59-.52 0-1.04.2-1.43.59L10.3 9.45l-7.72 7.72c-.78.78-.78 2.05 0 2.83L4 21.41c.39.39.9.59 1.41.59.51 0 1.02-.2 1.41-.59l7.78-7.78 2.81-2.81c.8-.78.8-2.07 0-2.86zM5.41 20L4 18.59l7.72-7.72 1.47 1.35L5.41 20z\"/>\n",
              "  </svg>\n",
              "      </button>\n",
              "      \n",
              "  <style>\n",
              "    .colab-df-container {\n",
              "      display:flex;\n",
              "      flex-wrap:wrap;\n",
              "      gap: 12px;\n",
              "    }\n",
              "\n",
              "    .colab-df-convert {\n",
              "      background-color: #E8F0FE;\n",
              "      border: none;\n",
              "      border-radius: 50%;\n",
              "      cursor: pointer;\n",
              "      display: none;\n",
              "      fill: #1967D2;\n",
              "      height: 32px;\n",
              "      padding: 0 0 0 0;\n",
              "      width: 32px;\n",
              "    }\n",
              "\n",
              "    .colab-df-convert:hover {\n",
              "      background-color: #E2EBFA;\n",
              "      box-shadow: 0px 1px 2px rgba(60, 64, 67, 0.3), 0px 1px 3px 1px rgba(60, 64, 67, 0.15);\n",
              "      fill: #174EA6;\n",
              "    }\n",
              "\n",
              "    [theme=dark] .colab-df-convert {\n",
              "      background-color: #3B4455;\n",
              "      fill: #D2E3FC;\n",
              "    }\n",
              "\n",
              "    [theme=dark] .colab-df-convert:hover {\n",
              "      background-color: #434B5C;\n",
              "      box-shadow: 0px 1px 3px 1px rgba(0, 0, 0, 0.15);\n",
              "      filter: drop-shadow(0px 1px 2px rgba(0, 0, 0, 0.3));\n",
              "      fill: #FFFFFF;\n",
              "    }\n",
              "  </style>\n",
              "\n",
              "      <script>\n",
              "        const buttonEl =\n",
              "          document.querySelector('#df-067c1fa7-ef6c-45ac-8fb3-133fca67b6bc button.colab-df-convert');\n",
              "        buttonEl.style.display =\n",
              "          google.colab.kernel.accessAllowed ? 'block' : 'none';\n",
              "\n",
              "        async function convertToInteractive(key) {\n",
              "          const element = document.querySelector('#df-067c1fa7-ef6c-45ac-8fb3-133fca67b6bc');\n",
              "          const dataTable =\n",
              "            await google.colab.kernel.invokeFunction('convertToInteractive',\n",
              "                                                     [key], {});\n",
              "          if (!dataTable) return;\n",
              "\n",
              "          const docLinkHtml = 'Like what you see? Visit the ' +\n",
              "            '<a target=\"_blank\" href=https://colab.research.google.com/notebooks/data_table.ipynb>data table notebook</a>'\n",
              "            + ' to learn more about interactive tables.';\n",
              "          element.innerHTML = '';\n",
              "          dataTable['output_type'] = 'display_data';\n",
              "          await google.colab.output.renderOutput(dataTable, element);\n",
              "          const docLink = document.createElement('div');\n",
              "          docLink.innerHTML = docLinkHtml;\n",
              "          element.appendChild(docLink);\n",
              "        }\n",
              "      </script>\n",
              "    </div>\n",
              "  </div>\n",
              "  "
            ]
          },
          "metadata": {},
          "execution_count": 475
        }
      ]
    },
    {
      "cell_type": "code",
      "source": [
        "# 8 points\n",
        "grader.grade(test_case_id = 'test_perc', answer = (perc_df, perc_query))"
      ],
      "metadata": {
        "id": "7cJ2QvpsS3yU",
        "colab": {
          "base_uri": "https://localhost:8080/"
        },
        "outputId": "f375acf7-8c4c-4102-8521-eb49d0efc529"
      },
      "execution_count": 476,
      "outputs": [
        {
          "output_type": "stream",
          "name": "stdout",
          "text": [
            "Correct! You earned 8/8 points. You are a star!\n",
            "\n",
            "Your submission has been successfully recorded in the gradebook.\n"
          ]
        }
      ]
    },
    {
      "cell_type": "markdown",
      "source": [
        "## Part 3: Data Visualization [8 points total]"
      ],
      "metadata": {
        "id": "2TmWRlsBS3yU"
      }
    },
    {
      "cell_type": "markdown",
      "source": [
        "You've done great work so far! Now let's create a couple visualizations to illustrate data we might be interested in. \n",
        "\n",
        "\n",
        "This section will be **manually graded**."
      ],
      "metadata": {
        "id": "FBMLzvZES3yU"
      }
    },
    {
      "cell_type": "markdown",
      "source": [
        "Begin by following the directions below to prepare the dataset for plotting"
      ],
      "metadata": {
        "id": "SWl6emHZS3yU"
      }
    },
    {
      "cell_type": "code",
      "source": [
        "from datetime import datetime\n",
        "import seaborn as sns"
      ],
      "metadata": {
        "id": "vUBBTugE9T4H"
      },
      "execution_count": 477,
      "outputs": []
    },
    {
      "cell_type": "markdown",
      "source": [
        "For this part we will be using `trips_final_df`"
      ],
      "metadata": {
        "id": "7TbqcrVG9VDd"
      }
    },
    {
      "cell_type": "code",
      "source": [],
      "metadata": {
        "id": "I2kB29CtJBzV",
        "colab": {
          "base_uri": "https://localhost:8080/",
          "height": 710
        },
        "outputId": "2d88da0a-4727-4137-9ee3-0b569cea97e1"
      },
      "execution_count": 478,
      "outputs": [
        {
          "output_type": "execute_result",
          "data": {
            "text/plain": [
              "         trip_id  duration       start_time         end_time  \\\n",
              "68     536546924         3   10/1/2022 1:50   10/1/2022 1:53   \n",
              "67     536546925         3   10/1/2022 1:50   10/1/2022 1:53   \n",
              "66     536546927         7   10/1/2022 1:48   10/1/2022 1:55   \n",
              "65     536546929         7   10/1/2022 1:48   10/1/2022 1:55   \n",
              "63     536546932         6   10/1/2022 1:41   10/1/2022 1:47   \n",
              "...          ...       ...              ...              ...   \n",
              "15293  540422839       100  10/7/2022 21:36  10/7/2022 23:16   \n",
              "15292  540422840       102  10/7/2022 21:35  10/7/2022 23:17   \n",
              "15291  540422841       102  10/7/2022 21:34  10/7/2022 23:16   \n",
              "15272  540422860        50  10/7/2022 21:27  10/7/2022 22:17   \n",
              "15237  540422896        53  10/7/2022 21:12  10/7/2022 22:05   \n",
              "\n",
              "                           start_station  start_lat  start_lon  \\\n",
              "68                 Broad & Pattison, BSL  39.904709 -75.173401   \n",
              "67                 Broad & Pattison, BSL  39.904709 -75.173401   \n",
              "66                         15th & Spruce  39.947109 -75.166183   \n",
              "65                         15th & Spruce  39.947109 -75.166183   \n",
              "63     Municipal Services Building Plaza  39.953781 -75.163742   \n",
              "...                                  ...        ...        ...   \n",
              "15293                      13th & Locust  39.947922 -75.162369   \n",
              "15292                      13th & Locust  39.947922 -75.162369   \n",
              "15291                      13th & Locust  39.947922 -75.162369   \n",
              "15272                    12th & Chestnut  39.950249 -75.160278   \n",
              "15237                         2nd & Race  39.953819 -75.142632   \n",
              "\n",
              "                              end_station    end_lat    end_lon  bike_id  \\\n",
              "68                  Broad & Pattison, BSL  39.904709 -75.173401    11708   \n",
              "67                  Broad & Pattison, BSL  39.904709 -75.173401     3483   \n",
              "66     18th & Washington, Chew Playground  39.938400 -75.173271    14655   \n",
              "65     18th & Washington, Chew Playground  39.938400 -75.173271    12987   \n",
              "63                        18th & Chestnut  39.951740 -75.170631    22554   \n",
              "...                                   ...        ...        ...      ...   \n",
              "15293                       13th & Locust  39.947922 -75.162369    22404   \n",
              "15292                       13th & Locust  39.947922 -75.162369    23321   \n",
              "15291                       13th & Locust  39.947922 -75.162369    22950   \n",
              "15272                      Broad & Girard  39.971569 -75.159927    14533   \n",
              "15237                         2nd & Brown  39.963039 -75.140991     3570   \n",
              "\n",
              "      trip_route_category passholder_type bike_type  hour  \n",
              "68             Round Trip        Indego30  standard     1  \n",
              "67             Round Trip        Indego30  standard     1  \n",
              "66                One Way        Indego30  standard     1  \n",
              "65                One Way        Indego30  standard     1  \n",
              "63                One Way        Day Pass  electric     1  \n",
              "...                   ...             ...       ...   ...  \n",
              "15293          Round Trip        Day Pass  electric    21  \n",
              "15292          Round Trip        Day Pass  electric    21  \n",
              "15291          Round Trip        Day Pass  electric    21  \n",
              "15272             One Way        Indego30  standard    21  \n",
              "15237             One Way       Indego365  standard    21  \n",
              "\n",
              "[15255 rows x 15 columns]"
            ],
            "text/html": [
              "\n",
              "  <div id=\"df-b2e1e6c5-a9e6-430d-8dc8-0443c14b1c8d\">\n",
              "    <div class=\"colab-df-container\">\n",
              "      <div>\n",
              "<style scoped>\n",
              "    .dataframe tbody tr th:only-of-type {\n",
              "        vertical-align: middle;\n",
              "    }\n",
              "\n",
              "    .dataframe tbody tr th {\n",
              "        vertical-align: top;\n",
              "    }\n",
              "\n",
              "    .dataframe thead th {\n",
              "        text-align: right;\n",
              "    }\n",
              "</style>\n",
              "<table border=\"1\" class=\"dataframe\">\n",
              "  <thead>\n",
              "    <tr style=\"text-align: right;\">\n",
              "      <th></th>\n",
              "      <th>trip_id</th>\n",
              "      <th>duration</th>\n",
              "      <th>start_time</th>\n",
              "      <th>end_time</th>\n",
              "      <th>start_station</th>\n",
              "      <th>start_lat</th>\n",
              "      <th>start_lon</th>\n",
              "      <th>end_station</th>\n",
              "      <th>end_lat</th>\n",
              "      <th>end_lon</th>\n",
              "      <th>bike_id</th>\n",
              "      <th>trip_route_category</th>\n",
              "      <th>passholder_type</th>\n",
              "      <th>bike_type</th>\n",
              "      <th>hour</th>\n",
              "    </tr>\n",
              "  </thead>\n",
              "  <tbody>\n",
              "    <tr>\n",
              "      <th>68</th>\n",
              "      <td>536546924</td>\n",
              "      <td>3</td>\n",
              "      <td>10/1/2022 1:50</td>\n",
              "      <td>10/1/2022 1:53</td>\n",
              "      <td>Broad &amp; Pattison, BSL</td>\n",
              "      <td>39.904709</td>\n",
              "      <td>-75.173401</td>\n",
              "      <td>Broad &amp; Pattison, BSL</td>\n",
              "      <td>39.904709</td>\n",
              "      <td>-75.173401</td>\n",
              "      <td>11708</td>\n",
              "      <td>Round Trip</td>\n",
              "      <td>Indego30</td>\n",
              "      <td>standard</td>\n",
              "      <td>1</td>\n",
              "    </tr>\n",
              "    <tr>\n",
              "      <th>67</th>\n",
              "      <td>536546925</td>\n",
              "      <td>3</td>\n",
              "      <td>10/1/2022 1:50</td>\n",
              "      <td>10/1/2022 1:53</td>\n",
              "      <td>Broad &amp; Pattison, BSL</td>\n",
              "      <td>39.904709</td>\n",
              "      <td>-75.173401</td>\n",
              "      <td>Broad &amp; Pattison, BSL</td>\n",
              "      <td>39.904709</td>\n",
              "      <td>-75.173401</td>\n",
              "      <td>3483</td>\n",
              "      <td>Round Trip</td>\n",
              "      <td>Indego30</td>\n",
              "      <td>standard</td>\n",
              "      <td>1</td>\n",
              "    </tr>\n",
              "    <tr>\n",
              "      <th>66</th>\n",
              "      <td>536546927</td>\n",
              "      <td>7</td>\n",
              "      <td>10/1/2022 1:48</td>\n",
              "      <td>10/1/2022 1:55</td>\n",
              "      <td>15th &amp; Spruce</td>\n",
              "      <td>39.947109</td>\n",
              "      <td>-75.166183</td>\n",
              "      <td>18th &amp; Washington, Chew Playground</td>\n",
              "      <td>39.938400</td>\n",
              "      <td>-75.173271</td>\n",
              "      <td>14655</td>\n",
              "      <td>One Way</td>\n",
              "      <td>Indego30</td>\n",
              "      <td>standard</td>\n",
              "      <td>1</td>\n",
              "    </tr>\n",
              "    <tr>\n",
              "      <th>65</th>\n",
              "      <td>536546929</td>\n",
              "      <td>7</td>\n",
              "      <td>10/1/2022 1:48</td>\n",
              "      <td>10/1/2022 1:55</td>\n",
              "      <td>15th &amp; Spruce</td>\n",
              "      <td>39.947109</td>\n",
              "      <td>-75.166183</td>\n",
              "      <td>18th &amp; Washington, Chew Playground</td>\n",
              "      <td>39.938400</td>\n",
              "      <td>-75.173271</td>\n",
              "      <td>12987</td>\n",
              "      <td>One Way</td>\n",
              "      <td>Indego30</td>\n",
              "      <td>standard</td>\n",
              "      <td>1</td>\n",
              "    </tr>\n",
              "    <tr>\n",
              "      <th>63</th>\n",
              "      <td>536546932</td>\n",
              "      <td>6</td>\n",
              "      <td>10/1/2022 1:41</td>\n",
              "      <td>10/1/2022 1:47</td>\n",
              "      <td>Municipal Services Building Plaza</td>\n",
              "      <td>39.953781</td>\n",
              "      <td>-75.163742</td>\n",
              "      <td>18th &amp; Chestnut</td>\n",
              "      <td>39.951740</td>\n",
              "      <td>-75.170631</td>\n",
              "      <td>22554</td>\n",
              "      <td>One Way</td>\n",
              "      <td>Day Pass</td>\n",
              "      <td>electric</td>\n",
              "      <td>1</td>\n",
              "    </tr>\n",
              "    <tr>\n",
              "      <th>...</th>\n",
              "      <td>...</td>\n",
              "      <td>...</td>\n",
              "      <td>...</td>\n",
              "      <td>...</td>\n",
              "      <td>...</td>\n",
              "      <td>...</td>\n",
              "      <td>...</td>\n",
              "      <td>...</td>\n",
              "      <td>...</td>\n",
              "      <td>...</td>\n",
              "      <td>...</td>\n",
              "      <td>...</td>\n",
              "      <td>...</td>\n",
              "      <td>...</td>\n",
              "      <td>...</td>\n",
              "    </tr>\n",
              "    <tr>\n",
              "      <th>15293</th>\n",
              "      <td>540422839</td>\n",
              "      <td>100</td>\n",
              "      <td>10/7/2022 21:36</td>\n",
              "      <td>10/7/2022 23:16</td>\n",
              "      <td>13th &amp; Locust</td>\n",
              "      <td>39.947922</td>\n",
              "      <td>-75.162369</td>\n",
              "      <td>13th &amp; Locust</td>\n",
              "      <td>39.947922</td>\n",
              "      <td>-75.162369</td>\n",
              "      <td>22404</td>\n",
              "      <td>Round Trip</td>\n",
              "      <td>Day Pass</td>\n",
              "      <td>electric</td>\n",
              "      <td>21</td>\n",
              "    </tr>\n",
              "    <tr>\n",
              "      <th>15292</th>\n",
              "      <td>540422840</td>\n",
              "      <td>102</td>\n",
              "      <td>10/7/2022 21:35</td>\n",
              "      <td>10/7/2022 23:17</td>\n",
              "      <td>13th &amp; Locust</td>\n",
              "      <td>39.947922</td>\n",
              "      <td>-75.162369</td>\n",
              "      <td>13th &amp; Locust</td>\n",
              "      <td>39.947922</td>\n",
              "      <td>-75.162369</td>\n",
              "      <td>23321</td>\n",
              "      <td>Round Trip</td>\n",
              "      <td>Day Pass</td>\n",
              "      <td>electric</td>\n",
              "      <td>21</td>\n",
              "    </tr>\n",
              "    <tr>\n",
              "      <th>15291</th>\n",
              "      <td>540422841</td>\n",
              "      <td>102</td>\n",
              "      <td>10/7/2022 21:34</td>\n",
              "      <td>10/7/2022 23:16</td>\n",
              "      <td>13th &amp; Locust</td>\n",
              "      <td>39.947922</td>\n",
              "      <td>-75.162369</td>\n",
              "      <td>13th &amp; Locust</td>\n",
              "      <td>39.947922</td>\n",
              "      <td>-75.162369</td>\n",
              "      <td>22950</td>\n",
              "      <td>Round Trip</td>\n",
              "      <td>Day Pass</td>\n",
              "      <td>electric</td>\n",
              "      <td>21</td>\n",
              "    </tr>\n",
              "    <tr>\n",
              "      <th>15272</th>\n",
              "      <td>540422860</td>\n",
              "      <td>50</td>\n",
              "      <td>10/7/2022 21:27</td>\n",
              "      <td>10/7/2022 22:17</td>\n",
              "      <td>12th &amp; Chestnut</td>\n",
              "      <td>39.950249</td>\n",
              "      <td>-75.160278</td>\n",
              "      <td>Broad &amp; Girard</td>\n",
              "      <td>39.971569</td>\n",
              "      <td>-75.159927</td>\n",
              "      <td>14533</td>\n",
              "      <td>One Way</td>\n",
              "      <td>Indego30</td>\n",
              "      <td>standard</td>\n",
              "      <td>21</td>\n",
              "    </tr>\n",
              "    <tr>\n",
              "      <th>15237</th>\n",
              "      <td>540422896</td>\n",
              "      <td>53</td>\n",
              "      <td>10/7/2022 21:12</td>\n",
              "      <td>10/7/2022 22:05</td>\n",
              "      <td>2nd &amp; Race</td>\n",
              "      <td>39.953819</td>\n",
              "      <td>-75.142632</td>\n",
              "      <td>2nd &amp; Brown</td>\n",
              "      <td>39.963039</td>\n",
              "      <td>-75.140991</td>\n",
              "      <td>3570</td>\n",
              "      <td>One Way</td>\n",
              "      <td>Indego365</td>\n",
              "      <td>standard</td>\n",
              "      <td>21</td>\n",
              "    </tr>\n",
              "  </tbody>\n",
              "</table>\n",
              "<p>15255 rows × 15 columns</p>\n",
              "</div>\n",
              "      <button class=\"colab-df-convert\" onclick=\"convertToInteractive('df-b2e1e6c5-a9e6-430d-8dc8-0443c14b1c8d')\"\n",
              "              title=\"Convert this dataframe to an interactive table.\"\n",
              "              style=\"display:none;\">\n",
              "        \n",
              "  <svg xmlns=\"http://www.w3.org/2000/svg\" height=\"24px\"viewBox=\"0 0 24 24\"\n",
              "       width=\"24px\">\n",
              "    <path d=\"M0 0h24v24H0V0z\" fill=\"none\"/>\n",
              "    <path d=\"M18.56 5.44l.94 2.06.94-2.06 2.06-.94-2.06-.94-.94-2.06-.94 2.06-2.06.94zm-11 1L8.5 8.5l.94-2.06 2.06-.94-2.06-.94L8.5 2.5l-.94 2.06-2.06.94zm10 10l.94 2.06.94-2.06 2.06-.94-2.06-.94-.94-2.06-.94 2.06-2.06.94z\"/><path d=\"M17.41 7.96l-1.37-1.37c-.4-.4-.92-.59-1.43-.59-.52 0-1.04.2-1.43.59L10.3 9.45l-7.72 7.72c-.78.78-.78 2.05 0 2.83L4 21.41c.39.39.9.59 1.41.59.51 0 1.02-.2 1.41-.59l7.78-7.78 2.81-2.81c.8-.78.8-2.07 0-2.86zM5.41 20L4 18.59l7.72-7.72 1.47 1.35L5.41 20z\"/>\n",
              "  </svg>\n",
              "      </button>\n",
              "      \n",
              "  <style>\n",
              "    .colab-df-container {\n",
              "      display:flex;\n",
              "      flex-wrap:wrap;\n",
              "      gap: 12px;\n",
              "    }\n",
              "\n",
              "    .colab-df-convert {\n",
              "      background-color: #E8F0FE;\n",
              "      border: none;\n",
              "      border-radius: 50%;\n",
              "      cursor: pointer;\n",
              "      display: none;\n",
              "      fill: #1967D2;\n",
              "      height: 32px;\n",
              "      padding: 0 0 0 0;\n",
              "      width: 32px;\n",
              "    }\n",
              "\n",
              "    .colab-df-convert:hover {\n",
              "      background-color: #E2EBFA;\n",
              "      box-shadow: 0px 1px 2px rgba(60, 64, 67, 0.3), 0px 1px 3px 1px rgba(60, 64, 67, 0.15);\n",
              "      fill: #174EA6;\n",
              "    }\n",
              "\n",
              "    [theme=dark] .colab-df-convert {\n",
              "      background-color: #3B4455;\n",
              "      fill: #D2E3FC;\n",
              "    }\n",
              "\n",
              "    [theme=dark] .colab-df-convert:hover {\n",
              "      background-color: #434B5C;\n",
              "      box-shadow: 0px 1px 3px 1px rgba(0, 0, 0, 0.15);\n",
              "      filter: drop-shadow(0px 1px 2px rgba(0, 0, 0, 0.3));\n",
              "      fill: #FFFFFF;\n",
              "    }\n",
              "  </style>\n",
              "\n",
              "      <script>\n",
              "        const buttonEl =\n",
              "          document.querySelector('#df-b2e1e6c5-a9e6-430d-8dc8-0443c14b1c8d button.colab-df-convert');\n",
              "        buttonEl.style.display =\n",
              "          google.colab.kernel.accessAllowed ? 'block' : 'none';\n",
              "\n",
              "        async function convertToInteractive(key) {\n",
              "          const element = document.querySelector('#df-b2e1e6c5-a9e6-430d-8dc8-0443c14b1c8d');\n",
              "          const dataTable =\n",
              "            await google.colab.kernel.invokeFunction('convertToInteractive',\n",
              "                                                     [key], {});\n",
              "          if (!dataTable) return;\n",
              "\n",
              "          const docLinkHtml = 'Like what you see? Visit the ' +\n",
              "            '<a target=\"_blank\" href=https://colab.research.google.com/notebooks/data_table.ipynb>data table notebook</a>'\n",
              "            + ' to learn more about interactive tables.';\n",
              "          element.innerHTML = '';\n",
              "          dataTable['output_type'] = 'display_data';\n",
              "          await google.colab.output.renderOutput(dataTable, element);\n",
              "          const docLink = document.createElement('div');\n",
              "          docLink.innerHTML = docLinkHtml;\n",
              "          element.appendChild(docLink);\n",
              "        }\n",
              "      </script>\n",
              "    </div>\n",
              "  </div>\n",
              "  "
            ]
          },
          "metadata": {},
          "execution_count": 478
        }
      ]
    },
    {
      "cell_type": "code",
      "source": [
        "# Step 1a - using datetime functions, create a column called Time that has the time \n",
        "# (Hour:Minute) seen in the start_time column\n",
        "trips_final_df['Time'] = pd.to_datetime(trips_final_df['start_time'])\n",
        "trips_final_df['Time'] = trips_final_df['Time'].dt.time\n",
        "# HINT: The date should be of type %m/%d/%Y %H:%M, and once you've converted to datetime\n",
        "# you can use the .time() function to get the time of day\n",
        "\n",
        "trips_final_df.info()"
      ],
      "metadata": {
        "id": "76tp5HG-S3yU"
      },
      "execution_count": null,
      "outputs": []
    },
    {
      "cell_type": "code",
      "source": [
        "# Step 1b - to make things simple for our graph, \"round\" the time down to the nearest hour.\n",
        "# For example, 0:01 and 0:59 should both turn into 0:00. You can either alter the \"Time of Day\"\n",
        "# column or create a new column and drop the old one, your choice.\n",
        "# Hint: you can use the replace() function to alter the minute component of the datetime object\n",
        "\n",
        "# trips_final_df['Time of Day'] = pd.to_datetime(trips_final_df['Time'])\n",
        "trips_final_df['Time'] = pd.to_datetime(trips_final_df.Time, format='%H:%M:%S')\n",
        "\n",
        "\n",
        "# trips_final_df['Time of Day'] = trips_final_df['Time'].apply(lambda x: x.replace(minute=0, second=0) + pd.Timedelta(minutes=30))\n",
        "# trips_final_df['Time of Day'] = trips_final_df['Time of Day'].dt.floor('H')\n",
        "def roundHour(x): \n",
        "  return x.floor('H')\n",
        "  \n",
        "    \n",
        "    \n",
        "\n",
        "trips_final_df['Time of Day'] = trips_final_df['Time'].apply(roundHour)\n",
        "trips_final_df"
      ],
      "metadata": {
        "id": "sVAMLlHM9Hy9"
      },
      "execution_count": null,
      "outputs": []
    },
    {
      "cell_type": "code",
      "source": [
        "# Step 2a - Create a column called Date that gets the actual date (Month/Day/Year) seen\n",
        "# in the start_time column. Similar process as part 1a, and you will find .date() helpful here\n",
        "trips_final_df['date'] = pd.to_datetime(trips_final_df['start_time'])\n",
        "trips_final_df['date'] = trips_final_df['date'].dt.date\n",
        "trips_final_df['date']\n"
      ],
      "metadata": {
        "id": "wLcQT5Ok9JLP",
        "colab": {
          "base_uri": "https://localhost:8080/"
        },
        "outputId": "2ad8abfd-3217-44b5-f59e-5d1fc1c4dd8a"
      },
      "execution_count": 481,
      "outputs": [
        {
          "output_type": "execute_result",
          "data": {
            "text/plain": [
              "68       2022-10-01\n",
              "67       2022-10-01\n",
              "66       2022-10-01\n",
              "65       2022-10-01\n",
              "63       2022-10-01\n",
              "            ...    \n",
              "15293    2022-10-07\n",
              "15292    2022-10-07\n",
              "15291    2022-10-07\n",
              "15272    2022-10-07\n",
              "15237    2022-10-07\n",
              "Name: date, Length: 15255, dtype: object"
            ]
          },
          "metadata": {},
          "execution_count": 481
        }
      ]
    },
    {
      "cell_type": "code",
      "source": [
        "# Step 2b- Using the 'Date' column, create a column called Day which has the day\n",
        "# associated with the date (Monday, Tuesday, ..., Sunday). You can discard the \n",
        "# 'Date' column once you're done.\n",
        "trips_final_df['Day'] = pd.to_datetime(trips_final_df['date'])\n",
        "trips_final_df['Day'] = trips_final_df['Day'].dt.day_name()\n",
        "trips_final_df = trips_final_df.drop('date', axis = 1)\n",
        "# Hint: the .weekday() function will be helpful here, but you cannot leave the final\n",
        "# answer as an integer; make sure to convert to the actual name of the day!\n",
        "\n",
        "# Note: 0 represents Monday, 1 represents Tuesday, ... , 6 represents Sunday\n",
        "\n"
      ],
      "metadata": {
        "id": "SkJU6LBS9KMa"
      },
      "execution_count": 482,
      "outputs": []
    },
    {
      "cell_type": "code",
      "source": [
        "# Step 3-  Make a dataframe that just contains 'trip_id','duration','Time of Day', and 'Day'\n",
        "new_df = trips_final_df[['trip_id', 'duration', 'Time of Day', 'Day']]\n",
        "\n"
      ],
      "metadata": {
        "id": "tEI_BSHF9L9p"
      },
      "execution_count": 483,
      "outputs": []
    },
    {
      "cell_type": "markdown",
      "source": [
        "Your dataset is now complete! For the first line plot, you will be visualizing the number of trips that occur during each hour of the day, for all 7 days. To do so, you will be creating 2 line charts using Seaborn (sns).\n",
        "\n",
        "### This is important: using only Matplotlib will NOT result in full credit\n",
        "\n",
        "It is crucial that **your first line graph** contains the following features:\n",
        "1. The X-axis should be labelled \"Time of Day\", is of type datetime and ranges from 00:00 (midnight) to 23:00 (11 pm)\n",
        "2. The Y-axis should be labelled \"# of Rides\".\n",
        "3. There should be a title called \"# of Rides for each Time of Day\"\n",
        "4. There are 7 lines for each day of the week, clearly labeled and differentiated, **containing markers**.\n",
        "5. Again, must be completed using Seaborn (sns)\n"
      ],
      "metadata": {
        "id": "3uz28_FeVYnK"
      }
    },
    {
      "cell_type": "code",
      "source": [
        "# First Plot:\n",
        "\n",
        "# For this plot, create a dataframe that does not the duration column\n",
        "plot1_df = new_df[['trip_id', 'Time of Day', 'Day']]\n",
        "\n",
        "\n",
        "\n",
        "# Now, alter this dataframe to have 3 columns, IN THIS ORDER:\n",
        "# 'day', 'Time of Day', 'Count'. Count will keep track of how many rides occured \n",
        "# during the particular hour of that day. Using Pandas for aggregation is strongly recommended.\n",
        "count = plot1_df['Time of Day'].value_counts()\n",
        "plot1_df['Number of Rides'] = plot1_df['Time of Day'].map(count)\n",
        "\n",
        "\n",
        "\n",
        "# Now you have everything you need to create and display a line graph that\n",
        "# meets all the necessary criteria.\n",
        "\n",
        "\n",
        "sns.lineplot(data=plot1_df, x='Time of Day', y='Number of Rides', hue='Day',marker= 'o')"
      ],
      "metadata": {
        "id": "ydXhm8lCS3yV",
        "colab": {
          "base_uri": "https://localhost:8080/",
          "height": 296
        },
        "outputId": "770e5fb1-38d1-4af5-fbbe-5ed73f906601"
      },
      "execution_count": 484,
      "outputs": [
        {
          "output_type": "execute_result",
          "data": {
            "text/plain": [
              "<matplotlib.axes._subplots.AxesSubplot at 0x7f2c583c2610>"
            ]
          },
          "metadata": {},
          "execution_count": 484
        },
        {
          "output_type": "display_data",
          "data": {
            "text/plain": [
              "<Figure size 432x288 with 1 Axes>"
            ],
            "image/png": "[encoded data removed]"
          },
          "metadata": {
            "needs_background": "light"
          }
        }
      ]
    },
    {
      "cell_type": "markdown",
      "source": [
        "Very interesting. Now for the second line plot, you will be visualizing the average duration of a ride that occurs during each hour of the day, for all 7 days. \n",
        "\n",
        "As a reminder, **your second line graph** should contain the following features:\n",
        "1. The X-axis should be the same as last time\n",
        "2. The Y-axis should be labelled \"Average Duration\".\n",
        "3. There should be a title called \"Average Duration of an Indego Bike Ride for each Time of Day\"\n",
        "4. There are 7 lines for each of the 7 days"
      ],
      "metadata": {
        "id": "CJKpjLkUp5B0"
      }
    },
    {
      "cell_type": "code",
      "source": [
        "# Second Plot:\n",
        "\n",
        "# For this plot, create a dataframe that does not the trip_id column\n",
        "plot2_df =  new_df[['Time of Day', 'duration','Day']]\n",
        "average = plot2_df.groupby(by = 'Time of Day')['duration'].mean()\n",
        "plot2_df['Average Duration'] = plot2_df['Time of Day'].map(average)\n",
        "\n",
        "\n",
        "\n",
        "# Now, alter this dataframe to have 3 columns, IN THIS ORDER:\n",
        "# 'day', 'Time of Day', 'Average Duration'. Average Duration is the mean duration time\n",
        "# for the particular hour of that day. \n",
        "\n",
        "plot2_df\n",
        "# Now just plot the graph\n",
        "sns.lineplot(data=plot2_df, x='Time of Day', y='Average Duration', hue='Day',marker= 'o')"
      ],
      "metadata": {
        "id": "GzP5j9KCS3yW",
        "colab": {
          "base_uri": "https://localhost:8080/",
          "height": 296
        },
        "outputId": "9c63e681-6ad9-4985-c09a-716dbc479167"
      },
      "execution_count": 506,
      "outputs": [
        {
          "output_type": "execute_result",
          "data": {
            "text/plain": [
              "<matplotlib.axes._subplots.AxesSubplot at 0x7f2c57b07070>"
            ]
          },
          "metadata": {},
          "execution_count": 506
        },
        {
          "output_type": "display_data",
          "data": {
            "text/plain": [
              "<Figure size 432x288 with 1 Axes>"
            ],
            "image/png": "[encoded data removed]"
          },
          "metadata": {
            "needs_background": "light"
          }
        }
      ]
    },
    {
      "cell_type": "markdown",
      "source": [
        "## Part 4: Working with Text Data [9 points]\n",
        "\n",
        "Now, let's switch gears and try to text-based analysis. Textual data is complex, but can also be used to generate extremely interpretable results, making it both valuable and interesting. \n",
        "\n",
        "Throughout this section, we will attempt to answer the following question:\n",
        "\n",
        "**According to the `reviews_df` dataframe, what do the reviews for some of the most popular restaurants in Philadelphia look like?**"
      ],
      "metadata": {
        "id": "rC5YZxulS3yX"
      }
    },
    {
      "cell_type": "markdown",
      "source": [
        "###4.1 Tokenizing the text [2 points]\n",
        "\n",
        "We are going to split the contents of the `reviews` column from `reviews_df` into a list of words. We will use the **nltk** library, which contains an extensive set of tools for text processing. Now, this homework would be interminably long if we went into all the details of nltk. Thus, we are only going to use the following components of the library:\n",
        "- `nltk.word_tokenize()`: a function used to tokenize text\n",
        "- `nltk.corpus.stopwords`: a list of commonly used words such as \"a\", \"an\",\"in\" that are often ignored in text analysis\n",
        "\n",
        "Note that for this question, we didn't have to clean the text data first as our original dataset was well-formatted. However, in practice, we would typically clean the text first using regular expressions (regex). Keep this in mind as you work on the project later on in the semester.\n",
        "\n",
        "**TODO:** Perform the following tasks:\n",
        "- Use **nltk.corpus.stopwords** to create a set containing the most common English stopwords.\n",
        "- Implement the function **tokenized_content(content)**, which takes in a string and does the following:\n",
        "1. Tokenize the text\n",
        "2. Keep tokens that only contain alphabetic characters (i.e. tokens with no punctuation)\n",
        "3. Convert each token to lowercase\n",
        "4. Remove stopwords (commonly used words such as \"a\", \"an\", \"in\")\n"
      ],
      "metadata": {
        "id": "6LRZiK9YS3yX"
      }
    },
    {
      "cell_type": "code",
      "source": [
        "# We've imported the nltk library and created the stopwords set for you\n",
        "import nltk\n",
        "from nltk.corpus import stopwords\n",
        "nltk.download('stopwords')\n",
        "stopwords = set(stopwords.words('english'))"
      ],
      "metadata": {
        "id": "MTeCg9ggS3yX",
        "colab": {
          "base_uri": "https://localhost:8080/"
        },
        "outputId": "99af797c-83e7-48e9-caa6-944efb8b30b5"
      },
      "execution_count": 523,
      "outputs": [
        {
          "output_type": "stream",
          "name": "stderr",
          "text": [
            "[nltk_data] Downloading package stopwords to /root/nltk_data...\n",
            "[nltk_data]   Package stopwords is already up-to-date!\n"
          ]
        }
      ]
    },
    {
      "cell_type": "code",
      "source": [
        "# TODO: tokenize and flatten \n",
        "# (create a tokenized_content function that performs the steps listed above)\n",
        "\n",
        "def tokenized_content(content):\n",
        "  cleanWords = []\n",
        "  words = nltk.word_tokenize(content)\n",
        "  words = [word.lower() for word in words if word.isalpha()]\n",
        "\n",
        "  for word in words:\n",
        "    if word not in stopwords:\n",
        "      cleanWords.append(word)\n",
        "  return cleanWords\n"
      ],
      "metadata": {
        "id": "VrCQn9XkS3yY"
      },
      "execution_count": 544,
      "outputs": []
    },
    {
      "cell_type": "markdown",
      "source": [
        " **TODO**: Now perform the following tasks: \n",
        "- We are interested in reviews for the **most reviewed** restaurant in `reviews_df`. Using Counter() to find this restaurant is recommended. Store the name of the restaurant in the `most_reviewed_restaurant` variable, and use it to create `restaurant_reviews_df`, a subset of `reviews_df` only containing instances from the restaurant in question\n",
        "- From there, extract the `review` column of `reviews_df` as a list called `reviews`. \n",
        "- Apply your `tokenize_content()` function to each item in the list `reviews`. Call the resultant list `top_tokens_list`. \n",
        "- Flatten the list `top_tokens_list`, and call the resultant list `top_tokens`. The autograder will be examining the contents of this list. (Flatten using list comprehension)\n",
        "\n",
        "For futher assistance, here is the documentation for Counter() objects: \n",
        "\n",
        "https://docs.python.org/2/library/collections.html#counter-objects"
      ],
      "metadata": {
        "id": "kSFZfxDXS3yY"
      }
    },
    {
      "cell_type": "code",
      "source": [
        "from nltk.inference.resolution import most_general_unification\n",
        "from collections import Counter\n",
        "# TODO: find the most reviewed restaurant, use that to make restaurant_reviews_df,\n",
        "#       extract the reviews, use your function to make the token list, and flatten it\n",
        "\n",
        "most_reviewed_restaurant = Counter(reviews_df['restaurant']).most_common()[0][0]\n",
        "restaurant_reviews_df = reviews_df[reviews_df['restaurant'] == most_reviewed_restaurant]\n",
        "\n",
        "reviews = reviews_df['review'].to_list()\n",
        "top_tokens_list = [tokenized_content(i) for i in reviews]\n",
        "top_tokens =  [token for i in top_tokens_list for token in i]\n",
        "print(len(top_tokens))\n"
      ],
      "metadata": {
        "id": "_b-JZ1I5S3yZ",
        "colab": {
          "base_uri": "https://localhost:8080/"
        },
        "outputId": "091694e9-d8dd-4b06-9d62-c1f577b237ac"
      },
      "execution_count": 545,
      "outputs": [
        {
          "output_type": "stream",
          "name": "stdout",
          "text": [
            "240\n"
          ]
        }
      ]
    },
    {
      "cell_type": "code",
      "source": [
        "# 2 points\n",
        "grader.grade(test_case_id = 'test_top_tokens', answer = top_tokens)"
      ],
      "metadata": {
        "id": "8Dc2ogf8S3yZ",
        "colab": {
          "base_uri": "https://localhost:8080/"
        },
        "outputId": "219edb86-ecbe-4a25-eb33-32ebb72e8acf"
      },
      "execution_count": 546,
      "outputs": [
        {
          "output_type": "stream",
          "name": "stdout",
          "text": [
            "You earned 0/2 points.\n",
            "\n",
            "But, don't worry you can re-submit and we will keep only your latest score.\n"
          ]
        }
      ]
    },
    {
      "cell_type": "markdown",
      "source": [
        "\n",
        "### 4.2 Most Frequent Words [2 points]\n",
        "**TODO**: Now, find the 10 most common words amongst the content of `top_tokens`. Return this as a list of `(word, count)` tuples, in descending order of `count`. Store this variable in `top_ten_words`\n",
        "\n",
        "**Hint**: We again recommend using `Counter` in this question."
      ],
      "metadata": {
        "id": "GEwk7DbrS3yZ"
      }
    },
    {
      "cell_type": "code",
      "source": [
        "# TODO: From top_tokens, find the ten most frequent words\n",
        "top_ten_words = Counter(top_tokens).most_common(10)"
      ],
      "metadata": {
        "id": "GFd9R1wyS3yZ"
      },
      "execution_count": 547,
      "outputs": []
    },
    {
      "cell_type": "code",
      "source": [
        "# 2 points\n",
        "grader.grade(test_case_id = 'test_top_most_common', answer = top_ten_words)"
      ],
      "metadata": {
        "id": "Wd_RRFloS3ya",
        "colab": {
          "base_uri": "https://localhost:8080/"
        },
        "outputId": "6c182200-8385-4522-8ab9-7aa6241df9f0"
      },
      "execution_count": 548,
      "outputs": [
        {
          "output_type": "stream",
          "name": "stdout",
          "text": [
            "You earned 0/2 points.\n",
            "\n",
            "But, don't worry you can re-submit and we will keep only your latest score.\n"
          ]
        }
      ]
    },
    {
      "cell_type": "markdown",
      "source": [
        "### 4.3 Word Clouds [5 points]\n",
        "\n",
        "Before we move on from this dataset, let's visualize our results using a word cloud.\n",
        "\n",
        "**TODO**: Create a word cloud containing all the words in the list `top_tokens` (created in part 4.1). [The WordCloud documentation](https://amueller.github.io/word_cloud/generated/wordcloud.WordCloud.html) contains instructions on how to do this. \n",
        "\n",
        "*Please make sure your wordcloud has a **lavender** background color.*\n",
        "\n",
        "We will be going through your notebooks and **manually grading** your word cloud. This is worth 5 points. "
      ],
      "metadata": {
        "id": "vr94cNcdS3ya"
      }
    },
    {
      "cell_type": "code",
      "source": [
        "# TODO: generate your word cloud, making sure it meets the requirements above\n",
        "from wordcloud import WordCloud\n",
        "import matplotlib.pyplot as plt\n",
        "\n",
        "cloud_words = ' '.join(top_tokens)\n",
        "wordcloud = WordCloud(background_color='lavender').generate(cloud_words)\n",
        "plt.imshow(wordcloud)\n"
      ],
      "metadata": {
        "id": "gzM1RmhxS3ya",
        "colab": {
          "base_uri": "https://localhost:8080/",
          "height": 236
        },
        "outputId": "a7024666-f8b5-4e89-ece8-748542ffaaa0"
      },
      "execution_count": 549,
      "outputs": [
        {
          "output_type": "execute_result",
          "data": {
            "text/plain": [
              "<matplotlib.image.AxesImage at 0x7f2c57f49400>"
            ]
          },
          "metadata": {},
          "execution_count": 549
        },
        {
          "output_type": "display_data",
          "data": {
            "text/plain": [
              "<Figure size 432x288 with 1 Axes>"
            ],
            "image/png": "[encoded data removed]"
          },
          "metadata": {
            "needs_background": "light"
          }
        }
      ]
    },
    {
      "cell_type": "markdown",
      "metadata": {
        "id": "UcrcDEJNlrN0"
      },
      "source": [
        "# HW Submission\n",
        "\n",
        "<br>\n",
        "<center><img src = \"https://i.imgflip.com/79knab.jpg\" width= \"500\" align =\"center\"/></center>\n",
        "<br>\n",
        "\n",
        "Congratulations on finishing this homework! The good news is that similar to HW1, you basically know your score when you submit to Gradescope. \n",
        "However, this time, we will be manually grading your lineplots and wordclouds, so the autograder score is not final! Remember that we will also be checking for plagiarism, so please make sure to cite your sources (if any) by commenting the urls / links you looked at.\n",
        "\n",
        "Before you submit on Gradescope (you must submit your notebook to receive credit):\n",
        "\n",
        "1.   Please rerun your notebook on Colab by clicking \"Restart and Run-All\", and make sure there is nothing wrong with your notebook.\n",
        "2.   **Double check that you have the correct PennID (all numbers) saved in the autograder**. \n",
        "3. Make sure you've run all the PennGrader cells and have received a score.\n",
        "4. Go to the \"File\" tab at the top left, and click \"Download .ipynb\" + \"Download .py\". Please name the `.ipynb` and `.py` files **\"homework2.ipynb\"** and **\"homework2.py\"** respectively. Then, upload both the `.py` and `.ipynb` files to Gradescope. \n",
        "\n",
        "###Be sure to name your files correctly!!!\n",
        "\n",
        "**Please let the course staff know ASAP if you have any issues submitting.**"
      ]
    }
  ],
  "metadata": {
    "colab": {
      "provenance": [],
      "toc_visible": true
    },
    "kernelspec": {
      "display_name": "Python 3",
      "name": "python3"
    },
    "language_info": {
      "name": "python"
    }
  },
  "nbformat": 4,
  "nbformat_minor": 0
}