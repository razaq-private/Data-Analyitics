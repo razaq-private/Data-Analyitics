{
  "cells": [
    {
      "cell_type": "markdown",
      "metadata": {
        "id": "gpEx-Jd1pYlP"
      },
      "source": [
        "# CIS 545 Homework 5: Deep Learning with Pytorch\n",
        "\n",
        "### Due Tuesday, April 18, 2023 10:00 PM EST\n",
        "\n",
        "Welcome to CIS 545 Homework 5! \n",
        "\n",
        "In this homework, we will learn more about the 'new electricity' - Deep Learning (I didn't coin this, Andrew Ng did) ! There are many cool frameworks for building deep learning models - PyTorch, Tensorflow, Theano, MxNet. Since you will be working with Big Data in this course, you need a framework that scales well. Almost all of these have a multi-gpu support built in. In this assignment, we will be building neural networks in PyTorch to solve an interesting problem.\n",
        "\n",
        "Deep learning or neural network architectures have been used to solve a multitude of problems in various different fields like vision, natural language processing. So let's take a 'deep' dive into it.\n",
        "\n",
        "\n",
        "![alt text](http://4.bp.blogspot.com/-sLgBLS3bJO8/U__Kx6PnkRI/AAAAAAAAAWM/Gz3cL5jiwTo/s320/godeeper.jpg)\n",
        "\n",
        "\n",
        "\n"
      ]
    },
    {
      "cell_type": "markdown",
      "metadata": {
        "id": "lhSzWDvPp030"
      },
      "source": [
        "## Why deep learning? \n",
        "\n",
        "\n",
        "*   It's coooool\n",
        "*   Everyone is talking about is these days, people like Siraj Raval can teach it in 5 mins (Check out his [YouTube channel](https://www.youtube.com/channel/UCWN3xxRkmTPmbKwht9FuE5A) for some comedy)\n",
        "*    Deep learning unlocks the treasure trove of unstructured big data for those with the imagination to use it\n",
        "*   Deep learning models have great representational power and are 'universal approximators'\n",
        "\n",
        "\n",
        "### Deep Learning Applications:\n",
        "\n",
        "\n",
        "Deep learning has significantly improved voice command systems (such as Siri and Alexa), as well as healthcare and image identification.\n",
        "\n",
        "Deep learning has applications across numerous industries, which is why experts think that this technology is the future of almost everything. There are truly deep learning technologies such as Google’s very human-like talking AI, a new theory that cracks the 'black box' of deep learning, and various budding ideas like this one about why human forgetting might be the key to AI. Here are some cool applications of deep learning - \n",
        "\n",
        "Here's a neural network detecting anomalies in Chest Xrays :\n",
        "\n",
        "\n",
        "\n",
        "\n",
        "![alt text](https://imgur.com/HKPzrzP.jpg)\n",
        "\n",
        "Most humans can't tell that this is a case of Pleural Effusion {sounds like medical jargon to engineers like us} but this Neural Network model can detect it very well!\n",
        "\n",
        "Mask RCNNs in action for detecting objects on the road aiding a self driving vehicle's driving: \n",
        "<div>\n",
        "<img src=\"https://miro.medium.com/max/3864/1*O4wsvh0CHWjP6IrK9HI_Zg.png\", width=\"800\"/>\n",
        "</div>\n",
        "\n",
        "Pretty cool, right? We will be applying CNNs to solve a cool image classification problem.\n"
      ]
    },
    {
      "cell_type": "markdown",
      "metadata": {
        "id": "ywLp-5aPgkjm"
      },
      "source": [
        "# Libraries and Setup Jargon (Total: 1 point)\n",
        "Run the following cells to set up the notebook.\n"
      ]
    },
    {
      "cell_type": "markdown",
      "metadata": {
        "id": "nNx7mL19gsHV"
      },
      "source": [
        "Please make sure you enter your **8 digit Penn ID** in the  student ID field below."
      ]
    },
    {
      "cell_type": "code",
      "execution_count": 1,
      "metadata": {
        "id": "OtjibtD4lvxZ"
      },
      "outputs": [],
      "source": [
        "%%capture\n",
        "!pip install -i https://test.pypi.org/simple/ penn-grader==0.5.0\n",
        "from penngrader.grader import *\n",
        "\n",
        "#PLEASE ENSURE YOUR PENN-ID IS ENTERED CORRECTLY. IF NOT, THE AUTOGRADER WON'T KNOW WHO \n",
        "#TO ASSIGN POINTS TO YOU IN OUR BACKEND\n",
        "\n",
        "STUDENT_ID = 30808116       # YOUR PENN-ID GOES HERE AS AN INTEGER"
      ]
    },
    {
      "cell_type": "code",
      "execution_count": 2,
      "metadata": {
        "colab": {
          "base_uri": "https://localhost:8080/"
        },
        "id": "LsfyTveqgxss",
        "outputId": "3aca19ac-4018-4b5b-b354-498e93daaf40"
      },
      "outputs": [
        {
          "output_type": "stream",
          "name": "stdout",
          "text": [
            "Writing config.yaml\n"
          ]
        }
      ],
      "source": [
        "%%writefile config.yaml\n",
        "grader_api_url: 'https://wyv616tp17.execute-api.us-east-1.amazonaws.com/default/Grader'\n",
        "grader_api_key: 'Kd32fl3g3p917iM0zwjiO23Bitj4PO9ga4LektOa'"
      ]
    },
    {
      "cell_type": "code",
      "execution_count": 3,
      "metadata": {
        "id": "YQaH_xAag0BG",
        "colab": {
          "base_uri": "https://localhost:8080/"
        },
        "outputId": "7356a419-127b-461e-ab16-d98012a4438f"
      },
      "outputs": [
        {
          "output_type": "stream",
          "name": "stdout",
          "text": [
            "PennGrader initialized with Student ID: 30808116\n",
            "\n",
            "Make sure this correct or we will not be able to store your grade\n"
          ]
        }
      ],
      "source": [
        "grader = PennGrader('config.yaml', 'CIS5450_23Sp_HW5', STUDENT_ID, STUDENT_ID)"
      ]
    },
    {
      "cell_type": "markdown",
      "metadata": {
        "id": "RY5BOTyRg4Qf"
      },
      "source": [
        "## Import the required Libraries"
      ]
    },
    {
      "cell_type": "code",
      "execution_count": 4,
      "metadata": {
        "id": "6diQ4Pfug3uw"
      },
      "outputs": [],
      "source": [
        "import pandas as pd\n",
        "import numpy as np\n",
        "import matplotlib.pyplot as plt\n",
        "import seaborn as sns\n",
        "from matplotlib import cm\n",
        "from sklearn.model_selection import train_test_split\n",
        "import torch\n",
        "import torchvision\n",
        "from torchvision import transforms, utils\n",
        "import torch.nn as nn\n",
        "import torch.optim as optim\n",
        "import torchvision.transforms as transforms\n",
        "from collections import Counter\n",
        "from PIL import Image\n",
        "from skimage import io, transform\n",
        "import os\n",
        "from torchvision.io import read_image\n",
        "from torch.utils.data import Dataset, DataLoader\n",
        "from collections import Counter\n",
        "from google.colab import drive"
      ]
    },
    {
      "cell_type": "markdown",
      "metadata": {
        "id": "xq7rZTSc0xoq"
      },
      "source": [
        "## Set up GPU capabilities (1 point)\n",
        "\n",
        "The cell below sets up a CUDA device to use with torch, if available to you.\n",
        "\n",
        "**Remeber to turn on the GPU for runtime in Colab**\n",
        "*   Go to Runtime -> Change runtime type --> GPU\n"
      ]
    },
    {
      "cell_type": "markdown",
      "metadata": {
        "id": "jUvWZZQE0xo8"
      },
      "source": [
        "Note that you can create a PyTorch tensor `T` that resides on the GPU using the command `T = torch.Tensor(..., device=cuda)`. \n",
        "You can also copy existing tensors to the GPU with the command `T = T.to(device)` (make sure to overwrite `T` with the result of this function call). If you do not have a GPU, these commands will still work.\n",
        "\n",
        "**NOTE**: The grader cell below is to check that you are using the GPU, since it is beneficial in later sections that require parallel computation on arrays (i.e., Section 2)."
      ]
    },
    {
      "cell_type": "code",
      "execution_count": 5,
      "metadata": {
        "id": "9Gvv3LVN0xo-",
        "colab": {
          "base_uri": "https://localhost:8080/"
        },
        "outputId": "1b024c9d-b101-4478-e5be-7d802e8f5e80"
      },
      "outputs": [
        {
          "output_type": "stream",
          "name": "stdout",
          "text": [
            "2.0.0+cu118\n",
            "cuda:0\n"
          ]
        }
      ],
      "source": [
        "# DO NOT MODIFY\n",
        "torch.manual_seed(42) # For grading consistency\n",
        "device = torch.device(\"cuda:0\" if torch.cuda.is_available() else \"cpu\")\n",
        "print(torch.__version__)\n",
        "print(device)"
      ]
    },
    {
      "cell_type": "code",
      "execution_count": 6,
      "metadata": {
        "id": "ZO8Hr0MIw_KK",
        "colab": {
          "base_uri": "https://localhost:8080/"
        },
        "outputId": "0adfee3e-a8f4-4df6-c4fc-d30e2c5c2984"
      },
      "outputs": [
        {
          "output_type": "execute_result",
          "data": {
            "text/plain": [
              "device(type='cuda', index=0)"
            ]
          },
          "metadata": {},
          "execution_count": 6
        }
      ],
      "source": [
        "device"
      ]
    },
    {
      "cell_type": "code",
      "execution_count": 7,
      "metadata": {
        "id": "scjhlNsVadIi",
        "colab": {
          "base_uri": "https://localhost:8080/"
        },
        "outputId": "6e1a718f-31e6-4e07-9ef6-065fdfaedacf"
      },
      "outputs": [
        {
          "output_type": "stream",
          "name": "stdout",
          "text": [
            "Correct! You earned 1/1 points. You are a star!\n",
            "\n",
            "Your submission has been successfully recorded in the gradebook.\n"
          ]
        }
      ],
      "source": [
        "# Grader Cell (1 points)\n",
        "grader.grade(test_case_id = 'device', answer = str(device))"
      ]
    },
    {
      "cell_type": "markdown",
      "metadata": {
        "id": "EnlOxnsy1TtK"
      },
      "source": [
        "# **Part 1:** Data Preprocessing and Preparation for Modeling in `PyTorch` (Total: 20 points)\n",
        "\n",
        "In this homework we will tackle the problem of classifying images.\n",
        "\n",
        "Specifically, we would be looking at the Modified National Institute of Standards and Technology database ([MNIST](https://en.wikipedia.org/wiki/MNIST_database)) dataset."
      ]
    },
    {
      "cell_type": "markdown",
      "metadata": {
        "id": "6Zn1Vfni1Tt8"
      },
      "source": [
        "<div>\n",
        "<img src=\"https://s2.loli.net/2023/03/26/GwFJhNeskzE5Ptx.webp\", width=\"800\"/>\n",
        "</div>\n",
        "\n",
        "Diagram Reference: [Link](https://en.wikipedia.org/wiki/MNIST_database)"
      ]
    },
    {
      "cell_type": "markdown",
      "metadata": {
        "id": "MLwaiP_v1Tt9"
      },
      "source": [
        "[MNIST](https://pytorch.org/vision/stable/generated/torchvision.datasets.MNIST.html) dataset consists of 60,000 28x28 grayscale images in 10 classes. \n",
        "\n",
        "There are 60,000 training images and 10,000 test images.\n",
        "\n",
        "While it is good to have as much training data as possible, in order to avoid having long training time and potentially running out of GPU, we will downsample and train the model with 30,000 training images and 5,000 testing images.\n",
        "\n",
        "\n",
        "We would be using this dataset to train 3 different models:\n",
        "\n",
        "1.   Logistic Regression\n",
        "2.   Feedforward (Fully-Connected) Neural Network\n",
        "3.   Convolutional Neural Network\n",
        "\n",
        "And analyze the difference between these models by looking at the test accuracy and loss.\n",
        "\n"
      ]
    },
    {
      "cell_type": "markdown",
      "metadata": {
        "id": "kXE0i7d8SHS2"
      },
      "source": [
        "## 1.1 Pytorch Dataset and DataLoader (Total: 10 points)\n",
        "\n",
        "To keep data loading consistent across different models, PyTorch provides two data primitives: `torch.utils.data.DataLoader` and `torch.utils.data.Dataset` that allow you to use pre-loaded datasets as well as your own data.\n",
        "\n",
        "`Dataset` stores the samples and their corresponding labels. And `DataLoader` wraps an iterable around the Dataset to enable easy access to the samples. More information and examples of the objects in action can be found **[here](https://pytorch.org/tutorials/beginner/basics/data_tutorial.html)**\n",
        "\n",
        "While Pytorch provides `Dataset` and `Dataloader` for some popular datasets (i.e., one can instantiate the objects and the data is ready to be analyzed in PyTorch Machine Learning pipeline), sometimes we need to define our own custom `Dataset` to process our dataset. The list of available built-in datasets PyTorch gave us can be found **[here](https://pytorch.org/vision/stable/datasets.html)**\n",
        "\n",
        "<div>\n",
        "<img src=\"https://s2.loli.net/2023/03/30/yxbP8gXCroO1Y7c.png\", width=\"800\"/>\n",
        "</div>\n",
        "\n",
        "Diagram Reference: [Link](https://www.kaggle.com/code/uvxy1234/cifar-10-implementation-with-pytorch)"
      ]
    },
    {
      "cell_type": "markdown",
      "metadata": {
        "id": "1B8ars4-SHS6"
      },
      "source": [
        "Dataset class is defined with 3 components:\n",
        "\n",
        "1.   __init__ : setting up the parameters being used in the class (e.g., `transforms` which corresponds to the transformation being applied)\n",
        "2.   __len__ : so that len(dataset) returns the size of the dataset.\n",
        "3.   __getitem__ to support the indexing such that `dataset[i]` can be used to get `i`ith sample (in our case Image, label pair).\n",
        "\n",
        "To create a custom Dataset object, you would need overide above functions.\n",
        "\n",
        "Documentation for creating custom dataset can be found [here](https://pytorch.org/tutorials/beginner/data_loading_tutorial.html).\n",
        "\n",
        "Luckily, as MNIST is a classic image dataset, we do not need to worry about creating custom `Dataset` and `DataLoader` objects since they are all built into the PyTorch when you import that above.\n",
        "\n",
        "Complete the missing code in the two sections below.\n",
        "\n",
        "*   **1.1.1 Instantiate Train and Test Dataset.** $\\to$ Load and transform data such that it is ready to be passed into the model\n",
        "*   **1.1.2 Instantiate Train and Test Dataloader.** $\\to$ Put the data into the iterable such that the model is able to process data in batch from using `DataLoader`\n"
      ]
    },
    {
      "cell_type": "markdown",
      "metadata": {
        "id": "u_EYA1pQSHS7"
      },
      "source": [
        "### 1.1.1 Instantiate Dataset (for train/test dataset) (6 points)\n",
        "\n",
        "One optional function in Dataset class is `transform`, where we can apply a transformation to the dataset before we load them as a dataloader. \n",
        "\n",
        "For example if we define a `Resize` function in transform, all of our dataset(images) would be resized to specified size passed in as an argument.\n",
        "\n",
        "---\n",
        "**TODO**: complete the code to apply following transformations (in order!!) by using `transforms.Compose` and save it to the variable `transform`:\n",
        "\n",
        "1.   Resize the image to 28 by 28 $\\to$ just to make sure they are really have size $28$x$28$\n",
        "2.   Convert the images to Tensor\n",
        "3.   Rotate the image using `RandomRotation` with the range of rotation between $(-45°,45°)$\n",
        "4.   Add random perspective shift using `RandomPerspective` with the distortion of `0.3` to `50%` of the data. \n",
        "5.   Normalize the Tensor using mean value of `0.1307` and standard deviation value of `0.3081`\n",
        "---\n",
        "**NOTE**: We highly recommend looking at [PyTorch documentation](https://pytorch.org/vision/stable/transforms.html) and some [illustrations](https://pytorch.org/vision/stable/auto_examples/plot_transforms.html#sphx-glr-auto-examples-plot-transforms-py) before proceeding with the code\n",
        "\n",
        "Please review the the recitation notebook for detailed instructions on how to perform these operations. \n",
        "\n",
        "**FYI**: The values `0.1307` and `0.3081` are mean and standard deviation, respectively, of the MNIST dataset [Ref](https://discuss.pytorch.org/t/normalization-in-the-mnist-example/457/4)\n",
        "\n",
        "**NOTE**: Please store the distortion of image in the variable `distortion_scale` since it will be used as an input into the autograder."
      ]
    },
    {
      "cell_type": "code",
      "execution_count": 8,
      "metadata": {
        "id": "Y3mN0QNRSHS7"
      },
      "outputs": [],
      "source": [
        "scale = 28\n",
        "distortion_scale = 0.3\n",
        "# TODO\n",
        "transform = transforms.Compose([\n",
        "            transforms.Resize((scale,scale)),\n",
        "            transforms.ToTensor(),\n",
        "            transforms.RandomRotation((-45,45)),\n",
        "            transforms.RandomPerspective(distortion_scale = 0.3, p = 0.5),\n",
        "            transforms.Normalize((0.1307,), (0.3081,))\n",
        "])\n",
        "\n",
        "\n",
        "# TODO END"
      ]
    },
    {
      "cell_type": "markdown",
      "metadata": {
        "id": "5xky6_3jSHS7"
      },
      "source": [
        "Now that we have defined the tranforms we are going to apply to the dataset, let's instantiate `Dataset` objects for both the training and testing sets using predefined PyTorch Dataset. Refer to the documentation [here](https://pytorch.org/vision/stable/generated/torchvision.datasets.MNIST.html).\n",
        "\n",
        "In addition, since the whole dataset is pretty large for running the model, we will also be downsampling by reducing the size of the dataset by half.\n",
        "\n",
        "---\n",
        "**TODO**:\n",
        "* Initiate the `Dataset` object for the training set as `train_dataset`\n",
        "* Downsample training by getting the train data at even-numbered indices, specified as `train_subset`\n",
        "* Initiate the `Dataset` object for the testing set as `test_dataset`\n",
        "* Downsample testing by getting the test data at even-numbered indices, specified as `test_subset`\n",
        "---\n",
        "\n",
        "**Hint**: Check out [`torch.utils.data.Subset`](https://pytorch.org/docs/stable/data.html#torch.utils.data.Subset) for downsampling the dataset.\n",
        "\n",
        "**Note**: When initiating the `Dataset` object for both training and testing sets, in addition to other arguments please set these arguments as follows:\n",
        "* `root = './data'`\n",
        "* `download = True`"
      ]
    },
    {
      "cell_type": "code",
      "execution_count": 9,
      "metadata": {
        "id": "mp6MJPMySHS8",
        "colab": {
          "base_uri": "https://localhost:8080/"
        },
        "outputId": "9d95ce03-6b09-4b12-e0f4-a9dfc024db21"
      },
      "outputs": [
        {
          "output_type": "stream",
          "name": "stdout",
          "text": [
            "Downloading http://yann.lecun.com/exdb/mnist/train-images-idx3-ubyte.gz\n",
            "Downloading http://yann.lecun.com/exdb/mnist/train-images-idx3-ubyte.gz to ./data/MNIST/raw/train-images-idx3-ubyte.gz\n"
          ]
        },
        {
          "output_type": "stream",
          "name": "stderr",
          "text": [
            "100%|██████████| 9912422/9912422 [00:00<00:00, 250214920.83it/s]"
          ]
        },
        {
          "output_type": "stream",
          "name": "stdout",
          "text": [
            "Extracting ./data/MNIST/raw/train-images-idx3-ubyte.gz to ./data/MNIST/raw\n"
          ]
        },
        {
          "output_type": "stream",
          "name": "stderr",
          "text": [
            "\n"
          ]
        },
        {
          "output_type": "stream",
          "name": "stdout",
          "text": [
            "\n",
            "Downloading http://yann.lecun.com/exdb/mnist/train-labels-idx1-ubyte.gz\n",
            "Downloading http://yann.lecun.com/exdb/mnist/train-labels-idx1-ubyte.gz to ./data/MNIST/raw/train-labels-idx1-ubyte.gz\n"
          ]
        },
        {
          "output_type": "stream",
          "name": "stderr",
          "text": [
            "100%|██████████| 28881/28881 [00:00<00:00, 90063712.88it/s]\n"
          ]
        },
        {
          "output_type": "stream",
          "name": "stdout",
          "text": [
            "Extracting ./data/MNIST/raw/train-labels-idx1-ubyte.gz to ./data/MNIST/raw\n",
            "\n",
            "Downloading http://yann.lecun.com/exdb/mnist/t10k-images-idx3-ubyte.gz\n",
            "Downloading http://yann.lecun.com/exdb/mnist/t10k-images-idx3-ubyte.gz to ./data/MNIST/raw/t10k-images-idx3-ubyte.gz\n"
          ]
        },
        {
          "output_type": "stream",
          "name": "stderr",
          "text": [
            "100%|██████████| 1648877/1648877 [00:00<00:00, 65074206.05it/s]"
          ]
        },
        {
          "output_type": "stream",
          "name": "stdout",
          "text": [
            "Extracting ./data/MNIST/raw/t10k-images-idx3-ubyte.gz to ./data/MNIST/raw\n",
            "\n",
            "Downloading http://yann.lecun.com/exdb/mnist/t10k-labels-idx1-ubyte.gz\n"
          ]
        },
        {
          "output_type": "stream",
          "name": "stderr",
          "text": [
            "\n"
          ]
        },
        {
          "output_type": "stream",
          "name": "stdout",
          "text": [
            "Downloading http://yann.lecun.com/exdb/mnist/t10k-labels-idx1-ubyte.gz to ./data/MNIST/raw/t10k-labels-idx1-ubyte.gz\n"
          ]
        },
        {
          "output_type": "stream",
          "name": "stderr",
          "text": [
            "100%|██████████| 4542/4542 [00:00<00:00, 19479068.27it/s]\n"
          ]
        },
        {
          "output_type": "stream",
          "name": "stdout",
          "text": [
            "Extracting ./data/MNIST/raw/t10k-labels-idx1-ubyte.gz to ./data/MNIST/raw\n",
            "\n"
          ]
        }
      ],
      "source": [
        "import torch.utils.data as data\n",
        "# TODO\n",
        "train_dataset = torchvision.datasets.MNIST(root='./data', train=True, download=True, transform=transform)\n",
        "train_subset = data.Subset(train_dataset, range(0, len(train_dataset), 2))\n",
        "\n",
        "# Define the testing set with downsampling\n",
        "test_dataset = torchvision.datasets.MNIST(root='./data', train=False, download=True, transform=transform)\n",
        "test_subset = data.Subset(test_dataset, range(0, len(test_dataset), 2))\n",
        "# TODO END"
      ]
    },
    {
      "cell_type": "markdown",
      "source": [
        "**NOTE**: Please do not forget to store the distortion of image in the variable `distortion_scale`."
      ],
      "metadata": {
        "id": "N2rftZmpdMK0"
      }
    },
    {
      "cell_type": "code",
      "execution_count": 10,
      "metadata": {
        "id": "-wu9vZX8SHS8",
        "colab": {
          "base_uri": "https://localhost:8080/"
        },
        "outputId": "fa46420d-447f-4456-8506-8565bc8641f3"
      },
      "outputs": [
        {
          "output_type": "stream",
          "name": "stdout",
          "text": [
            "Correct! You earned 6/6 points. You are a star!\n",
            "\n",
            "Your submission has been successfully recorded in the gradebook.\n"
          ]
        }
      ],
      "source": [
        "#Grader Cell (6 points)\n",
        "transforms_train = []\n",
        "for i in range(len(train_dataset.transform.transforms)):\n",
        "  transforms_train.append(str(train_dataset.transform.transforms[i]))\n",
        "transforms_test = []\n",
        "for i in range(len(test_dataset.transform.transforms)):\n",
        "  transforms_test.append(str(test_dataset.transform.transforms[i]))\n",
        "grader.grade(test_case_id = 'instantiate_dataset', answer = (transforms_train, transforms_test, len(train_subset), len(test_subset), distortion_scale))"
      ]
    },
    {
      "cell_type": "markdown",
      "metadata": {
        "id": "9St9G6QalnXV"
      },
      "source": [
        "**Hint:** For the above grader cell, part of the criterias we are checking is if the **transform** object is set up correctly."
      ]
    },
    {
      "cell_type": "markdown",
      "metadata": {
        "id": "xMB-Cy3TSHS8"
      },
      "source": [
        "### 1.1.2 Dataloader - Train / Test (4 points)\n",
        "\n",
        "Now that we have `trainDataset` and `testDataset`, let's create dataloaders using these two datasets.\n",
        "\n",
        "You can load the dataset into dataloaders using the `DataLoaders` object. Please refer to the documentation [here](https://pytorch.org/docs/stable/data.html#torch.utils.data.DataLoader). \n",
        " \n",
        "---\n",
        "**TODO**:\n",
        "* Initialize the `DataLoader` object for `train_subset` as `train_loader`\n",
        "* Initialize the `DataLoader` object for `test_subset` as `test_loader`\n",
        "---\n",
        "\n",
        "**NOTE**: set the `batch_size` equal to the previously-defined variable `batch`, set `shuffle` to `True`, and `num_workers` as 0.\n"
      ]
    },
    {
      "cell_type": "code",
      "execution_count": 11,
      "metadata": {
        "id": "TOzRzIRwSHS9"
      },
      "outputs": [],
      "source": [
        "batch = 64\n",
        "# TODO\n",
        "train_loader = torch.utils.data.DataLoader(train_subset, batch_size=batch, shuffle=True, num_workers=0)\n",
        "test_loader = torch.utils.data.DataLoader(test_subset, batch_size=batch, shuffle=True, num_workers=0)\n",
        "\n",
        "# TODO END"
      ]
    },
    {
      "cell_type": "code",
      "execution_count": 12,
      "metadata": {
        "id": "l4xkncSeSHS9",
        "colab": {
          "base_uri": "https://localhost:8080/"
        },
        "outputId": "1b47019f-cdfb-4460-ee93-0f9d085e4e7f"
      },
      "outputs": [
        {
          "output_type": "stream",
          "name": "stdout",
          "text": [
            "Correct! You earned 4/4 points. You are a star!\n",
            "\n",
            "Your submission has been successfully recorded in the gradebook.\n"
          ]
        }
      ],
      "source": [
        "#Grader Cell (4 points)\n",
        "trainLoaderCheck = [getattr(train_loader, \"batch_size\"),\n",
        "                    str(type(train_loader)),\n",
        "                    len(getattr(train_loader, \"dataset\")),\n",
        "                    str(getattr(train_loader, \"sampler\")),\n",
        "                    getattr(train_loader, \"num_workers\")]\n",
        "testLoaderCheck = [getattr(test_loader, \"batch_size\"),\n",
        "                    str(type(test_loader)),\n",
        "                    len(getattr(test_loader, \"dataset\")),\n",
        "                    str(getattr(test_loader, \"sampler\")),\n",
        "                    getattr(test_loader, \"num_workers\")]\n",
        "grader.grade(test_case_id = 'check_dataloader', answer = (trainLoaderCheck, testLoaderCheck))"
      ]
    },
    {
      "cell_type": "markdown",
      "metadata": {
        "id": "i3Vub3boSNj-"
      },
      "source": [
        "## 1.2 Summarizing our Dataset (Total: 10 points)\n",
        "\n",
        "Getting a good sense of the dataset we are going to work on is always the first step you should take when implementing ML applications.\n",
        "\n",
        "In this section, we will be looking at the distribution of the dataset (e.g., how many instances belong to class with label `0`) and visualize what we are dealing with (i.e., plot out the sample images)"
      ]
    },
    {
      "cell_type": "markdown",
      "metadata": {
        "id": "1-FMAUdWSNj_"
      },
      "source": [
        "### 1.2.1 Looking at the distribution of labels (6 points)\n",
        "\n",
        "We can look at the distribution of labels by retrieving the labels of all possible instances of the subset of data pulled from `train_dataset` and `test_dataset` (i.e., `train_subset` and `test_subset`) for the training and testing data, respectively. We defined this in section `1.1.1`.\n",
        "\n",
        "---\n",
        "**TODO**\n",
        "* Train\n",
        "  * Get the number of unique labels in training dataset and save this quantity as the variable `train_num_labels`. \n",
        "  * Create a `DataLoader` called `train_loader_bar_plot` which takes as arguments the `train_subset`, with the following parameters:\n",
        "    * `batch_size` = length of the `train_subset`\n",
        "    * `shuffle = True`\n",
        "    * `num_workers = 0`\n",
        "  * Create a dictionary `train_subset_dict` that contains the labels as keys and the number of images inside the label as values. \n",
        "* Test\n",
        "  * Get the number of unique labels in testing dataset and save this quantity as the variable `test_num_labels`. \n",
        "  * Create a `DataLoader` called `test_loader_bar_plot` which takes as arguments the `test_subset`,  with the following parameters:\n",
        "    * `batch_size` = length of the `test_subset`\n",
        "    * `shuffle = True`\n",
        "    * `num_workers = 0`\n",
        "  * Create a dictionary `test_subset_dict` that contains the labels as keys and the number of images inside the label as values.\n",
        "---\n",
        "Please refer to **[this](https://pytorch.org/docs/stable/data.html#torch.utils.data.DataLoader)** for instantiating the `DataLoader`, which is similar to what we did in section `1.1.2`"
      ]
    },
    {
      "cell_type": "code",
      "execution_count": 61,
      "metadata": {
        "id": "L3Wo6ww4SNj_",
        "colab": {
          "base_uri": "https://localhost:8080/"
        },
        "outputId": "813c65ce-0a45-4bc3-ac8c-3d9b3377c929"
      },
      "outputs": [
        {
          "output_type": "stream",
          "name": "stdout",
          "text": [
            "{3: 2985, 6: 2994, 8: 2883, 4: 2958, 9: 3005, 0: 2819, 5: 2841, 1: 3370, 7: 3149, 2: 2996}\n"
          ]
        }
      ],
      "source": [
        "# TODO - TRAIN Data\n",
        "from collections import Counter\n",
        "# Use the original train dataset (with 60,000 images) object to obtain the number of label classes train data\n",
        "train_num_labels = len(Counter(train_dataset.targets.numpy()))\n",
        "train_loader_bar_plot = DataLoader(train_subset, batch_size=len(train_subset), shuffle=True, num_workers=0)\n",
        "\n",
        "# Creating dictionary for train dataset \n",
        "\n",
        "train_subset_dict = {}\n",
        "for image, label in train_loader_bar_plot: \n",
        "  train_subset_dict = dict(Counter(list(label.numpy())))\n",
        "# END TODO\n",
        "\n",
        "\n",
        "print(train_subset_dict)"
      ]
    },
    {
      "cell_type": "code",
      "execution_count": 62,
      "metadata": {
        "id": "iwFKDQBzSNkA",
        "colab": {
          "base_uri": "https://localhost:8080/"
        },
        "outputId": "e7d45fba-4221-4978-f392-60c5c7856ab0"
      },
      "outputs": [
        {
          "output_type": "stream",
          "name": "stdout",
          "text": [
            "{0: 451, 1: 591, 2: 501, 5: 458, 8: 466, 6: 499, 4: 480, 7: 519, 3: 511, 9: 524}\n"
          ]
        }
      ],
      "source": [
        "# TODO - TEST Data\n",
        "\n",
        "# Use the original test dataset (with 10,000 images) object to obtain the number of label classes in test data\n",
        "test_num_labels = len(Counter(test_dataset.targets.numpy()))\n",
        "test_loader_bar_plot = DataLoader(test_subset, batch_size=len(test_subset), shuffle=True, num_workers=0)\n",
        "\n",
        "# Creating dictionary for test dataset \n",
        "\n",
        "test_subset_dict = {}\n",
        "for image, label in test_loader_bar_plot: \n",
        "  test_subset_dict = dict(Counter(list(label.numpy())))\n",
        "# END TODO\n",
        "print(test_subset_dict)"
      ]
    },
    {
      "cell_type": "code",
      "execution_count": 63,
      "metadata": {
        "id": "kzUrOA8ESNkA",
        "colab": {
          "base_uri": "https://localhost:8080/"
        },
        "outputId": "cf00e9da-a853-4e05-d973-b0ed4d35e80a"
      },
      "outputs": [
        {
          "output_type": "stream",
          "name": "stdout",
          "text": [
            "Correct! You earned 6/6 points. You are a star!\n",
            "\n",
            "Your submission has been successfully recorded in the gradebook.\n"
          ]
        }
      ],
      "source": [
        "#Grader Cell (6 points)\n",
        "grader.grade(test_case_id = 'dataset_dict', answer = (train_num_labels, train_subset_dict, test_num_labels, test_subset_dict))"
      ]
    },
    {
      "cell_type": "markdown",
      "metadata": {
        "id": "9qy4qmuuSNkA"
      },
      "source": [
        "### 1.2.2 Visualize through bar charts (2 points - Manual Grading)\n",
        "\n",
        "Now we are going to visualize the distribution of labels using bar charts for both training and testing set which we store the distributions in their respective dictionary objects in section 1.2.1.\n",
        "\n",
        "---\n",
        "**TODO: You can use either `matplotlib` or `seaborn` for this section**\n",
        "* Create a barplot for the distributions of training labels using `train_subset_dict` with x-axis label as `Labels` and y-axis label as `Frequency`, and title as `Training set labels and corresponding frequencies`\n",
        "* Create a barplot for the distributions of testing labels using `test_subset_dict` with x-axis label as `Labels` and y-axis label as `Frequency`, and title as `Testing set labels and corresponding frequencies`\n",
        "* Add corresponding `labels` to the barplots (i.e., if label 1 has the count of 1200, \"1200\" should appear above the bar corresponding to label 1)\n",
        "-  To avoid \"File Too Large\" for submission, please set figure size to (8,6).\n",
        "---\n",
        "**NOTE**:\n",
        "\n",
        "* y-axis $\\to$ Number of data points\n",
        "* x-axis $\\to$ The integer value of the labels in the MNIST dataset "
      ]
    },
    {
      "cell_type": "code",
      "execution_count": 16,
      "metadata": {
        "id": "AyzzS8y9SNkA",
        "colab": {
          "base_uri": "https://localhost:8080/",
          "height": 490
        },
        "outputId": "b1881125-3786-4edd-af81-62cd9d23825e"
      },
      "outputs": [
        {
          "output_type": "execute_result",
          "data": {
            "text/plain": [
              "Text(0.5, 1.0, 'Number of Data Points per Unique Label')"
            ]
          },
          "metadata": {},
          "execution_count": 16
        },
        {
          "output_type": "display_data",
          "data": {
            "text/plain": [
              "<Figure size 640x480 with 1 Axes>"
            ],
            "image/png": "[encoded data removed]"
          },
          "metadata": {}
        }
      ],
      "source": [
        "# TODO: Create a barplot showing the distribution of the dataset\n",
        "# TRAIN Data\n",
        "\n",
        "plt.bar(train_subset_dict.keys(), train_subset_dict.values())\n",
        "plt.xlabel('Integer value of the labels in the MNIST dataset')\n",
        "plt.ylabel('Number of data points')\n",
        "plt.title('Number of Data Points per Unique Label')"
      ]
    },
    {
      "cell_type": "code",
      "execution_count": 17,
      "metadata": {
        "id": "L8pNTb0CSNkB",
        "colab": {
          "base_uri": "https://localhost:8080/",
          "height": 490
        },
        "outputId": "15611524-8a94-4c11-81db-fefe4afe1cc6"
      },
      "outputs": [
        {
          "output_type": "execute_result",
          "data": {
            "text/plain": [
              "Text(0.5, 1.0, 'Number of Data Points per Unique Label')"
            ]
          },
          "metadata": {},
          "execution_count": 17
        },
        {
          "output_type": "display_data",
          "data": {
            "text/plain": [
              "<Figure size 640x480 with 1 Axes>"
            ],
            "image/png": "[encoded data removed]"
          },
          "metadata": {}
        }
      ],
      "source": [
        "# TODO: Create a barplot showing the distribution of the dataset\n",
        "# TEST Data\n",
        "plt.bar(test_subset_dict.keys(), test_subset_dict.values())\n",
        "plt.xlabel('Integer value of the labels in the MNIST dataset')\n",
        "plt.ylabel('Number of data points')\n",
        "plt.title('Number of Data Points per Unique Label')"
      ]
    },
    {
      "cell_type": "markdown",
      "metadata": {
        "id": "xZsNFvUzSNkB"
      },
      "source": [
        "### 1.2.3 Visualize the Training Dataset! (2 points - Manual Grading)\n",
        "\n",
        "Since everything tends to make more sense when one could literally see it, we now ask you to visualize the images in the `train_dataset` given a fixed set of indices.\n",
        "\n",
        "---\n",
        "\n",
        "**TODO**\n",
        "* loop through the `train_dataset` using `sample_idxs` (the list of indices provided) using a for-loop\n",
        "* For each iteration of this for-loop:\n",
        "  * Plot the current image in grayscale from `train_dataset` indexed by current element in `sample_idxs` using matplotlib in a $2x3$ subplot tile\n",
        "  * Assign the title of each image to be their respective labels using `plt.title`\n",
        "  * Hide grid lines and axes labels\n",
        "  * To avoid \"File Too Large\" for submission, please set overall figure size to (8,4), not individual image.\n",
        "---\n",
        "**HINT**: use `enumerate` in for-loop initialization and apply the current loop number to the subplot\n",
        "\n",
        "**NOTE**: `train_dataset` can be indexed by `train_dataset[index]` and you should play around with the output format to get the image and labels\n",
        "\n"
      ]
    },
    {
      "cell_type": "code",
      "execution_count": 18,
      "metadata": {
        "id": "YiCn3XnXSNkB",
        "colab": {
          "base_uri": "https://localhost:8080/",
          "height": 367
        },
        "outputId": "6bbde944-79af-46b7-e0a3-2648454654f1"
      },
      "outputs": [
        {
          "output_type": "display_data",
          "data": {
            "text/plain": [
              "<Figure size 800x400 with 6 Axes>"
            ],
            "image/png": "[encoded data removed]"
          },
          "metadata": {}
        }
      ],
      "source": [
        "from sklearn.utils.validation import indexable\n",
        "torch.manual_seed(42)\n",
        "sample_idxs = [10, 300, 700, 2708, 5035, 8000] # DO NOT MODIFY\n",
        "\n",
        "# # TODO\n",
        "# loop through the length of tickers and keep track of index\n",
        "\n",
        "fig, ax = plt.subplots(2, 3, figsize=(8, 4))\n",
        "\n",
        "for i, idx in enumerate(sample_idxs):\n",
        "    \n",
        "    image, label = train_dataset[idx]\n",
        "    \n",
        "    ax[i//3, i%3].imshow(image.squeeze(), cmap='gray')\n",
        "    ax[i//3, i%3].set_title(label)\n",
        "    \n",
        "    plt.axis('off')\n",
        "    \n",
        "    ax[i//3, i%3].axis('off')\n",
        "    ax[i//3, i%3].grid(False)\n",
        "# END TODO"
      ]
    },
    {
      "cell_type": "markdown",
      "metadata": {
        "id": "efWfR1ZFvFGw"
      },
      "source": [
        "# **Part 2:** Classification Models (Total: 79)\n",
        "\n",
        "We now have the data needed to train a multi-class object classifier. We will start simple with a logistic regression classifier as a baseline for our performance, before we move onto more complex neural networks.\n",
        "\n",
        "In this case, we are looking at the remaining part in the pipeline which were grayed out before as follows:\n",
        "\n",
        "<div>\n",
        "<img src=\"https://s2.loli.net/2023/03/30/ZCBFQvkXuoJpI8K.png\", width = \"800\"/>\n",
        "</div>\n",
        "\n",
        "Diagram Reference: [Link](https://www.kaggle.com/code/uvxy1234/cifar-10-implementation-with-pytorch)"
      ]
    },
    {
      "cell_type": "markdown",
      "metadata": {
        "id": "GIytVVJbm3Ih"
      },
      "source": [
        "## 2.1 Logical Logistic Regression - Baseline (Total: 15 points)\n",
        "\n",
        "Let's first try solving this problem with a Logistic Regression classifier.\n",
        "\n",
        "We will define a logistic regression model in Pytorch and train it on our training set and evaluate the performance on the test set.\n",
        "\n",
        "Logistic regression can be modelled as a function that can take in any number of inputs and constrain the output to be between 0 and 1. This means we can think of Logistic Regression as a one-layer neural network without hidden layers with Sigmoid as an activation function.\n",
        "\n",
        "<div>\n",
        "<img src='https://i.stack.imgur.com/fKvva.png',width='600'/>\n",
        "</div>"
      ]
    },
    {
      "cell_type": "markdown",
      "metadata": {
        "id": "7MFlH2eL9NJ2"
      },
      "source": [
        "Diagram Reference: [Link](https://stats.stackexchange.com/questions/366707/a-logistic-regression-with-neural-network-mindset-vs-a-shallow-neural-network)"
      ]
    },
    {
      "cell_type": "markdown",
      "metadata": {
        "id": "5cVmxiP0m3In"
      },
      "source": [
        "### 2.1.1 Logistic Regression Model Architecture (5 points)\n",
        "\n",
        "We will define our first model in Pytorch. Read up about how to define and use layers in a Pytorch neural network [here](https://pytorch.org/tutorials/beginner/basics/buildmodel_tutorial.html). \n",
        "\n",
        "Our first model is a logistic regression model with the number of outputs equal to the number of classes in the model. Please implement the constructor for the `LogReg` class (the `__init__` function below) with the definition of the logistic regression model.\n",
        "\n",
        "When implementing this section, please think about what activation function would be most appropriate for logistic regression."
      ]
    },
    {
      "cell_type": "code",
      "execution_count": 19,
      "metadata": {
        "id": "8vIXliDkm3Io"
      },
      "outputs": [],
      "source": [
        "class LogReg(nn.Module):\n",
        "    def __init__(self):\n",
        "        super().__init__()\n",
        "        # TODO: initialize the neural network layers\n",
        "        self.linear = nn.Linear(in_features = scale*scale, out_features = 10)\n",
        "        self.sigmoid = nn.Sigmoid()\n",
        "        self.flatten = nn.Flatten()\n",
        "        # END TODO\n",
        "\n",
        "    def forward(self, x):\n",
        "        # TODO: implement the operations on input data\n",
        "        # Hint: think of the neural network architecture for logistic regression\n",
        "        outputs = self.flatten(x)\n",
        "        outputs = self.sigmoid(self.linear(outputs))    \n",
        "        # END TODO\n",
        "        return outputs"
      ]
    },
    {
      "cell_type": "markdown",
      "metadata": {
        "id": "Hd5MCDQtm3Ip"
      },
      "source": [
        "Let's print the model summary"
      ]
    },
    {
      "cell_type": "code",
      "execution_count": 20,
      "metadata": {
        "id": "BkIy0N4Wm3Iq",
        "colab": {
          "base_uri": "https://localhost:8080/"
        },
        "outputId": "a29761f2-dfb5-42a6-f607-8db4c58e332f"
      },
      "outputs": [
        {
          "output_type": "execute_result",
          "data": {
            "text/plain": [
              "LogReg(\n",
              "  (linear): Linear(in_features=784, out_features=10, bias=True)\n",
              "  (sigmoid): Sigmoid()\n",
              "  (flatten): Flatten(start_dim=1, end_dim=-1)\n",
              ")"
            ]
          },
          "metadata": {},
          "execution_count": 20
        }
      ],
      "source": [
        "LogReg()  "
      ]
    },
    {
      "cell_type": "code",
      "execution_count": 21,
      "metadata": {
        "id": "aDks46ZVm3Ir",
        "colab": {
          "base_uri": "https://localhost:8080/"
        },
        "outputId": "12e7c2d0-1c0b-4565-e23e-0da68cf12ffd"
      },
      "outputs": [
        {
          "output_type": "stream",
          "name": "stdout",
          "text": [
            "Correct! You earned 5/5 points. You are a star!\n",
            "\n",
            "Your submission has been successfully recorded in the gradebook.\n"
          ]
        }
      ],
      "source": [
        "#Grader Cell (5 points)\n",
        "grader.grade(test_case_id = 'logistic_regression_model', answer = str(LogReg()))"
      ]
    },
    {
      "cell_type": "markdown",
      "metadata": {
        "id": "PeRosrvOpGBj"
      },
      "source": [
        "**Notes:** Getting full credit for the above test case doesn't necessarily ensure that your model will perform well on the test dataset as it only evaluates the structure of your neural network.\n",
        "\n",
        "If you don't achieve complete credit for accuracy and loss on the test dataset, you may need to modify your architecture."
      ]
    },
    {
      "cell_type": "markdown",
      "metadata": {
        "id": "jesvQ9qBm3Ir"
      },
      "source": [
        "### 2.1.2 Training Logistic Regression Model (6 points)\n",
        "---\n",
        "**TODOs:**\n",
        "1.   Instantiate the Logistic regression to the variable `logreg`. Make sure to send this to the GPU device -- please consult the [Module 20 slides](https://docs.google.com/presentation/d/1pw9cFO30U_kI47JUZIW9COLAkM8BE8wr/edit?usp=sharing&ouid=115607071793138372214&rtpof=true&sd=true) for a primer on how to do this.\n",
        "\n",
        "2.   Set the loss criterion as `CrossEntropyLoss` (you can look up the documentation [here](https://pytorch.org/docs/stable/nn.html#loss-functions)). Note that softmax is already built into CrossEntropyLoss so if you use CrossEntropyLoss as the loss criterion, you don't need to add an additional softmax layer. \n",
        "\n",
        "3.   Fill in the missing parts in the training loop (see `#TODO` comments below)\n",
        "4.   Save the Training Accuracy for every epoch into the variable `acc_LIST_log`.\n",
        "5.   Save the Average Loss for every epoch into the variable `loss_LIST_log`.\n",
        "---\n",
        "We will use `train_loader` built in 1.1.2 to train logistic regression model.\n",
        "\n",
        "The optimizer is set as Adam -- **please do not modify the optimizer**.\n",
        "\n",
        "Hint: Remember to update the weights correctly by backpropagation, please zero out the gradients by calling `optimizer.zero_grad()` every time you call `backward()`.\n",
        "\n",
        "**Note: If the loss went up during the training, there is something wrong with the model, so you should check if the model is implemented correctly**\n",
        "\n",
        "Note: `acc_LIST_log` and `loss_LIST_log` should contain data of type float not tensor."
      ]
    },
    {
      "cell_type": "code",
      "execution_count": 22,
      "metadata": {
        "id": "tmdlh86xm3Ir",
        "colab": {
          "base_uri": "https://localhost:8080/"
        },
        "outputId": "94aa4c86-6feb-44ef-f8ba-46fe26f3c1d3"
      },
      "outputs": [
        {
          "output_type": "stream",
          "name": "stdout",
          "text": [
            "The loss for Epoch 0 is: 2.09885828581446, Accuracy = 45.74666666666667\n",
            "The loss for Epoch 1 is: 1.9462355848060233, Accuracy = 59.263333333333335\n",
            "The loss for Epoch 2 is: 1.8939586018702623, Accuracy = 61.27\n",
            "The loss for Epoch 3 is: 1.866617905814002, Accuracy = 62.5\n",
            "The loss for Epoch 4 is: 1.8502502809963755, Accuracy = 62.54666666666667\n",
            "The loss for Epoch 5 is: 1.8375960664708477, Accuracy = 63.39666666666667\n",
            "The loss for Epoch 6 is: 1.8259001444143528, Accuracy = 63.70333333333333\n",
            "The loss for Epoch 7 is: 1.8199616050415202, Accuracy = 63.6\n",
            "The loss for Epoch 8 is: 1.8130142282067077, Accuracy = 64.05333333333333\n",
            "The loss for Epoch 9 is: 1.810695304036903, Accuracy = 63.943333333333335\n",
            "CPU times: user 6min 4s, sys: 2.14 s, total: 6min 6s\n",
            "Wall time: 6min 13s\n"
          ]
        }
      ],
      "source": [
        "%%time\n",
        "# Sending the data to device (CPU or GPU)\n",
        "# TODO: (1 of 2) \n",
        "# Step 1: instantiate the logistic regression to variable logreg\n",
        "logreg = LogReg().to(device)\n",
        "\n",
        "# Step 2: set the loss criterion as CrossEntropyLoss\n",
        "criterion = nn.CrossEntropyLoss()\n",
        "# END TODO\n",
        "optimizer = optim.Adam(logreg.parameters(), lr=1e-4) #lr - learning step\n",
        "epoch = 10\n",
        "\n",
        "loss_LIST_log = []\n",
        "acc_LIST_log = []\n",
        "\n",
        "# Train the Logistic Regression\n",
        "for epoch in range(epoch):\n",
        "  running_loss = 0.0\n",
        "  correct = 0\n",
        "  total = 0\n",
        "  for inputs, labels in train_loader:\n",
        "      labels = labels.type(torch.LongTensor) # Cast to Float\n",
        "      inputs, labels = inputs.to(device), labels.to(device)\n",
        "      \n",
        "      ## TODO (2 of 2)\n",
        "      # Step 1: Reset the optimizer tensor gradient every mini-batch\n",
        "      outputs = logreg(inputs)\n",
        "      optimizer.zero_grad()\n",
        "      # Step 2: Feed the network the train data\n",
        "      loss = criterion(outputs, labels)\n",
        "      loss.backward() \n",
        "      optimizer.step()\n",
        "      # Step 3: Get the prediction using argmax\n",
        "      _, predicted = torch.max(outputs.data, 1)\n",
        "      # Step 4: Find average loss for one mini-batch of inputs\n",
        "      running_loss += loss.item()\n",
        "      # Step 5: Do a back propagation\n",
        "      total += labels.size(0)\n",
        "      # Step 6: Update the weight using the gradients from back propagation by learning step\n",
        "\n",
        "      # Step 7: Get loss and add to accumulated loss for each epoch\n",
        "\n",
        "      # Step 8: Get number of correct prediction and increment the number of correct and total predictions after this batch\n",
        "      # Hint: we need to detach the numbers from GPU to CPU, which stores accuracy and loss\n",
        "      \n",
        "      correct += (predicted == labels).sum().item()\n",
        "  # Step 9: Calculate training accuracy for each epoch (should multiply by 100 to get percentage), store in variable called 'accuracy', and add to acc_LIST_log\n",
        "  accuracy = 100 * correct / total\n",
        "  acc_LIST_log.append(accuracy)\n",
        "  # Step 10: Get average loss for each epoch and add to loss_LIST_log\n",
        "  loss_LIST_log.append (running_loss / len(train_loader)) \n",
        "  # END TODO\n",
        "  \n",
        "  # print statistics\n",
        "  print(\"The loss for Epoch {} is: {}, Accuracy = {}\".format(epoch, running_loss/len(train_loader), accuracy))\n"
      ]
    },
    {
      "cell_type": "code",
      "source": [
        "# (if applicable)\n",
        "# In order to pass the AutoGrader, every element in \"acc_LIST_log\" should be a float. \n",
        "# If the elements are of type \"Tensor\", convert each element into type FLOAT by using .item() or .tolist()\n",
        "# To check if each element is a Tensor, print out \"acc_LIST_log\" and see if there is a Tensor() wrapped around each element.\n"
      ],
      "metadata": {
        "id": "SB9RkZLJj1qm"
      },
      "execution_count": 23,
      "outputs": []
    },
    {
      "cell_type": "code",
      "execution_count": 24,
      "metadata": {
        "id": "8a3mQpqtFqd6",
        "colab": {
          "base_uri": "https://localhost:8080/"
        },
        "outputId": "c33ca414-54b5-4a64-d0eb-c63cbee7c8fc"
      },
      "outputs": [
        {
          "output_type": "stream",
          "name": "stdout",
          "text": [
            "Correct! You earned 6/6 points. You are a star!\n",
            "\n",
            "Your submission has been successfully recorded in the gradebook.\n"
          ]
        }
      ],
      "source": [
        "# Grader Cell (6 points)\n",
        "grader.grade(test_case_id = 'log_train_loss', answer = (acc_LIST_log, loss_LIST_log))"
      ]
    },
    {
      "cell_type": "markdown",
      "metadata": {
        "id": "e0LrNmOvm3Is"
      },
      "source": [
        "### 2.1.3 Plotting Training Accuracy vs Epochs for Logistic Regression (2 points - Manually Graded)\n",
        "\n",
        "---\n",
        "**TODO:**\n",
        "\n",
        "Plot the training accuracy vs epochs.\n",
        "\n",
        "Chart Specifications:\n",
        "1. The accuracy should be in the y-axis and epochs in x-axis.\n",
        "2. Add chart title.\n",
        "3. Epoch label should start with 1 (for audience interpretability).\n",
        "4. To avoid \"File Too Large\" for submission, please set figure size to (5,3).\n",
        "---"
      ]
    },
    {
      "cell_type": "code",
      "execution_count": 25,
      "metadata": {
        "id": "2VpyKMjem3Is",
        "colab": {
          "base_uri": "https://localhost:8080/",
          "height": 508
        },
        "outputId": "25b127ef-382c-44ff-cabd-c75d1eb251f2"
      },
      "outputs": [
        {
          "output_type": "execute_result",
          "data": {
            "text/plain": [
              "<Figure size 500x300 with 0 Axes>"
            ]
          },
          "metadata": {},
          "execution_count": 25
        },
        {
          "output_type": "display_data",
          "data": {
            "text/plain": [
              "<Figure size 640x480 with 1 Axes>"
            ],
            "image/png": "[encoded data removed]"
          },
          "metadata": {}
        },
        {
          "output_type": "display_data",
          "data": {
            "text/plain": [
              "<Figure size 500x300 with 0 Axes>"
            ]
          },
          "metadata": {}
        }
      ],
      "source": [
        "import matplotlib.pyplot as plt\n",
        "import seaborn as sns\n",
        "\n",
        "# TODO\n",
        "plt.plot(np.arange(epoch+1), acc_LIST_log)\n",
        "plt.xlabel('Epoch'),\n",
        "plt.ylabel('Accuracy')\n",
        "plt.title('Accuracy vs Epoch')\n",
        "plt.figure(figsize = (5,3))\n",
        "\n",
        "# END TODO \n"
      ]
    },
    {
      "cell_type": "markdown",
      "metadata": {
        "id": "IrJ6qz4Rm3It"
      },
      "source": [
        "### 2.1.4 Logistic Regression Model Accuracy (2 points)\n",
        "\n",
        "Calculate the Test Accuracy for the Logistic Regression Model we trained above.\n",
        "\n",
        "This should be similar to how we calculated training accuracy above."
      ]
    },
    {
      "cell_type": "code",
      "execution_count": 26,
      "metadata": {
        "id": "sbAYsblXm3It",
        "colab": {
          "base_uri": "https://localhost:8080/"
        },
        "outputId": "8be0d506-66e1-4747-906a-b98ed09d5664"
      },
      "outputs": [
        {
          "output_type": "stream",
          "name": "stdout",
          "text": [
            "Test Accuracy: 64.55999755859375\n"
          ]
        }
      ],
      "source": [
        "total = 0\n",
        "correct = 0\n",
        "with torch.no_grad():\n",
        "    for images, labels in test_loader:\n",
        "        labels = labels.type(torch.LongTensor) # Cast to Float\n",
        "        images, labels = images.to(device), labels.to(device)\n",
        "        # TODO\n",
        "        # Get the output\n",
        "        outputs = logreg(images)\n",
        "        \n",
        "        # Get the prediction using argmax\n",
        "        _, predicted = torch.max(outputs.data, 1)\n",
        "        # Get number of correct prediction and add to correct and total\n",
        "        total += labels.size(0)\n",
        "        correct += (predicted == labels).sum().item()\n",
        "# Calculate test accuracy for logistic regression (should multiple by 100)\n",
        "test_acc_log = torch.tensor(100*correct/total)\n",
        "\n",
        "# TODO END\n",
        "print('Test Accuracy: ' + str(test_acc_log.item()))"
      ]
    },
    {
      "cell_type": "code",
      "execution_count": 27,
      "metadata": {
        "id": "Yw84YwDSm3Iu",
        "colab": {
          "base_uri": "https://localhost:8080/"
        },
        "outputId": "628bce9b-b822-4ee5-b823-ef11d1fa80a6"
      },
      "outputs": [
        {
          "output_type": "stream",
          "name": "stdout",
          "text": [
            "Correct! You earned 2/2 points. You are a star!\n",
            "\n",
            "Your submission has been successfully recorded in the gradebook.\n"
          ]
        }
      ],
      "source": [
        "#Grader Cell (2 points)\n",
        "grader.grade(test_case_id = 'logistic_regression_test_acc', answer = test_acc_log.item())"
      ]
    },
    {
      "cell_type": "markdown",
      "metadata": {
        "id": "3YxGiHhWHM6b"
      },
      "source": [
        "## 2.2 Feedforward Neural Networks (Total: 25 points)\n",
        "\n",
        "<div>\n",
        "<img src='https://s2.loli.net/2022/11/21/dvqstVUzcQPChD1.png', width='400'/>\n",
        "</div>"
      ]
    },
    {
      "cell_type": "markdown",
      "metadata": {
        "id": "iCEd-Lj_9pGc"
      },
      "source": [
        "Diagram reference: [Link](https://en.wikipedia.org/wiki/Feedforward_neural_network)"
      ]
    },
    {
      "cell_type": "markdown",
      "metadata": {
        "id": "ycezEPcWm3Iv"
      },
      "source": [
        "Since logistic regression isn't that great at the classification problem above, we need more representation power in our model. We will now define a feedforward neural network.\n",
        "\n",
        "Complete the *FNN* class below to define a feedforward neural network with **only 1 hidden layers with ```out_features``` of 256**. Note that the last layer must have the same number of classes as the output size! \n",
        "\n",
        "When implementing this model, please think about what activation function would be most appropriate for each layer in this classifier. "
      ]
    },
    {
      "cell_type": "markdown",
      "metadata": {
        "id": "QfbU0GmSm3Iv"
      },
      "source": [
        "### 2.2.1 Feedforward Neural Network Model Architecture (10 points)"
      ]
    },
    {
      "cell_type": "code",
      "execution_count": 28,
      "metadata": {
        "id": "7ZVvgyJVm3Iv"
      },
      "outputs": [],
      "source": [
        "class FNN(nn.Module):\n",
        "    def __init__(self):\n",
        "        super().__init__()\n",
        "        # TODO: initialize the neural network layers\n",
        "        self.linear = nn.Linear(in_features = scale*scale, out_features = 256)\n",
        "        self.linearHiddenLayer = nn.Linear(in_features = 256, out_features = 10)\n",
        "        self.relu = nn.ReLU()\n",
        "        self.flatten = nn.Flatten()\n",
        "        # END TODO\n",
        "\n",
        "    def forward(self, x):\n",
        "        # TODO: implement the operations on input data\n",
        "        # Hint: think of the neural network architecture for FNN\n",
        "        x = self.flatten(x)\n",
        "        x = self.linear(x)\n",
        "        x = self.relu(x)\n",
        "        outputs = self.linearHiddenLayer(x)\n",
        "\n",
        "        # END TODO\n",
        "        return outputs"
      ]
    },
    {
      "cell_type": "markdown",
      "metadata": {
        "id": "5rvgkSaTm3Iw"
      },
      "source": [
        "Let's print the model summary"
      ]
    },
    {
      "cell_type": "code",
      "execution_count": 29,
      "metadata": {
        "id": "g8Voqj1-m3Iw",
        "colab": {
          "base_uri": "https://localhost:8080/"
        },
        "outputId": "9c08af40-9109-4fc2-ecfd-4438e6bf5cd2"
      },
      "outputs": [
        {
          "output_type": "execute_result",
          "data": {
            "text/plain": [
              "FNN(\n",
              "  (linear): Linear(in_features=784, out_features=256, bias=True)\n",
              "  (linearHiddenLayer): Linear(in_features=256, out_features=10, bias=True)\n",
              "  (relu): ReLU()\n",
              "  (flatten): Flatten(start_dim=1, end_dim=-1)\n",
              ")"
            ]
          },
          "metadata": {},
          "execution_count": 29
        }
      ],
      "source": [
        "FNN()"
      ]
    },
    {
      "cell_type": "code",
      "execution_count": 30,
      "metadata": {
        "id": "fj0GVHf5m3Iw",
        "colab": {
          "base_uri": "https://localhost:8080/"
        },
        "outputId": "8d25e7a9-8eb9-4173-aefe-cd9f4bbd0e13"
      },
      "outputs": [
        {
          "output_type": "stream",
          "name": "stdout",
          "text": [
            "Correct! You earned 10/10 points. You are a star!\n",
            "\n",
            "Your submission has been successfully recorded in the gradebook.\n"
          ]
        }
      ],
      "source": [
        "#Grader Cell (10 points)\n",
        "grader.grade(test_case_id = 'feedforward_nn_model', answer = str(FNN()))"
      ]
    },
    {
      "cell_type": "markdown",
      "metadata": {
        "id": "Dy7YoUqmurFM"
      },
      "source": [
        "**Notes:** Getting full credit for the above test case doesn't necessarily ensure that your model will perform well on the test dataset as it only evaluates the structure of your neural network.\n",
        "\n",
        "If you don't achieve complete credit for accuracy and loss on the test dataset, you may need to modify your architecture such as increasing the number of hidden layers or the number of neurons in each layer."
      ]
    },
    {
      "cell_type": "markdown",
      "metadata": {
        "id": "JUaHAHLum3Iw"
      },
      "source": [
        "### 2.2.2 Training FNN Model (11 points)\n",
        "---\n",
        "TODOs\n",
        "1.   Instantiate the FNN to the variable `fnn` (make sure to send this to the device env)\n",
        "2.   Set the loss criterion to be `CrossEntropyLoss` (you can look up the documentation [here](https://pytorch.org/docs/stable/nn.html#loss-functions))\n",
        "3.   Fill in the missing parts in the training loop below.\n",
        "4.   Save the Training Accuracy for every epoch into `acc_LIST_FNN`\n",
        "5.   Save the Average Loss for every epoch into `loss_LIST_FNN`\n",
        "---\n",
        "The optimizer is set as Adam -- **please do not modify the optimizer**.\n",
        "\n",
        "Hint: Remember to update the weights correctly by backpropagation, please zero out the gradients by calling `optimizer.zero_grad()` every time you call `backward()`.\n",
        "\n",
        "**Note: If the loss went up during the training, there is something wrong with the model, so you should check if the model is implemented correctly**\n",
        "\n",
        "The following code bloack should take around 4-5 minutes to complete.\n",
        "\n",
        "Note: `acc_LIST_FNN` and `loss_LIST_FNN` should contain data of type float not tensor."
      ]
    },
    {
      "cell_type": "code",
      "execution_count": 31,
      "metadata": {
        "id": "WSechmCnm3Ix",
        "colab": {
          "base_uri": "https://localhost:8080/"
        },
        "outputId": "21c7f619-5bb9-4a5c-bb8b-fe094680620c"
      },
      "outputs": [
        {
          "output_type": "stream",
          "name": "stdout",
          "text": [
            "The loss for Epoch 0 is: 1.3275399360575402, Accuracy = 59.406666666666666\n",
            "The loss for Epoch 1 is: 0.9665064280475381, Accuracy = 70.14\n",
            "The loss for Epoch 2 is: 0.8440812061082071, Accuracy = 74.10333333333334\n",
            "The loss for Epoch 3 is: 0.7538247549457591, Accuracy = 76.87666666666667\n",
            "The loss for Epoch 4 is: 0.677612337476409, Accuracy = 79.47666666666667\n",
            "The loss for Epoch 5 is: 0.6111487756405812, Accuracy = 81.65666666666667\n",
            "The loss for Epoch 6 is: 0.5739663878737736, Accuracy = 82.88333333333334\n",
            "The loss for Epoch 7 is: 0.5313202647893414, Accuracy = 84.16\n",
            "The loss for Epoch 8 is: 0.5020944841507909, Accuracy = 84.95333333333333\n",
            "The loss for Epoch 9 is: 0.4713931022358856, Accuracy = 85.82666666666667\n",
            "CPU times: user 6min 4s, sys: 1.34 s, total: 6min 6s\n",
            "Wall time: 6min 6s\n"
          ]
        }
      ],
      "source": [
        "%%time\n",
        "# Sending the data to device (CPU or GPU)\n",
        "# TODO (1 of 2)\n",
        "# Step 1: instantiate the FNN model to variable fnn\n",
        "fnn = FNN().to(device)\n",
        "# Step 2: set the loss criterion as CrossEntropyLoss\n",
        "criterion = nn.CrossEntropyLoss()\n",
        "# END TODO \n",
        "optimizer = optim.Adam(fnn.parameters(), lr=1e-4) #lr - learning step\n",
        "epoch = 10\n",
        "\n",
        "acc_LIST_FNN = []\n",
        "loss_LIST_FNN = []\n",
        "\n",
        "# Train the FNN\n",
        "for epoch in range(epoch):\n",
        "  running_loss = 0.0\n",
        "  correct = 0\n",
        "  total = 0\n",
        "  for inputs, labels in train_loader:\n",
        "      labels = labels.type(torch.LongTensor) # Cast to Long\n",
        "      inputs, labels = inputs.to(device), labels.to(device)\n",
        "      \n",
        "      ## TODO (2 of 2)\n",
        "      # Step 1: Reset the optimizer tensor gradient every mini-batch\n",
        "      outputs = fnn(inputs)\n",
        "      optimizer.zero_grad()\n",
        "      # Step 2: Feed the network the train data\n",
        "      loss = criterion(outputs, labels)\n",
        "      loss.backward() \n",
        "      optimizer.step()\n",
        "      # Step 3: Get the prediction using argmax\n",
        "      _, predicted = torch.max(outputs.data, 1)\n",
        "      # Step 4: Find average loss for one mini-batch of inputs\n",
        "      running_loss += loss.item()\n",
        "      # Step 5: Do a back propagation\n",
        "      \n",
        "      # Step 6: Update the weight using the gradients from back propagation by learning step\n",
        "\n",
        "      # Step 7: Get loss and add to accumulated loss for each epoch\n",
        "\n",
        "      # Step 8: Get number of correct prediction and increment the number of correct and total predictions after this batch\n",
        "      # Hint: we need to detach the numbers from GPU to CPU, which stores accuracy and loss\n",
        "      total += labels.size(0)\n",
        "      correct += (predicted == labels).sum().item()\n",
        "\n",
        "  # Step 9: Calculate training accuracy for each epoch (should multiply by 100 to get percentage), store in variable called 'accuracy', and add to acc_LIST_FNN\n",
        "  accuracy = 100 * correct / total \n",
        "  acc_LIST_FNN.append(accuracy)\n",
        "  # Step 10: Get average loss for each epoch and add to loss_LIST_FNN\n",
        "\n",
        "  loss_LIST_FNN.append(running_loss / len(train_loader))\n",
        "  \n",
        "  # END TODO\n",
        "\n",
        "  # print statistics\n",
        "  print(\"The loss for Epoch {} is: {}, Accuracy = {}\".format(epoch, running_loss/len(train_loader), accuracy))\n"
      ]
    },
    {
      "cell_type": "code",
      "source": [
        "# (if applicable)\n",
        "# In order to pass the AutoGrader, every element in \"acc_LIST_FNN\" should be a float. \n",
        "# If the elements are of type \"Tensor\", convert each element into type FLOAT by using .item() or .tolist()\n",
        "# To check if each element is a Tensor, print out \"acc_LIST_FNN\" and see if there is a Tensor() wrapped around each element.\n",
        "print(acc_LIST_FNN)"
      ],
      "metadata": {
        "id": "K4uVb6MTj6ue",
        "colab": {
          "base_uri": "https://localhost:8080/"
        },
        "outputId": "1122ca4e-7a69-4089-b0d7-c26cffda268f"
      },
      "execution_count": 32,
      "outputs": [
        {
          "output_type": "stream",
          "name": "stdout",
          "text": [
            "[59.406666666666666, 70.14, 74.10333333333334, 76.87666666666667, 79.47666666666667, 81.65666666666667, 82.88333333333334, 84.16, 84.95333333333333, 85.82666666666667]\n"
          ]
        }
      ]
    },
    {
      "cell_type": "code",
      "execution_count": 33,
      "metadata": {
        "id": "A2AHGUxHKI1_",
        "colab": {
          "base_uri": "https://localhost:8080/"
        },
        "outputId": "6b867401-766d-42b9-d37c-b2bcd9266650"
      },
      "outputs": [
        {
          "output_type": "stream",
          "name": "stdout",
          "text": [
            "Correct! You earned 11/11 points. You are a star!\n",
            "\n",
            "Your submission has been successfully recorded in the gradebook.\n"
          ]
        }
      ],
      "source": [
        "#Grader Cell (11 points)\n",
        "grader.grade(test_case_id = 'fnn_train_loss', answer = (acc_LIST_FNN, loss_LIST_FNN))"
      ]
    },
    {
      "cell_type": "markdown",
      "metadata": {
        "id": "DY0zMmGAm3Ix"
      },
      "source": [
        "### 2.2.3 Plotting Training Accuracy vs Epochs FNN (2 points - Manually Graded)\n",
        "\n",
        "---\n",
        "**TODO:**\n",
        "\n",
        "Plot the training accuracy vs epochs.\n",
        "\n",
        "Chart Specifications:\n",
        "1. The accuracy should be in the y-axis and epochs in x-axis.\n",
        "2. Add chart title.\n",
        "3. Epoch label should start with 1 (for audience interpretability).\n",
        "4. To avoid \"File Too Large\" for submission, please set figure size to (5,3).\n",
        "---"
      ]
    },
    {
      "cell_type": "code",
      "execution_count": 34,
      "metadata": {
        "id": "vIGWgoY3m3Ix",
        "colab": {
          "base_uri": "https://localhost:8080/",
          "height": 508
        },
        "outputId": "b7d43974-0234-48fe-fc9f-a9e2c8d4aa84"
      },
      "outputs": [
        {
          "output_type": "execute_result",
          "data": {
            "text/plain": [
              "<Figure size 500x300 with 0 Axes>"
            ]
          },
          "metadata": {},
          "execution_count": 34
        },
        {
          "output_type": "display_data",
          "data": {
            "text/plain": [
              "<Figure size 640x480 with 1 Axes>"
            ],
            "image/png": "[encoded data removed]"
          },
          "metadata": {}
        },
        {
          "output_type": "display_data",
          "data": {
            "text/plain": [
              "<Figure size 500x300 with 0 Axes>"
            ]
          },
          "metadata": {}
        }
      ],
      "source": [
        "import matplotlib.pyplot as plt\n",
        "import seaborn as sns\n",
        "\n",
        "# TODO\n",
        "plt.plot(np.arange(epoch+1), acc_LIST_FNN)\n",
        "plt.xlabel('Epoch'),\n",
        "plt.ylabel('Accuracy')\n",
        "plt.title('Accuracy vs Epoch')\n",
        "plt.figure(figsize = (5,3))\n",
        "# END TODO\n"
      ]
    },
    {
      "cell_type": "markdown",
      "metadata": {
        "id": "_LCcYIAWm3Iy"
      },
      "source": [
        "### 2.2.4 FNN Model Accuracy(2 points)\n",
        "\n",
        "Calculate the Test Accuracy for the FNN Model we trained above (the technique for doing this is the same as computing the test accuracy for the logistic regression classifier above). "
      ]
    },
    {
      "cell_type": "code",
      "execution_count": 35,
      "metadata": {
        "id": "WAyibXsEm3Iy",
        "colab": {
          "base_uri": "https://localhost:8080/"
        },
        "outputId": "720c646b-c15e-4024-8be4-bf99a103dd81"
      },
      "outputs": [
        {
          "output_type": "stream",
          "name": "stdout",
          "text": [
            "Test Accuracy: 87.19999694824219\n"
          ]
        }
      ],
      "source": [
        "total = 0\n",
        "correct = 0\n",
        "with torch.no_grad():\n",
        "    for images, labels in test_loader:\n",
        "        labels = labels.type(torch.LongTensor) # Cast to Float\n",
        "        images, labels = images.to(device), labels.to(device)\n",
        "\n",
        "        # TODO\n",
        "        # Get the output\n",
        "        outputs = fnn(images)\n",
        "        # Get the prediction using argmax\n",
        "        _, predicted = torch.max(outputs.data,1)\n",
        "        # Get number of correct prediction and add to correct and total\n",
        "        total += labels.size(0)\n",
        "        correct += (predicted == labels).sum().item()\n",
        "\n",
        "# Calculate test accuracy for FNN (should multiple by 100)\n",
        "test_acc_FNN = torch.tensor(100*correct/total)\n",
        "# TODO END\n",
        "print('Test Accuracy: ' + str(test_acc_FNN.item()))"
      ]
    },
    {
      "cell_type": "code",
      "execution_count": 36,
      "metadata": {
        "id": "ypTvmlYNm3Iy",
        "colab": {
          "base_uri": "https://localhost:8080/"
        },
        "outputId": "3d82969c-791d-4818-dc19-4cafbfb81d7c"
      },
      "outputs": [
        {
          "output_type": "stream",
          "name": "stdout",
          "text": [
            "Correct! You earned 2/2 points. You are a star!\n",
            "\n",
            "Your submission has been successfully recorded in the gradebook.\n"
          ]
        }
      ],
      "source": [
        "#Grader Cell (2 points)\n",
        "grader.grade(test_case_id = 'feedforward_nn_acc', answer = (test_acc_FNN.item(), loss_LIST_FNN))"
      ]
    },
    {
      "cell_type": "markdown",
      "metadata": {
        "id": "9gnLzDIWGiYv"
      },
      "source": [
        "##2.3 \"Convoluted\" Convolutional Neural Networks (Total: 29 points)\n",
        "So, what are CNNs?\n",
        "\n",
        "Convolutional Neural Networks are very similar to Feedforward Neural Networks from the previous section: they are made up of neurons that have learnable weights and biases. Each neuron receives some inputs, performs a dot product and optionally follows it with a non-linearity. The whole network still expresses a single differentiable score function: from the raw image pixels on one end to class scores at the other.\n",
        "\n",
        "So what changes? ConvNet architectures make the explicit assumption that the inputs are images, which allows us to encode certain properties into the architecture. These then make the forward function more efficient to implement and vastly reduce the amount of parameters in the network.\n",
        "\n",
        "If you wanna know more about how CNNs function and see some cool visualizations, we would highly recommend this [page](https://cs231n.github.io/convolutional-networks/)\n",
        "\n",
        "<div>\n",
        "<img src='https://s2.loli.net/2022/11/21/L6pUz2chXWRGn31.png', width='800'>\n",
        "</div>"
      ]
    },
    {
      "cell_type": "markdown",
      "metadata": {
        "id": "QQoCe9-I-juy"
      },
      "source": [
        "Diagram Reference: [Link](https://www.analyticsvidhya.com/blog/2020/10/what-is-the-convolutional-neural-network-architecture/)"
      ]
    },
    {
      "cell_type": "markdown",
      "metadata": {
        "id": "TrflHaqht5dV"
      },
      "source": [
        "We will define the architecture for the CNN we will be using. The components of a CNNs are as follows: \n",
        "\n",
        "*   Convolutional Layers\n",
        "*   Pooling Layers\n",
        "*   Linear Layers\n",
        "*   Activation Functions\n",
        "\n",
        "Define a CNN model with Pytorch that contains one or more blocks, where **each block** consists of a **convolutional layer** followed by an **activation function** and a **max pool**. (For this assignment, we discourage adding three or more layers.)\n",
        "\n",
        "Then, **flatten** the output from the convolutional layers, and pass it through one or more fully connected or 'dense' layers and activation functions after all but the last layer. Note that the output shape from the last layer must be the same as the number of classes."
      ]
    },
    {
      "cell_type": "markdown",
      "metadata": {
        "id": "5hZ19uCgt5dV"
      },
      "source": [
        "### 2.3.0 Calculating Output Dimensions of Convolution and Pooling Layers (3 Points)"
      ]
    },
    {
      "cell_type": "markdown",
      "metadata": {
        "id": "QWTpcdqnt5dW"
      },
      "source": [
        "Before we start building the architecture, it's important to understand the dimensions of the feature maps produced in each of the convolution and pooling layers. We want to keep track of this information as once we get to the fully-connected layers, we need to specify the number of input parameters. \n",
        "\n",
        "Let's first build a function that will help us calculate the dimensions based on the input parameters.\n",
        "\n",
        "\n",
        "Since we are working with squared image, we will build just one function that can be used to calculate both the H (height) and W (width) of the feature map.\n",
        "\n",
        "Below is the function used to calculate the output dimension of the feature map: \n",
        "\n",
        "<div>\n",
        "<img src='https://s2.loli.net/2023/03/30/lKpjPLVHcuRC8n2.png',width='300'/>\n",
        "</div>\n",
        "\n",
        "Diagram Reference: [Link](https://pytorch.org/docs/stable/generated/torch.nn.Conv2d.html)"
      ]
    },
    {
      "cell_type": "markdown",
      "metadata": {
        "id": "7MPO8gBqecED"
      },
      "source": [
        "---\n",
        "**TODO:**\n",
        "\n",
        "Build the **feature_map_dim** function, which takes in the following four parameters and return the dimension of the output feature map.\n",
        "\n",
        "- **input_dim**: height/width of the input image\n",
        "\n",
        "- **kernel_size**: size of the convolving kernel (aka. filter)\n",
        "\n",
        "- **padding**: padding added to all four sides of the input in order to preserve the edges/borders\n",
        "\n",
        "- **stride**: Stride of the convolution, or how many shifts per kernel\n",
        "  \n",
        "ROUND DOWN if the result if a fraction.\n",
        "\n",
        "---\n",
        "\n",
        "Notice there is another parameter, \"dilation\", which is the spacing between kernel elements. We have not covered this in class; simply set it to 1.\n",
        " "
      ]
    },
    {
      "cell_type": "code",
      "execution_count": 37,
      "metadata": {
        "id": "A3drwoLht5dX"
      },
      "outputs": [],
      "source": [
        "import math\n",
        "\n",
        "def feature_map_dim(input_dim, padding, kernel_size, stride):\n",
        "  ''' \n",
        "  The function takes in the following four parameters and return the dimension of the output feature map.\n",
        "\n",
        "  input_dim: height/width of the input image\n",
        "  kernel_size: size of the convolving kernel (aka. filter)\n",
        "  padding: padding added to all four sides of the input in order to preserve the edges/borders\n",
        "  stride: Stride of the convolution, or how many shifts per kernel\n",
        "  \n",
        "  ROUND DOWN if the result if a fraction.\n",
        "\n",
        "  Notice there is another parameter, \"dilation\", which is the spacing between kernel elements. We have not covered this in class; simply set it to 1\n",
        "  '''\n",
        "  ## TODO: \n",
        "  output_dim = (input_dim + 2*padding - 1*(kernel_size-1) - 1) / stride + 1\n",
        "  output_dim = math.floor(output_dim) \n",
        "\n",
        "  return output_dim\n",
        "  ## END TODO"
      ]
    },
    {
      "cell_type": "code",
      "execution_count": 38,
      "metadata": {
        "id": "0Mtd0hHTt5dY",
        "colab": {
          "base_uri": "https://localhost:8080/"
        },
        "outputId": "ea9c2ed8-c599-4558-a669-05a91aa35174"
      },
      "outputs": [
        {
          "output_type": "stream",
          "name": "stdout",
          "text": [
            "Correct! You earned 3/3 points. You are a star!\n",
            "\n",
            "Your submission has been successfully recorded in the gradebook.\n"
          ]
        }
      ],
      "source": [
        "#Grader Cell (3 points)\n",
        "grader.grade(test_case_id = 'test_func_feature_map_dim', answer = (feature_map_dim))"
      ]
    },
    {
      "cell_type": "markdown",
      "metadata": {
        "id": "JCUg46_pt5dY"
      },
      "source": [
        "### 2.3.1 Convolutional Neural Network Model Architecture (12 points)"
      ]
    },
    {
      "cell_type": "markdown",
      "metadata": {
        "id": "EML6W1oVt5dY"
      },
      "source": [
        "---\n",
        "**TODOs:**\n",
        "\n",
        "`def __init__(self)`:: \n",
        "1.  Initialize 1 - 3 `convolutional blocks` (consists of a convolution layer, an activation function, and a Pooling layer) \n",
        "\n",
        "2. `Flatten` the output of the convolution to a tensor\n",
        "\n",
        "3. Initialize 1-3 `fully-connected layers`\n",
        "\n",
        "`def forward(self, x)`: \n",
        "4. Build the `forward` function/path with the layers initialized in `__init__` function. \n",
        "\n",
        "---\n",
        "\n",
        "- **Note:** While parameters of convolution layers tend to vary, it is possible to use the same pooling layer and activation function in each block. If you intend to use the same parameters for these two elements, then only 1 pooling layer and 1 activation function needs to be initialized.\n",
        "- **Hint 1**: Use the `feature_map_dim` function, and the input_dim and output_dim comments to help you keep track of the input/output dimensions of each layer\n",
        "- **Hint 2**: The parameters you've calculated is particularly useful for the input dimensions for the linear layer in the first fully-connected layer.\n",
        "- **Hint 3**: Each input is a grey-scaled (1 channel) 28 x 28 image.\n",
        "- **Hint 4**: The final fully-connected layer's output dimension should be the same as the number of classes in our dataset\n"
      ]
    },
    {
      "cell_type": "code",
      "execution_count": 39,
      "metadata": {
        "id": "TtjvdlRYt5dZ"
      },
      "outputs": [],
      "source": [
        "class CNN(nn.Module):\n",
        "    def __init__(self):\n",
        "        super().__init__()\n",
        "        # TODO\n",
        "\n",
        "        # Step 1: Initialize 1 - 3 convolution blocks (consists of a convolution layer, an activation function, a MaxPooling layer)\n",
        "        \n",
        "        ## you are encouraged to use the following comments to keep track of the output dimensions\n",
        "        # input dim = __ channels, with image size __ x __\n",
        "        # output dim = __ channels, with image size __ x __\n",
        "\n",
        "\n",
        "        # Convolution Block 1\n",
        "        self.conv = nn.Conv2d(in_channels = 1, out_channels = 16, kernel_size = 3, padding = 1, stride = 1)\n",
        "        self.relu = nn.ReLU()\n",
        "        self.pool = nn.MaxPool2d(kernel_size = 2)\n",
        "        # self.output1 = feature_map_dim(1, 1, 3, 1)\n",
        "        # Convolution Block 2 ... Feel free to add 1 - 2 more convolution blocks\n",
        "        self.conv2 = nn.Conv2d(in_channels = 16, out_channels = 32, kernel_size = 3, padding = 1, stride = 1)\n",
        "        self.relu2 = nn.ReLU()\n",
        "        self.pool2 = nn.MaxPool2d(kernel_size = 2)\n",
        "        # self.output2 = feature_map_dim(output1, 1,3,1) \n",
        "        self.conv3 = nn.Conv2d(in_channels = 32, out_channels = 64, kernel_size = 3, padding = 1, stride = 1)\n",
        "        self.relu3 = nn.ReLU()\n",
        "        self.pool3 = nn.MaxPool2d(kernel_size = 2)\n",
        "        # self.output3 = feature_map_dim(output2, 1,3,1) \n",
        "        # Step 2: Flatten the 2D image into a 1D tensor  \n",
        "        self.flatten = nn.Flatten()\n",
        "        \n",
        "        # Step 3: Initialize 1-3 fully-connected layers\n",
        "        self.linear1 = nn.Linear(in_features = 64*3*3, out_features = 128)\n",
        "        self.linear2 = nn.Linear(in_features = 128, out_features = 64)\n",
        "        self.linear3 = nn.Linear(in_features = 64, out_features = 10)\n",
        "\n",
        "        self.relu4, self.relu5 = nn.ReLU(), nn.ReLU()\n",
        "\n",
        "        # END TODO\n",
        "    \n",
        "    def forward(self, x):\n",
        "        # TODO\n",
        "        \n",
        "        # Step 1. Pass the images (x) through convolution block 1 and (block 2, 3 if you have built them)\n",
        "        x = self.relu(self.conv(x))\n",
        "        x = self.pool(x)\n",
        "        x = self.relu2(self.conv2(x))\n",
        "        x = self.pool2(x)\n",
        "        x = self.relu3(self.conv3(x))\n",
        "        x = self.pool3(x)\n",
        "\n",
        "        # Step 2. Flatten the image\n",
        "        x = self.flatten(x)\n",
        "        \n",
        "        # Step 3. Pass the output through the fully-connected layers (remember to include activation function(s))\n",
        "        x = self.relu4(self.linear1(x))\n",
        "        x = self.relu5(self.linear2(x))\n",
        "        outputs = self.linear3(x)\n",
        "        # END TODO\n",
        "        return outputs"
      ]
    },
    {
      "cell_type": "markdown",
      "metadata": {
        "id": "wyo2eeWQt5dZ"
      },
      "source": [
        "Let's print out the model summary"
      ]
    },
    {
      "cell_type": "code",
      "execution_count": 40,
      "metadata": {
        "id": "r4Fs6gzjt5dZ",
        "colab": {
          "base_uri": "https://localhost:8080/"
        },
        "outputId": "74a4c262-5dc8-4122-c5ae-864a4fca9a0c"
      },
      "outputs": [
        {
          "output_type": "execute_result",
          "data": {
            "text/plain": [
              "CNN(\n",
              "  (conv): Conv2d(1, 16, kernel_size=(3, 3), stride=(1, 1), padding=(1, 1))\n",
              "  (relu): ReLU()\n",
              "  (pool): MaxPool2d(kernel_size=2, stride=2, padding=0, dilation=1, ceil_mode=False)\n",
              "  (conv2): Conv2d(16, 32, kernel_size=(3, 3), stride=(1, 1), padding=(1, 1))\n",
              "  (relu2): ReLU()\n",
              "  (pool2): MaxPool2d(kernel_size=2, stride=2, padding=0, dilation=1, ceil_mode=False)\n",
              "  (conv3): Conv2d(32, 64, kernel_size=(3, 3), stride=(1, 1), padding=(1, 1))\n",
              "  (relu3): ReLU()\n",
              "  (pool3): MaxPool2d(kernel_size=2, stride=2, padding=0, dilation=1, ceil_mode=False)\n",
              "  (flatten): Flatten(start_dim=1, end_dim=-1)\n",
              "  (linear1): Linear(in_features=576, out_features=128, bias=True)\n",
              "  (linear2): Linear(in_features=128, out_features=64, bias=True)\n",
              "  (linear3): Linear(in_features=64, out_features=10, bias=True)\n",
              "  (relu4): ReLU()\n",
              "  (relu5): ReLU()\n",
              ")"
            ]
          },
          "metadata": {},
          "execution_count": 40
        }
      ],
      "source": [
        "CNN()"
      ]
    },
    {
      "cell_type": "code",
      "execution_count": 41,
      "metadata": {
        "id": "3lOd4qmEt5da",
        "colab": {
          "base_uri": "https://localhost:8080/"
        },
        "outputId": "56b43f08-2fba-4929-e14d-62b92932c621"
      },
      "outputs": [
        {
          "output_type": "stream",
          "name": "stdout",
          "text": [
            "Correct! You earned 12/12 points. You are a star!\n",
            "\n",
            "Your submission has been successfully recorded in the gradebook.\n"
          ]
        }
      ],
      "source": [
        "#Grader Cell (12 points)\n",
        "grader.grade(test_case_id = 'cnn_model', answer = str(CNN()))"
      ]
    },
    {
      "cell_type": "markdown",
      "metadata": {
        "id": "6O2dxIV5t5da"
      },
      "source": [
        "### 2.3.2 Training CNN Model (10 Points)\n",
        "\n",
        "---\n",
        "**TODOs**\n",
        "1.   Instantiate the CNN to the variable `cnn` (make sure to send this to the device env)\n",
        "2.   Set the criterion as a CrossEntropyLoss (you can look up the documentation [here](https://pytorch.org/docs/stable/nn.html#loss-functions))\n",
        "3.   Fill in the missing parts in the training loop.\n",
        "4.   Calculate training accuracy for each epoch (should multiply by 100 to get percentage), store in variable called `accuracy`.\n",
        "5.   Save the Training Accuracy for every epoch into `acc_LIST_CNN`\n",
        "6.   Save the Average Loss for every epoch into `loss_LIST_CNN`\n",
        "\n",
        "**Please do not modify the following set ups: **\n",
        "Optimizer: The optimizer is set as \"Adam\".\n",
        "Epoch: The epoch is set to \"10\".\n",
        "\n",
        "---\n",
        "\n",
        "**Hint:** Remember to update the weights correctly by backpropagation, please zero out the gradients by calling `optimizer.zero_grad()` every time you call `backward()`.  Please review the `Recitation 10` notebook for detailed instructions on how to perform these operations.\n",
        "\n",
        "**Note 1**: If the loss went up during the training, there is something wrong with the model, so you should check if the model is implemented correctly.\n",
        "\n",
        "**Note 2**: Typical training time takes between 5 - 10 mins.\n",
        "\n",
        "**Note 3**: `acc_LIST_CNN` and `loss_LIST_CNN` should contain data of type float not tensor."
      ]
    },
    {
      "cell_type": "code",
      "execution_count": 42,
      "metadata": {
        "id": "lW3e2k4Vt5da",
        "colab": {
          "base_uri": "https://localhost:8080/"
        },
        "outputId": "9d8f6490-e310-4683-ac3f-d904351281d3"
      },
      "outputs": [
        {
          "output_type": "stream",
          "name": "stdout",
          "text": [
            "The loss for Epoch 0 is: 1.5912231208164809, Accuracy = 46.35\n",
            "The loss for Epoch 1 is: 0.771136214674663, Accuracy = 75.33333333333333\n",
            "The loss for Epoch 2 is: 0.5571813244682385, Accuracy = 82.54666666666667\n",
            "The loss for Epoch 3 is: 0.45659944446864664, Accuracy = 85.54333333333334\n",
            "The loss for Epoch 4 is: 0.3882094382095947, Accuracy = 87.74666666666667\n",
            "The loss for Epoch 5 is: 0.3433944968018196, Accuracy = 89.05\n",
            "The loss for Epoch 6 is: 0.3197210677968922, Accuracy = 90.03333333333333\n",
            "The loss for Epoch 7 is: 0.29324471025960025, Accuracy = 90.74666666666667\n",
            "The loss for Epoch 8 is: 0.2713515379789796, Accuracy = 91.44666666666667\n",
            "The loss for Epoch 9 is: 0.25547021406609366, Accuracy = 91.96\n",
            "CPU times: user 6min 16s, sys: 1.94 s, total: 6min 17s\n",
            "Wall time: 6min 23s\n"
          ]
        }
      ],
      "source": [
        "%%time\n",
        "# Sending the data to device (CPU or GPU)\n",
        "# TODO (1 of 2)\n",
        "# Step 1: instantiate the CNN model to variable cnn\n",
        "cnn = CNN().to(device)\n",
        "# Step 2: set the loss criterion as CrossEntropyLoss\n",
        "criterion = nn.CrossEntropyLoss()\n",
        "# END TODO \n",
        "optimizer = optim.Adam(cnn.parameters(), lr=1e-4) #lr - learning step\n",
        "epoch = 10\n",
        "\n",
        "acc_LIST_CNN = []\n",
        "loss_LIST_CNN = []\n",
        "\n",
        "# Train the CNN\n",
        "for epoch in range(epoch):\n",
        "  running_loss = 0.0\n",
        "  correct = 0\n",
        "  total = 0\n",
        "  for inputs, labels in train_loader:\n",
        "      labels = labels.type(torch.LongTensor) # Cast to Float\n",
        "      inputs, labels = inputs.to(device), labels.to(device)\n",
        "      ## TODO (2 of 2)\n",
        "      # Step 1: Reset the optimizer tensor gradient every mini-batch\n",
        "      outputs = cnn(inputs)\n",
        "      optimizer.zero_grad()\n",
        "      \n",
        "      # Step 2: Feed the network the train data\n",
        "      loss = criterion(outputs, labels)\n",
        "      loss.backward() \n",
        "      # Step 3: Get the prediction using argmax\n",
        "      optimizer.step()\n",
        "      _, predicted = torch.max(outputs.data, 1)\n",
        "      # Step 4: Find average loss for one mini-batch of inputs\n",
        "      running_loss += loss.item()\n",
        "      \n",
        "      # Step 5: Do a back propagation\n",
        "      total += labels.size(0)\n",
        "      # Step 6: Update the weight using the gradients from back propagation by learning step\n",
        "\n",
        "      # Step 7: Get loss and add to accumulated loss for each epoch\n",
        "      correct += (predicted == labels).sum().item()\n",
        "      # Step 8: Get number of correct prediction and increment the number of correct and total predictions after this batch\n",
        "      # Hint: we need to detach the numbers from GPU to CPU, which stores accuracy and loss\n",
        "\n",
        "  # Step 9: Calculate training accuracy for each epoch (should multiply by 100 to get percentage), store in variable called 'accuracy', and add to acc_LIST_CNN\n",
        "  accuracy = 100 * correct / total \n",
        "  acc_LIST_CNN.append(accuracy)\n",
        "  # Step 10: Get average loss for each epoch and add to loss_LIST_CNN\n",
        "\n",
        "  loss_LIST_CNN.append(running_loss / len(train_loader)) # get the avg loss for each epoch\n",
        "  \n",
        "  # END TODO\n",
        "\n",
        "  # print statistics\n",
        "  print(\"The loss for Epoch {} is: {}, Accuracy = {}\".format(epoch, running_loss/len(train_loader), accuracy))\n"
      ]
    },
    {
      "cell_type": "code",
      "source": [
        "# (if applicable)\n",
        "# In order to pass the AutoGrader, every element in \"acc_LIST_CNN\" should be a float. \n",
        "# If the elements are of type \"Tensor\", convert each element into type FLOAT by using .item() or .tolist()\n",
        "# To check if each element is a Tensor, print out \"acc_LIST_CNN\" and see if there is a Tensor() wrapped around each element.\n"
      ],
      "metadata": {
        "id": "HsXvPk9LkBXk"
      },
      "execution_count": 43,
      "outputs": []
    },
    {
      "cell_type": "code",
      "execution_count": 44,
      "metadata": {
        "id": "oZ9IAUWnnO0o",
        "colab": {
          "base_uri": "https://localhost:8080/"
        },
        "outputId": "d273bd74-a090-49c8-f707-71595c8916b7"
      },
      "outputs": [
        {
          "output_type": "stream",
          "name": "stdout",
          "text": [
            "Correct! You earned 10/10 points. You are a star!\n",
            "\n",
            "Your submission has been successfully recorded in the gradebook.\n"
          ]
        }
      ],
      "source": [
        "#Grader Cell (10 points)\n",
        "grader.grade(test_case_id = 'cnn_train_loss', answer = (acc_LIST_CNN, loss_LIST_CNN))"
      ]
    },
    {
      "cell_type": "markdown",
      "metadata": {
        "id": "wPowtEwjt5db"
      },
      "source": [
        "### 2.3.3 Plotting Training Accuracy vs Epochs CNN (2 points - Manually Graded)\n",
        "\n",
        "---\n",
        "**TODO:**\n",
        "\n",
        "Plot the training accuracy vs epochs.\n",
        "\n",
        "Chart Specifications:\n",
        "1. The accuracy should be in the y-axis and epochs in x-axis.\n",
        "2. Add chart title.\n",
        "3. Epoch label should start with 1 (for audience interpretability).\n",
        "4. To avoid \"File Too Large\" for submission, please set figure size to (5,3).\n",
        "---"
      ]
    },
    {
      "cell_type": "code",
      "execution_count": 45,
      "metadata": {
        "id": "pBZOYpJJt5db",
        "colab": {
          "base_uri": "https://localhost:8080/",
          "height": 508
        },
        "outputId": "82129caa-f00d-4739-8678-8eb8dd1df0c2"
      },
      "outputs": [
        {
          "output_type": "execute_result",
          "data": {
            "text/plain": [
              "<Figure size 500x300 with 0 Axes>"
            ]
          },
          "metadata": {},
          "execution_count": 45
        },
        {
          "output_type": "display_data",
          "data": {
            "text/plain": [
              "<Figure size 640x480 with 1 Axes>"
            ],
            "image/png": "[encoded data removed]"
          },
          "metadata": {}
        },
        {
          "output_type": "display_data",
          "data": {
            "text/plain": [
              "<Figure size 500x300 with 0 Axes>"
            ]
          },
          "metadata": {}
        }
      ],
      "source": [
        "import matplotlib.pyplot as plt\n",
        "import seaborn as sns\n",
        "\n",
        "# TODO\n",
        "plt.plot(np.arange(epoch+1), acc_LIST_CNN)\n",
        "plt.xlabel('Epoch'),\n",
        "plt.ylabel('Accuracy')\n",
        "plt.title('Accuracy vs Epoch')\n",
        "plt.figure(figsize = (5,3))\n",
        "\n",
        "# END TODO "
      ]
    },
    {
      "cell_type": "markdown",
      "metadata": {
        "id": "wCBs-UQ0t5db"
      },
      "source": [
        "### 2.3.4 CNN Model Test Accuracy (2 points)\n",
        "\n",
        "---\n",
        "**TODO:**\n",
        "Calculate the Test Accuracy for the CNN Model we trained above. Save it to the variable named `test_acc_CNN`. The technique for doing this is the same as computing the test accuracy for the logistic regression and FNN classifiers above.\n",
        "\n",
        "---"
      ]
    },
    {
      "cell_type": "code",
      "execution_count": 46,
      "metadata": {
        "id": "-uG-m_1bt5dc",
        "colab": {
          "base_uri": "https://localhost:8080/"
        },
        "outputId": "f5c256e9-6aa4-497a-f736-f0d4a56d616b"
      },
      "outputs": [
        {
          "output_type": "stream",
          "name": "stdout",
          "text": [
            "Test Accuracy: 92.72000122070312\n"
          ]
        }
      ],
      "source": [
        "# TODO\n",
        "total = 0\n",
        "correct = 0\n",
        "with torch.no_grad():\n",
        "    for images, labels in test_loader:\n",
        "        labels = labels.type(torch.LongTensor) # Cast to Float\n",
        "        images, labels = images.to(device), labels.to(device)\n",
        "        # TODO\n",
        "        # Get the output\n",
        "        outputs = cnn(images)\n",
        "        # Get the prediction using argmax\n",
        "        _, predicted = torch.max(outputs.data, 1)\n",
        "        # Get number of correct prediction and add to correct and total\n",
        "        total += labels.size(0)\n",
        "        correct += (predicted == labels).sum().item()\n",
        "\n",
        "# Calculate test accuracy for CNN (should multiple by 100)\n",
        "test_acc_CNN = torch.tensor(100*correct/ total)\n",
        "# TODO END\n",
        "\n",
        "print(f'Test Accuracy: ' + str(test_acc_CNN.item()))"
      ]
    },
    {
      "cell_type": "code",
      "execution_count": 47,
      "metadata": {
        "id": "3iB5d4N-t5dc",
        "colab": {
          "base_uri": "https://localhost:8080/"
        },
        "outputId": "45031d18-8657-45b2-8907-1629a94c57ea"
      },
      "outputs": [
        {
          "output_type": "stream",
          "name": "stdout",
          "text": [
            "Correct! You earned 2/2 points. You are a star!\n",
            "\n",
            "Your submission has been successfully recorded in the gradebook.\n"
          ]
        }
      ],
      "source": [
        "#Grader Cell (2 points)\n",
        "grader.grade(test_case_id = 'cnn_test_acc', answer = (test_acc_CNN.item()))"
      ]
    },
    {
      "cell_type": "markdown",
      "metadata": {
        "id": "6zf6YZk3t5dc"
      },
      "source": [
        "## 2.4. Reflection (2 point - Manually Graded) \n"
      ]
    },
    {
      "cell_type": "markdown",
      "metadata": {
        "id": "rNLaEserlayE"
      },
      "source": [
        "\n",
        "Let's compare the model performance:\n",
        "\n",
        "From the test accuracies, we can see that FNN works better than Logistic Regression, and CNN works even better than FNN. "
      ]
    },
    {
      "cell_type": "code",
      "execution_count": 48,
      "metadata": {
        "id": "iZCBqWa6lJSb",
        "colab": {
          "base_uri": "https://localhost:8080/"
        },
        "outputId": "e9cfcd7c-15ec-4f64-f1ec-8ba12479b6e9"
      },
      "outputs": [
        {
          "output_type": "stream",
          "name": "stdout",
          "text": [
            "Test Accuracy for Logistic Regression: 64.55999755859375\n",
            "Test Accuracy for FNN: 87.19999694824219\n",
            "Test Accuracy for CNN: 92.72000122070312\n"
          ]
        }
      ],
      "source": [
        "# Simply run this cell, please do not modify\n",
        "print(f'Test Accuracy for Logistic Regression: ' + str(test_acc_log.item()))\n",
        "print(f'Test Accuracy for FNN: ' + str(test_acc_FNN.item()))\n",
        "print(f'Test Accuracy for CNN: ' + str(test_acc_CNN.item()))"
      ]
    },
    {
      "cell_type": "markdown",
      "metadata": {
        "id": "qOn_Yn3R_qWE"
      },
      "source": [
        "---\n",
        "**TODO:**\n",
        "\n",
        "Now that you've build an image classification model on a relatively simple dataset, could you think of a real-world practical/complex application/use-case where digit recognition is useful?\n",
        "\n",
        "---"
      ]
    },
    {
      "cell_type": "code",
      "execution_count": 49,
      "metadata": {
        "id": "5u99LTB9jJci"
      },
      "outputs": [],
      "source": [
        "# (Manual Grading - 2 point)\n",
        "\n",
        "# Type your response in the following cell as a comment\n",
        "#\n",
        "# Digit recognition could be used in computer vision. For instance, since computer vision is used to process information of the world, digit recognition can be another method to do so. \n",
        "# With the recognition of the digits in diffeernt text documents or if an image can be seperated into such digits."
      ]
    },
    {
      "cell_type": "markdown",
      "metadata": {
        "id": "qVKpT1nRvOP8"
      },
      "source": [
        "## 2.5 Confusion Matrix (Total: 8 points)\n",
        "\n",
        "We want to give you some insight into how you can further analyze the performance of the classification model you have trained. \n",
        "\n",
        "Upto now we have only used accuracy as a measure of performance. Although accuracy is simple and widely used measure, there are drawbacks to using accuracy.\n",
        "\n",
        "Assume that we are trying to train a model to detect a rare disease from CT images of patients. For simplicity, assume that this rare disease has an incidence rate of 1%.\n",
        "\n",
        "In this situation, if we train a degenerative model which always predicts that the patient does not have the disease, the accuracy is very high, namely 99%! Obviously in this case, accuracy is not a good measure of performance of the model.\n",
        "\n",
        "This example serves to motivate confusion matrices and related metrics.\n",
        "\n",
        "A confusion matrix is defined to be $C \\times C$ 2D matrix, where $C$ is number of distinct labels in the dataset. In this matrix, the rows represent the actual labels and the columns represent the predicted labels. \n",
        "\n",
        "The $(i, j)$-th entry of the confusion matrix contains the no. of data points where the actual label is $i$ but the model predicted $j$. \n",
        "\n",
        "<div>\n",
        "<img src='https://s2.loli.net/2023/04/02/7T1e5dtYGihvrRN.png', width='600'>\n",
        "</div>\n",
        "\n",
        "The provided image is an example of a confusion matrix for binary classification (C = 2), but you can easily imagine this scaling up to C > 2.\n",
        "\n",
        "From this confusion matrix we can get all sorts of useful metrics such as False Positive Rate (FPR), False Negative Rate (FNR), Recall, Precision, etc... If you are interested in learning more about confusion matrix and related metrics [this wikipedia page](https://en.wikipedia.org/wiki/Confusion_matrix#cite_note-11) is a good place to look at. \n",
        "\n",
        "\n",
        "\n",
        "\n",
        "\n"
      ]
    },
    {
      "cell_type": "markdown",
      "metadata": {
        "id": "HAbFnMXst_7i"
      },
      "source": [
        "### 2.5.1 Create a confusion matrix (4 points)\n",
        "\n",
        "---\n",
        "\n",
        "**TODO:**\n",
        "1. For the test dataset using the CNN model you have trained above, create a confusion matrix. \n",
        "2. Save the confusion matrix as a pandas dataframe called `confusion_matrix_df`.\n",
        "\n",
        "---\n",
        "**Hint:** Look at what you've done in 2.3.4, and see if what you have done can be re-used."
      ]
    },
    {
      "cell_type": "code",
      "execution_count": 64,
      "metadata": {
        "id": "CVk7BesQt_7j"
      },
      "outputs": [],
      "source": [
        "import pandas as pd\n",
        "import numpy as np\n",
        "from sklearn.metrics import confusion_matrix\n",
        "\n",
        "# TODO\n",
        "\n",
        "def cm_generator(test_loader):\n",
        "  \n",
        "  predictedList = []\n",
        "  labelsList = []\n",
        "  with torch.no_grad(): \n",
        "    for images, labels in test_loader: \n",
        "      labels = labels.type(torch.LongTensor)\n",
        "      images, labels = images.to(device), labels.to(device)\n",
        "    # The goal is to obtain two lists of prediction and actual labels.\n",
        "    # Then, using these two lists, create a confusion matrix dataframe\n",
        "      outputs = cnn(images)\n",
        "      _, predicted = torch.max(outputs.data, 1)\n",
        "      predictedList.extend(predicted.cpu().numpy())\n",
        "      labelsList.extend(labels.cpu().numpy())\n",
        "      \n",
        "    confusion_matrix_df = pd.DataFrame(confusion_matrix(labelsList,predictedList))\n",
        "    return confusion_matrix_df\n",
        "  \n",
        "# END TODO\n",
        "confusion_matrix_df = cm_generator(test_loader)"
      ]
    },
    {
      "cell_type": "code",
      "execution_count": 65,
      "metadata": {
        "id": "hsv-udDgt_7j",
        "colab": {
          "base_uri": "https://localhost:8080/"
        },
        "outputId": "e4f4eb7e-53bf-4753-f05b-eef1d243f7cc"
      },
      "outputs": [
        {
          "output_type": "stream",
          "name": "stdout",
          "text": [
            "Correct! You earned 4/4 points. You are a star!\n",
            "\n",
            "Your submission has been successfully recorded in the gradebook.\n"
          ]
        }
      ],
      "source": [
        "#Grader Cell (4 points)\n",
        "import numpy as np\n",
        "grader.grade('check_confusion_matrix', (str(type(confusion_matrix_df)), \n",
        "                                        confusion_matrix_df.shape, \n",
        "                                        confusion_matrix_df.to_numpy().sum(),\n",
        "                                        np.trace(confusion_matrix_df.to_numpy())\n",
        "                                        ))"
      ]
    },
    {
      "cell_type": "markdown",
      "metadata": {
        "id": "bfz3myW0t_7k"
      },
      "source": [
        "### 2.5.2 Visualizing Confusion Matrix (4 points - Manual Grading)\n",
        "\n",
        "---\n",
        "**TODOs:**\n",
        "\n",
        "Implement the code to visualize the confusion matrix you have created above. This section will be manually graded\n",
        "\n",
        "Suggested library is using Seaborn heatmap. \n",
        "\n",
        "Chart Specifications:\n",
        "1. Each cell is labled/annotated with associated values. Take a look at the parameter \"annot\". \n",
        "2. Make sure all annotated values are in integers, and not shown in scientific notations. Use the parameter `fmt = \"g\"`.\n",
        "3. Add chart title, and axis name label (\"Actual\" and \"Predicted\". Check out which axis is associated with either label.\n",
        "4. Set map color to Green/Blue.\n",
        "5. To avoid \"File Too Large\" for submission, please set figure size to (8,4).\n",
        "---\n",
        "Resource: [Seaborn Heatmap documentation](https://seaborn.pydata.org/generated/seaborn.heatmap.html )"
      ]
    },
    {
      "cell_type": "code",
      "execution_count": 53,
      "metadata": {
        "id": "zMOQnqEAt_7k",
        "colab": {
          "base_uri": "https://localhost:8080/",
          "height": 448
        },
        "outputId": "e621d0ee-6ea2-4a60-fa17-3a36b9917f03"
      },
      "outputs": [
        {
          "output_type": "display_data",
          "data": {
            "text/plain": [
              "<Figure size 640x480 with 2 Axes>"
            ],
            "image/png": "[encoded data removed]"
          },
          "metadata": {}
        },
        {
          "output_type": "display_data",
          "data": {
            "text/plain": [
              "<Figure size 800x400 with 0 Axes>"
            ]
          },
          "metadata": {}
        }
      ],
      "source": [
        "\n",
        "# TODO\n",
        "sns.heatmap(confusion_matrix_df, annot = True, fmt = 'g', cmap = 'Blues')\n",
        "plt.figure(figsize = (8,4))\n",
        "\n",
        "plt.show()\n",
        "\n",
        "# END TODO\n"
      ]
    },
    {
      "cell_type": "markdown",
      "metadata": {
        "id": "AXRYkQMgMfQK"
      },
      "source": [
        "# Homework Submission\n",
        "\n",
        "Good job! You have finished the homework :) The submission instructions are as follows:\n",
        "\n",
        "* **Double check** that you have the correct PennID (all numbers) in the autograder. \n",
        "\n",
        "* **Triple check** that you have all plots shown in this Colab notebook before submitting (otherwise, your submission will be subjected to a **penalty of -5 points**).\n",
        "\n",
        "*  Go to the \"File\" tab at the top left of the Colab UI, click \"Download .ipynb\" and then \"Download .py\".  **Rename** these two files to `homework5.ipynb` and `homework5.py` respectively and upload them to Gradescope.\n",
        "  - <ins>**WAIT UNTIL THE GRADESCOPE AUTOGRADER FINISHES RUNNING!**</ins> If we have to manually upload this for you after the deadline, **we will apply a penalty of -5 points** (this stacks with any other penatlies)\n",
        "\n",
        "* You must submit your notebook to receive credit. Post any issues with submission on Ed and make sure to keep in mind the late day policy.\n",
        "\n",
        "* After you submit your code, the teaching staff will manually grade your Colab notebook in order to validate the correctness of your code."
      ]
    }
  ],
  "metadata": {
    "colab": {
      "provenance": []
    },
    "gpuClass": "standard",
    "kernelspec": {
      "display_name": "Python 3",
      "name": "python3"
    },
    "language_info": {
      "name": "python"
    },
    "accelerator": "GPU"
  },
  "nbformat": 4,
  "nbformat_minor": 0
}